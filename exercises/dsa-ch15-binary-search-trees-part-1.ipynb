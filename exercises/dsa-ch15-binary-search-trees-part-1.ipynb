{
 "cells": [
  {
   "cell_type": "raw",
   "metadata": {
    "vscode": {
     "languageId": "raw"
    }
   },
   "source": [
    "---\n",
    "title: \"DSA 38: Binary Search Trees - Basics [Part 1]\"\n",
    "author: \"Tony Phung\"\n",
    "date: \"2025-02-21\"\n",
    "categories: [data structures, algorithms]\n",
    "image: \"imgs/dsa-ch15-tree.png\"\n",
    "toc: true\n",
    "description: \"Trees & Binary Trees Useful Terms Introduction\"\n",
    "---"
   ]
  },
  {
   "cell_type": "markdown",
   "metadata": {},
   "source": [
    "![](imgs/dsa-ch15-tree.png)"
   ]
  },
  {
   "cell_type": "markdown",
   "metadata": {},
   "source": [
    "# 1. Tree\n",
    "\n",
    "## 1.1 Linked List vs Tree: Node-Based Structures \n",
    "* They're both node-base structures but are have their differences."
   ]
  },
  {
   "cell_type": "markdown",
   "metadata": {},
   "source": [
    "## 1.2 Classic **linked list**\n",
    "* Each node contains a link connecting to a **single other node**."
   ]
  },
  {
   "cell_type": "markdown",
   "metadata": {},
   "source": [
    "## 1.3 **Tree**\n",
    "* Each node can have *s* to **multiples nodes**"
   ]
  },
  {
   "cell_type": "markdown",
   "metadata": {},
   "source": [
    "## 1.4 `Root` of the Tree\n",
    "* Is the **top** node of the tree\n",
    "* **Parent node** of all nodes\n",
    "* It is **ascendents** of all sub-sequent connected nodes (**children**)"
   ]
  },
  {
   "cell_type": "markdown",
   "metadata": {},
   "source": [
    "## 1.5 **Descendents**\n",
    "* Are nodes **one or more level down** from a parent node\n",
    "* **Children** are nodes exactly one level down from any parente node"
   ]
  },
  {
   "cell_type": "markdown",
   "metadata": {},
   "source": [
    "## 1.6 **Balanced** Tree\n",
    "* Trees in which all **sub-trees contain the same amount of nodes (children)**\n",
    "* **Imbalanaced** if vice-versa"
   ]
  },
  {
   "cell_type": "markdown",
   "metadata": {},
   "source": [
    "## 2. **Binary** Tree\n",
    "* Has zero, \n",
    "* One or \n",
    "* Two children"
   ]
  },
  {
   "cell_type": "markdown",
   "metadata": {
    "vscode": {
     "languageId": "raw"
    }
   },
   "source": [
    "# 2.1 Binary Tree Types\n",
    "\n",
    "![](imgs/dsa-ch15-bintree.png)"
   ]
  }
 ],
 "metadata": {
  "kernelspec": {
   "display_name": ".venv",
   "language": "python",
   "name": "python3"
  },
  "language_info": {
   "codemirror_mode": {
    "name": "ipython",
    "version": 3
   },
   "file_extension": ".py",
   "mimetype": "text/x-python",
   "name": "python",
   "nbconvert_exporter": "python",
   "pygments_lexer": "ipython3",
   "version": "3.13.0"
  }
 },
 "nbformat": 4,
 "nbformat_minor": 2
}
