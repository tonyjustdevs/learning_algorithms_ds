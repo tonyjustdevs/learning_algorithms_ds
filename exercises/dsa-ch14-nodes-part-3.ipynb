{
 "cells": [
  {
   "cell_type": "raw",
   "metadata": {
    "vscode": {
     "languageId": "raw"
    }
   },
   "source": [
    "---\n",
    "title: \"DSA 35: LinkedList - Insert & Delete\"\n",
    "author: \"Tony Phung\"\n",
    "date: \"2025-02-17\"\n",
    "categories: [data structures, algorithms]\n",
    "image: \"imgs/dsa-tba.png\"\n",
    "toc: true\n",
    "description: \"The Other Two Important Operations\"\n",
    "---"
   ]
  },
  {
   "cell_type": "code",
   "execution_count": 109,
   "metadata": {},
   "outputs": [],
   "source": [
    "class Node():\n",
    "    def __init__(self, data):\n",
    "        self.data=data\n",
    "        self.next_node=None\n",
    "\n",
    "class LinkedList():\n",
    "    def __init__(self, first_node:Node|None=None):\n",
    "        self.first_node: Node|None = first_node"
   ]
  },
  {
   "cell_type": "code",
   "execution_count": 110,
   "metadata": {},
   "outputs": [],
   "source": [
    "node0=Node(\"Hey\")\n",
    "node1=Node(\"I\")\n",
    "node2=Node(\"Just\")\n",
    "node3=Node(\"Met\")\n",
    "node0.next_node=node1\n",
    "node1.next_node=node2\n",
    "node2.next_node=node3\n"
   ]
  },
  {
   "cell_type": "code",
   "execution_count": 114,
   "metadata": {},
   "outputs": [
    {
     "data": {
      "text/plain": [
       "'Hey'"
      ]
     },
     "execution_count": 114,
     "metadata": {},
     "output_type": "execute_result"
    }
   ],
   "source": [
    "def read_top_ll(linked_list: LinkedList, index: int):\n",
    "    current_node = linked_list.first_node \n",
    "    return current_node.data\n",
    "\n",
    "ll = LinkedList(node0)\n",
    "read_top_ll(ll,0)"
   ]
  },
  {
   "cell_type": "code",
   "execution_count": 115,
   "metadata": {},
   "outputs": [
    {
     "data": {
      "text/plain": [
       "'Hey'"
      ]
     },
     "execution_count": 115,
     "metadata": {},
     "output_type": "execute_result"
    }
   ],
   "source": [
    "def read_ll_forloop(linked_list: LinkedList, index: int):\n",
    "    current_node = linked_list.first_node \n",
    "    \n",
    "    if index==0:\n",
    "        return current_node.data\n",
    "    \n",
    "    for i in range(index+1):\n",
    "        print(i)\n",
    "        if i==index:\n",
    "            return current_node.data\n",
    "        current_node=current_node.next_node\n",
    "    return None\n",
    "\n",
    "ll = LinkedList(node0)\n",
    "read_ll_forloop(ll,0)\n"
   ]
  },
  {
   "cell_type": "code",
   "execution_count": 118,
   "metadata": {},
   "outputs": [
    {
     "data": {
      "text/plain": [
       "'I'"
      ]
     },
     "execution_count": 118,
     "metadata": {},
     "output_type": "execute_result"
    }
   ],
   "source": [
    "def read_ll_whileloop(linked_list: LinkedList, index: int):\n",
    "    current_node = linked_list.first_node \n",
    "    \n",
    "    if index==0:\n",
    "        return current_node.data\n",
    "    i=0    \n",
    "    while current_node: # for i in range(index+1):\n",
    "        if i==index:\n",
    "            return current_node.data\n",
    "        current_node=current_node.next_node\n",
    "        i+=1\n",
    "    return None\n",
    "\n",
    "ll = LinkedList(node0)\n",
    "read_ll_whileloop(ll,1)"
   ]
  },
  {
   "cell_type": "code",
   "execution_count": 119,
   "metadata": {},
   "outputs": [
    {
     "data": {
      "text/plain": [
       "['Hey', 'I', 'Just', 'Met']"
      ]
     },
     "execution_count": 119,
     "metadata": {},
     "output_type": "execute_result"
    }
   ],
   "source": [
    "def read_all_ll_whileloop(linked_list: LinkedList):\n",
    "    current_node = linked_list.first_node \n",
    "    ll_list = []\n",
    "    while current_node: # for i in range(index+1):\n",
    "        ll_list.append(current_node.data)\n",
    "        current_node=current_node.next_node\n",
    "        \n",
    "    return ll_list\n",
    "\n",
    "ll = LinkedList(node0)\n",
    "read_all_ll_whileloop(ll)"
   ]
  },
  {
   "cell_type": "code",
   "execution_count": 120,
   "metadata": {},
   "outputs": [
    {
     "name": "stdout",
     "output_type": "stream",
     "text": [
      "['mate', 'Hey', 'I', 'Just', 'Met']\n"
     ]
    }
   ],
   "source": [
    "def insert_front_ll_forloop(linked_list: LinkedList, index: int,\n",
    "                            new_node: Node):\n",
    "    \n",
    "    current_node = linked_list.first_node \n",
    "    if index==0:\n",
    "        new_node.next_node = current_node\n",
    "        linked_list.first_node=new_node\n",
    "    \n",
    "    # for i in range(index+1):\n",
    "    #     print(i)\n",
    "    #     if i==index:\n",
    "    #         return current_node.data\n",
    "    #     current_node=current_node.next_node\n",
    "    # return None\n",
    "\n",
    "\n",
    "ll = LinkedList(node0)\n",
    "insert_front_ll_forloop(ll,0,Node(\"mate\"))\n",
    "print(read_all_ll_whileloop(ll))"
   ]
  },
  {
   "cell_type": "code",
   "execution_count": 121,
   "metadata": {},
   "outputs": [],
   "source": [
    "def reset_ll():\n",
    "    node0=Node(\"Hey\")\n",
    "    node1=Node(\"I\")\n",
    "    node2=Node(\"Just\")\n",
    "    node3=Node(\"Met\")\n",
    "    node0.next_node=node1\n",
    "    node1.next_node=node2\n",
    "    node2.next_node=node3\n",
    "    ll = LinkedList(node0)\n",
    "    return ll"
   ]
  },
  {
   "cell_type": "code",
   "execution_count": 122,
   "metadata": {},
   "outputs": [
    {
     "name": "stdout",
     "output_type": "stream",
     "text": [
      "['cuz', 'Hey', 'I', 'Just', 'Met']\n",
      "['Hey', 'cuz', 'I', 'Just', 'Met']\n",
      "['Hey', 'I', 'cuz', 'Just', 'Met']\n",
      "['Hey', 'I', 'Just', 'cuz', 'Met']\n",
      "['Hey', 'I', 'Just', 'Met', 'cuz']\n"
     ]
    }
   ],
   "source": [
    "def insert_ll_forloop(linked_list: LinkedList, index: int,\n",
    "                            new_node: Node):\n",
    "    \n",
    "    current_node = linked_list.first_node \n",
    "    if index==0:\n",
    "        new_node.next_node = current_node\n",
    "        linked_list.first_node=new_node\n",
    "    \n",
    "    for i in range(index+1):\n",
    "        if i==index-1:\n",
    "            new_node.next_node = current_node.next_node\n",
    "            current_node.next_node = new_node\n",
    "            # return current_node.data\n",
    "        current_node=current_node.next_node\n",
    "    return None\n",
    "\n",
    "ll = reset_ll()\n",
    "insert_ll_forloop(ll,0,Node(\"cuz\"))\n",
    "print(read_all_ll_whileloop(ll))\n",
    "\n",
    "ll = reset_ll()\n",
    "insert_ll_forloop(ll,1,Node(\"cuz\"))\n",
    "print(read_all_ll_whileloop(ll))\n",
    "\n",
    "ll = reset_ll()\n",
    "insert_ll_forloop(ll,2,Node(\"cuz\"))\n",
    "print(read_all_ll_whileloop(ll))\n",
    "\n",
    "ll = reset_ll()\n",
    "insert_ll_forloop(ll,3,Node(\"cuz\"))\n",
    "print(read_all_ll_whileloop(ll))\n",
    "\n",
    "ll = reset_ll()\n",
    "insert_ll_forloop(ll,4,Node(\"cuz\"))\n",
    "print(read_all_ll_whileloop(ll))\n",
    "\n",
    "#hey i just met"
   ]
  },
  {
   "cell_type": "code",
   "execution_count": 123,
   "metadata": {},
   "outputs": [
    {
     "name": "stdout",
     "output_type": "stream",
     "text": [
      "['Hey', 'I', 'Just', 'Met']\n",
      "['I', 'Just', 'Met']\n"
     ]
    }
   ],
   "source": [
    "# [Hey', 'I', 'Just', 'Met']\n",
    "# del 0 ->  'I', 'Just', 'Met'\n",
    "\n",
    "def delete_top_ll(linked_list: LinkedList, index=0):\n",
    "    current_node = linked_list.first_node\n",
    "    if index==0:\n",
    "        linked_list.first_node=current_node.next_node\n",
    "\n",
    "ll = reset_ll()\n",
    "print(read_all_ll_whileloop(ll))\n",
    "delete_top_ll(ll,index=0)\n",
    "print(read_all_ll_whileloop(ll))\n"
   ]
  },
  {
   "cell_type": "code",
   "execution_count": 126,
   "metadata": {},
   "outputs": [
    {
     "name": "stdout",
     "output_type": "stream",
     "text": [
      "['Hey', 'I', 'Just', 'Met']\n",
      "['I', 'Just', 'Met']\n",
      "\n",
      "['Hey', 'I', 'Just', 'Met']\n",
      "['Hey', 'Just', 'Met']\n",
      "\n",
      "['Hey', 'I', 'Just', 'Met']\n",
      "['Hey', 'I', 'Met']\n",
      "\n",
      "['Hey', 'I', 'Just', 'Met']\n",
      "['Hey', 'I', 'Just']\n",
      "\n",
      "['Hey', 'I', 'Just', 'Met']\n"
     ]
    },
    {
     "ename": "AttributeError",
     "evalue": "'NoneType' object has no attribute 'next_node'",
     "output_type": "error",
     "traceback": [
      "\u001b[0;31m---------------------------------------------------------------------------\u001b[0m",
      "\u001b[0;31mAttributeError\u001b[0m                            Traceback (most recent call last)",
      "Cell \u001b[0;32mIn[126], line 41\u001b[0m\n\u001b[1;32m     39\u001b[0m ll \u001b[38;5;241m=\u001b[39m reset_ll()\n\u001b[1;32m     40\u001b[0m \u001b[38;5;28mprint\u001b[39m(read_all_ll_whileloop(ll))\n\u001b[0;32m---> 41\u001b[0m \u001b[43mdelete_node_ll\u001b[49m\u001b[43m(\u001b[49m\u001b[43mll\u001b[49m\u001b[43m,\u001b[49m\u001b[43mindex\u001b[49m\u001b[38;5;241;43m=\u001b[39;49m\u001b[38;5;241;43m4\u001b[39;49m\u001b[43m)\u001b[49m \u001b[38;5;66;03m# OUT OF INDEX ERROR EXPECTED \u001b[39;00m\n\u001b[1;32m     42\u001b[0m \u001b[38;5;28mprint\u001b[39m(read_all_ll_whileloop(ll))\n",
      "Cell \u001b[0;32mIn[126], line 9\u001b[0m, in \u001b[0;36mdelete_node_ll\u001b[0;34m(linked_list, index)\u001b[0m\n\u001b[1;32m      7\u001b[0m \u001b[38;5;28;01mif\u001b[39;00m i\u001b[38;5;241m==\u001b[39mindex\u001b[38;5;241m-\u001b[39m\u001b[38;5;241m1\u001b[39m:\n\u001b[1;32m      8\u001b[0m     next_node \u001b[38;5;241m=\u001b[39m current_node\u001b[38;5;241m.\u001b[39mnext_node\n\u001b[0;32m----> 9\u001b[0m     current_node\u001b[38;5;241m.\u001b[39mnext_node \u001b[38;5;241m=\u001b[39m \u001b[43mnext_node\u001b[49m\u001b[38;5;241;43m.\u001b[39;49m\u001b[43mnext_node\u001b[49m\n\u001b[1;32m     10\u001b[0m current_node\u001b[38;5;241m=\u001b[39mcurrent_node\u001b[38;5;241m.\u001b[39mnext_node\n",
      "\u001b[0;31mAttributeError\u001b[0m: 'NoneType' object has no attribute 'next_node'"
     ]
    }
   ],
   "source": [
    "def delete_node_ll(linked_list: LinkedList, index=0):\n",
    "    current_node = linked_list.first_node\n",
    "    if index==0:\n",
    "        linked_list.first_node=current_node.next_node\n",
    "\n",
    "    for i in range(index):\n",
    "        if i==index-1:\n",
    "            next_node = current_node.next_node\n",
    "            current_node.next_node = next_node.next_node\n",
    "        current_node=current_node.next_node\n",
    "\n",
    "# ['Hey', 'I', 'Just', 'Met']\n",
    "# ['Hey'     , 'Just', 'Met']\n",
    "\n",
    "ll = reset_ll()\n",
    "print(read_all_ll_whileloop(ll))\n",
    "delete_node_ll(ll,index=0)\n",
    "print(read_all_ll_whileloop(ll))\n",
    "\n",
    "print()\n",
    "ll = reset_ll()\n",
    "print(read_all_ll_whileloop(ll))\n",
    "delete_node_ll(ll,index=1)\n",
    "print(read_all_ll_whileloop(ll))\n",
    "\n",
    "print()\n",
    "ll = reset_ll()\n",
    "print(read_all_ll_whileloop(ll))\n",
    "delete_node_ll(ll,index=2)\n",
    "print(read_all_ll_whileloop(ll))\n",
    "\n",
    "print()\n",
    "ll = reset_ll()\n",
    "print(read_all_ll_whileloop(ll))\n",
    "delete_node_ll(ll,index=3)\n",
    "print(read_all_ll_whileloop(ll))\n",
    "\n",
    "print()\n",
    "ll = reset_ll()\n",
    "print(read_all_ll_whileloop(ll))\n",
    "delete_node_ll(ll,index=4) # OUT OF INDEX ERROR EXPECTED \n",
    "print(read_all_ll_whileloop(ll))\n",
    "\n"
   ]
  },
  {
   "cell_type": "code",
   "execution_count": 125,
   "metadata": {},
   "outputs": [
    {
     "name": "stdout",
     "output_type": "stream",
     "text": [
      "['Hey', 'I', 'Just', 'Met']\n",
      "['I', 'Just', 'Met']\n",
      "\n",
      "['Hey', 'I', 'Just', 'Met']\n",
      "['Hey', 'Just', 'Met']\n",
      "\n",
      "['Hey', 'I', 'Just', 'Met']\n",
      "['Hey', 'I', 'Met']\n",
      "\n",
      "['Hey', 'I', 'Just', 'Met']\n",
      "['Hey', 'I', 'Just']\n",
      "\n",
      "['Hey', 'I', 'Just', 'Met']\n"
     ]
    },
    {
     "ename": "AttributeError",
     "evalue": "'NoneType' object has no attribute 'next_node'",
     "output_type": "error",
     "traceback": [
      "\u001b[0;31m---------------------------------------------------------------------------\u001b[0m",
      "\u001b[0;31mAttributeError\u001b[0m                            Traceback (most recent call last)",
      "Cell \u001b[0;32mIn[125], line 40\u001b[0m\n\u001b[1;32m     38\u001b[0m ll \u001b[38;5;241m=\u001b[39m reset_ll()\n\u001b[1;32m     39\u001b[0m \u001b[38;5;28mprint\u001b[39m(read_all_ll_whileloop(ll))\n\u001b[0;32m---> 40\u001b[0m \u001b[43mdelete_node_ll_while\u001b[49m\u001b[43m(\u001b[49m\u001b[43mll\u001b[49m\u001b[43m,\u001b[49m\u001b[43mindex\u001b[49m\u001b[38;5;241;43m=\u001b[39;49m\u001b[38;5;241;43m4\u001b[39;49m\u001b[43m)\u001b[49m \u001b[38;5;66;03m# OUT OF INDEX ERROR EXPECTED \u001b[39;00m\n\u001b[1;32m     41\u001b[0m \u001b[38;5;28mprint\u001b[39m(read_all_ll_whileloop(ll))\n",
      "Cell \u001b[0;32mIn[125], line 10\u001b[0m, in \u001b[0;36mdelete_node_ll_while\u001b[0;34m(linked_list, index)\u001b[0m\n\u001b[1;32m      6\u001b[0m \u001b[38;5;28;01mwhile\u001b[39;00m current_node: \u001b[38;5;66;03m# for i in range(index):\u001b[39;00m\n\u001b[1;32m      7\u001b[0m     \u001b[38;5;28;01mif\u001b[39;00m i\u001b[38;5;241m==\u001b[39mindex\u001b[38;5;241m-\u001b[39m\u001b[38;5;241m1\u001b[39m:\n\u001b[1;32m      8\u001b[0m         \u001b[38;5;66;03m# next_node = current_node.next_node.next_node\u001b[39;00m\n\u001b[1;32m      9\u001b[0m         \u001b[38;5;66;03m# current_node.next_node = next_node.next_node\u001b[39;00m\n\u001b[0;32m---> 10\u001b[0m         current_node\u001b[38;5;241m.\u001b[39mnext_node \u001b[38;5;241m=\u001b[39m \u001b[43mcurrent_node\u001b[49m\u001b[38;5;241;43m.\u001b[39;49m\u001b[43mnext_node\u001b[49m\u001b[38;5;241;43m.\u001b[39;49m\u001b[43mnext_node\u001b[49m\n\u001b[1;32m     11\u001b[0m         \u001b[38;5;66;03m# current_node.next_node = next_node.next_node\u001b[39;00m\n\u001b[1;32m     12\u001b[0m     current_node\u001b[38;5;241m=\u001b[39mcurrent_node\u001b[38;5;241m.\u001b[39mnext_node\n",
      "\u001b[0;31mAttributeError\u001b[0m: 'NoneType' object has no attribute 'next_node'"
     ]
    }
   ],
   "source": [
    "def delete_node_ll_while(linked_list: LinkedList, index=0):\n",
    "    current_node = linked_list.first_node\n",
    "    if index==0:\n",
    "        linked_list.first_node=current_node.next_node\n",
    "    i=0\n",
    "    while current_node: # for i in range(index):\n",
    "        if i==index-1:\n",
    "            # next_node = current_node.next_node.next_node\n",
    "            # current_node.next_node = next_node.next_node\n",
    "            current_node.next_node = current_node.next_node.next_node\n",
    "            # current_node.next_node = next_node.next_node\n",
    "        current_node=current_node.next_node\n",
    "        i+=1\n",
    "ll = reset_ll()\n",
    "print(read_all_ll_whileloop(ll))\n",
    "delete_node_ll_while(ll,index=0)\n",
    "print(read_all_ll_whileloop(ll))\n",
    "print()\n",
    "\n",
    "ll = reset_ll()\n",
    "print(read_all_ll_whileloop(ll))\n",
    "delete_node_ll_while(ll,index=1)\n",
    "print(read_all_ll_whileloop(ll))\n",
    "print()\n",
    "\n",
    "ll = reset_ll()\n",
    "print(read_all_ll_whileloop(ll))\n",
    "delete_node_ll_while(ll,index=2)\n",
    "print(read_all_ll_whileloop(ll))\n",
    "print()\n",
    "\n",
    "ll = reset_ll()\n",
    "print(read_all_ll_whileloop(ll))\n",
    "delete_node_ll_while(ll,index=3)\n",
    "print(read_all_ll_whileloop(ll))\n",
    "print()\n",
    "\n",
    "ll = reset_ll()\n",
    "print(read_all_ll_whileloop(ll))\n",
    "delete_node_ll_while(ll,index=4) # OUT OF INDEX ERROR EXPECTED \n",
    "print(read_all_ll_whileloop(ll))"
   ]
  }
 ],
 "metadata": {
  "kernelspec": {
   "display_name": ".venv",
   "language": "python",
   "name": "python3"
  },
  "language_info": {
   "codemirror_mode": {
    "name": "ipython",
    "version": 3
   },
   "file_extension": ".py",
   "mimetype": "text/x-python",
   "name": "python",
   "nbconvert_exporter": "python",
   "pygments_lexer": "ipython3",
   "version": "3.13.0"
  }
 },
 "nbformat": 4,
 "nbformat_minor": 2
}
