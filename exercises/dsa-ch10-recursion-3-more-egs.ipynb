{
 "cells": [
  {
   "cell_type": "raw",
   "metadata": {
    "vscode": {
     "languageId": "raw"
    }
   },
   "source": [
    "---\n",
    "title: \"DSA: Recursion - 3 More Examples\"\n",
    "author: \"Tony Phung\"\n",
    "date: \"2025-02-06\"\n",
    "categories: [data structures, algorithms]\n",
    "image: \"imgs/dsa-tba.jpg\"\n",
    "toc: true\n",
    "description: \"Summation, string-reversal & letter-counting\"\n",
    "---"
   ]
  },
  {
   "cell_type": "code",
   "execution_count": 69,
   "metadata": {},
   "outputs": [
    {
     "data": {
      "text/plain": [
       "15"
      ]
     },
     "execution_count": 69,
     "metadata": {},
     "output_type": "execute_result"
    }
   ],
   "source": [
    "def sum(arr):\n",
    "    if not arr:\n",
    "        return 0\n",
    "    return arr[0] + sum(arr[1:])\n",
    "\n",
    "arr=[1,2,3,4,5]\n",
    "sum(arr)"
   ]
  },
  {
   "cell_type": "code",
   "execution_count": 46,
   "metadata": {},
   "outputs": [
    {
     "data": {
      "text/plain": [
       "'edcba'"
      ]
     },
     "execution_count": 46,
     "metadata": {},
     "output_type": "execute_result"
    }
   ],
   "source": [
    "def rev_string(string):\n",
    "    # string \"abcde\"    \n",
    "    # return rev_string(\"bcde\")\n",
    "    if not string:\n",
    "        return \"\"\n",
    "    return rev_string(string[1:]) + string[0]\n",
    "\n",
    "string = \"abcde\"\n",
    "rev_string(string)"
   ]
  },
  {
   "cell_type": "code",
   "execution_count": 68,
   "metadata": {},
   "outputs": [
    {
     "data": {
      "text/plain": [
       "3"
      ]
     },
     "execution_count": 68,
     "metadata": {},
     "output_type": "execute_result"
    }
   ],
   "source": [
    "def count_ys(string):\n",
    "    if not string:\n",
    "        return 0\n",
    "    if string[0]==\"y\":\n",
    "        return 1+count_ys(string[1:])\n",
    "    else: \n",
    "        return count_ys(string[1:])\n",
    "        \n",
    "string = \"yaybyc\"\n",
    "count_ys(string)"
   ]
  },
  {
   "cell_type": "code",
   "execution_count": null,
   "metadata": {},
   "outputs": [],
   "source": []
  },
  {
   "cell_type": "code",
   "execution_count": null,
   "metadata": {},
   "outputs": [],
   "source": []
  }
 ],
 "metadata": {
  "kernelspec": {
   "display_name": ".venv",
   "language": "python",
   "name": "python3"
  },
  "language_info": {
   "codemirror_mode": {
    "name": "ipython",
    "version": 3
   },
   "file_extension": ".py",
   "mimetype": "text/x-python",
   "name": "python",
   "nbconvert_exporter": "python",
   "pygments_lexer": "ipython3",
   "version": "3.13.0"
  }
 },
 "nbformat": 4,
 "nbformat_minor": 2
}
