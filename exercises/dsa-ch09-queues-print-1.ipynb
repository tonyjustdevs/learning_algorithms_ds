{
 "cells": [
  {
   "cell_type": "raw",
   "metadata": {
    "vscode": {
     "languageId": "raw"
    }
   },
   "source": [
    "---\n",
    "title: \"DSA: Queues - Printer 1\"\n",
    "author: \"Tony Phung\"\n",
    "date: \"2025-02-01\"\n",
    "categories: [data structures, algorithms]\n",
    "image: \"imgs/dsa-tba.jpg\"\n",
    "toc: true\n",
    "description: \"Printer 1\"\n",
    "---"
   ]
  },
  {
   "cell_type": "markdown",
   "metadata": {
    "vscode": {
     "languageId": "raw"
    }
   },
   "source": [
    "# 1. `queue`: definition\n",
    "`Queues` is a abstract data class based on arrays:\n",
    "\n",
    "* Visually, imagine an array **horizontally**\n",
    "* Like a maccas drive-thru\n",
    "* First-in, First-out: **FIFO**\n",
    "\n",
    "Operational ***Restrictions***: \n",
    "\n",
    "1. **Insertion** or `add()`: from **Back** only\n",
    "1. **Delete** or `pop()`: from **Front** only\n",
    "1. **Read** or `read()`: from **Front** only"
   ]
  },
  {
   "cell_type": "markdown",
   "metadata": {
    "vscode": {
     "languageId": "raw"
    }
   },
   "source": [
    "# 2. `queue`: python code"
   ]
  },
  {
   "cell_type": "code",
   "execution_count": 37,
   "metadata": {},
   "outputs": [],
   "source": [
    "class Queue():\n",
    "    def __init__(self):\n",
    "        self.data = []\n",
    "        print(f\"queue created\")\n",
    "    \n",
    "    def enqueue(self, value):\n",
    "        self.data.append(value)\n",
    "        print(f\"{value} added. {self.data!r}\")\n",
    "\n",
    "    def dequeue(self):\n",
    "        if len(self.data)>0:\n",
    "            value = self.data.pop(0)\n",
    "            print(f\"{value} deleted. {self.data!r}\")\n",
    "            return value\n",
    "        else:\n",
    "            print(f\"queue is empty! {self.data!r}\")\n",
    "            return None\n",
    "    \n",
    "    def read(self):\n",
    "        if len(self.data)>0:\n",
    "            value = self.data[0]\n",
    "            # print(f\"{value} read. {self.data!r}\")\n",
    "            return value\n",
    "        else:\n",
    "            print(f\"queue is empty! {self.data!r}\")\n",
    "            return None\n",
    "        "
   ]
  },
  {
   "cell_type": "markdown",
   "metadata": {},
   "source": [
    "# 3. `queue`: testing\n"
   ]
  },
  {
   "cell_type": "code",
   "execution_count": 38,
   "metadata": {},
   "outputs": [
    {
     "name": "stdout",
     "output_type": "stream",
     "text": [
      "queue created\n",
      "1 added. [1]\n",
      "2 added. [1, 2]\n",
      "3 added. [1, 2, 3]\n",
      "1 deleted. [2, 3]\n",
      "2 deleted. [3]\n",
      "3 deleted. []\n",
      "queue is empty! []\n"
     ]
    }
   ],
   "source": [
    "tony_q = Queue()\n",
    "tony_q.enqueue(1)\n",
    "tony_q.enqueue(2)\n",
    "tony_q.enqueue(3)\n",
    "tony_q.read()\n",
    "tony_q.dequeue()\n",
    "tony_q.read()\n",
    "tony_q.dequeue()\n",
    "tony_q.dequeue()\n",
    "tony_q.dequeue()"
   ]
  },
  {
   "cell_type": "markdown",
   "metadata": {},
   "source": [
    "# 4. `PrintManager` class\n",
    "\n",
    "Task: \n",
    "* Programming a simple Python interface \n",
    "* for a printer that can accept printing jobs \n",
    "* from various computers \n",
    "* across a network. \n",
    "* ensure print each document ***in the order*** in which it was ***received***."
   ]
  },
  {
   "cell_type": "markdown",
   "metadata": {},
   "source": [
    "## 4.1 Features: psuedo-code\n",
    "* `enqueue()` - ability to **add** jobs  to the queue\n",
    "* `dequeue()` - ability to **remove** jobs from the queue\n",
    "* `read()` - **peek** at the next job in the queue\n"
   ]
  },
  {
   "cell_type": "code",
   "execution_count": 44,
   "metadata": {},
   "outputs": [],
   "source": [
    "class QueueClean():\n",
    "    def __init__(self):\n",
    "        self.data = []\n",
    "    \n",
    "    def enqueue(self, value):\n",
    "        self.data.append(value)\n",
    "\n",
    "    def dequeue(self):\n",
    "        if len(self.data)>0:\n",
    "            value = self.data.pop(0)\n",
    "            return value\n",
    "        else:\n",
    "            return None\n",
    "    \n",
    "    def read(self):\n",
    "        if len(self.data)>0:\n",
    "            value = self.data[0]\n",
    "            return value\n",
    "        else:\n",
    "            return None\n",
    "        "
   ]
  },
  {
   "cell_type": "code",
   "execution_count": 50,
   "metadata": {},
   "outputs": [],
   "source": [
    "class PrintManager():\n",
    "    def __init__(self):\n",
    "        self.queue = QueueClean()\n",
    "        \n",
    "    def queue_print_job(self, document):\n",
    "        self.queue.enqueue(document)\n",
    "        \n",
    "    def run(self):\n",
    "        print(\"\\n...Printing all jobs in queue....\")\n",
    "        while self.queue.read():\n",
    "            # self.print_job(self.queue.dequeue())\n",
    "            self.print_job(self.queue.dequeue())\n",
    "    \n",
    "    def print_job(self, document):\n",
    "        # note: this print_job is never manually called\n",
    "        # it is called within the run() function when a job is dequeued\n",
    "        # do something to document\n",
    "        # here we will print to console only\n",
    "        print(document)\n",
    "        "
   ]
  },
  {
   "cell_type": "code",
   "execution_count": 51,
   "metadata": {},
   "outputs": [
    {
     "name": "stdout",
     "output_type": "stream",
     "text": [
      "\n",
      "...Printing all jobs in queue....\n",
      "tonydoc1.docx\n",
      "tonydoc2.docx\n",
      "\n",
      "...Printing all jobs in queue....\n",
      "tonydoc69.md\n",
      "tonydoc420.pdf\n"
     ]
    }
   ],
   "source": [
    "printer = PrintManager()\n",
    "printer.queue_print_job(\"tonydoc1.docx\")\n",
    "printer.queue_print_job(\"tonydoc2.docx\")\n",
    "printer.run()\n",
    "printer.queue_print_job(\"tonydoc69.md\")\n",
    "printer.queue_print_job(\"tonydoc420.pdf\")\n",
    "printer.run()\n"
   ]
  },
  {
   "cell_type": "code",
   "execution_count": null,
   "metadata": {},
   "outputs": [],
   "source": []
  },
  {
   "cell_type": "markdown",
   "metadata": {},
   "source": []
  }
 ],
 "metadata": {
  "kernelspec": {
   "display_name": ".venv",
   "language": "python",
   "name": "python3"
  },
  "language_info": {
   "codemirror_mode": {
    "name": "ipython",
    "version": 3
   },
   "file_extension": ".py",
   "mimetype": "text/x-python",
   "name": "python",
   "nbconvert_exporter": "python",
   "pygments_lexer": "ipython3",
   "version": "3.13.0"
  }
 },
 "nbformat": 4,
 "nbformat_minor": 2
}
