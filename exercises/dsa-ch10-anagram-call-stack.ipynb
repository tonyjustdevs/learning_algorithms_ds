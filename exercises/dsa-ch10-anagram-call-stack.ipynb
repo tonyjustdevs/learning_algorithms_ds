{
 "cells": [
  {
   "cell_type": "raw",
   "metadata": {
    "vscode": {
     "languageId": "raw"
    }
   },
   "source": [
    "---\n",
    "title: \"DSA: Recursion - tba\"\n",
    "author: \"Tony Phung\"\n",
    "date: \"2025-02-10\"\n",
    "categories: [data structures, algorithms]\n",
    "image: \"imgs/dsa-tba.jpg\"\n",
    "toc: true\n",
    "description: \"tba\"\n",
    "---"
   ]
  },
  {
   "cell_type": "markdown",
   "metadata": {},
   "source": [
    "# 1. Install `showcallstack`\n",
    "\n",
    "* `pip install showcallstack`  or\n",
    "* `uv add showcallstack` (if using `uv`)\n"
   ]
  },
  {
   "cell_type": "markdown",
   "metadata": {},
   "source": [
    "# 2. Save `anagrams` function to  a `.py` (python script)"
   ]
  },
  {
   "cell_type": "code",
   "execution_count": null,
   "metadata": {},
   "outputs": [],
   "source": [
    "import showcallstack as ss\n",
    "\n",
    "def anagrams(string):\n",
    "    # ss.showcallstack()\n",
    "    if len(string)==1:\n",
    "        return string[0]\n",
    "    collection = []\n",
    "    substr_anagrams = anagrams(string[1:])\n",
    "    for anagram in substr_anagrams:\n",
    "        ss.showcallstack()\n",
    "        for i in range(len(anagram)+1):\n",
    "            new_string = anagram[:i]+string[0]+anagram[i:]\n",
    "            collection.append(new_string)\n",
    "    return collection\n",
    "\n",
    "anagrams(\"abc\")"
   ]
  },
  {
   "cell_type": "markdown",
   "metadata": {},
   "source": [
    "# 3. Run `.py` script from `terminal`\n",
    "\n",
    "\n",
    "* `uv run dsa-anagram-call-stack.py`"
   ]
  },
  {
   "cell_type": "markdown",
   "metadata": {},
   "source": [
    "# 4. `showcallstack()`: High-Level\n",
    "\n",
    "This function shows information about callstack.\n",
    "\n",
    "Note: \n",
    "\n",
    "* The local variables to the `showcallstack()` depends where the function call is placed"
   ]
  },
  {
   "cell_type": "markdown",
   "metadata": {},
   "source": [
    "![](imgs/dsa-anagram-callstack.png)"
   ]
  },
  {
   "cell_type": "markdown",
   "metadata": {},
   "source": [
    "# 5. `showcallstack()`: Low-Level\n",
    "\n",
    "Placing the function call inside the for loop shows the a greater granularity of local variables of each call in the call stack.\n",
    "\n",
    "Note: \n",
    "\n",
    "* The  *iteration* of `i` below"
   ]
  },
  {
   "cell_type": "markdown",
   "metadata": {},
   "source": [
    "![](imgs/dsa-anagram-callstack2.png)"
   ]
  }
 ],
 "metadata": {
  "kernelspec": {
   "display_name": ".venv",
   "language": "python",
   "name": "python3"
  },
  "language_info": {
   "codemirror_mode": {
    "name": "ipython",
    "version": 3
   },
   "file_extension": ".py",
   "mimetype": "text/x-python",
   "name": "python",
   "nbconvert_exporter": "python",
   "pygments_lexer": "ipython3",
   "version": "3.13.0"
  }
 },
 "nbformat": 4,
 "nbformat_minor": 2
}
