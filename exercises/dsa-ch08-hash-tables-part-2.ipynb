{
 "cells": [
  {
   "cell_type": "raw",
   "metadata": {
    "vscode": {
     "languageId": "raw"
    }
   },
   "source": [
    "---\n",
    "title: \"DSA 11: Hash Tables - Part 1\"\n",
    "author: \"Tony Phung\"\n",
    "date: \"2025-01-21\"\n",
    "categories: [data structures, algorithms]\n",
    "image: \"imgs/dsa-011-hashtable-1.png\"\n",
    "toc: true\n",
    "description: \"Create hash tables, hash functions and replicate how the data is in memory\"\n",
    "---"
   ]
  },
  {
   "cell_type": "markdown",
   "metadata": {},
   "source": [
    "# 5. Next Up\n",
    "\n",
    "I'll add the feature to get our a `synonym` given a `input_word` and explore it's time-complexity.\n",
    "\n",
    "Also, how to deal with **collisions**. This is when are *multiple entries* at the same index of our dictionary. That is, the same hash value calculated for different words."
   ]
  },
  {
   "cell_type": "markdown",
   "metadata": {
    "vscode": {
     "languageId": "raw"
    }
   },
   "source": [
    "ref: [blog issue 237](https://github.com/tonyjustdevs/blog/issues/237)\n",
    "\n",
    "- [x] hash table functions and values #238  \n",
    "- [ ] hash table data retrieval and collisions #239  \n",
    "- [ ] hash table speed comparisons #240  \n",
    "- [ ] hash table exercises #241  "
   ]
  },
  {
   "cell_type": "markdown",
   "metadata": {},
   "source": [
    "# 1. Setup\n",
    "From previous post: [Hash Tables - Part 1](https://tonyjustdevs.github.io/blog/posts/computerscience/datastructuresandalgorithms/dsa-011-hash-tables-part-1.html)"
   ]
  },
  {
   "cell_type": "code",
   "execution_count": 22,
   "metadata": {},
   "outputs": [
    {
     "name": "stdout",
     "output_type": "stream",
     "text": [
      "letters_dict: {'a': 1, 'b': 2, 'c': 3, 'd': 4, 'e': 5, 'f': 6, 'g': 7, 'h': 8, 'i': 9, 'j': 10, 'k': 11, 'l': 12, 'm': 13, 'n': 14, 'o': 15, 'p': 16, 'q': 17, 'r': 18, 's': 19, 't': 20, 'u': 21, 'v': 22, 'w': 23, 'x': 24, 'y': 25, 'z': 26}\n"
     ]
    }
   ],
   "source": [
    "thesaurus_arr = [None]*16 # create empty thesaurus\n",
    "letters_dict = {chr(i): i - 96 for i in range(97, 97 + 26)}\n",
    "print(f\"letters_dict: {letters_dict}\")"
   ]
  },
  {
   "cell_type": "code",
   "execution_count": 23,
   "metadata": {},
   "outputs": [
    {
     "name": "stdout",
     "output_type": "stream",
     "text": [
      "PretendDictMemoryList: [None, None, None, None, None, None, None, None, None, None, None, None, None, None, None, None]\n"
     ]
    }
   ],
   "source": [
    "def alphabet_multiplicative_hash_fn(input_word: str):\n",
    "    # convert some string into hash_value by multiplying all letters value\n",
    "    hash_value = 1\n",
    "    for character in input_word:\n",
    "    # dict_val = dict[char]\n",
    "        letter_val = letters_dict[character]\n",
    "        hash_value *= letter_val # cumulative product: char1 * char2 ...\n",
    "    return hash_value\n",
    "PretendDictMemoryList = [None]*16\n",
    "print(f\"PretendDictMemoryList: {PretendDictMemoryList}\")\n"
   ]
  },
  {
   "cell_type": "code",
   "execution_count": 24,
   "metadata": {},
   "outputs": [
    {
     "name": "stdout",
     "output_type": "stream",
     "text": [
      "Test getting 'd': 4\n",
      "Test hash_fn('bad'): 8\n",
      "Test hash_fn('cab'): 6\n",
      "\n",
      "Thesaurus app:\n",
      "['best', None, None, None, None, 'taxi', None, 'evil', None, None, None, None, None, None, None, None]\n"
     ]
    }
   ],
   "source": [
    "print(f\"Test getting 'd': {letters_dict[\"d\"]}\") # 4\n",
    "\n",
    "print(f\"Test hash_fn('bad'): {alphabet_multiplicative_hash_fn(\"bad\")}\") # 2*1*4 = 8\n",
    "print(f\"Test hash_fn('cab'): {alphabet_multiplicative_hash_fn(\"cab\")}\") # 3*1*2 = 6\n",
    "\n",
    "entry_pairs_list = [(\"bad\",\"evil\"),(\"cab\",\"taxi\"),(\"aaa\",\"best\")]\n",
    "entry_pairs_list\n",
    "\n",
    "for pair in entry_pairs_list:\n",
    "    hash_value = alphabet_multiplicative_hash_fn(pair[0])\n",
    "    PretendDictMemoryList[hash_value-1]=pair[1]\n",
    "    # print(hash_value, PretendDictMemoryList)\n",
    "    \n",
    "thesaurus_app = PretendDictMemoryList\n",
    "\n",
    "print(f\"\\nThesaurus app:\\n{thesaurus_app}\")"
   ]
  },
  {
   "cell_type": "markdown",
   "metadata": {},
   "source": [
    "# 2. Collisions (same hash values)\n",
    "\n",
    "## 2.1 New Entry with Same Hash Value\n",
    "Notice new entry `[\"dab\",\"touch\"]` will result in a `hash_value` of `8`:"
   ]
  },
  {
   "cell_type": "code",
   "execution_count": 25,
   "metadata": {},
   "outputs": [
    {
     "name": "stdout",
     "output_type": "stream",
     "text": [
      "Test hash_fn('dab'): 8\n"
     ]
    }
   ],
   "source": [
    "print(f\"Test hash_fn('dab'): {alphabet_multiplicative_hash_fn(\"dab\")}\") # 4*1*2 = 8"
   ]
  },
  {
   "cell_type": "markdown",
   "metadata": {},
   "source": [
    "## 2.2 A Collision Has Occured 💥!\n",
    "\n",
    "Index `8` in memory **already exists** from a previous entry:   \n",
    "* `[\"bad\",\"evil\"]`.\n",
    "\n",
    "Index `8` will be **over-ridden** by the new entry:\n",
    "\n",
    "* from `[\"bad\",\"evil\"]` \n",
    "* to `[\"dab\",\"touch\"]` \n",
    "\n",
    "with the current model, which is not ideal.\n"
   ]
  },
  {
   "cell_type": "code",
   "execution_count": 28,
   "metadata": {},
   "outputs": [
    {
     "name": "stdout",
     "output_type": "stream",
     "text": [
      "\n",
      "Thesaurus app:\n",
      "['best', None, None, None, None, 'taxi', None, 'touch', None, None, None, None, None, None, None, None]\n"
     ]
    }
   ],
   "source": [
    "entry_pairs_list = [(\"dab\",\"touch\")]\n",
    "\n",
    "for pair in entry_pairs_list:\n",
    "    hash_value = alphabet_multiplicative_hash_fn(pair[0])\n",
    "    PretendDictMemoryList[hash_value-1]=pair[1]\n",
    "    \n",
    "thesaurus_app = PretendDictMemoryList\n",
    "\n",
    "\n",
    "print(f\"\\nThesaurus app:\\n{thesaurus_app}\")"
   ]
  },
  {
   "cell_type": "code",
   "execution_count": null,
   "metadata": {},
   "outputs": [],
   "source": []
  },
  {
   "cell_type": "code",
   "execution_count": null,
   "metadata": {},
   "outputs": [],
   "source": []
  },
  {
   "cell_type": "code",
   "execution_count": null,
   "metadata": {},
   "outputs": [],
   "source": []
  },
  {
   "cell_type": "markdown",
   "metadata": {},
   "source": [
    "# 3. Arrays vs Hash Tables: Comparing Speeds"
   ]
  },
  {
   "cell_type": "markdown",
   "metadata": {},
   "source": [
    "# 4. Hash Table: Exercises"
   ]
  }
 ],
 "metadata": {
  "kernelspec": {
   "display_name": ".venv",
   "language": "python",
   "name": "python3"
  },
  "language_info": {
   "codemirror_mode": {
    "name": "ipython",
    "version": 3
   },
   "file_extension": ".py",
   "mimetype": "text/x-python",
   "name": "python",
   "nbconvert_exporter": "python",
   "pygments_lexer": "ipython3",
   "version": "3.13.0"
  }
 },
 "nbformat": 4,
 "nbformat_minor": 2
}
