{
 "cells": [
  {
   "cell_type": "raw",
   "metadata": {
    "vscode": {
     "languageId": "raw"
    }
   },
   "source": [
    "---\n",
    "title: \"DSA 12: Hash Tables Part 2 - Collisions\"\n",
    "author: \"Tony Phung\"\n",
    "date: \"2025-01-22\"\n",
    "categories: [data structures, algorithms]\n",
    "image: \"imgs/dsa-ch08-hash-tables-collision.png\"\n",
    "toc: true\n",
    "description: \"Collisions in Hash Tables explained with a suggestion solution\"\n",
    "---"
   ]
  },
  {
   "cell_type": "markdown",
   "metadata": {},
   "source": [
    "![](imgs/dsa-ch08-hash-tables-collision.png)"
   ]
  },
  {
   "cell_type": "markdown",
   "metadata": {},
   "source": [
    "# 1. Setup\n",
    "From previous post: [Hash Tables - Part 1](https://tonyjustdevs.github.io/blog/posts/computerscience/datastructuresandalgorithms/dsa-011-hash-tables-part-1.html)"
   ]
  },
  {
   "cell_type": "code",
   "execution_count": 31,
   "metadata": {},
   "outputs": [
    {
     "name": "stdout",
     "output_type": "stream",
     "text": [
      "letters_dict: \n",
      "{'a': 1, 'b': 2, 'c': 3, 'd': 4, 'e': 5, 'f': 6, 'g': 7, 'h': 8, 'i': 9, 'j': 10, 'k': 11, 'l': 12, 'm': 13, 'n': 14, 'o': 15, 'p': 16, 'q': 17, 'r': 18, 's': 19, 't': 20, 'u': 21, 'v': 22, 'w': 23, 'x': 24, 'y': 25, 'z': 26}\n"
     ]
    }
   ],
   "source": [
    "thesaurus_arr = [None]*16 # create empty thesaurus\n",
    "letters_dict = {chr(i): i - 96 for i in range(97, 97 + 26)}\n",
    "print(f\"letters_dict: \\n{letters_dict}\")"
   ]
  },
  {
   "cell_type": "code",
   "execution_count": 32,
   "metadata": {},
   "outputs": [
    {
     "name": "stdout",
     "output_type": "stream",
     "text": [
      "PretendDictMemoryList: [None, None, None, None, None, None, None, None, None, None, None, None, None, None, None, None]\n"
     ]
    }
   ],
   "source": [
    "def alphabet_multiplicative_hash_fn(input_word: str):\n",
    "    # convert some string into hash_value by multiplying all letters value\n",
    "    hash_value = 1\n",
    "    for character in input_word:\n",
    "    # dict_val = dict[char]\n",
    "        letter_val = letters_dict[character]\n",
    "        hash_value *= letter_val # cumulative product: char1 * char2 ...\n",
    "    return hash_value\n",
    "PretendDictMemoryList = [None]*16\n",
    "print(f\"PretendDictMemoryList: {PretendDictMemoryList}\")\n"
   ]
  },
  {
   "cell_type": "code",
   "execution_count": 33,
   "metadata": {},
   "outputs": [
    {
     "name": "stdout",
     "output_type": "stream",
     "text": [
      "Test getting 'd': 4\n",
      "Test hash_fn('bad'): 8\n",
      "Test hash_fn('cab'): 6\n",
      "\n",
      "Thesaurus app:\n",
      "['best', None, None, None, None, 'taxi', None, 'evil', None, None, None, None, None, None, None, None]\n"
     ]
    }
   ],
   "source": [
    "print(f\"Test getting 'd': {letters_dict[\"d\"]}\") # 4\n",
    "\n",
    "print(f\"Test hash_fn('bad'): {alphabet_multiplicative_hash_fn(\"bad\")}\") # 2*1*4 = 8\n",
    "print(f\"Test hash_fn('cab'): {alphabet_multiplicative_hash_fn(\"cab\")}\") # 3*1*2 = 6\n",
    "\n",
    "entry_pairs_list = [(\"bad\",\"evil\"),(\"cab\",\"taxi\"),(\"aaa\",\"best\")]\n",
    "entry_pairs_list\n",
    "\n",
    "for pair in entry_pairs_list:\n",
    "    hash_value = alphabet_multiplicative_hash_fn(pair[0])\n",
    "    PretendDictMemoryList[hash_value-1]=pair[1]\n",
    "    # print(hash_value, PretendDictMemoryList)\n",
    "    \n",
    "thesaurus_app = PretendDictMemoryList\n",
    "\n",
    "print(f\"\\nThesaurus app:\\n{thesaurus_app}\")"
   ]
  },
  {
   "cell_type": "markdown",
   "metadata": {},
   "source": [
    "# 2. Collisions (same hash values)\n",
    "\n",
    "# 2.1 New Entry with Same Hash Value\n",
    "Notice new entry `[\"dab\",\"tap\"]` will result in a `hash_value` of `8`:"
   ]
  },
  {
   "cell_type": "code",
   "execution_count": 36,
   "metadata": {},
   "outputs": [
    {
     "name": "stdout",
     "output_type": "stream",
     "text": [
      "Test hash_fn('dab'): 8\n"
     ]
    }
   ],
   "source": [
    "print(f\"Test hash_fn('dab'): {alphabet_multiplicative_hash_fn(\"dab\")}\") # 4*1*2 = 8"
   ]
  },
  {
   "cell_type": "markdown",
   "metadata": {},
   "source": [
    "# 2.2 A Collision Has Occured 💥!\n",
    "\n",
    "Index `8` in memory **already exists** from a previous entry:   \n",
    "* `[\"bad\",\"evil\"]`.\n",
    "\n",
    "Index `8` will be **over-ridden** by the new entry:\n",
    "\n",
    "* from `[\"bad\",\"evil\"]` \n",
    "* to `[\"dab\",\"tap\"]` \n",
    "\n",
    "with the current model, which is not ideal.\n"
   ]
  },
  {
   "cell_type": "code",
   "execution_count": 37,
   "metadata": {},
   "outputs": [
    {
     "name": "stdout",
     "output_type": "stream",
     "text": [
      "\n",
      "Thesaurus app:\n",
      "['best', None, None, None, None, 'taxi', None, 'tap', None, None, None, None, None, None, None, None]\n"
     ]
    }
   ],
   "source": [
    "entry_pairs_list = [(\"dab\",\"tap\")]\n",
    "\n",
    "for pair in entry_pairs_list:\n",
    "    hash_value = alphabet_multiplicative_hash_fn(pair[0])\n",
    "    PretendDictMemoryList[hash_value-1]=pair[1]\n",
    "    \n",
    "thesaurus_app = PretendDictMemoryList\n",
    "\n",
    "\n",
    "print(f\"\\nThesaurus app:\\n{thesaurus_app}\")"
   ]
  },
  {
   "cell_type": "markdown",
   "metadata": {},
   "source": [
    "# 2.3 Updated Solution: Sub-Arrays\n",
    "\n",
    "Create an array with sub-arrays at the index\n",
    "\n",
    "For the example:\n",
    "* create an array within index 8, \n",
    "* with each item of the array, \n",
    "* represented by the `[input_word,synonym]` "
   ]
  },
  {
   "cell_type": "markdown",
   "metadata": {},
   "source": [
    "## 2.4 Search Time-Complexity: Previous versus Updated Solution"
   ]
  },
  {
   "cell_type": "markdown",
   "metadata": {},
   "source": [
    "Previous Solution:\n",
    "\n",
    "* `PretendDictMemoryList[8] = \"taxi\"`\n",
    "    - Thus, Search is $O(1)$\n",
    "\n",
    "Updated Solution:\n",
    "* `PretendDictMemoryList[8] = [[\"cab\",\"taxi\"],[\"dab\",\"tap\"]]`\n",
    "    - Search $O(1)$ to get value at index (or `hash_value`)\n",
    "    - Then, search array $O(n)$ to find our `cab` or `dab` key\n",
    "    - Thus, Total Search $O(n+1) \\to O(n)$\n",
    "\n",
    "\n",
    "\n"
   ]
  }
 ],
 "metadata": {
  "kernelspec": {
   "display_name": ".venv",
   "language": "python",
   "name": "python3"
  },
  "language_info": {
   "codemirror_mode": {
    "name": "ipython",
    "version": 3
   },
   "file_extension": ".py",
   "mimetype": "text/x-python",
   "name": "python",
   "nbconvert_exporter": "python",
   "pygments_lexer": "ipython3",
   "version": "3.13.0"
  }
 },
 "nbformat": 4,
 "nbformat_minor": 2
}
