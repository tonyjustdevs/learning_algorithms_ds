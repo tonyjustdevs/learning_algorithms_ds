{
 "cells": [
  {
   "cell_type": "raw",
   "metadata": {
    "vscode": {
     "languageId": "raw"
    }
   },
   "source": [
    "---\n",
    "title: \"DSA : Binary Search Trees - tba\"\n",
    "author: \"Tony Phung\"\n",
    "date: \"2025-02-25\"\n",
    "categories: [data structures, algorithms]\n",
    "image: \"imgs/dsa-tba\"\n",
    "toc: true\n",
    "description: \"tba\" \n",
    "---"
   ]
  },
  {
   "cell_type": "code",
   "execution_count": null,
   "metadata": {},
   "outputs": [
    {
     "name": "stdout",
     "output_type": "stream",
     "text": [
      "[4, 10, 11, 25, 30, 33, 40, 50, 52, 56, 61, 75, 82, 89, 95]\n",
      "found! returning node: node4\n",
      "target_node:4 found, parent: 10\n",
      "target_node has no children: 4 deleted, parent: 10\n",
      "\n",
      "found! returning node: node10\n",
      "target_node:10 found, parent: 25\n",
      "target_node has ONE right child: 11 parent: 25\n"
     ]
    },
    {
     "data": {
      "text/plain": [
       "[10, 11, 25, 11, 50, 52, 56, 61, 75, 82, 89, 95]"
      ]
     },
     "execution_count": 79,
     "metadata": {},
     "output_type": "execute_result"
    }
   ],
   "source": [
    "# LOOK AFTER INSERT AND SEARCH\n",
    "# def delete(root_node: TreeNode, value):\n",
    "#     current_node = root_node\n",
    "#     # search\n",
    "#     target_node,parent_node = search_node(current_node,value,parent_node=None)    \n",
    "    \n",
    "#     # delete\n",
    "#     print(f\"target_node:{target_node.data} found, parent: {parent_node.data}\")\n",
    "#     ### SCENARIO 1: TARGET HAS NO CHILDREN\n",
    "#     if not target_node.left and not target_node.right:\n",
    "#         print(f\"target_node has no children: {target_node.data} deleted, parent: {parent_node.data}\")\n",
    "#         print()\n",
    "#         # target_node = None [doesnt work due to references]\n",
    "#         # remove all references\n",
    "#         if parent_node.left.data==target_node.data:\n",
    "#             parent_node.left=None\n",
    "#         elif parent_node.right.data==target_node.data:\n",
    "#             parent_node.right=None\n",
    "    \n",
    "#     ### SCENARIO 2: TARGET HAS ONE CHILD\n",
    "#     if target_node.left and not target_node.right:\n",
    "#         print(f\"target_node has ONE left child: {target_node.left.data} parent: {parent_node.data}\")\n",
    "#         # two steps delete target + point parente to taregets child\n",
    "#         parent_node.left=target_node.left\n",
    "#         return\n",
    "#     elif target_node.right and not target_node.left:\n",
    "#         print(f\"target_node has ONE right child: {target_node.right.data} parent: {parent_node.data}\")\n",
    "#         # tr = 11\n",
    "#         # pr = 10\n",
    "#         parent_node.right=target_node.right \n",
    "#         return\n",
    "    \n",
    "# # Creating the tree with the given structure\n",
    "# values = [50,25,75,10,33,56,89,4,11,30,40,52,61,82,95]\n",
    "# root = TreeNode.from_list(values)\n",
    "\n",
    "# # Printing in-order traversal to verify correctness\n",
    "# print(root.inorder_traversal())  # Output: [20, 30, 40, 50, 60, 70, 80]\n",
    "# delete(root, 4)\n",
    "# inorder_traversal(root)\n",
    "# delete(root, 10)\n",
    "# inorder_traversal(root)"
   ]
  },
  {
   "cell_type": "code",
   "execution_count": 12,
   "metadata": {},
   "outputs": [],
   "source": [
    "class TreeNode:\n",
    "    def __init__(self,data:int,left=None,right=None):\n",
    "        self.data=data\n",
    "        self.left=left\n",
    "        self.right=right"
   ]
  },
  {
   "cell_type": "code",
   "execution_count": 25,
   "metadata": {},
   "outputs": [],
   "source": [
    "# create a basic tree\n",
    "#             50\n",
    "#      25           75\n",
    "#  10     33     56     89  \n",
    "# 4  11 30  40 52  61 82  95  \n",
    "\n",
    "def create_custom_binary_tree()->TreeNode:\n",
    "    # Level: L4\n",
    "    node04 = TreeNode( 4, left=None, right=None)\n",
    "    node11 = TreeNode(11, left=None, right=None)\n",
    "    node30 = TreeNode(30, left=None, right=None)\n",
    "    node40 = TreeNode(40, left=None, right=None)\n",
    "    # Level: R4\n",
    "    node52 = TreeNode(52, left=None, right=None)\n",
    "    node61 = TreeNode(61, left=None, right=None)\n",
    "    node82 = TreeNode(82, left=None, right=None)\n",
    "    node95 = TreeNode(95, left=None, right=None)\n",
    "\n",
    "    # Level: L3\n",
    "    node10 = TreeNode(10, left=node04, right=node11)\n",
    "    node33 = TreeNode(33, left=node30, right=node40)\n",
    "    # Level: R3\n",
    "    node56 = TreeNode(56, left=node52, right=node61)\n",
    "    node89 = TreeNode(89, left=node82, right=node95)\n",
    "\n",
    "    # Level: L2\n",
    "    node25 = TreeNode(25, left=node10, right=node33)\n",
    "    # Level: R2\n",
    "    node75 = TreeNode(75, left=node56, right=node89)\n",
    "\n",
    "    # Level: L1\n",
    "    root_node = node50 = TreeNode(50, left=node25, right=node75)\n",
    "    return root_node"
   ]
  },
  {
   "cell_type": "code",
   "execution_count": 28,
   "metadata": {},
   "outputs": [],
   "source": [
    "def search_node(root_node: TreeNode, target:int):\n",
    "    print(f\"Node:{current_node.data} | Target:{target}\")\n",
    "    current_node = root_node\n",
    "    if not current_node:\n",
    "        print(\"\\tTarget Not Found! Empty Node!\")\n",
    "        return \n",
    "    if current_node.data == target:\n",
    "        print(f\"\\tTarget Found! Node:{current_node.data} | Target:{target}\")\n",
    "        return current_node\n",
    "    \n",
    "    if current_node.data < target: # GO LEFT\n",
    "        if current_node.left:\n",
    "            current_node = current_node.left\n",
    "            return search_node(current_node, target)\n",
    "        else:\n",
    "            print(f\"\\tTarget Not Found! Node:{current_node.data} < Target:{target} but has no left child\")\n",
    "    else:\n",
    "        if current_node.right:\n",
    "            current_node = current_node.right\n",
    "            return search_node(current_node, target)\n",
    "        else:\n",
    "            print(f\"\\tTarget Not Found! Node:{current_node.data} > Target:{target} but has no right child\")"
   ]
  },
  {
   "cell_type": "code",
   "execution_count": 27,
   "metadata": {},
   "outputs": [
    {
     "name": "stdout",
     "output_type": "stream",
     "text": [
      "Target Not Found! Node:4 < Target:82 but has no left child\n"
     ]
    }
   ],
   "source": [
    "# create a basic tree\n",
    "#             50\n",
    "#      25           75\n",
    "#  10     33     56     89  \n",
    "# 4  11 30  40 52  61 82  95  \n",
    "\n",
    "root = create_custom_binary_tree()\n",
    "search_node(root, 82)"
   ]
  },
  {
   "cell_type": "code",
   "execution_count": null,
   "metadata": {},
   "outputs": [],
   "source": []
  },
  {
   "cell_type": "code",
   "execution_count": null,
   "metadata": {},
   "outputs": [],
   "source": []
  },
  {
   "cell_type": "code",
   "execution_count": null,
   "metadata": {},
   "outputs": [],
   "source": []
  },
  {
   "cell_type": "code",
   "execution_count": null,
   "metadata": {},
   "outputs": [],
   "source": []
  },
  {
   "cell_type": "code",
   "execution_count": null,
   "metadata": {},
   "outputs": [],
   "source": []
  },
  {
   "cell_type": "code",
   "execution_count": null,
   "metadata": {},
   "outputs": [],
   "source": []
  },
  {
   "cell_type": "code",
   "execution_count": null,
   "metadata": {},
   "outputs": [],
   "source": []
  }
 ],
 "metadata": {
  "kernelspec": {
   "display_name": ".venv",
   "language": "python",
   "name": "python3"
  },
  "language_info": {
   "codemirror_mode": {
    "name": "ipython",
    "version": 3
   },
   "file_extension": ".py",
   "mimetype": "text/x-python",
   "name": "python",
   "nbconvert_exporter": "python",
   "pygments_lexer": "ipython3",
   "version": "3.13.0"
  }
 },
 "nbformat": 4,
 "nbformat_minor": 2
}
