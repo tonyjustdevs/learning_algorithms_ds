{
 "cells": [
  {
   "cell_type": "raw",
   "metadata": {
    "vscode": {
     "languageId": "raw"
    }
   },
   "source": [
    "---\n",
    "title: \"DSA: Selection Sort - Attempt 1\"\n",
    "author: \"Tony Phung\"\n",
    "date: \"2025-01-12\"\n",
    "categories: [data structures, algorithms]\n",
    "image: \"imgs/dsa-ch05-tba.jpg\"\n",
    "toc: true\n",
    "description: \"Chapter 5, J.Wengrow Vol 2\"\n",
    "---"
   ]
  },
  {
   "cell_type": "markdown",
   "metadata": {},
   "source": [
    "# 1. $SelectionSort()$ Function - First Attempt\n",
    "Without looking at an example"
   ]
  },
  {
   "cell_type": "code",
   "execution_count": 59,
   "metadata": {},
   "outputs": [
    {
     "name": "stdout",
     "output_type": "stream",
     "text": [
      "0\n"
     ]
    }
   ],
   "source": [
    "# end_idx     = len(arr) # no comparisons\n",
    "# values = 1234567\n",
    "values = 2613\n",
    "arr=[int(chr) for chr in str(values)]\n",
    "iteration   = 0\n",
    "beg_idx     = 0\n",
    "curr_min_value    = arr[0]\n",
    "end_idx     = len(arr)-1 # comparison require: [i] vs [i+1]\n",
    "print(beg_idx)\n",
    "steps=0"
   ]
  },
  {
   "cell_type": "code",
   "execution_count": 60,
   "metadata": {},
   "outputs": [
    {
     "name": "stdout",
     "output_type": "stream",
     "text": [
      "0\n",
      "curr_min:2, arr:[2, 6, 1, 3], [2]vs[6]\n",
      "curr_min:2, arr:[2, 6, 1, 3], [2]vs[1]\n",
      "new min:[1]\n",
      "curr_min:1, arr:[2, 6, 1, 3], [1]vs[3]\n",
      "updated array: [1, 6, 2, 3]\n"
     ]
    }
   ],
   "source": [
    "new_min = False\n",
    "print(beg_idx)\n",
    "curr_min_value = arr[beg_idx]\n",
    "for i in range(beg_idx, end_idx):\n",
    "    steps+=1\n",
    "    print(rf\"curr_min:{curr_min_value}, arr:{arr}, [{curr_min_value}]vs[{arr[i+1]}]\")\n",
    "    \n",
    "    if arr[i+1]<curr_min_value:\n",
    "        steps+=1\n",
    "        curr_min_index=i+1\n",
    "        curr_min_value=arr[curr_min_index]\n",
    "        print(f\"new min:[{curr_min_value}]\")\n",
    "        new_min = True\n",
    "    # end of loop: \n",
    "    # i at second last item\n",
    "if new_min:\n",
    "    arr[beg_idx],arr[curr_min_index]=arr[curr_min_index],arr[beg_idx]\n",
    "# do swap\n",
    "print(rf\"updated array: {arr}\")\n",
    "beg_idx+=1\n"
   ]
  },
  {
   "cell_type": "code",
   "execution_count": 61,
   "metadata": {},
   "outputs": [
    {
     "name": "stdout",
     "output_type": "stream",
     "text": [
      "1\n",
      "curr_min:6, arr:[1, 6, 2, 3], [6]vs[2]\n",
      "new min:[2]\n",
      "curr_min:2, arr:[1, 6, 2, 3], [2]vs[3]\n",
      "updated array: [1, 2, 6, 3]\n"
     ]
    }
   ],
   "source": [
    "new_min = False\n",
    "print(beg_idx)\n",
    "curr_min_value = arr[beg_idx]\n",
    "for i in range(beg_idx, end_idx):\n",
    "    steps+=1\n",
    "    print(rf\"curr_min:{curr_min_value}, arr:{arr}, [{curr_min_value}]vs[{arr[i+1]}]\")\n",
    "    \n",
    "    if arr[i+1]<curr_min_value:\n",
    "        steps+=1\n",
    "        curr_min_index=i+1\n",
    "        curr_min_value=arr[curr_min_index]\n",
    "        print(f\"new min:[{curr_min_value}]\")\n",
    "        new_min = True\n",
    "    # end of loop: \n",
    "    # i at second last item\n",
    "if new_min:\n",
    "    arr[beg_idx],arr[curr_min_index]=arr[curr_min_index],arr[beg_idx]\n",
    "# do swap\n",
    "print(rf\"updated array: {arr}\")\n",
    "beg_idx+=1\n"
   ]
  },
  {
   "cell_type": "code",
   "execution_count": 62,
   "metadata": {},
   "outputs": [
    {
     "name": "stdout",
     "output_type": "stream",
     "text": [
      "2\n",
      "curr_min:6, arr:[1, 2, 6, 3], [6]vs[3]\n",
      "new min:[3]\n",
      "updated array: [1, 2, 3, 6]\n"
     ]
    }
   ],
   "source": [
    "new_min = False\n",
    "print(beg_idx)\n",
    "curr_min_value = arr[beg_idx]\n",
    "for i in range(beg_idx, end_idx):\n",
    "    steps+=1\n",
    "    print(rf\"curr_min:{curr_min_value}, arr:{arr}, [{curr_min_value}]vs[{arr[i+1]}]\")\n",
    "    \n",
    "    if arr[i+1]<curr_min_value:\n",
    "        steps+=1\n",
    "        curr_min_index=i+1\n",
    "        curr_min_value=arr[curr_min_index]\n",
    "        print(f\"new min:[{curr_min_value}]\")\n",
    "        new_min = True\n",
    "    # end of loop: \n",
    "    # i at second last item\n",
    "if new_min:\n",
    "    arr[beg_idx],arr[curr_min_index]=arr[curr_min_index],arr[beg_idx]\n",
    "# do swap\n",
    "print(rf\"updated array: {arr}\")\n",
    "beg_idx+=1\n"
   ]
  },
  {
   "cell_type": "code",
   "execution_count": 63,
   "metadata": {},
   "outputs": [
    {
     "name": "stdout",
     "output_type": "stream",
     "text": [
      "0\n",
      "0\n",
      "curr_min:2, arr:[2, 6, 1, 3], [2]vs[6]\n",
      "curr_min:2, arr:[2, 6, 1, 3], [2]vs[1]\n",
      "new min:[1]\n",
      "curr_min:1, arr:[2, 6, 1, 3], [1]vs[3]\n",
      "updated array: [1, 6, 2, 3]\n",
      "1\n",
      "curr_min:6, arr:[1, 6, 2, 3], [6]vs[2]\n",
      "new min:[2]\n",
      "curr_min:2, arr:[1, 6, 2, 3], [2]vs[3]\n",
      "updated array: [1, 2, 6, 3]\n",
      "2\n",
      "curr_min:6, arr:[1, 2, 6, 3], [6]vs[3]\n",
      "new min:[3]\n",
      "updated array: [1, 2, 3, 6]\n",
      "3\n",
      "updated array: [1, 2, 3, 6]\n"
     ]
    }
   ],
   "source": [
    "# end_idx     = len(arr) # no comparisons\n",
    "\n",
    "# values = 1234567\n",
    "values = 2613\n",
    "arr=[int(chr) for chr in str(values)]\n",
    "iteration   = 0\n",
    "beg_idx     = 0\n",
    "curr_min_value    = arr[0]\n",
    "end_idx     = len(arr)-1 # comparison require: [i] vs [i+1]\n",
    "print(beg_idx)\n",
    "steps=0\n",
    "\n",
    "while beg_idx<=end_idx:\n",
    "    new_min = False\n",
    "    print(beg_idx)\n",
    "    curr_min_value = arr[beg_idx]\n",
    "    for i in range(beg_idx, end_idx):\n",
    "        steps+=1\n",
    "        print(rf\"curr_min:{curr_min_value}, arr:{arr}, [{curr_min_value}]vs[{arr[i+1]}]\")\n",
    "        \n",
    "        if arr[i+1]<curr_min_value:\n",
    "            steps+=1\n",
    "            curr_min_index=i+1\n",
    "            curr_min_value=arr[curr_min_index]\n",
    "            print(f\"new min:[{curr_min_value}]\")\n",
    "            new_min = True\n",
    "        # end of loop: \n",
    "        # i at second last item\n",
    "    if new_min:\n",
    "        arr[beg_idx],arr[curr_min_index]=arr[curr_min_index],arr[beg_idx]\n",
    "    # do swap\n",
    "    print(rf\"updated array: {arr}\")\n",
    "    beg_idx+=1\n"
   ]
  },
  {
   "cell_type": "code",
   "execution_count": 70,
   "metadata": {},
   "outputs": [
    {
     "name": "stdout",
     "output_type": "stream",
     "text": [
      "0\n",
      "arr: [2, 8, 5, 3, 9, 4, 1]\n",
      "0: 2 vs 8\n",
      "0: 2 vs 5\n",
      "0: 2 vs 3\n",
      "0: 2 vs 9\n",
      "0: 2 vs 4\n",
      "0: 2 vs 1\n",
      "new min:[1]\n",
      "swap(): [1, 8, 5, 3, 9, 4, 2]\n",
      "arr: [8, 5, 3, 9, 4, 2]\n",
      "1: 8 vs 5\n",
      "new min:[5]\n",
      "1: 5 vs 3\n",
      "new min:[3]\n",
      "1: 3 vs 9\n",
      "1: 3 vs 4\n",
      "1: 3 vs 2\n",
      "new min:[2]\n",
      "swap(): [1, 2, 5, 3, 9, 4, 8]\n",
      "arr: [5, 3, 9, 4, 8]\n",
      "2: 5 vs 3\n",
      "new min:[3]\n",
      "2: 3 vs 9\n",
      "2: 3 vs 4\n",
      "2: 3 vs 8\n",
      "swap(): [1, 2, 3, 5, 9, 4, 8]\n",
      "arr: [5, 9, 4, 8]\n",
      "3: 5 vs 9\n",
      "3: 5 vs 4\n",
      "new min:[4]\n",
      "3: 4 vs 8\n",
      "swap(): [1, 2, 3, 4, 9, 5, 8]\n",
      "arr: [9, 5, 8]\n",
      "4: 9 vs 5\n",
      "new min:[5]\n",
      "4: 5 vs 8\n",
      "swap(): [1, 2, 3, 4, 5, 9, 8]\n",
      "arr: [9, 8]\n",
      "5: 9 vs 8\n",
      "new min:[8]\n",
      "swap(): [1, 2, 3, 4, 5, 8, 9]\n",
      "arr: [9]\n",
      "swap(): [1, 2, 3, 4, 5, 8, 9]\n"
     ]
    }
   ],
   "source": [
    "# end_idx     = len(arr) # no comparisons\n",
    "\n",
    "# values = 1234567\n",
    "values = 2853941\n",
    "arr=[int(chr) for chr in str(values)]\n",
    "iteration   = 0\n",
    "beg_idx     = 0\n",
    "curr_min_value    = arr[0]\n",
    "end_idx     = len(arr)-1 # comparison require: [i] vs [i+1]\n",
    "print(beg_idx)\n",
    "steps=0\n",
    "\n",
    "while beg_idx<=end_idx:\n",
    "    new_min = False\n",
    "    # print(beg_idx)\n",
    "    curr_min_value = arr[beg_idx]\n",
    "    print(rf\"arr: {arr[beg_idx:end_idx+1]}\")\n",
    "    for i in range(beg_idx, end_idx):\n",
    "        steps+=1\n",
    "        print(rf\"{beg_idx}: {curr_min_value} vs {arr[i+1]}\")\n",
    "        \n",
    "        if arr[i+1]<curr_min_value:\n",
    "            steps+=1\n",
    "            curr_min_index=i+1\n",
    "            curr_min_value=arr[curr_min_index]\n",
    "            print(f\"new min:[{curr_min_value}]\")\n",
    "            new_min = True\n",
    "    if new_min:\n",
    "        arr[beg_idx],arr[curr_min_index]=arr[curr_min_index],arr[beg_idx]\n",
    "    # do swap\n",
    "    print(rf\"swap(): {arr}\")\n",
    "    beg_idx+=1\n"
   ]
  },
  {
   "cell_type": "code",
   "execution_count": 73,
   "metadata": {},
   "outputs": [
    {
     "name": "stdout",
     "output_type": "stream",
     "text": [
      "0\n",
      "new min:[6]\n",
      "new min:[5]\n",
      "new min:[4]\n",
      "new min:[3]\n",
      "new min:[2]\n",
      "new min:[1]\n",
      "swap(): [1, 6, 5, 4, 3, 2, 7]\n",
      "new min:[5]\n",
      "new min:[4]\n",
      "new min:[3]\n",
      "new min:[2]\n",
      "swap(): [1, 2, 5, 4, 3, 6, 7]\n",
      "new min:[4]\n",
      "new min:[3]\n",
      "swap(): [1, 2, 3, 4, 5, 6, 7]\n",
      "swap(): [1, 2, 3, 4, 5, 6, 7]\n",
      "swap(): [1, 2, 3, 4, 5, 6, 7]\n",
      "swap(): [1, 2, 3, 4, 5, 6, 7]\n",
      "swap(): [1, 2, 3, 4, 5, 6, 7]\n",
      "33\n"
     ]
    }
   ],
   "source": [
    "# end_idx     = len(arr) # no comparisons\n",
    "    "
   ]
  }
 ],
 "metadata": {
  "kernelspec": {
   "display_name": ".venv",
   "language": "python",
   "name": "python3"
  },
  "language_info": {
   "codemirror_mode": {
    "name": "ipython",
    "version": 3
   },
   "file_extension": ".py",
   "mimetype": "text/x-python",
   "name": "python",
   "nbconvert_exporter": "python",
   "pygments_lexer": "ipython3",
   "version": "3.13.0"
  }
 },
 "nbformat": 4,
 "nbformat_minor": 2
}
