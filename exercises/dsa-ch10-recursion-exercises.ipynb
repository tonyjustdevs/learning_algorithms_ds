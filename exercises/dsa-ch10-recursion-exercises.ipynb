{
 "cells": [
  {
   "cell_type": "raw",
   "metadata": {
    "vscode": {
     "languageId": "raw"
    }
   },
   "source": [
    "---\n",
    "title: \"DSA: Recursion - Exercises\"\n",
    "author: \"Tony Phung\"\n",
    "date: \"2025-02-09\"\n",
    "categories: [data structures, algorithms]\n",
    "image: \"imgs/dsa-ch10-stairs.png\"\n",
    "toc: true\n",
    "description: \"More recursion examples\"\n",
    "---"
   ]
  },
  {
   "cell_type": "markdown",
   "metadata": {
    "vscode": {
     "languageId": "raw"
    }
   },
   "source": [
    "![](imgs/dsa-ch10-stairs.png)"
   ]
  },
  {
   "cell_type": "markdown",
   "metadata": {
    "vscode": {
     "languageId": "raw"
    }
   },
   "source": [
    "# 1. Staircase Problem\n",
    "A staircase of `N` steps, and a person has the ability to climb `one`, `two`, or `three` steps at a time. \n",
    "\n",
    "* Input: Number of steps in staircase  \n",
    "* Output: Unique possible paths.  "
   ]
  },
  {
   "cell_type": "code",
   "execution_count": 43,
   "metadata": {},
   "outputs": [
    {
     "data": {
      "text/plain": [
       "4"
      ]
     },
     "execution_count": 43,
     "metadata": {},
     "output_type": "execute_result"
    }
   ],
   "source": [
    "def n_paths(n):\n",
    "    if n<0:\n",
    "        return 0\n",
    "    if n==0 or n==1:\n",
    "        return 1\n",
    "    return n_paths(n-1) + n_paths(n-2) + n_paths(n-3)\n",
    "n_paths(3)"
   ]
  },
  {
   "cell_type": "markdown",
   "metadata": {},
   "source": [
    "# 2. Count Characters\n",
    "* Input: `[\"ab\", \"c\", \"def\", \"ghij\"]`  \n",
    "* Output:  `10` "
   ]
  },
  {
   "cell_type": "code",
   "execution_count": 44,
   "metadata": {},
   "outputs": [
    {
     "data": {
      "text/plain": [
       "10"
      ]
     },
     "execution_count": 44,
     "metadata": {},
     "output_type": "execute_result"
    }
   ],
   "source": [
    "def count_chars(string):\n",
    "    if not string:\n",
    "        return 0\n",
    "    return len(string[0]) + count_chars(string[1:])\n",
    "\n",
    "count_chars([\"ab\", \"c\", \"def\", \"ghij\"])"
   ]
  },
  {
   "cell_type": "markdown",
   "metadata": {},
   "source": [
    "# 3. Even-Only Array\n",
    "* Input: Any array of integers  \n",
    "* Output: A new array of even values of original array"
   ]
  },
  {
   "cell_type": "code",
   "execution_count": 45,
   "metadata": {},
   "outputs": [
    {
     "data": {
      "text/plain": [
       "[2, 4, 6]"
      ]
     },
     "execution_count": 45,
     "metadata": {},
     "output_type": "execute_result"
    }
   ],
   "source": [
    "def even_only(arr):\n",
    "    if not arr:\n",
    "        return []\n",
    "    if arr[0]%2==0:\n",
    "        return [arr[0]] + even_only(arr[1:])\n",
    "    return even_only(arr[1:])\n",
    "even_only(arr=[1,2,3,4,5,6])"
   ]
  },
  {
   "cell_type": "markdown",
   "metadata": {},
   "source": [
    "# 4. Get 'x' Index\n",
    "* Input: \"abcdefghijklmnopqrstuvwxyz\"  \n",
    "* Output: 23  "
   ]
  },
  {
   "cell_type": "code",
   "execution_count": 46,
   "metadata": {},
   "outputs": [
    {
     "data": {
      "text/plain": [
       "23"
      ]
     },
     "execution_count": 46,
     "metadata": {},
     "output_type": "execute_result"
    }
   ],
   "source": [
    "def get_x_idx(string):\n",
    "    if string[0]==\"x\":\n",
    "        return 0\n",
    "    else:\n",
    "        return get_x_idx(string[1:]) + 1\n",
    "get_x_idx(\"abcdefghijklmnopqrstuvwxyz\")"
   ]
  },
  {
   "cell_type": "markdown",
   "metadata": {},
   "source": [
    "# 5. Unique Paths Problem\n",
    "\n",
    "* Input: number of rows & number of columns \n",
    "* Output: calculates the number of possible “shortest” paths from the upper-leftmost square to the lower-rightmost square."
   ]
  },
  {
   "cell_type": "code",
   "execution_count": 47,
   "metadata": {},
   "outputs": [
    {
     "data": {
      "text/plain": [
       "6"
      ]
     },
     "execution_count": 47,
     "metadata": {},
     "output_type": "execute_result"
    }
   ],
   "source": [
    "def unique_paths(rows,cols):\n",
    "    if rows==1 or cols==1:\n",
    "        return 1\n",
    "    return unique_paths(rows-1,cols)+unique_paths(rows,cols-1)\n",
    "unique_paths(3,3)"
   ]
  }
 ],
 "metadata": {
  "kernelspec": {
   "display_name": ".venv",
   "language": "python",
   "name": "python3"
  },
  "language_info": {
   "codemirror_mode": {
    "name": "ipython",
    "version": 3
   },
   "file_extension": ".py",
   "mimetype": "text/x-python",
   "name": "python",
   "nbconvert_exporter": "python",
   "pygments_lexer": "ipython3",
   "version": "3.13.0"
  }
 },
 "nbformat": 4,
 "nbformat_minor": 2
}
