{
 "cells": [
  {
   "cell_type": "raw",
   "metadata": {
    "vscode": {
     "languageId": "raw"
    }
   },
   "source": [
    "---\n",
    "title: \"DSA 38: Binary Search Trees - Search [Part 3]\"\n",
    "author: \"Tony Phung\"\n",
    "date: \"2025-02-21\"\n",
    "categories: [data structures, algorithms]\n",
    "image: \"imgs/dsa-ch15-bst-search.gif\"\n",
    "toc: true\n",
    "descriptison: \"First Attempt\" \n",
    "---"
   ]
  },
  {
   "cell_type": "markdown",
   "metadata": {
    "vscode": {
     "languageId": "raw"
    }
   },
   "source": [
    "![](imgs/dsa-ch15-bst-search.gif)"
   ]
  },
  {
   "cell_type": "markdown",
   "metadata": {},
   "source": [
    "# 1. Search"
   ]
  },
  {
   "cell_type": "code",
   "execution_count": 2,
   "metadata": {},
   "outputs": [],
   "source": [
    "class TreeNode:\n",
    "    def __init__(self, data, left=None, right=None):\n",
    "        self.data = data\n",
    "        self.left = left\n",
    "        self.right = right"
   ]
  },
  {
   "cell_type": "markdown",
   "metadata": {},
   "source": [
    "# 2. Create `TreeNodes` & `BinarySearchTree` "
   ]
  },
  {
   "cell_type": "code",
   "execution_count": null,
   "metadata": {},
   "outputs": [],
   "source": [
    "# create node instances\n",
    "node15 = TreeNode(15, left=None, right=None)\n",
    "node35 = TreeNode(35, left=None, right=None)\n",
    "node65 = TreeNode(65, left=None, right=None)\n",
    "node85 = TreeNode(85, left=None, right=None)\n",
    "\n",
    "node25 = TreeNode(25, left=node15, right=node35)\n",
    "node75 = TreeNode(75, left=node65, right=node85)\n",
    "node50 = TreeNode(50, left=node25, right=node75)\n",
    "\n",
    "class TreeNode:\n",
    "    def __init__(self, data, left=None, right=None):\n",
    "        self.data = data\n",
    "        self.left = left\n",
    "        self.right = right\n",
    "    \n",
    "#       50\n",
    "#   25      75\n",
    "# 15  35  65  85  \n",
    "# create a basic tree\n",
    "\n",
    "# class BinarySearchTree:\n",
    "#     def __init__(self, root_node:TreeNode):\n",
    "#         self.root_node = root_node"
   ]
  },
  {
   "cell_type": "markdown",
   "metadata": {},
   "source": [
    "# 3. Search: Psuedo-Code\n",
    "\n",
    "Psuedo-Code: The algorithm for searching within a binary search tree is as follows:\n",
    "\n",
    "1. Designate a node to be the current node (usually root node)\n",
    "1. Inspect the value at the current node.\n",
    "1. If we’ve found the value we’re looking for, great!\n",
    "1. If the value we’re looking for is less than the current node, search for it in its left subtree.\n",
    "1. If the value we’re looking for is greater than the current node, search for it in its right subtree.\n",
    "1. Repeat Steps 1 through 5 until we find the value we’re searching for, or until we hit the bottom of the tree, in which case our value must not be in the tree.\n"
   ]
  },
  {
   "cell_type": "markdown",
   "metadata": {},
   "source": [
    "# 4. Create `Binary Tree`"
   ]
  },
  {
   "cell_type": "code",
   "execution_count": 35,
   "metadata": {},
   "outputs": [],
   "source": [
    "# create a basic tree\n",
    "#             50\n",
    "#      25           75\n",
    "#  10     33     56     89  \n",
    "# 4  11 30  40 52  61 82  95  \n",
    "\n",
    "# Level: L4\n",
    "node04 = TreeNode( 4, left=None, right=None)\n",
    "node11 = TreeNode(11, left=None, right=None)\n",
    "node30 = TreeNode(30, left=None, right=None)\n",
    "node40 = TreeNode(40, left=None, right=None)\n",
    "# Level: R4\n",
    "node52 = TreeNode(52, left=None, right=None)\n",
    "node61 = TreeNode(61, left=None, right=None)\n",
    "node82 = TreeNode(82, left=None, right=None)\n",
    "node95 = TreeNode(95, left=None, right=None)\n",
    "\n",
    "# Level: L3\n",
    "node10 = TreeNode(10, left=node04, right=node11)\n",
    "node33 = TreeNode(33, left=node30, right=node40)\n",
    "# Level: R3\n",
    "node56 = TreeNode(56, left=node52, right=node61)\n",
    "node89 = TreeNode(89, left=node82, right=node95)\n",
    "\n",
    "# Level: L2\n",
    "node25 = TreeNode(25, left=node10, right=node33)\n",
    "# Level: R2\n",
    "node75 = TreeNode(75, left=node56, right=node89)\n",
    "\n",
    "# Level: L1\n",
    "node50 = TreeNode(50, left=node25, right=node75)"
   ]
  },
  {
   "cell_type": "markdown",
   "metadata": {},
   "source": [
    "# 5. `Search` Node Function:"
   ]
  },
  {
   "cell_type": "code",
   "execution_count": 47,
   "metadata": {},
   "outputs": [],
   "source": [
    "def search_node_of_bst(root_node: TreeNode, target:int):\n",
    "    print(f\"Entered Fn: current_node[{root_node.data}], target[{target}]\")\n",
    "    current_node = root_node\n",
    "    \n",
    "    if not current_node.data:\n",
    "        print(f\"{target} NOT FOUND! node[{current_node.data}]\")\n",
    "        return False\n",
    "    \n",
    "    if current_node.data==target:\n",
    "        # print(locals().items())\n",
    "        print(f\"{target} FOUND! node[{current_node.data}]\")\n",
    "        return current_node.data\n",
    "    \n",
    "    if target < current_node.data:\n",
    "        try:\n",
    "            print(f\"target[{target}] < node[{current_node.data}]:\\n\\tgoing left[{current_node.left.data}])\")\n",
    "            current_node = current_node.left\n",
    "        except:\n",
    "            raise IndexError(f\"{target} NOT FOUND!\")\n",
    "    elif target > current_node.data:\n",
    "        try:\n",
    "            print(f\"node[{current_node.data}] < target[{target}]:\\n\\tgoing right[{current_node.right.data}]\")\n",
    "            current_node = current_node.right\n",
    "        except:\n",
    "            raise IndexError(f\"{target} NOT FOUND!\")\n",
    "    \n",
    "    return search_node_of_bst(current_node, target)\n"
   ]
  },
  {
   "cell_type": "markdown",
   "metadata": {},
   "source": [
    "# 6. Test 1: 61\n"
   ]
  },
  {
   "cell_type": "code",
   "execution_count": 48,
   "metadata": {},
   "outputs": [
    {
     "name": "stdout",
     "output_type": "stream",
     "text": [
      "Entered Fn: current_node[50], target[61]\n",
      "node[50] < target[61]:\n",
      "\tgoing right[75]\n",
      "Entered Fn: current_node[75], target[61]\n",
      "target[61] < node[75]:\n",
      "\tgoing left[56])\n",
      "Entered Fn: current_node[56], target[61]\n",
      "node[56] < target[61]:\n",
      "\tgoing right[61]\n",
      "Entered Fn: current_node[61], target[61]\n",
      "61 FOUND! node[61]\n"
     ]
    },
    {
     "data": {
      "text/plain": [
       "61"
      ]
     },
     "execution_count": 48,
     "metadata": {},
     "output_type": "execute_result"
    }
   ],
   "source": [
    "search_node_of_bst(root_node=node50, target=61)"
   ]
  },
  {
   "cell_type": "markdown",
   "metadata": {},
   "source": [
    "# 7. Test 2: `target 11`\n"
   ]
  },
  {
   "cell_type": "code",
   "execution_count": 49,
   "metadata": {},
   "outputs": [
    {
     "name": "stdout",
     "output_type": "stream",
     "text": [
      "Entered Fn: current_node[50], target[11]\n",
      "target[11] < node[50]:\n",
      "\tgoing left[25])\n",
      "Entered Fn: current_node[25], target[11]\n",
      "target[11] < node[25]:\n",
      "\tgoing left[10])\n",
      "Entered Fn: current_node[10], target[11]\n",
      "node[10] < target[11]:\n",
      "\tgoing right[11]\n",
      "Entered Fn: current_node[11], target[11]\n",
      "11 FOUND! node[11]\n"
     ]
    },
    {
     "data": {
      "text/plain": [
       "11"
      ]
     },
     "execution_count": 49,
     "metadata": {},
     "output_type": "execute_result"
    }
   ],
   "source": [
    "search_node_of_bst(root_node=node50, target=11)"
   ]
  },
  {
   "cell_type": "markdown",
   "metadata": {},
   "source": [
    "# 8. Test 3: `target 69`"
   ]
  },
  {
   "cell_type": "code",
   "execution_count": 50,
   "metadata": {},
   "outputs": [
    {
     "name": "stdout",
     "output_type": "stream",
     "text": [
      "Entered Fn: current_node[50], target[69]\n",
      "node[50] < target[69]:\n",
      "\tgoing right[75]\n",
      "Entered Fn: current_node[75], target[69]\n",
      "target[69] < node[75]:\n",
      "\tgoing left[56])\n",
      "Entered Fn: current_node[56], target[69]\n",
      "node[56] < target[69]:\n",
      "\tgoing right[61]\n",
      "Entered Fn: current_node[61], target[69]\n"
     ]
    },
    {
     "ename": "IndexError",
     "evalue": "69 NOT FOUND!",
     "output_type": "error",
     "traceback": [
      "\u001b[0;31m---------------------------------------------------------------------------\u001b[0m",
      "\u001b[0;31mAttributeError\u001b[0m                            Traceback (most recent call last)",
      "Cell \u001b[0;32mIn[47], line 22\u001b[0m, in \u001b[0;36msearch_node_of_bst\u001b[0;34m(root_node, target)\u001b[0m\n\u001b[1;32m     21\u001b[0m \u001b[38;5;28;01mtry\u001b[39;00m:\n\u001b[0;32m---> 22\u001b[0m     \u001b[38;5;28mprint\u001b[39m(\u001b[38;5;124mf\u001b[39m\u001b[38;5;124m\"\u001b[39m\u001b[38;5;124mnode[\u001b[39m\u001b[38;5;132;01m{\u001b[39;00mcurrent_node\u001b[38;5;241m.\u001b[39mdata\u001b[38;5;132;01m}\u001b[39;00m\u001b[38;5;124m] < target[\u001b[39m\u001b[38;5;132;01m{\u001b[39;00mtarget\u001b[38;5;132;01m}\u001b[39;00m\u001b[38;5;124m]:\u001b[39m\u001b[38;5;130;01m\\n\u001b[39;00m\u001b[38;5;130;01m\\t\u001b[39;00m\u001b[38;5;124mgoing right[\u001b[39m\u001b[38;5;132;01m{\u001b[39;00m\u001b[43mcurrent_node\u001b[49m\u001b[38;5;241;43m.\u001b[39;49m\u001b[43mright\u001b[49m\u001b[38;5;241;43m.\u001b[39;49m\u001b[43mdata\u001b[49m\u001b[38;5;132;01m}\u001b[39;00m\u001b[38;5;124m]\u001b[39m\u001b[38;5;124m\"\u001b[39m)\n\u001b[1;32m     23\u001b[0m     current_node \u001b[38;5;241m=\u001b[39m current_node\u001b[38;5;241m.\u001b[39mright\n",
      "\u001b[0;31mAttributeError\u001b[0m: 'NoneType' object has no attribute 'data'",
      "\nDuring handling of the above exception, another exception occurred:\n",
      "\u001b[0;31mIndexError\u001b[0m                                Traceback (most recent call last)",
      "Cell \u001b[0;32mIn[50], line 1\u001b[0m\n\u001b[0;32m----> 1\u001b[0m \u001b[43msearch_node_of_bst\u001b[49m\u001b[43m(\u001b[49m\u001b[43mroot_node\u001b[49m\u001b[38;5;241;43m=\u001b[39;49m\u001b[43mnode50\u001b[49m\u001b[43m,\u001b[49m\u001b[43m \u001b[49m\u001b[43mtarget\u001b[49m\u001b[38;5;241;43m=\u001b[39;49m\u001b[38;5;241;43m69\u001b[39;49m\u001b[43m)\u001b[49m\n",
      "Cell \u001b[0;32mIn[47], line 27\u001b[0m, in \u001b[0;36msearch_node_of_bst\u001b[0;34m(root_node, target)\u001b[0m\n\u001b[1;32m     24\u001b[0m     \u001b[38;5;28;01mexcept\u001b[39;00m:\n\u001b[1;32m     25\u001b[0m         \u001b[38;5;28;01mraise\u001b[39;00m \u001b[38;5;167;01mIndexError\u001b[39;00m(\u001b[38;5;124mf\u001b[39m\u001b[38;5;124m\"\u001b[39m\u001b[38;5;132;01m{\u001b[39;00mtarget\u001b[38;5;132;01m}\u001b[39;00m\u001b[38;5;124m NOT FOUND!\u001b[39m\u001b[38;5;124m\"\u001b[39m)\n\u001b[0;32m---> 27\u001b[0m \u001b[38;5;28;01mreturn\u001b[39;00m \u001b[43msearch_node_of_bst\u001b[49m\u001b[43m(\u001b[49m\u001b[43mcurrent_node\u001b[49m\u001b[43m,\u001b[49m\u001b[43m \u001b[49m\u001b[43mtarget\u001b[49m\u001b[43m)\u001b[49m\n",
      "Cell \u001b[0;32mIn[47], line 27\u001b[0m, in \u001b[0;36msearch_node_of_bst\u001b[0;34m(root_node, target)\u001b[0m\n\u001b[1;32m     24\u001b[0m     \u001b[38;5;28;01mexcept\u001b[39;00m:\n\u001b[1;32m     25\u001b[0m         \u001b[38;5;28;01mraise\u001b[39;00m \u001b[38;5;167;01mIndexError\u001b[39;00m(\u001b[38;5;124mf\u001b[39m\u001b[38;5;124m\"\u001b[39m\u001b[38;5;132;01m{\u001b[39;00mtarget\u001b[38;5;132;01m}\u001b[39;00m\u001b[38;5;124m NOT FOUND!\u001b[39m\u001b[38;5;124m\"\u001b[39m)\n\u001b[0;32m---> 27\u001b[0m \u001b[38;5;28;01mreturn\u001b[39;00m \u001b[43msearch_node_of_bst\u001b[49m\u001b[43m(\u001b[49m\u001b[43mcurrent_node\u001b[49m\u001b[43m,\u001b[49m\u001b[43m \u001b[49m\u001b[43mtarget\u001b[49m\u001b[43m)\u001b[49m\n",
      "Cell \u001b[0;32mIn[47], line 27\u001b[0m, in \u001b[0;36msearch_node_of_bst\u001b[0;34m(root_node, target)\u001b[0m\n\u001b[1;32m     24\u001b[0m     \u001b[38;5;28;01mexcept\u001b[39;00m:\n\u001b[1;32m     25\u001b[0m         \u001b[38;5;28;01mraise\u001b[39;00m \u001b[38;5;167;01mIndexError\u001b[39;00m(\u001b[38;5;124mf\u001b[39m\u001b[38;5;124m\"\u001b[39m\u001b[38;5;132;01m{\u001b[39;00mtarget\u001b[38;5;132;01m}\u001b[39;00m\u001b[38;5;124m NOT FOUND!\u001b[39m\u001b[38;5;124m\"\u001b[39m)\n\u001b[0;32m---> 27\u001b[0m \u001b[38;5;28;01mreturn\u001b[39;00m \u001b[43msearch_node_of_bst\u001b[49m\u001b[43m(\u001b[49m\u001b[43mcurrent_node\u001b[49m\u001b[43m,\u001b[49m\u001b[43m \u001b[49m\u001b[43mtarget\u001b[49m\u001b[43m)\u001b[49m\n",
      "Cell \u001b[0;32mIn[47], line 25\u001b[0m, in \u001b[0;36msearch_node_of_bst\u001b[0;34m(root_node, target)\u001b[0m\n\u001b[1;32m     23\u001b[0m         current_node \u001b[38;5;241m=\u001b[39m current_node\u001b[38;5;241m.\u001b[39mright\n\u001b[1;32m     24\u001b[0m     \u001b[38;5;28;01mexcept\u001b[39;00m:\n\u001b[0;32m---> 25\u001b[0m         \u001b[38;5;28;01mraise\u001b[39;00m \u001b[38;5;167;01mIndexError\u001b[39;00m(\u001b[38;5;124mf\u001b[39m\u001b[38;5;124m\"\u001b[39m\u001b[38;5;132;01m{\u001b[39;00mtarget\u001b[38;5;132;01m}\u001b[39;00m\u001b[38;5;124m NOT FOUND!\u001b[39m\u001b[38;5;124m\"\u001b[39m)\n\u001b[1;32m     27\u001b[0m \u001b[38;5;28;01mreturn\u001b[39;00m search_node_of_bst(current_node, target)\n",
      "\u001b[0;31mIndexError\u001b[0m: 69 NOT FOUND!"
     ]
    }
   ],
   "source": [
    "search_node_of_bst(root_node=node50, target=69)"
   ]
  }
 ],
 "metadata": {
  "kernelspec": {
   "display_name": ".venv",
   "language": "python",
   "name": "python3"
  },
  "language_info": {
   "codemirror_mode": {
    "name": "ipython",
    "version": 3
   },
   "file_extension": ".py",
   "mimetype": "text/x-python",
   "name": "python",
   "nbconvert_exporter": "python",
   "pygments_lexer": "ipython3",
   "version": "3.13.0"
  }
 },
 "nbformat": 4,
 "nbformat_minor": 2
}
