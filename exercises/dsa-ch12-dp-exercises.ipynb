{
 "cells": [
  {
   "cell_type": "raw",
   "metadata": {
    "vscode": {
     "languageId": "raw"
    }
   },
   "source": [
    "---\n",
    "title: \"DSA: Dynamic Programming - Exercises\"\n",
    "author: \"Tony Phung\"\n",
    "date: \"2025-02-12\"\n",
    "categories: [data structures, algorithms]\n",
    "image: \"imgs/dsa-ch12-golomb.png\"\n",
    "toc: true\n",
    "description: \"Addition, Golomb & Unique Path Questions\"\n",
    "---"
   ]
  },
  {
   "cell_type": "markdown",
   "metadata": {},
   "source": [
    "![](imgs/dsa-ch12-golomb.png)"
   ]
  },
  {
   "cell_type": "markdown",
   "metadata": {},
   "source": [
    "# 1. Add Items To 100"
   ]
  },
  {
   "cell_type": "code",
   "execution_count": 6,
   "metadata": {},
   "outputs": [
    {
     "name": "stdout",
     "output_type": "stream",
     "text": [
      "fn called: [1, 90, 2, 80, 3]\n",
      "fn called: [90, 2, 80, 3]\n",
      "fn called: [2, 80, 3]\n",
      "fn called: [80, 3]\n",
      "fn called: [3]\n",
      "fn called: []\n",
      "fn called: []\n",
      "fn called: [3]\n",
      "fn called: []\n",
      "fn called: []\n",
      "fn called: [80, 3]\n",
      "fn called: [3]\n",
      "fn called: []\n",
      "fn called: []\n",
      "fn called: [3]\n",
      "fn called: []\n",
      "fn called: []\n",
      "fn called: [2, 80, 3]\n",
      "fn called: [80, 3]\n",
      "fn called: [3]\n",
      "fn called: []\n",
      "fn called: []\n",
      "fn called: [3]\n",
      "fn called: []\n",
      "fn called: []\n",
      "fn called: [80, 3]\n",
      "fn called: [3]\n",
      "fn called: []\n",
      "fn called: []\n",
      "fn called: [3]\n",
      "fn called: []\n",
      "fn called: []\n",
      "fn called: [90, 2, 80, 3]\n",
      "fn called: [2, 80, 3]\n",
      "fn called: [80, 3]\n",
      "fn called: [3]\n",
      "fn called: []\n",
      "fn called: []\n",
      "fn called: [3]\n",
      "fn called: []\n",
      "fn called: []\n",
      "fn called: [80, 3]\n",
      "fn called: [3]\n",
      "fn called: []\n",
      "fn called: []\n",
      "fn called: [3]\n",
      "fn called: []\n",
      "fn called: []\n",
      "fn called: [2, 80, 3]\n",
      "fn called: [80, 3]\n",
      "fn called: [3]\n",
      "fn called: []\n",
      "fn called: []\n",
      "fn called: [3]\n",
      "fn called: []\n",
      "fn called: []\n",
      "fn called: [80, 3]\n",
      "fn called: [3]\n",
      "fn called: []\n",
      "fn called: []\n",
      "fn called: [3]\n",
      "fn called: []\n",
      "fn called: []\n"
     ]
    },
    {
     "data": {
      "text/plain": [
       "86"
      ]
     },
     "execution_count": 6,
     "metadata": {},
     "output_type": "execute_result"
    }
   ],
   "source": [
    "def add_until_100(array):\n",
    "    print(f\"fn called: {array}\")\n",
    "    if not array:\n",
    "        return 0\n",
    "    if array[0] + add_until_100(array[1:]) > 100:\n",
    "        return add_until_100(array[1:])\n",
    "    else:\n",
    "        return array[0] + add_until_100(array[1:])\n",
    "\n",
    "add_until_100([1,90,2,80,3])"
   ]
  },
  {
   "cell_type": "markdown",
   "metadata": {},
   "source": [
    "# 1.1 Add Items To 100: Tony's Solution"
   ]
  },
  {
   "cell_type": "code",
   "execution_count": 8,
   "metadata": {},
   "outputs": [
    {
     "name": "stdout",
     "output_type": "stream",
     "text": [
      "fn called: [1, 90, 2, 80, 3]\n",
      "fn called: [90, 2, 80, 3]\n",
      "fn called: [2, 80, 3]\n",
      "fn called: [80, 3]\n",
      "fn called: [3]\n",
      "fn called: []\n",
      "fn called: [2, 80, 3]\n",
      "fn called: [80, 3]\n",
      "fn called: [3]\n",
      "fn called: []\n"
     ]
    },
    {
     "data": {
      "text/plain": [
       "86"
      ]
     },
     "execution_count": 8,
     "metadata": {},
     "output_type": "execute_result"
    }
   ],
   "source": [
    "def add_until_100(array):\n",
    "    print(f\"fn called: {array}\")\n",
    "    if not array:\n",
    "        return 0\n",
    "    \n",
    "    curr_sum = add_until_100(array[1:])\n",
    "    \n",
    "    if array[0] + curr_sum > 100:\n",
    "        return add_until_100(array[1:])\n",
    "    else:\n",
    "        return array[0] + curr_sum\n",
    "\n",
    "add_until_100([1,90,2,80,3])"
   ]
  },
  {
   "cell_type": "markdown",
   "metadata": {},
   "source": [
    "# 2. `golomb` Function"
   ]
  },
  {
   "cell_type": "code",
   "execution_count": null,
   "metadata": {},
   "outputs": [
    {
     "name": "stdout",
     "output_type": "stream",
     "text": [
      "golumn called: 4\n",
      "golumn called: 3\n",
      "golumn called: 2\n",
      "golumn called: 1\n",
      "golumn called: 1\n",
      "golumn called: 1\n",
      "golumn called: 2\n",
      "golumn called: 1\n",
      "golumn called: 1\n",
      "golumn called: 1\n",
      "golumn called: 1\n",
      "golumn called: 2\n",
      "golumn called: 1\n",
      "golumn called: 1\n",
      "golumn called: 1\n",
      "golumn called: 2\n",
      "golumn called: 1\n",
      "golumn called: 1\n",
      "golumn called: 1\n"
     ]
    },
    {
     "data": {
      "text/plain": [
       "3"
      ]
     },
     "execution_count": 14,
     "metadata": {},
     "output_type": "execute_result"
    }
   ],
   "source": [
    "def golomb(n):\n",
    "    print(f\"golumn called: {n}\")\n",
    "    if n == 1:\n",
    "        return 1\n",
    "\n",
    "    return 1 + golomb(n - golomb(golomb(n - 1)))\n",
    "\n",
    "golomb(4)"
   ]
  },
  {
   "cell_type": "markdown",
   "metadata": {},
   "source": [
    "# 2.1 `golomb` Function: Tony's Solution\n",
    "\n",
    "I originally forgot how to create and apply the memoization with the python dictionary so I had to write `fib()` first, seen in `2.1.1`."
   ]
  },
  {
   "cell_type": "code",
   "execution_count": 22,
   "metadata": {},
   "outputs": [
    {
     "name": "stdout",
     "output_type": "stream",
     "text": [
      "golumn called: 4\n",
      "golumn called: 3\n",
      "golumn called: 2\n",
      "golumn called: 1\n",
      "golumn called: 1\n",
      "golumn called: 1\n",
      "golumn called: 2\n",
      "golumn called: 1\n",
      "golumn called: 2\n",
      "golumn called: 2\n"
     ]
    },
    {
     "data": {
      "text/plain": [
       "3"
      ]
     },
     "execution_count": 22,
     "metadata": {},
     "output_type": "execute_result"
    }
   ],
   "source": [
    "def golomb(n, memo={}):\n",
    "    print(f\"golumn called: {n}\")\n",
    "    if n == 1:\n",
    "        return 1\n",
    "    \n",
    "    if n not in memo:\n",
    "        memo[n]=1 + golomb(n - golomb(golomb(n - 1)))\n",
    "    \n",
    "    return memo[n]\n",
    "\n",
    "golomb(4)"
   ]
  },
  {
   "cell_type": "markdown",
   "metadata": {},
   "source": [
    "## 2.1.1 `fib()`"
   ]
  },
  {
   "cell_type": "code",
   "execution_count": null,
   "metadata": {},
   "outputs": [
    {
     "data": {
      "text/plain": [
       "21"
      ]
     },
     "execution_count": 21,
     "metadata": {},
     "output_type": "execute_result"
    }
   ],
   "source": [
    "def fib(n, memo={}):\n",
    "    if n==1 or n==0:\n",
    "        return 1\n",
    "    \n",
    "    if n not in memo:\n",
    "        memo[n] = fib(n-2) + fib(n-1)\n",
    "    \n",
    "    return memo[n] \n",
    "\n",
    "fib(7)"
   ]
  },
  {
   "cell_type": "markdown",
   "metadata": {},
   "source": [
    "# 3. Unique Paths"
   ]
  },
  {
   "cell_type": "code",
   "execution_count": 26,
   "metadata": {},
   "outputs": [
    {
     "name": "stdout",
     "output_type": "stream",
     "text": [
      "unique_paths ran: (3, 4)\n",
      "unique_paths ran: (2, 4)\n",
      "unique_paths ran: (1, 4)\n",
      "unique_paths ran: (2, 3)\n",
      "unique_paths ran: (1, 3)\n",
      "unique_paths ran: (2, 2)\n",
      "unique_paths ran: (1, 2)\n",
      "unique_paths ran: (2, 1)\n",
      "unique_paths ran: (3, 3)\n",
      "unique_paths ran: (2, 3)\n",
      "unique_paths ran: (1, 3)\n",
      "unique_paths ran: (2, 2)\n",
      "unique_paths ran: (1, 2)\n",
      "unique_paths ran: (2, 1)\n",
      "unique_paths ran: (3, 2)\n",
      "unique_paths ran: (2, 2)\n",
      "unique_paths ran: (1, 2)\n",
      "unique_paths ran: (2, 1)\n",
      "unique_paths ran: (3, 1)\n"
     ]
    },
    {
     "data": {
      "text/plain": [
       "10"
      ]
     },
     "execution_count": 26,
     "metadata": {},
     "output_type": "execute_result"
    }
   ],
   "source": [
    "def unique_paths(rows, columns):\n",
    "    print(f\"unique_paths ran: {(rows,columns)}\")\n",
    "    if rows == 1 or columns == 1:\n",
    "        return 1\n",
    "\n",
    "    return unique_paths(rows - 1, columns) + unique_paths(rows, columns - 1)\n",
    "\n",
    "unique_paths(3,4)"
   ]
  },
  {
   "cell_type": "markdown",
   "metadata": {},
   "source": [
    "# 3.1 Unique Paths: Tony's Solution\n",
    "\n",
    "Use **unique string id**: combining `rows` and `columns` as the key to `memo` dictionary.\n",
    "\n",
    "* For example `R1C2` for row 1 column 2"
   ]
  },
  {
   "cell_type": "code",
   "execution_count": 33,
   "metadata": {},
   "outputs": [
    {
     "name": "stdout",
     "output_type": "stream",
     "text": [
      "unique_paths ran: (3, 4)\n",
      "unique_paths ran: (2, 4)\n",
      "unique_paths ran: (1, 4)\n",
      "unique_paths ran: (2, 3)\n",
      "unique_paths ran: (1, 3)\n",
      "unique_paths ran: (2, 2)\n",
      "unique_paths ran: (1, 2)\n",
      "unique_paths ran: (2, 1)\n",
      "unique_paths ran: (3, 3)\n",
      "unique_paths ran: (2, 3)\n",
      "unique_paths ran: (3, 2)\n",
      "unique_paths ran: (2, 2)\n",
      "unique_paths ran: (3, 1)\n"
     ]
    },
    {
     "data": {
      "text/plain": [
       "10"
      ]
     },
     "execution_count": 33,
     "metadata": {},
     "output_type": "execute_result"
    }
   ],
   "source": [
    "def unique_paths(rows, columns, memo={}):\n",
    "    print(f\"unique_paths ran: {(rows,columns)}\")\n",
    "    if rows == 1 or columns == 1:\n",
    "        return 1\n",
    "    uid_rc = \"R\"+str(rows)+\"C\"+str(columns)\n",
    "    if uid_rc not in memo:\n",
    "        memo[uid_rc] = unique_paths(rows - 1, columns) + unique_paths(rows, columns - 1)\n",
    "    return memo[uid_rc]\n",
    "\n",
    "unique_paths(3,4)"
   ]
  },
  {
   "cell_type": "markdown",
   "metadata": {},
   "source": [
    "# 3.2 Unique Paths: Tony's Solution 2\n",
    "\n",
    "Use **tuple**: combining `rows` and `columns` as the key to `memo` dictionary.\n",
    "\n",
    "* For example `(1,2)` for row 1 column 2"
   ]
  },
  {
   "cell_type": "code",
   "execution_count": 37,
   "metadata": {},
   "outputs": [
    {
     "name": "stdout",
     "output_type": "stream",
     "text": [
      "unique_paths ran: (3, 4)\n",
      "unique_paths ran: (2, 4)\n",
      "unique_paths ran: (1, 4)\n",
      "unique_paths ran: (2, 3)\n",
      "unique_paths ran: (1, 3)\n",
      "unique_paths ran: (2, 2)\n",
      "unique_paths ran: (1, 2)\n",
      "unique_paths ran: (2, 1)\n",
      "unique_paths ran: (3, 3)\n",
      "unique_paths ran: (2, 3)\n",
      "unique_paths ran: (3, 2)\n",
      "unique_paths ran: (2, 2)\n",
      "unique_paths ran: (3, 1)\n"
     ]
    },
    {
     "data": {
      "text/plain": [
       "10"
      ]
     },
     "execution_count": 37,
     "metadata": {},
     "output_type": "execute_result"
    }
   ],
   "source": [
    "def unique_paths(rows, columns, memo={}):\n",
    "    print(f\"unique_paths ran: {(rows,columns)}\")\n",
    "    if rows == 1 or columns == 1:\n",
    "        return 1\n",
    "    if (rows,columns) not in memo:\n",
    "        memo[(rows,columns)] = unique_paths(rows - 1, columns) + unique_paths(rows, columns - 1)\n",
    "    return memo[(rows,columns)]\n",
    "\n",
    "unique_paths(3,4)"
   ]
  }
 ],
 "metadata": {
  "kernelspec": {
   "display_name": ".venv",
   "language": "python",
   "name": "python3"
  },
  "language_info": {
   "codemirror_mode": {
    "name": "ipython",
    "version": 3
   },
   "file_extension": ".py",
   "mimetype": "text/x-python",
   "name": "python",
   "nbconvert_exporter": "python",
   "pygments_lexer": "ipython3",
   "version": "3.13.0"
  }
 },
 "nbformat": 4,
 "nbformat_minor": 2
}
