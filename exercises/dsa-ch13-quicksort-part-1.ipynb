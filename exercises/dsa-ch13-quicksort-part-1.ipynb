{
 "cells": [
  {
   "cell_type": "raw",
   "metadata": {
    "vscode": {
     "languageId": "raw"
    }
   },
   "source": [
    "---\n",
    "title: \"DSA: Quicksort\"\n",
    "author: \"Tony Phung\"\n",
    "date: \"2025-02-13\"\n",
    "categories: [data structures, algorithms]\n",
    "image: \"imgs/dsa-ch13-quick.png\"\n",
    "toc: true\n",
    "description: \"Implementation with Partitioning\"\n",
    "---"
   ]
  },
  {
   "cell_type": "markdown",
   "metadata": {},
   "source": [
    "![](imgs/dsa-ch13-quick.png)"
   ]
  },
  {
   "cell_type": "code",
   "execution_count": 36,
   "metadata": {},
   "outputs": [
    {
     "name": "stdout",
     "output_type": "stream",
     "text": [
      "[0, 5, 2, 1, 6, 3] 0 4 3\n",
      "[0, 1, 2, 3, 6, 5]\n"
     ]
    },
    {
     "data": {
      "text/plain": [
       "3"
      ]
     },
     "execution_count": 36,
     "metadata": {},
     "output_type": "execute_result"
    }
   ],
   "source": [
    "def partition(arr, l, r):\n",
    "    p=r\n",
    "    pivot=arr[p]\n",
    "    r-=1\n",
    "\n",
    "    print(arr, l,r,pivot)\n",
    "    \n",
    "    while True:\n",
    "        while arr[l]<pivot:\n",
    "            l+=1\n",
    "        while arr[r]>pivot:\n",
    "            r-=1\n",
    "        if l>=r:\n",
    "            break\n",
    "        else:\n",
    "            arr[l],arr[r]=arr[r],arr[l]    \n",
    "            l+=1\n",
    "    arr[l],arr[p]=arr[p],arr[l]    \n",
    "    print(arr)\n",
    "    return l\n",
    "\n",
    "arr = [int(char) for char in \"052163\"]\n",
    "\n",
    "partition(arr,0,len(arr)-1)\n"
   ]
  },
  {
   "cell_type": "code",
   "execution_count": 37,
   "metadata": {},
   "outputs": [],
   "source": [
    "def quick_sort(arr, l, r):\n",
    "    if r-l<=0:\n",
    "        return \n",
    "    p = partition(arr, l,r)\n",
    "    quick_sort(arr, l, p-1)\n",
    "    quick_sort(arr, p+1, r)"
   ]
  },
  {
   "cell_type": "code",
   "execution_count": 38,
   "metadata": {},
   "outputs": [
    {
     "name": "stdout",
     "output_type": "stream",
     "text": [
      "[0, 5, 2, 1, 6, 3] 0 4 3\n",
      "[0, 1, 2, 3, 6, 5]\n",
      "[0, 1, 2, 3, 6, 5] 0 1 2\n",
      "[0, 1, 2, 3, 6, 5]\n",
      "[0, 1, 2, 3, 6, 5] 0 0 1\n",
      "[0, 1, 2, 3, 6, 5]\n",
      "[0, 1, 2, 3, 6, 5] 4 4 5\n",
      "[0, 1, 2, 3, 5, 6]\n"
     ]
    }
   ],
   "source": [
    "arr = [int(char) for char in \"052163\"]\n",
    "quick_sort(arr,0,len(arr)-1)\n"
   ]
  },
  {
   "cell_type": "code",
   "execution_count": 39,
   "metadata": {},
   "outputs": [],
   "source": [
    "class SortableArray():\n",
    "    def __init__(self,array):\n",
    "        self.array=array\n",
    "        \n",
    "    def partition(self, l, r):\n",
    "        p=r\n",
    "        pivot=self.array[p]\n",
    "        r-=1\n",
    "\n",
    "        print(self.array, l,r,pivot)\n",
    "        \n",
    "        while True:\n",
    "            while self.array[l]<pivot:\n",
    "                l+=1\n",
    "            while self.array[r]>pivot:\n",
    "                r-=1\n",
    "            if l>=r:\n",
    "                break\n",
    "            else:\n",
    "                self.array[l],self.array[r]=self.array[r],self.array[l]    \n",
    "                l+=1\n",
    "        self.array[l],self.array[p]=self.array[p],self.array[l]    \n",
    "        print(self.array)\n",
    "        return l"
   ]
  },
  {
   "cell_type": "code",
   "execution_count": 40,
   "metadata": {},
   "outputs": [
    {
     "name": "stdout",
     "output_type": "stream",
     "text": [
      "[0, 5, 2, 1, 6, 3] 0 4 3\n",
      "[0, 1, 2, 3, 6, 5]\n"
     ]
    },
    {
     "data": {
      "text/plain": [
       "[0, 1, 2, 3, 6, 5]"
      ]
     },
     "execution_count": 40,
     "metadata": {},
     "output_type": "execute_result"
    }
   ],
   "source": [
    "arr = [int(char) for char in \"052163\"]\n",
    "my_array = SortableArray(arr)\n",
    "my_array.array\n",
    "my_array.partition(l=0,r=len(my_array.array)-1)\n",
    "my_array.array"
   ]
  },
  {
   "cell_type": "code",
   "execution_count": 41,
   "metadata": {},
   "outputs": [],
   "source": [
    "class SortableArray():\n",
    "    def __init__(self,array):\n",
    "        self.array=array\n",
    "        \n",
    "    def partition(self, l, r):\n",
    "        p=r\n",
    "        pivot=self.array[p]\n",
    "        r-=1\n",
    "\n",
    "        print(self.array, l,r,pivot)\n",
    "        \n",
    "        while True:\n",
    "            while self.array[l]<pivot:\n",
    "                l+=1\n",
    "            while self.array[r]>pivot:\n",
    "                r-=1\n",
    "            if l>=r:\n",
    "                break\n",
    "            else:\n",
    "                self.array[l],self.array[r]=self.array[r],self.array[l]    \n",
    "                l+=1\n",
    "        self.array[l],self.array[p]=self.array[p],self.array[l]    \n",
    "        print(self.array)\n",
    "        return l\n",
    "\n",
    "    def quick_sort(self, l, r):\n",
    "        if r-l<=0:\n",
    "            return \n",
    "        p = partition(self.array, l,r)\n",
    "        quick_sort(self.array, l, p-1)\n",
    "        quick_sort(self.array, p+1, r)"
   ]
  },
  {
   "cell_type": "code",
   "execution_count": 42,
   "metadata": {},
   "outputs": [
    {
     "name": "stdout",
     "output_type": "stream",
     "text": [
      "[0, 5, 2, 1, 6, 3] 0 4 3\n",
      "[0, 1, 2, 3, 6, 5]\n",
      "[0, 1, 2, 3, 6, 5] 0 1 2\n",
      "[0, 1, 2, 3, 6, 5]\n",
      "[0, 1, 2, 3, 6, 5] 0 0 1\n",
      "[0, 1, 2, 3, 6, 5]\n",
      "[0, 1, 2, 3, 6, 5] 4 4 5\n",
      "[0, 1, 2, 3, 5, 6]\n"
     ]
    },
    {
     "data": {
      "text/plain": [
       "[0, 1, 2, 3, 5, 6]"
      ]
     },
     "execution_count": 42,
     "metadata": {},
     "output_type": "execute_result"
    }
   ],
   "source": [
    "arr = [int(char) for char in \"052163\"]\n",
    "my_array = SortableArray(arr)\n",
    "my_array.array\n",
    "# my_array.partition(l=0,r=len(my_array.array)-1)\n",
    "my_array.quick_sort(l=0,r=len(my_array.array)-1)\n",
    "my_array.array"
   ]
  }
 ],
 "metadata": {
  "kernelspec": {
   "display_name": ".venv",
   "language": "python",
   "name": "python3"
  },
  "language_info": {
   "codemirror_mode": {
    "name": "ipython",
    "version": 3
   },
   "file_extension": ".py",
   "mimetype": "text/x-python",
   "name": "python",
   "nbconvert_exporter": "python",
   "pygments_lexer": "ipython3",
   "version": "3.13.0"
  }
 },
 "nbformat": 4,
 "nbformat_minor": 2
}
