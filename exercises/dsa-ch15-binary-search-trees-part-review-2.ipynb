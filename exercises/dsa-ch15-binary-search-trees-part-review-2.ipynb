{
 "cells": [
  {
   "cell_type": "raw",
   "metadata": {
    "vscode": {
     "languageId": "raw"
    }
   },
   "source": [
    "---\n",
    "`title: \"DSA: Binary Search Trees - Review\"\n",
    "author: \"Tony Phung\"\n",
    "date: \"2025-03-06\"\n",
    "categories: [data structures, algorithms]\n",
    "image: \"imgs/tba.png\"\n",
    "toc: true\n",
    "description: \"A Thoroughly Commented Scenario-Style Coding of BST's `delete_node` Function\" \n",
    "---"
   ]
  },
  {
   "cell_type": "markdown",
   "metadata": {},
   "source": [
    "# 1. `delete_node` Again! (ETA: A very long time)"
   ]
  },
  {
   "cell_type": "markdown",
   "metadata": {},
   "source": [
    "# 2. `TreeNode()` class"
   ]
  },
  {
   "cell_type": "code",
   "execution_count": 1,
   "metadata": {},
   "outputs": [],
   "source": [
    "class TreeNode:\n",
    "    def __init__(self, data,left=None,right=None):\n",
    "        self.data=data\n",
    "        self.left=left\n",
    "        self.right=right"
   ]
  },
  {
   "cell_type": "markdown",
   "metadata": {},
   "source": [
    "# 3. `insert_node()` & `insert_node_list()` methods"
   ]
  },
  {
   "cell_type": "markdown",
   "metadata": {},
   "source": [
    "# 3.1 Recursive Approaches\n"
   ]
  },
  {
   "cell_type": "code",
   "execution_count": 2,
   "metadata": {},
   "outputs": [],
   "source": [
    "def insert_node_rec(root_node: TreeNode, target: int):\n",
    "    current_node = root_node\n",
    "    if target == current_node.data:\n",
    "        print(f\"c[{current_node.data}]==t[{target}]: Cant insert duplicates!!\")    \n",
    "        return\n",
    "    elif target < current_node.data: #go left\n",
    "        if current_node.left:\n",
    "            print(f\"c[{current_node.data}]<-t[{target}]: Go left...\")    \n",
    "            current_node = current_node.left\n",
    "            insert_node_rec(current_node, target)\n",
    "        else:\n",
    "            print(f\"c[{current_node.data}]<-t[{target}]: c[{current_node.data}] has not left-child, insert t[{target}]\")    \n",
    "            current_node.left = TreeNode(target)\n",
    "            return current_node.left\n",
    "    else: \n",
    "        if current_node.right:\n",
    "            print(f\"c[{current_node.data}]->t[{target}]: Go right...\")    \n",
    "            current_node = current_node.right\n",
    "            insert_node_rec(current_node, target)\n",
    "        else:\n",
    "            print(f\"c[{current_node.data}]->t[{target}]: c[{current_node.data}] has not right-child, insert t[{target}]\")    \n",
    "            current_node.right = TreeNode(target)\n",
    "            return current_node.right\n",
    "        \n"
   ]
  },
  {
   "cell_type": "code",
   "execution_count": 3,
   "metadata": {},
   "outputs": [],
   "source": [
    "def insert_node_rec_clean(root_node: TreeNode, target: int):\n",
    "    current_node = root_node\n",
    "    if target == current_node.data:\n",
    "        return\n",
    "    elif target < current_node.data: #go left\n",
    "        if current_node.left:\n",
    "            current_node = current_node.left\n",
    "            insert_node_rec_clean(current_node, target)\n",
    "        else:\n",
    "            current_node.left = TreeNode(target)\n",
    "            return current_node.left\n",
    "    else: \n",
    "        if current_node.right:\n",
    "            current_node = current_node.right\n",
    "            insert_node_rec_clean(current_node, target)\n",
    "        else:\n",
    "            current_node.right = TreeNode(target)\n",
    "            return current_node.right            "
   ]
  },
  {
   "cell_type": "markdown",
   "metadata": {},
   "source": [
    "# 3.2 Iterative Approaches"
   ]
  },
  {
   "cell_type": "code",
   "execution_count": 4,
   "metadata": {},
   "outputs": [],
   "source": [
    "def insert_node_itr(root_node: TreeNode, target: int):\n",
    "    current_node = root_node\n",
    "    while current_node:\n",
    "        #     50\n",
    "        # 25     75\n",
    "        #  [30] \n",
    "        if target == current_node.data:\n",
    "            print(f\"c[{current_node.data}]==t[{target}]: Cant insert duplicates!!\")    \n",
    "            return\n",
    "        elif target < current_node.data: #go left 50, 25\n",
    "            if current_node.left: # 25\n",
    "                print(f\"c[{current_node.data}]<-t[{target}]: Go left...\")    \n",
    "                current_node = current_node.left # 50->25\n",
    "                # insert_node(current_node, target)\n",
    "            else:\n",
    "                print(f\"c[{current_node.data}]<-t[{target}]: c[{current_node.data}] has not left-child, insert t[{target}]\")    \n",
    "                current_node.left = TreeNode(target)\n",
    "                return current_node.left\n",
    "        else: \n",
    "            if current_node.right: \n",
    "                print(f\"c[{current_node.data}]->t[{target}]: Go right...\")    \n",
    "                current_node = current_node.right\n",
    "                # insert_node(current_node, target)\n",
    "            else:\n",
    "                print(f\"c[{current_node.data}]->t[{target}]: c[{current_node.data}] has not right-child, insert t[{target}]\")    \n",
    "                current_node.right = TreeNode(target)\n",
    "                return current_node.right # 30\n",
    "        \n"
   ]
  },
  {
   "cell_type": "code",
   "execution_count": 5,
   "metadata": {},
   "outputs": [],
   "source": [
    "def insert_node_itr_clean(root_node: TreeNode, target: int):\n",
    "    current_node = root_node\n",
    "    while current_node:\n",
    "        if target == current_node.data:\n",
    "            return\n",
    "        elif target < current_node.data: #go left 50, 25\n",
    "            if current_node.left: # 25\n",
    "                current_node = current_node.left # 50->25\n",
    "            else:\n",
    "                current_node.left = TreeNode(target)\n",
    "                return current_node.left\n",
    "        else: \n",
    "            if current_node.right: \n",
    "                current_node = current_node.right\n",
    "            else:\n",
    "                current_node.right = TreeNode(target)\n",
    "                return current_node.right # 30"
   ]
  },
  {
   "cell_type": "code",
   "execution_count": 6,
   "metadata": {},
   "outputs": [],
   "source": [
    "# root = TreeNode(50)\n",
    "# node_list = [50,25,75,69,65] # insert_node(root, 50)\n",
    "# for node in node_list:\n",
    "#     insert_node(root, node)\n",
    "    \n",
    "def insert_node_list(root_node: TreeNode, node_list: list[int], insert_type: str):\n",
    "    valid_insert_types_list = [\"recursive\",\"recursive_clean\",\"iterative\",\"iterative_clean\"]\n",
    "    try:\n",
    "       if insert_type not in valid_insert_types_list:\n",
    "           raise ValueError\n",
    "    except ValueError as e:\n",
    "        print(f\"insert_type is not recognised {e}: {valid_insert_types_list}\")\n",
    "        \n",
    "    for node in node_list:\n",
    "        if insert_type == \"recursive\":\n",
    "            insert_node_rec(root_node, node)\n",
    "        elif insert_type == \"recursive_clean\":\n",
    "            insert_node_rec_clean(root_node, node)\n",
    "        elif insert_type == \"iterative\":\n",
    "            insert_node_itr(root_node, node)\n",
    "        elif insert_type == \"iterative_clean\":\n",
    "            insert_node_itr_clean(root_node, node)\n"
   ]
  },
  {
   "cell_type": "markdown",
   "metadata": {},
   "source": [
    "# 4. `traverse()` method"
   ]
  },
  {
   "cell_type": "code",
   "execution_count": 7,
   "metadata": {},
   "outputs": [],
   "source": [
    "def traverse(root_node: TreeNode):\n",
    "    if not root_node:\n",
    "        return\n",
    "    traverse(root_node.left)\n",
    "    print(root_node.data)\n",
    "    traverse(root_node.right)\n"
   ]
  },
  {
   "cell_type": "code",
   "execution_count": 8,
   "metadata": {},
   "outputs": [
    {
     "name": "stdout",
     "output_type": "stream",
     "text": [
      "c[50]<-t[25]: c[50] has not left-child, insert t[25]\n",
      "c[50]->t[75]: c[50] has not right-child, insert t[75]\n",
      "c[50]->t[69]: Go right...\n",
      "c[75]<-t[69]: c[75] has not left-child, insert t[69]\n",
      "c[50]->t[65]: Go right...\n",
      "c[75]<-t[65]: Go left...\n",
      "c[69]<-t[65]: c[69] has not left-child, insert t[65]\n",
      "\n",
      "25\n",
      "50\n",
      "65\n",
      "69\n",
      "75\n",
      "c[50]<-t[25]: c[50] has not left-child, insert t[25]\n",
      "c[50]->t[75]: c[50] has not right-child, insert t[75]\n",
      "c[50]->t[69]: Go right...\n",
      "c[75]<-t[69]: c[75] has not left-child, insert t[69]\n",
      "c[50]->t[65]: Go right...\n",
      "c[75]<-t[65]: Go left...\n",
      "c[69]<-t[65]: c[69] has not left-child, insert t[65]\n",
      "\n",
      "25\n",
      "50\n",
      "65\n",
      "69\n",
      "75\n",
      "\n",
      "25\n",
      "50\n",
      "65\n",
      "69\n",
      "75\n",
      "\n",
      "25\n",
      "50\n",
      "65\n",
      "69\n",
      "75\n"
     ]
    }
   ],
   "source": [
    "# OKAY\n",
    "root = TreeNode(50)\n",
    "node_list = [25,75,69,65] # insert_node(root, 50)\n",
    "insert_node_list(root, node_list, \"recursive\") \n",
    "print()\n",
    "traverse(root)\n",
    "\n",
    "# OKAY \n",
    "root = TreeNode(50)\n",
    "node_list = [25,75,69,65] # insert_node(root, 50)\n",
    "insert_node_list(root, node_list, \"iterative\") \n",
    "print()\n",
    "traverse(root) # 25, 50,65, 69, 75\n",
    "\n",
    "# OKAY\n",
    "root = TreeNode(50)\n",
    "node_list = [25,75,69,65] # insert_node(root, 50)\n",
    "insert_node_list(root, node_list, \"recursive_clean\") \n",
    "print()\n",
    "traverse(root)\n",
    "\n",
    "# OKAY\n",
    "root = TreeNode(50)\n",
    "node_list = [25,75,69,65] # insert_node(root, 50)\n",
    "insert_node_list(root, node_list, \"iterative_clean\") \n",
    "print()\n",
    "traverse(root)\n"
   ]
  },
  {
   "cell_type": "markdown",
   "metadata": {},
   "source": [
    "# 5. `find_successor_node()` method\n",
    "# 5.1 Psuedo-Code Scenarios Only"
   ]
  },
  {
   "cell_type": "markdown",
   "metadata": {},
   "source": [
    "# 5.2 The Code\n"
   ]
  },
  {
   "cell_type": "code",
   "execution_count": null,
   "metadata": {},
   "outputs": [],
   "source": []
  },
  {
   "cell_type": "code",
   "execution_count": null,
   "metadata": {},
   "outputs": [],
   "source": []
  },
  {
   "cell_type": "code",
   "execution_count": null,
   "metadata": {},
   "outputs": [],
   "source": []
  },
  {
   "cell_type": "code",
   "execution_count": null,
   "metadata": {},
   "outputs": [],
   "source": []
  },
  {
   "cell_type": "code",
   "execution_count": null,
   "metadata": {},
   "outputs": [],
   "source": []
  },
  {
   "cell_type": "markdown",
   "metadata": {},
   "source": [
    "# 6. `delete_node()` method"
   ]
  },
  {
   "cell_type": "code",
   "execution_count": null,
   "metadata": {},
   "outputs": [],
   "source": [
    "def find_successor_node(target_node: TreeNode):\n",
    "    # target is assumed to have two kids\n",
    "    print(f\"t[{target_node.data}]: go right of target and set to successor_node[{target_node.right.data}]\")\n",
    "    parent_node = target_node\n",
    "    successor_node = target_node.right # s_node is next larger value than target_node\n",
    "    # 50\n",
    "    #   [75]\n",
    "    #       [80]\n",
    "    \n",
    "    if not successor_node.left:\n",
    "        print(f\"s[{successor_node.data}]: has no s.left_child[None]\")\n",
    "        print(f\"s[{successor_node.data}]: to replace target_node[{target_node.data}]\")\n",
    "        target_node.data = successor_node.data\n",
    "        # target_node.right = successor_node.right # fix 1\n",
    "        parent_node.right = successor_node.right # fix 1\n",
    "        return\n",
    "\n",
    "    while successor_node.left: # go left\n",
    "        parent_node = successor_node\n",
    "        print(f\"s[{successor_node.data}]: has left_child[{successor_node.left.data}]\")\n",
    "        successor_node = successor_node.left\n",
    "\n",
    "    print(f\"s[{successor_node.data}]: has not more left kids...check if right_child exists\")\n",
    "\n",
    "    if successor_node.right:\n",
    "        print(f\"s[{successor_node.data}]: has right_child[{successor_node.right.data}]\")\n",
    "        parent_node.left = successor_node.right    \n",
    "        \n",
    "    else:\n",
    "        print(f\"s[{successor_node.data}]: has not right_child\")\n",
    "        parent_node.left = None\n",
    "    target_node.data = successor_node.data\n",
    "    return successor_node"
   ]
  },
  {
   "cell_type": "code",
   "execution_count": 83,
   "metadata": {},
   "outputs": [],
   "source": [
    "def delete_node(root_node: TreeNode, target: int):\n",
    "    current_node = root_node # search    \n",
    "    parent_node = None\n",
    "    target_node = None\n",
    "    while current_node:\n",
    "        if target == current_node.data:\n",
    "            print(f\"c[{current_node.data}]==t[{target}]: Found target, determine kids...\")\n",
    "            target_node = current_node\n",
    "            break\n",
    "        elif target < current_node.data:\n",
    "            parent_node = current_node\n",
    "            current_node = current_node.left\n",
    "            print(f\"c[{current_node.data}]<-t[{target}]: go left...\")\n",
    "        else:\n",
    "            parent_node = current_node\n",
    "            current_node = current_node.right\n",
    "            print(f\"c[{current_node.data}]->t[{target}]: go right...\")            \n",
    "    if not target_node:\n",
    "        print(f\"c[{current_node.data}]!=t[{target}]: Target not found! exiting...\")\n",
    "        return\n",
    "    # delete\n",
    "    print(f\"entered delete stage...find kids, find succesor node (if req)\")\n",
    "    if target_node.left and target_node.right: # delete 1: two kids\n",
    "        find_successor_node(target_node)\n",
    "        return\n",
    "    else:\n",
    "        target_child_node = (target_node.left or target_node.right)\n",
    "        if not parent_node:\n",
    "            print(f\"c[{current_node.data}]==t[{target}]: tchild[{target_child_node.data}] to succeed t{target} (root-node)\")\n",
    "            target_node.data = target_child_node.data\n",
    "            target_node.left = target_child_node.left\n",
    "            target_node.right = target_child_node.right\n",
    "            return\n",
    "        elif parent_node.left == target_node: # 2. non-root node: p is parent_node.right\n",
    "            parent_node.left = target_child_node\n",
    "            return\n",
    "        else: # 3. non-root node: p is parent_node.left\n",
    "            parent_node.right = target_child_node\n",
    "            return\n",
    "    return\n"
   ]
  },
  {
   "cell_type": "code",
   "execution_count": 72,
   "metadata": {},
   "outputs": [
    {
     "name": "stdout",
     "output_type": "stream",
     "text": [
      "\n",
      "10\n",
      "25\n",
      "50\n",
      "\n",
      "c[50]==t[50]: Found target, determine kids...\n",
      "entered delete stage...find kids, find succesor node (if req)\n",
      "c[50]==t[50]: tchild[25] to succeed t50 (root-node)\n",
      "\n",
      "10\n",
      "25\n"
     ]
    }
   ],
   "source": [
    "root = TreeNode(50)\n",
    "# node_list = [25,75,69,65] # insert_node(root, 50)\n",
    "node_list = [25,10] # insert_node(root, 50)\n",
    "insert_node_list(root, node_list, \"iterative_clean\") \n",
    "print()\n",
    "traverse(root)\n",
    "\n",
    "print()\n",
    "#   [50]t   <--------- target_node\n",
    "#  25c      <--------- target_node_child\n",
    "# 10cl      <--------- target_node_child.left\n",
    "delete_node(root,50)\n",
    "#  25c      <--------- target_node_child\n",
    "# 10cl      <--------- target_node_child.left\n",
    "\n",
    "print()\n",
    "traverse(root)\n"
   ]
  },
  {
   "cell_type": "code",
   "execution_count": 73,
   "metadata": {},
   "outputs": [
    {
     "name": "stdout",
     "output_type": "stream",
     "text": [
      "\n",
      "50\n",
      "70\n",
      "75\n",
      "80\n",
      "\n",
      "c[50]==t[50]: Found target, determine kids...\n",
      "entered delete stage...find kids, find succesor node (if req)\n",
      "c[50]==t[50]: tchild[75] to succeed t50 (root-node)\n",
      "\n",
      "70\n",
      "75\n",
      "80\n"
     ]
    }
   ],
   "source": [
    "root = TreeNode(50)\n",
    "# node_list = [25,75,69,65] # insert_node(root, 50)\n",
    "node_list = [75,80,70] # insert_node(root, 50)\n",
    "insert_node_list(root, node_list, \"iterative_clean\") \n",
    "print()\n",
    "traverse(root)\n",
    "\n",
    "print()\n",
    "#   [50]t           <--------- target_node\n",
    "#       75c         <--------- target_node_child\n",
    "#     70cl 80cr     <--------- target_node_child.left and right\n",
    "delete_node(root,50)\n",
    "#       75c         <--------- target_node_child\n",
    "#     70cl 80cr     <--------- target_node_child.left and right\n",
    "\n",
    "print()\n",
    "traverse(root)\n"
   ]
  },
  {
   "cell_type": "code",
   "execution_count": 74,
   "metadata": {},
   "outputs": [
    {
     "name": "stdout",
     "output_type": "stream",
     "text": [
      "\n",
      "50\n",
      "51\n",
      "70\n",
      "75\n",
      "80\n",
      "\n",
      "c[51]->t[51]: go right...\n",
      "c[51]==t[51]: Found target, determine kids...\n",
      "entered delete stage...find kids, find succesor node (if req)\n",
      "c[51]==t[51]: tchild[75] to succeed t51 (root-node)\n",
      "\n",
      "50\n",
      "70\n",
      "75\n",
      "80\n"
     ]
    }
   ],
   "source": [
    "root = TreeNode(50)\n",
    "# node_list = [25,75,69,65] # insert_node(root, 50)\n",
    "node_list = [51,75,80,70] # insert_node(root, 50)\n",
    "insert_node_list(root, node_list, \"iterative_clean\") \n",
    "print()\n",
    "traverse(root)\n",
    "\n",
    "print()\n",
    "#  50p            <--------- parent_node.right = target_node\n",
    "#   [51]t           <--------- target_node\n",
    "#       75c         <--------- target_node_child\n",
    "#     70cl 80cr     <--------- target_node_child.left and right\n",
    "\n",
    "delete_node(root,51)\n",
    "#  50p            <--------- parent_node.right -> target_node_child\n",
    "#       75c         <--------- target_node_child\n",
    "#     70cl 80cr     <--------- target_node_child.left and right\n",
    "\n",
    "print()\n",
    "traverse(root)\n"
   ]
  },
  {
   "cell_type": "code",
   "execution_count": 75,
   "metadata": {},
   "outputs": [
    {
     "name": "stdout",
     "output_type": "stream",
     "text": [
      "\n",
      "10\n",
      "25\n",
      "30\n",
      "49\n",
      "50\n",
      "\n",
      "c[49]<-t[49]: go left...\n",
      "c[49]==t[49]: Found target, determine kids...\n",
      "entered delete stage...find kids, find succesor node (if req)\n",
      "c[49]==t[49]: tchild[25] to succeed t49 (root-node)\n",
      "\n",
      "10\n",
      "25\n",
      "30\n",
      "50\n"
     ]
    }
   ],
   "source": [
    "root = TreeNode(50)\n",
    "node_list = [49,25,10,30] # insert_node(root, 50)\n",
    "insert_node_list(root, node_list, \"iterative_clean\") \n",
    "print()\n",
    "traverse(root)\n",
    "\n",
    "print()\n",
    "#          50p  <--------- parent_node.right = target_node\n",
    "#      [49]t    <--------- target_node\n",
    "#   25c         <--------- target_node_child\n",
    "# 10cl 30cr     <--------- target_node_child.left and right\n",
    "delete_node(root,49)\n",
    "#       50p     <--------- parent_node.right = target_node\n",
    "#    25c        <--------- target_node_child\n",
    "# 10cl 30cr     <--------- target_node_child.left and right\n",
    "\n",
    "print()\n",
    "traverse(root)\n"
   ]
  },
  {
   "cell_type": "code",
   "execution_count": 76,
   "metadata": {},
   "outputs": [
    {
     "name": "stdout",
     "output_type": "stream",
     "text": [
      "\n",
      "25\n",
      "50\n",
      "75\n",
      "\n",
      "c[50]==t[50]: Found target, determine kids...\n",
      "entered delete stage...find kids, find succesor node (if req)\n",
      "t[50]: go right of target and set to successor_node[75]\n",
      "s[75]: has no s.left_child[None]\n",
      "s[75]: to replace target_node[50]\n",
      "\n",
      "25\n",
      "75\n"
     ]
    }
   ],
   "source": [
    "root = TreeNode(50)\n",
    "node_list = [25,75] # insert_node(root, 50)\n",
    "insert_node_list(root, node_list, \"iterative_clean\") \n",
    "print()\n",
    "traverse(root)\n",
    "    #      [50]t                <--------- target_node is root\n",
    "    #   25tl   [75]tr == s      <-- [s_node]\n",
    "    #       [70]sl []sr\n",
    "print()\n",
    "delete_node(root,50)\n",
    "    #      [75]tr == s          <--------- target_node is s_node\n",
    "    #   25tl   []sr      \n",
    "\n",
    "print()\n",
    "traverse(root)\n"
   ]
  },
  {
   "cell_type": "code",
   "execution_count": 77,
   "metadata": {},
   "outputs": [
    {
     "name": "stdout",
     "output_type": "stream",
     "text": [
      "\n",
      "25\n",
      "50\n",
      "75\n",
      "80\n",
      "\n",
      "c[50]==t[50]: Found target, determine kids...\n",
      "entered delete stage...find kids, find succesor node (if req)\n",
      "t[50]: go right of target and set to successor_node[75]\n",
      "s[75]: has no s.left_child[None]\n",
      "s[75]: to replace target_node[50]\n",
      "\n",
      "25\n",
      "75\n",
      "80\n"
     ]
    }
   ],
   "source": [
    "root = TreeNode(50)\n",
    "node_list = [25,75,80] # insert_node(root, 50)\n",
    "insert_node_list(root, node_list, \"iterative_clean\") \n",
    "print()\n",
    "traverse(root)\n",
    "    #      [50]t\n",
    "    #   25tl   [75]tr == s      <-- target.right is [s_node]\n",
    "    #       []sl [80]sr\n",
    "print()\n",
    "delete_node(root,50)\n",
    "    #      [75]tr == s          <-- target_node is [s_node]\n",
    "    #   25tl   [80]sr      \n",
    "print()\n",
    "traverse(root)\n"
   ]
  },
  {
   "cell_type": "code",
   "execution_count": 78,
   "metadata": {},
   "outputs": [
    {
     "name": "stdout",
     "output_type": "stream",
     "text": [
      "\n",
      "25\n",
      "50\n",
      "70\n",
      "73\n",
      "75\n",
      "\n",
      "c[50]==t[50]: Found target, determine kids...\n",
      "entered delete stage...find kids, find succesor node (if req)\n",
      "t[50]: go right of target and set to successor_node[75]\n",
      "s[75]: has left_child[70]\n",
      "s[70]: has not more left kids...check if right_child exists\n",
      "s[70]: has right_child[73]\n",
      "\n",
      "25\n",
      "70\n",
      "73\n",
      "75\n"
     ]
    }
   ],
   "source": [
    "root = TreeNode(50)\n",
    "node_list = [25,75,70,73] # insert_node(root, 50)\n",
    "insert_node_list(root, node_list, \"iterative_clean\") \n",
    "print()\n",
    "traverse(root)\n",
    "    #      [50]t            <-- [target_node] \n",
    "    #   25c      [75]p      <-- [parent_node] <-- prev [s_node]\n",
    "    #        [70]s          <-- curr [s_node]\n",
    "    #      [] [73]sr        <-- s_node.right\n",
    "print()\n",
    "\n",
    "delete_node(root,50)\n",
    "    #      [70]t            <-- [target_node] \n",
    "    #   25c     [75]p       <-- [parent_node] <-- prev [s_node]\n",
    "    #      [] [73]sr        <-- s_node.right\n",
    "print()\n",
    "traverse(root)\n"
   ]
  },
  {
   "cell_type": "code",
   "execution_count": 79,
   "metadata": {},
   "outputs": [
    {
     "name": "stdout",
     "output_type": "stream",
     "text": [
      "\n",
      "25\n",
      "50\n",
      "55\n",
      "65\n",
      "70\n",
      "75\n",
      "\n",
      "c[50]==t[50]: Found target, determine kids...\n",
      "entered delete stage...find kids, find succesor node (if req)\n",
      "t[50]: go right of target and set to successor_node[75]\n",
      "s[75]: has left_child[70]\n",
      "s[70]: has left_child[65]\n",
      "s[65]: has left_child[55]\n",
      "s[55]: has not more left kids...check if right_child exists\n",
      "s[55]: has not right_child\n",
      "\n",
      "25\n",
      "55\n",
      "65\n",
      "70\n",
      "75\n"
     ]
    }
   ],
   "source": [
    "root = TreeNode(50)\n",
    "node_list = [25,75,70,65,55] # insert_node(root, 50)\n",
    "insert_node_list(root, node_list, \"iterative_clean\") \n",
    "print()\n",
    "traverse(root)\n",
    "    #      [50]t            <-- [target_node] \n",
    "    #   25c      [75]tr      <-- [parent_node] <-- prev [s_node]\n",
    "    #        [70]          <-- curr [s_node]\n",
    "    #      [65]p          <-- curr [s_node]\n",
    "    #     [55]s          <-- curr [s_node]\n",
    "    #   []   []sr        <-- s_node.right\n",
    "print()\n",
    "\n",
    "delete_node(root,50)\n",
    "    #      [55]s            <-- [target_node] \n",
    "    #   25c      [75]tr      <-- [parent_node] <-- prev [s_node]\n",
    "    #        [70]          <-- curr [s_node]\n",
    "    #      [65]p          <-- curr [s_node]\n",
    "    #   []   []sr        <-- s_node.right\n",
    "print()\n",
    "traverse(root) # 25, 55, 65, 70, 75\n"
   ]
  },
  {
   "cell_type": "code",
   "execution_count": 80,
   "metadata": {},
   "outputs": [
    {
     "name": "stdout",
     "output_type": "stream",
     "text": [
      "\n",
      "25\n",
      "50\n",
      "55\n",
      "65\n",
      "69\n",
      "70\n",
      "75\n",
      "\n",
      "c[50]==t[50]: Found target, determine kids...\n",
      "entered delete stage...find kids, find succesor node (if req)\n",
      "t[50]: go right of target and set to successor_node[75]\n",
      "s[75]: has left_child[70]\n",
      "s[70]: has left_child[65]\n",
      "s[65]: has left_child[55]\n",
      "s[55]: has not more left kids...check if right_child exists\n",
      "s[55]: has not right_child\n",
      "\n",
      "25\n",
      "55\n",
      "65\n",
      "69\n",
      "70\n",
      "75\n"
     ]
    }
   ],
   "source": [
    "root = TreeNode(50)\n",
    "node_list = [25,75,70,65,55,69] # insert_node(root, 50)\n",
    "insert_node_list(root, node_list, \"iterative_clean\") \n",
    "print()\n",
    "traverse(root)\n",
    "    #      [50]t            <-- [target_node] \n",
    "    #   25c      [75]tr      <-- [parent_node] <-- prev [s_node]\n",
    "    #        [70]          <-- curr [s_node]\n",
    "    #      [65]p          <-- curr [s_node]\n",
    "    #     [55]s          <-- curr [s_node]\n",
    "    #   []   [69]sr        <-- s_node.right\n",
    "print()\n",
    "\n",
    "delete_node(root,50)\n",
    "    #      [55]s            <-- [target_node] \n",
    "    #   25c      [75]tr      <-- [parent_node] <-- prev [s_node]\n",
    "    #        [70]          <-- curr [s_node]\n",
    "    #      [65]p          <-- curr [s_node]\n",
    "    #   []   [69]sr        <-- s_node.right\n",
    "print()\n",
    "traverse(root) # 25, 55, 65, 69, 70, 75\n"
   ]
  },
  {
   "cell_type": "code",
   "execution_count": null,
   "metadata": {},
   "outputs": [],
   "source": []
  },
  {
   "cell_type": "code",
   "execution_count": null,
   "metadata": {},
   "outputs": [],
   "source": []
  },
  {
   "cell_type": "code",
   "execution_count": null,
   "metadata": {},
   "outputs": [],
   "source": []
  },
  {
   "cell_type": "code",
   "execution_count": null,
   "metadata": {},
   "outputs": [],
   "source": [
    "root = TreeNode(50)\n",
    "node_list = [25,10,15]\n",
    "#      {50}\n",
    "#   [25]    \n",
    "# 10 15\n",
    "insert_node_list(root, node_list)   \n",
    "traverse(root) # 10,15,25,50\n",
    "delete_node(root, 25)"
   ]
  },
  {
   "cell_type": "code",
   "execution_count": null,
   "metadata": {},
   "outputs": [],
   "source": [
    "# [Case_1]  @[t.r]:                 [s_node] has {0 left-child}, [s_node] replaces [t_node]\n",
    "    # i. FIND S_SNODE:\n",
    "    #                                 [50]t         - target to delete\n",
    "    #                               25    [75]s      - current [s_node]\n",
    "    # ii. REPLACE T_NODE:\n",
    "    #                                 [75]s         - [target] <- [s_node] \n",
    "    #                               25    []         \n",
    "    # iii. LOGIC CHECK:             is it next number after target in tree if in sequential order?\n",
    "    \n",
    "root = TreeNode(50)\n",
    "node_list = [25,75]\n",
    "insert_node_list(root, node_list)   \n",
    "traverse(root) # 25,75\n",
    "print()\n",
    "delete_node_final(root, 50)\n",
    "print()\n",
    "\n",
    "print(\"expected: 25,75\")\n",
    "traverse(root) # 25,75\n",
    "print()\n",
    "print(f\"{root.data},75\")\n",
    "print(f\"{root.left.data},25\")\n",
    "# print(root.right.data)\n"
   ]
  },
  {
   "cell_type": "code",
   "execution_count": null,
   "metadata": {},
   "outputs": [],
   "source": [
    "    # [Case_2]  @[t.r...l]:         [s_node] has {a left-child}, go to {left-most-child}\n",
    "        #                               [s_node] is now {left-most-child} of {target.right}\n",
    "        #                                 [50]t         - [target] to delete\n",
    "        #                              25       [75]s   - prev [s_node] (target.right)\n",
    "        #                                     [70]l...\n",
    "        #                                    [60]l...   - new [s_node] (left-most-child of target.right)\n",
    "    \n",
    "    # [Case_2A] @[t.r...l]:         [s_node] has no {right-child}\n",
    "    # i. FIND S_NODE:\n",
    "    #                                 [50]t         - [target] to delete\n",
    "    #                              25       [75]   - prev [s_node] (target.right)\n",
    "    #                                     [70]p...  - {parent.left is currently s_node}\n",
    "    #                                    [60]s...   - current [s_node] (left-most-child of target.right)\n",
    "    #                                   []  []      - [s_node] has right kids (and left thats alwyays cause we went the most left already)\n",
    "    # ii. REPLACE T_NODE:\n",
    "    #                                 [60]s         - [target] <- s_node\n",
    "    #                              25       [75]    - prev [s_node] (target.right)\n",
    "    #                                     [70]p...  - {parent.left is None} now!\n",
    "    #                                    []...       \n",
    "    # iii. LOGIC CHECK:             is it next number after target in tree if in sequential order?\n",
    "\n",
    "    \n",
    "root = TreeNode(50)\n",
    "node_list = [25,75,70,60]\n",
    "insert_node_list(root, node_list)   \n",
    "traverse(root) # 25,50,60,70,75\n",
    "print()\n",
    "delete_node_final(root, 50)\n",
    "print()\n",
    "print(\"expected: 25,60,70,75\")\n",
    "traverse(root) # 25,60,70,75\n",
    "print()\n",
    "print(f\"{root.data},60\") # \n",
    "print(f\"{root.left.data},25\") \n",
    "print(f\"{root.right.data},75\") \n",
    "print(f\"{root.right.left.data},70\") \n",
    "\n"
   ]
  },
  {
   "cell_type": "code",
   "execution_count": null,
   "metadata": {},
   "outputs": [],
   "source": [
    "    # [Case_2B] @[t.r...l]:         [s_node] has a {right-child}\n",
    "    # i. FIND S_NODE:\n",
    "\n",
    "    #                         [50]t             - [target] to delete\n",
    "    #                     25          [75]      - prev [s_node] (target.right)\n",
    "    #                              [70]p...     - {parent.left is currently s_node}\n",
    "    #                          [60]s...         - current [s_node] (left-most-child of target.right)\n",
    "    #                         [] [65]sr         - [s_node] has a [right-child]\n",
    "    # ii. REPLACE T_NODE:       \n",
    "    #                        [60]s              - [target] <- s_node\n",
    "    #                     25       [75]         - prev [s_node] (target.right)\n",
    "    #                            [70]p...       - {parent.left is 65 (s_node.right)} \n",
    "    #                           [65]sr...       - {s_node.right} replaces {s_node}       \n",
    "    # iii. LOGIC CHECK:                         - is it next number after target in tree if in sequential order?\n",
    "\n",
    "root = TreeNode(50)\n",
    "node_list = [25,75,70,60,65]\n",
    "insert_node_list(root, node_list)   \n",
    "traverse(root) # 25,50,60,70,75\n",
    "print()\n",
    "delete_node_final(root, 50)\n",
    "print()\n",
    "print(\"expected: 25,60,65,70,75\")\n",
    "traverse(root) # 25,60,65,70,75\n",
    "print()\n",
    "print(f\"{root.data},60\") # \n",
    "print(f\"{root.left.data},25\") \n",
    "print(f\"{root.right.data},75\") \n",
    "print(f\"{root.right.left.data},70\") \n",
    "print(f\"{root.right.left.left.data},65\") \n",
    "\n"
   ]
  }
 ],
 "metadata": {
  "kernelspec": {
   "display_name": "fastapi-k7qESWDg",
   "language": "python",
   "name": "python3"
  },
  "language_info": {
   "codemirror_mode": {
    "name": "ipython",
    "version": 3
   },
   "file_extension": ".py",
   "mimetype": "text/x-python",
   "name": "python",
   "nbconvert_exporter": "python",
   "pygments_lexer": "ipython3",
   "version": "3.10.12"
  }
 },
 "nbformat": 4,
 "nbformat_minor": 2
}
