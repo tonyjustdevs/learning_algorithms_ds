{
 "cells": [
  {
   "cell_type": "raw",
   "metadata": {
    "vscode": {
     "languageId": "raw"
    }
   },
   "source": [
    "---\n",
    "title: \"DSA: Binary Search Exercises\"\n",
    "author: \"Tony Phung\"\n",
    "date: \"2025-01-07\"\n",
    "categories: [data structures, algorithms]\n",
    "image: \"imgs/dsa_ch02binsearch.jpg\"\n",
    "toc: true\n",
    "description: \"Chapter 2 Exercises, J.Wengrow Vol 2\"\n",
    "---"
   ]
  },
  {
   "cell_type": "markdown",
   "metadata": {},
   "source": [
    "![](imgs/dsa_ch02binsearch.jpg)"
   ]
  },
  {
   "cell_type": "markdown",
   "metadata": {},
   "source": [
    "# 1. $BinarySearch()$ - *Exercises*\n",
    "## 1.1 $LinearSearch()$: `n_steps` of `orderd_array`: \n",
    "How many steps perform a linear search for the number 8 in the ordered array `[2, 4, 6, 8, 10, 12, 13]`?\n",
    "\n",
    "## 1.2 $BinarySearch()$: `n_steps` of `orderd_array`: \n",
    "How many steps would binary search take for the previous example?\n",
    "\n",
    "## 1.3 $BinarySearch()$: `max_n_steps` of `orderd_array`: \n",
    "What is the maximum number of steps it would take to perform a binary search on an array of size 100,000?"
   ]
  },
  {
   "cell_type": "markdown",
   "metadata": {
    "vscode": {
     "languageId": "raw"
    }
   },
   "source": [
    "# 2. $BinarySearch()$ - *Tony's Solutions*\n",
    "## 2.1 $LinearSearch()$: `n_steps` of `orderd_array`: \n",
    "* How many steps perform a linear search for the number 8 in the ordered array `[2, 4, 6, 8, 10, 12, 13]`?\n",
    "\n",
    "## 2.1.1 Written Answer\n",
    "* Count up from index `0` through array to find the `target`. \n",
    "* It's the 3rd index, or 4th item, therefore 4 steps."
   ]
  },
  {
   "cell_type": "markdown",
   "metadata": {},
   "source": [
    "## 2.1.2 Python Answer"
   ]
  },
  {
   "cell_type": "code",
   "execution_count": 2,
   "metadata": {},
   "outputs": [
    {
     "name": "stdout",
     "output_type": "stream",
     "text": [
      "LinearSearch() began on array: [2, 4, 6, 8, 10, 12, 13]\n",
      "Target found [8]: [4] steps\n"
     ]
    }
   ],
   "source": [
    "def calc_linear_search_n_steps(input_arr, target):\n",
    "    print(rf\"LinearSearch() began on array: {input_arr}\")\n",
    "    counter = 0\n",
    "    for i,v in enumerate(input_arr):\n",
    "        counter += 1\n",
    "        if input_arr[i] == target:\n",
    "            print(rf\"Target found [{target}]: [{counter}] steps\")\n",
    "            return counter\n",
    "    print(rf\"Target not found in [{input_arr}]\")\n",
    "    return False\n",
    "linear_search_n_steps = calc_linear_search_n_steps([2, 4, 6, 8, 10, 12, 13], 8)\n"
   ]
  },
  {
   "cell_type": "markdown",
   "metadata": {},
   "source": [
    "## 2.2 $BinarySearch()$: `n_steps` of `orderd_array`: \n",
    "How many steps would binary search take for the previous example?\n",
    "\n",
    "## 2.2.1 Written Answer\n",
    "Choose middle index and compare against target, here it is 1 step.\n",
    "\n",
    "## 2.2.2 Python Answer\n"
   ]
  },
  {
   "cell_type": "code",
   "execution_count": 3,
   "metadata": {},
   "outputs": [
    {
     "name": "stdout",
     "output_type": "stream",
     "text": [
      "BinarySearch() began on array: [2, 4, 6, 8, 10, 12, 13]\n",
      "Target found [8]: [1] steps\n"
     ]
    },
    {
     "data": {
      "text/plain": [
       "1"
      ]
     },
     "execution_count": 3,
     "metadata": {},
     "output_type": "execute_result"
    }
   ],
   "source": [
    "def calc_binary_search_n_steps(input_arr, target):\n",
    "    print(rf\"BinarySearch() began on array: {input_arr}\")\n",
    "\n",
    "    l,r = 0, len(input_arr)-1 # set left, right index bounds\n",
    "    counter = 0\n",
    "    while l<=r:\n",
    "        counter+=1\n",
    "        m=(l+r)//2 # middle-index\n",
    "        if input_arr[m] == target:\n",
    "            print(rf\"Target found [{target}]: [{counter}] steps\")\n",
    "            return counter\n",
    "        elif input_arr[m] < target:\n",
    "            l=m+1\n",
    "        elif input_arr[m] > target:\n",
    "            r=m-1\n",
    "    print(rf\"Target not found in [{input_arr}]\")\n",
    "    return False\n",
    "calc_binary_search_n_steps([2, 4, 6, 8, 10, 12, 13], 8)\n",
    "    "
   ]
  },
  {
   "cell_type": "markdown",
   "metadata": {},
   "source": [
    "## 2.2.3 Middle Index: `m` - Some Comments\n",
    "I did not fully understand how the middle-index `m` is calculated despite it looking very easy:\n",
    "\n",
    "* `m=(l+r)//2`\n",
    "\n",
    "## 2.2.4 Middle-Index `m` Table\n",
    "So, I created a table showing:\n",
    "* left and right-indices (like the algorithm) \n",
    "* middle-index calculation before rounding down\n",
    "* middle-index calculation after rounding down\n",
    "\n",
    "I didnt have an intuition on how it increments, so for me its fascinating that it increments by 2 each time.... Some math thing going on which I dont understand but at least I know how it works a bit more after this table\n",
    "\n",
    "**Top Table**: Calculates `m` with rounding down (as in algorithm):    \n",
    "\n",
    "* `m = (l+r)//2`\n",
    "* i.e. the middle index chosen to compare against the target\n",
    "\n",
    "**Bottom Table**: Calculates `m` with no rounding:    \n",
    "* `m = (l+r)/2`\n",
    "* Notice the pre-rounded value increments is by 0.5\n",
    "* And we dont have **non-integer** indexing so this forces us to round up or down, \n",
    "* So by rounding down, we see `m` goes up every 2 indices, pretty cool and also makes sense.\n",
    "\n",
    "![](imgs/dsa_ch02mid_idx.png)"
   ]
  },
  {
   "cell_type": "markdown",
   "metadata": {},
   "source": [
    "## 2.3 $BinarySearch()$: `max_n_steps` of `orderd_array`: \n",
    "What is the maximum number of steps it would take to perform a binary search on an array of size 100,000?"
   ]
  },
  {
   "cell_type": "markdown",
   "metadata": {},
   "source": [
    "## 2.3.1 Written Answer\n",
    "A characteristic of the $BinarySearch()$ is that: \n",
    "\n",
    "* The number of items (`array_size`) *searchable* **doubles** at each $step$:\n",
    "    - can be described by an **exponential function** \n",
    "    - with **base of 2** \n",
    "    - where `n` is the number of steps: \n",
    "\n",
    "Defined as: $$array\\_size = 2^n$$\n",
    "\n",
    "That is, the questions is asking:\n",
    "$$100,000 = 2^n$$\n",
    "$$\\log(100,000) = \\log(2^n)$$\n",
    "$$\\log(100,000) = n\\log(2)$$\n",
    "$$\\frac{\\log(100,000)}{\\log(2)} = n$$\n",
    "$$n=\\frac{\\log(100,000)}{\\log(2)}$$\n",
    "$$n=16.610\\ steps(3\\ d.p)$$\n"
   ]
  },
  {
   "cell_type": "code",
   "execution_count": 4,
   "metadata": {},
   "outputs": [
    {
     "data": {
      "text/plain": [
       "np.float64(16.609640474436812)"
      ]
     },
     "execution_count": 4,
     "metadata": {},
     "output_type": "execute_result"
    }
   ],
   "source": [
    "def calc_bin_search_nsteps(arr_size: int):\n",
    "    import numpy as np\n",
    "    # 2^n_steps = arr_size\n",
    "    # log (2^n_steps) = log (arr_size)\n",
    "    # (n_steps) * log (2) = log (arr_size)\n",
    "    # (n_steps)  = log (arr_size)/log(2)\n",
    "    # (n_steps)  = log (arr_size)/log(2)\n",
    "    # (n_steps  = log (100_000)/log(2)\n",
    "    return np.log(arr_size)/np.log(2)\n",
    "\n",
    "bin_search_nsteps = calc_bin_search_nsteps(100_000)\n",
    "bin_search_nsteps"
   ]
  },
  {
   "cell_type": "markdown",
   "metadata": {},
   "source": [
    "## 2.3.2 Python Answer"
   ]
  },
  {
   "cell_type": "code",
   "execution_count": 6,
   "metadata": {},
   "outputs": [
    {
     "name": "stdout",
     "output_type": "stream",
     "text": [
      "[ 0.          0.5483871   1.09677419  1.64516129  2.19354839  2.74193548\n",
      "  3.29032258  3.83870968  4.38709677  4.93548387  5.48387097  6.03225806\n",
      "  6.58064516  7.12903226  7.67741935  8.22580645  8.77419355  9.32258065\n",
      "  9.87096774 10.41935484 10.96774194 11.51612903 12.06451613 12.61290323\n",
      " 13.16129032 13.70967742 14.25806452 14.80645161 15.35483871 15.90322581\n",
      " 16.4516129  17.        ]\n"
     ]
    },
    {
     "data": {
      "text/plain": [
       "[<matplotlib.lines.Line2D at 0x7fa48155d450>]"
      ]
     },
     "execution_count": 6,
     "metadata": {},
     "output_type": "execute_result"
    },
    {
     "data": {
      "image/png": "[encoded data removed]",
      "text/plain": [
       "<Figure size 640x480 with 1 Axes>"
      ]
     },
     "metadata": {},
     "output_type": "display_data"
    }
   ],
   "source": [
    "from matplotlib.ticker import MaxNLocator\n",
    "import numpy as np\n",
    "import matplotlib.pyplot as plt\n",
    "import matplotlib.ticker as ticker\n",
    "\n",
    "### x-values ###\n",
    "xpt = 1\n",
    "x_deviation = 16\n",
    "x_no_of_increments = 32\n",
    "xs_min = xpt - x_deviation\n",
    "xs_max = xpt + x_deviation\n",
    "# xs = np.linspace(xs_min, xs_max, x_increments)  # XS\n",
    "xs = np.linspace(0, xs_max, x_no_of_increments)  # XS\n",
    "print(xs)\n",
    "### exclude x-values ### (eg f(x!=0)=1/x, f(x>0)=log(x))\n",
    "# xs = xs[xs != 1]\n",
    "xs = xs[xs > 0]\n",
    "\n",
    "### the function ###\n",
    "# lbl_fx = r'$f(x)= 6.1t^{2}-9.28t+16.43$'   # LABEL\n",
    "# lbl_fx = r'$f(x)= log(x)$'   # LABEL\n",
    "# fx_fx = lambda x: np.log(x)  # f(x)\n",
    "\n",
    "# ### y-values ###\n",
    "# ys_fx = fx_fx(xs)            # ys=f(xs)\n",
    "# ypt_fx = fx_fx(xpt)\n",
    "# print(f\"ypt_fx_at_P(x={xpt}): {ypt_fx}\")\n",
    "\n",
    "### other plots ###\n",
    "lbl_fx2 = r'$f(x)=2^x$'\n",
    "fx_fx2 = lambda x: 2**x\n",
    "ys_fx2 = fx_fx2(xs)\n",
    "\n",
    "### derivative ###\n",
    "# lbl_dydx = r\"$f'(x)=6s(x={xpt_dydx}): {dydx}\")\n",
    "\n",
    "### tangent ###\n",
    "# c_tangent = ypt_fx-(dydx)*(xpt)\n",
    "# tgt = \"tangent\"\n",
    "# lbl_tangent = rf'$f_t(x)={dydx:,.1f}t+{c_ta\n",
    "# ngent:,.1f}$ (tangent at x={xpt})'\n",
    "# fx_tangent = lambda x: dydx*xs+c_tangent\n",
    "# ys_tangent = fx_tangent(xs)\n",
    "\n",
    "### plot things ####\n",
    "# plt.plot(xs, ys_fx,  'o', markersize=1, label=lbl_fx)\n",
    "plt.plot(xs, ys_fx2,  '-', markersize=1, label=lbl_fx2)\n",
    "# plt.plot(xs, ys_fx,  'r^-', linewidth=2, markersize=1, label=lbl_fx)\n",
    "# plt.scatter(xs, ys_fx, marker=\"o\")\n",
    "# plt.scatter(x=xpt, y=fx_fx(xpt), marker=\"o\")\n",
    "# plt.plot(xs, ys_tangent,      'yo-', linewidth=2, markersize=6, label=lbl_tangent)\n",
    "# plt.plot(xs, ys_fx2,      'bo-', linewidth=2, markersize=8, label=lbl_fx2)\n",
    "\n",
    "##### EXTRAS: title, grid, legend, zooming, ticks, hline, vline, tickers #####\n",
    "\n",
    "# title\n",
    "# plot_title = lbl_fx\n",
    "plot_title = lbl_fx2\n",
    "plt.title(plot_title, loc='left')\n",
    "# plot_title = lbl_fx + f\" & it's tangent at x={xpt}\"\n",
    "# plot_title = lbl_fx + \"at (4,2)\"\n",
    "# plot_title = lbl_fx2 + \" and \" + lbl_fx2 + \"at (3,3)\"\n",
    "# plot_title = lbl_fx + \" and \" + lbl_tangent + \"at (4,2)\"\n",
    "\n",
    "# grid \n",
    "plt.grid(color='lightgrey', linestyle='--', linewidth=0.5)\n",
    "\n",
    "# legend plt.legend(loc='upper right')\n",
    "plt.legend(loc='lower right')\n",
    "\n",
    "# zoom! enhance! #\n",
    "# zoom_inc = 20\n",
    "# plt.xlim(xpt-zoom_inc,xpt+zoom_inc)  # x-rng\n",
    "# plt.ylim(-0.1, 0.1)  # y-rng\n",
    "\n",
    "# vertical, horizontal, \n",
    "ax = plt.gca()  # Get the current axis\n",
    "ax.axvline(x=xpt, color='grey', linestyle='--', linewidth=0.5)\n",
    "# ax.axhline(y=fx_fx(xpt), color='grey', linestyle='--', linewidth=0.5)\n",
    "\n",
    "# ax.axvline(x=0, color='grey', linestyle='--', linewidth=0.5)\n",
    "# ax.axhline(y=fx_fx(xpt), color='grey', linestyle='--', linewidth=0.5)\n",
    "# ax.axhline(y=0, color='grey', linestyle='--', linewidth=0.5)\n",
    "\n",
    "# X-LIMIT & VALUE\n",
    "# plt.vlines(x_at_c,linestyles=\"dotted\", ymin=plt.ylim()[0], ymax=max(ys)) # non-monotonic\n",
    "plt.plot(bin_search_nsteps, 100_000,marker=\"o\",markersize=15, markerfacecolor='none', markeredgecolor='red')\n",
    "\n",
    "# OTHER\n",
    "# b+-- , o:b , r^ , bo    plt.xlabel(\"\") \n",
    "# plt.ylim(bottom=0)  # chart starts from y=0\n",
    "# ax.yaxis.set_minor_locator(ticker.MultipleLocator(20000)) # minor ticks\n",
    "# ax.xaxis.set_minor_locator(ticker.MultipleLocator(2)) # minor ticks\n",
    "# ref: https://matplotlib.org/stable/users/explain/axes/axes_ticks.html\n",
    "\n"
   ]
  },
  {
   "cell_type": "code",
   "execution_count": null,
   "metadata": {},
   "outputs": [],
   "source": []
  },
  {
   "cell_type": "code",
   "execution_count": 21,
   "metadata": {},
   "outputs": [
    {
     "name": "stdout",
     "output_type": "stream",
     "text": [
      "ypt_fx_at_P(x=0): -inf\n"
     ]
    },
    {
     "name": "stderr",
     "output_type": "stream",
     "text": [
      "/tmp/ipykernel_88674/3373503024.py:22: RuntimeWarning: divide by zero encountered in log\n",
      "  fx_fx = lambda x: np.log(x)  # f(x)\n"
     ]
    },
    {
     "data": {
      "text/plain": [
       "<matplotlib.lines.Line2D at 0x7f852c807110>"
      ]
     },
     "execution_count": 21,
     "metadata": {},
     "output_type": "execute_result"
    },
    {
     "data": {
      "image/png": "[encoded data removed]",
      "text/plain": [
       "<Figure size 640x480 with 1 Axes>"
      ]
     },
     "metadata": {},
     "output_type": "display_data"
    }
   ],
   "source": [
    "# from matplotlib.ticker import MaxNLocator\n",
    "# import numpy as np\n",
    "# import matplotlib.pyplot as plt\n",
    "# import matplotlib.ticker as ticker\n",
    "\n",
    "# ### x-values ###\n",
    "# xpt = 0\n",
    "# x_deviation = 100_000\n",
    "# x_no_of_increments = 1_000_000\n",
    "# xs_min = xpt - x_deviation\n",
    "# xs_max = xpt + x_deviation\n",
    "# # xs = np.linspace(xs_min, xs_max, x_increments)  # XS\n",
    "# xs = np.linspace(0, xs_max, x_no_of_increments)  # XS\n",
    "\n",
    "# ### exclude x-values ### (eg f(x!=0)=1/x, f(x>0)=log(x))\n",
    "# # xs = xs[xs != 1]\n",
    "# xs = xs[xs > 0]\n",
    "\n",
    "# ### the function ###\n",
    "# # lbl_fx = r'$f(x)= 6.1t^{2}-9.28t+16.43$'   # LABEL\n",
    "# lbl_fx = r'$f(x)= log(x)$'   # LABEL\n",
    "# fx_fx = lambda x: np.log(x)  # f(x)\n",
    "\n",
    "# ### y-values ###\n",
    "# ys_fx = fx_fx(xs)            # ys=f(xs)\n",
    "# ypt_fx = fx_fx(xpt)\n",
    "# print(f\"ypt_fx_at_P(x={xpt}): {ypt_fx}\")\n",
    "\n",
    "# ### other plots ###\n",
    "# # lbl_fx2 = r'$f(x)=2^x$'\n",
    "# # fx_fx2 = lambda x: 2**x\n",
    "# # ys_fx2 = fx_fx2(xs)\n",
    "\n",
    "# ### derivative ###\n",
    "# # lbl_dydx = r\"$f'(x)=6s(x={xpt_dydx}): {dydx}\")\n",
    "\n",
    "# ### tangent ###\n",
    "# # c_tangent = ypt_fx-(dydx)*(xpt)\n",
    "# # tgt = \"tangent\"\n",
    "# # lbl_tangent = rf'$f_t(x)={dydx:,.1f}t+{c_ta\n",
    "# # ngent:,.1f}$ (tangent at x={xpt})'\n",
    "# # fx_tangent = lambda x: dydx*xs+c_tangent\n",
    "# # ys_tangent = fx_tangent(xs)\n",
    "\n",
    "# ### plot things ####\n",
    "# # plt.plot(xs, ys_fx,  'r^-', linewidth=2, markersize=1, label=lbl_fx)\n",
    "# plt.plot(xs, ys_fx,  'o', markersize=1, label=lbl_fx)\n",
    "# # plt.plot(xs, ys_fx2,  '-', markersize=1, label=lbl_fx2)\n",
    "# # plt.scatter(xs, ys_fx, marker=\"o\")\n",
    "# # plt.scatter(x=xpt, y=fx_fx(xpt), marker=\"o\")\n",
    "# # plt.plot(xs, ys_tangent,      'yo-', linewidth=2, markersize=6, label=lbl_tangent)\n",
    "# # plt.plot(xs, ys_fx2,      'bo-', linewidth=2, markersize=8, label=lbl_fx2)\n",
    "\n",
    "# ##### EXTRAS: title, grid, legend, zooming, ticks, hline, vline, tickers #####\n",
    "\n",
    "# # title\n",
    "# plot_title = lbl_fx\n",
    "# plt.title(plot_title, loc='left')\n",
    "# # plot_title = lbl_fx + f\" & it's tangent at x={xpt}\"\n",
    "# # plot_title = lbl_fx + \"at (4,2)\"\n",
    "# # plot_title = lbl_fx2 + \" and \" + lbl_fx2 + \"at (3,3)\"\n",
    "# # plot_title = lbl_fx + \" and \" + lbl_tangent + \"at (4,2)\"\n",
    "\n",
    "# # grid \n",
    "# plt.grid(color='lightgrey', linestyle='--', linewidth=0.5)\n",
    "\n",
    "# # legend plt.legend(loc='upper right')\n",
    "# plt.legend(loc='lower right')\n",
    "\n",
    "# # zoom! enhance! #\n",
    "# zoom_inc = 5\n",
    "# # plt.xlim(xpt-zoom_inc,xpt+zoom_inc)  # x-rng\n",
    "# # plt.ylim(-0.1, 0.1)  # y-rng\n",
    "\n",
    "# # vertical, horizontal, \n",
    "# ax = plt.gca()  # Get the current axis\n",
    "# ax.axvline(x=xpt, color='grey', linestyle='--', linewidth=0.5)\n",
    "# ax.axhline(y=fx_fx(xpt), color='grey', linestyle='--', linewidth=0.5)\n",
    "\n",
    "# # ax.axvline(x=0, color='grey', linestyle='--', linewidth=0.5)\n",
    "# # ax.axhline(y=fx_fx(xpt), color='grey', linestyle='--', linewidth=0.5)\n",
    "# ax.axhline(y=0, color='grey', linestyle='--', linewidth=0.5)\n",
    "\n",
    "# # X-LIMIT & VALUE\n",
    "# # plt.vlines(x_at_c,linestyles=\"dotted\", ymin=plt.ylim()[0], ymax=max(ys)) # non-monotonic\n",
    "# # plt.plot(x_at_c, 0.5,marker=\"o\",markersize=15, markerfacecolor='none', markeredgecolor='red')\n",
    "\n",
    "# # OTHER\n",
    "# # b+-- , o:b , r^ , bo    plt.xlabel(\"\") \n",
    "# # plt.ylim(bottom=0)  # chart starts from y=0\n",
    "# # ax.yaxis.set_minor_locator(ticker.MultipleLocator(0.000025)) # minor ticks\n",
    "# # ref: https://matplotlib.org/stable/users/explain/axes/axes_ticks.html\n"
   ]
  }
 ],
 "metadata": {
  "kernelspec": {
   "display_name": ".venv",
   "language": "python",
   "name": "python3"
  },
  "language_info": {
   "codemirror_mode": {
    "name": "ipython",
    "version": 3
   },
   "file_extension": ".py",
   "mimetype": "text/x-python",
   "name": "python",
   "nbconvert_exporter": "python",
   "pygments_lexer": "ipython3",
   "version": "3.13.0"
  }
 },
 "nbformat": 4,
 "nbformat_minor": 2
}
