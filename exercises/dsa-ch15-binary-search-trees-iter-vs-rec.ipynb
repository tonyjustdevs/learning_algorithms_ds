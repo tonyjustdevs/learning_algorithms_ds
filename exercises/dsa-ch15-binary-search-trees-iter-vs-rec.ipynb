{
 "cells": [
  {
   "cell_type": "raw",
   "metadata": {
    "vscode": {
     "languageId": "raw"
    }
   },
   "source": [
    "---\n",
    "title: \"DSA : Binary Search Trees - Alternative Approaches\"\n",
    "author: \"Tony Phung\"\n",
    "date: \"2025-02-26\"\n",
    "categories: [data structures, algorithms]\n",
    "image: \"imgs/dsa-tba\"\n",
    "toc: true\n",
    "description: \"Learning to Convert between Recursion and Iterative Versions of the Same Functions\" \n",
    "---"
   ]
  },
  {
   "cell_type": "code",
   "execution_count": 1,
   "metadata": {},
   "outputs": [],
   "source": [
    "class TreeNode:\n",
    "    def __init__(self, data, left=None, right=None):\n",
    "        self.data=data\n",
    "        self.left=left\n",
    "        self.right=right"
   ]
  },
  {
   "cell_type": "code",
   "execution_count": 2,
   "metadata": {},
   "outputs": [],
   "source": [
    "# create a basic tree\n",
    "#             50\n",
    "#      25           75\n",
    "#  10     33     56     89  \n",
    "# 4  11 30  40 52  61 82  95  \n",
    "\n",
    "def create_custom_binary_tree()->TreeNode:\n",
    "    # Level: L4\n",
    "    node04 = TreeNode( 4, left=None, right=None)\n",
    "    node11 = TreeNode(11, left=None, right=None)\n",
    "    node30 = TreeNode(30, left=None, right=None)\n",
    "    node40 = TreeNode(40, left=None, right=None)\n",
    "    # Level: R4\n",
    "    node52 = TreeNode(52, left=None, right=None)\n",
    "    node61 = TreeNode(61, left=None, right=None)\n",
    "    node82 = TreeNode(82, left=None, right=None)\n",
    "    node95 = TreeNode(95, left=None, right=None)\n",
    "\n",
    "    # Level: L3\n",
    "    node10 = TreeNode(10, left=node04, right=node11)\n",
    "    node33 = TreeNode(33, left=node30, right=node40)\n",
    "    # Level: R3\n",
    "    node56 = TreeNode(56, left=node52, right=node61)\n",
    "    node89 = TreeNode(89, left=node82, right=node95)\n",
    "\n",
    "    # Level: L2\n",
    "    node25 = TreeNode(25, left=node10, right=node33)\n",
    "    # Level: R2\n",
    "    node75 = TreeNode(75, left=node56, right=node89)\n",
    "\n",
    "    # Level: L1\n",
    "    root_node = node50 = TreeNode(50, left=node25, right=node75)\n",
    "    return root_node"
   ]
  },
  {
   "cell_type": "code",
   "execution_count": 14,
   "metadata": {},
   "outputs": [],
   "source": [
    "def search_node_iterative(root_node: TreeNode, target: int):\n",
    "    current_node = root_node\n",
    "    if target == current_node.data:\n",
    "        print(f\"Target Found! tgt{target}|node{current_node.data} \")\n",
    "        return   \n",
    "    if target < current_node.data: # go left\n",
    "        if current_node.left:\n",
    "            current_node=current_node.left\n",
    "            return search_node_iterative(current_node, target)\n",
    "        else:\n",
    "            print(f\"Target Not Found! tgt{target}|node{current_node.data} has no left-child \")\n",
    "            return current_node\n",
    "    else:\n",
    "        if current_node.right:\n",
    "            current_node=current_node.right\n",
    "            return search_node_iterative(current_node, target)\n",
    "        else:\n",
    "            print(f\"Target Not Found! tgt{target}|node{current_node.data} has no right-child \")\n",
    "            return current_node\n",
    "    \n",
    "        "
   ]
  },
  {
   "cell_type": "code",
   "execution_count": 15,
   "metadata": {},
   "outputs": [],
   "source": [
    "def search_node_recursion(root_node: TreeNode, target: int):\n",
    "    current_node = root_node\n",
    "    \n",
    "    while current_node:\n",
    "        if target == current_node.data:\n",
    "            print(f\"Target Found! tgt{target}|node{current_node.data} \")\n",
    "            return   \n",
    "        if target < current_node.data: # go left\n",
    "            if current_node.left:\n",
    "                current_node=current_node.left\n",
    "                # return search_node_while(current_node, target)\n",
    "            else:\n",
    "                print(f\"Target Not Found! tgt{target}|node{current_node.data} has no left-child \")\n",
    "                return current_node\n",
    "        else:\n",
    "            if current_node.right:\n",
    "                current_node=current_node.right\n",
    "                # return search_node_while(current_node, target)\n",
    "            else:\n",
    "                print(f\"Target Not Found! tgt{target}|node{current_node.data} has no right-child \")\n",
    "                return current_node"
   ]
  },
  {
   "cell_type": "code",
   "execution_count": 16,
   "metadata": {},
   "outputs": [
    {
     "name": "stdout",
     "output_type": "stream",
     "text": [
      "Target Not Found! tgt3|node4 has no left-child \n",
      "Target Not Found! tgt3|node4 has no left-child \n"
     ]
    },
    {
     "data": {
      "text/plain": [
       "<__main__.TreeNode at 0x7f5f3c2568d0>"
      ]
     },
     "execution_count": 16,
     "metadata": {},
     "output_type": "execute_result"
    }
   ],
   "source": [
    "# create a basic tree\n",
    "#             50\n",
    "#      25           75\n",
    "#  10     33     56     89  \n",
    "# 4  11 30  40 52  61 82  95  \n",
    "\n",
    "root = create_custom_binary_tree()\n",
    "search_node_iterative(root, 3)\n",
    "search_node_recursion(root, 3)"
   ]
  },
  {
   "cell_type": "code",
   "execution_count": 17,
   "metadata": {},
   "outputs": [],
   "source": [
    "def insert_node_recursion(root_node:TreeNode, target: int):\n",
    "    current_node = root_node\n",
    "    if target==current_node.data:\n",
    "        print(f\"Duplicate! Can't insert! value{target}|node{current_node.data}\")\n",
    "        return current_node\n",
    "    # search \n",
    "    if target<current_node.data: # go left\n",
    "        if current_node.left:\n",
    "            current_node=current_node.left\n",
    "            return insert_node_recursion(current_node,target)\n",
    "        else: # insert\n",
    "            current_node.left = TreeNode(target)\n",
    "            print(f\"Inserted target{target} as left-child of node{current_node.data} successfully!\")\n",
    "            return current_node.left\n",
    "    else:\n",
    "        if current_node.right: # go right\n",
    "            current_node=current_node.right\n",
    "            return insert_node_recursion(current_node,target)\n",
    "        else: # insert\n",
    "            current_node.right = TreeNode(target)\n",
    "            print(f\"Inserted target{target} as right-child of node{current_node.data} successfully!\")\n",
    "            return current_node.right\n",
    "        \n",
    "        "
   ]
  },
  {
   "cell_type": "code",
   "execution_count": 20,
   "metadata": {},
   "outputs": [],
   "source": [
    "def insert_node_iterative(root_node: TreeNode, target: int):\n",
    "    current_node = root_node\n",
    "    \n",
    "    while current_node:\n",
    "        if target == current_node.data:\n",
    "            print(f\"Duplicate! Can't insert! value{target}|node{current_node.data}\")\n",
    "            return current_node\n",
    "        if target < current_node.data: # go left\n",
    "            if current_node.left:\n",
    "                current_node=current_node.left\n",
    "                # return insert_node_while(current_node, target)\n",
    "            else: # INSERT LEFT\n",
    "                current_node.left = TreeNode(target)\n",
    "                print(f\"Inserted target{target} as left-child of node{current_node.data} successfully!\")\n",
    "                return current_node.left\n",
    "        else:\n",
    "            if current_node.right:\n",
    "                current_node=current_node.right\n",
    "                # return insert_node_while(current_node, target)\n",
    "            else: # INSERT RIGHT\n",
    "                current_node.right = TreeNode(target)\n",
    "                print(f\"Inserted target{target} as right-child of node{current_node.data} successfully!\")\n",
    "                return current_node.right\n",
    "        "
   ]
  },
  {
   "cell_type": "code",
   "execution_count": 21,
   "metadata": {},
   "outputs": [
    {
     "name": "stdout",
     "output_type": "stream",
     "text": [
      "Inserted target12 as right-child of node11 successfully!\n",
      "Inserted target12 as right-child of node11 successfully!\n"
     ]
    },
    {
     "data": {
      "text/plain": [
       "<__main__.TreeNode at 0x7f5f2c717dd0>"
      ]
     },
     "execution_count": 21,
     "metadata": {},
     "output_type": "execute_result"
    }
   ],
   "source": [
    "#             50            # create a basic tree\n",
    "#      25           75\n",
    "#  10     33     56     89  \n",
    "# 4  11 30  40 52  61 82  95  \n",
    "root = create_custom_binary_tree()\n",
    "insert_node_recursion(root, 12)\n",
    "root = create_custom_binary_tree()\n",
    "insert_node_iterative(root, 12)"
   ]
  },
  {
   "cell_type": "markdown",
   "metadata": {},
   "source": [
    "### 1. `delete_node`: Algorithm\n",
    "### 2. Scenarios\n",
    "* [**A**]: If `target` has **zero-children**, delete it.\n",
    "* [**B**]: If `target` has **one-child**\n",
    "- ***Delete*** `target` then, \n",
    "- ***Place*** (the only) `child` $\\to$ `target`'s **previous location**."
   ]
  },
  {
   "cell_type": "code",
   "execution_count": 139,
   "metadata": {},
   "outputs": [],
   "source": [
    "def delete_node(root_node: TreeNode, target: int, parent_node: TreeNode=None):\n",
    "    current_node = root_node\n",
    "    \n",
    "    if target == current_node.data:\n",
    "    # Determine Scenario A or B or ...\n",
    "        # A - NO-KIDS\n",
    "        if not current_node.left and not current_node.right:                                        # A: NO-KIDS    \n",
    "            print(f\"{current_node.data} has no children! Burn it with fire 🔥! [target:{target}]\")  \n",
    "            ### A - DELETE NODE ###                                                                 # A: NO-KIDS\n",
    "            # point parent_node.left to None (previously parent_node.left -> current_node)          # A: NO-KIDS\n",
    "            # check if it was left or right                                                         # A: NO-KIDS\n",
    "            if parent_node.left:                                                                    # A: NO-KIDS\n",
    "                print(f\"parent.left[{parent_node.left.data}] being deleted [c{current_node.data}|t{target}]\")\n",
    "                parent_node.left = None                                                             # A: NO-KIDS\n",
    "                return\n",
    "            else:                                                                                   # A: NO-KIDS\n",
    "                print(f\"parent.right[{parent_node.right.data}] being deleted [c{current_node.data}|t{target}]\")\n",
    "                parent_node.right = None                                                            # A: NO-KIDS\n",
    "                return                                                                                  # A: NO-KIDS\n",
    "        # B: 1-KID\n",
    "        elif (current_node.left and not current_node.right) or (not current_node.left and current_node.right): # B: 1-KID\n",
    "            #     25 <---------- parent_node # AA: determine current if parent.left or parent.right\n",
    "            #   10 <------------ current_node\n",
    "            # []  11 <---------- tgt_sgl_child\n",
    "            print(f\"parent[{parent_node.data}], current[{current_node.data}], tgt[{target}]\")\n",
    "\n",
    "            target_child_dir = \"\"\n",
    "            if current_node.left:\n",
    "                target_single_child = current_node.left\n",
    "                target_child_dir = \"left\"\n",
    "                print(f\"{current_node.data} has one left-child[{target_single_child.data}] 🐪! [target:{target}]\")              # B: 1-KID\n",
    "            else:\n",
    "                target_single_child = current_node.right\n",
    "                target_child_dir = \"right\"\n",
    "                print(f\"{current_node.data} has one right-child[{target_single_child.data}] 🐪! [target:{target}]\")              # B: 1-KID\n",
    "            \n",
    "            if parent_node.left == current_node:    # AA: determine current if parent.left or parent.right\n",
    "                print(f\"parent[{parent_node.data}]sleft{parent_node.left.data}|curr[{current_node.data}|target[{target}]] replaced with targets_sgl_child_{target_child_dir}:[{target_single_child.data}]]\")              # B: 1-KID\n",
    "                parent_node.left = target_single_child\n",
    "                return parent_node.left\n",
    "            else:   \n",
    "                print(f\"parent[{parent_node.data}]sright{parent_node.right.data}|curr[{current_node.data}|target[{target}]] replaced with targets_sgl_child_{target_child_dir}:[{target_single_child.data}]]\")              # B: 1-KID\n",
    "                parent_node.right = target_single_child                              \n",
    "                return parent_node.right\n",
    "\n",
    "        elif current_node.left and current_node.right:                                        # A - NO KIDS    :\n",
    "            print(f\"{current_node.data} has children! poor guy 🚸! [target:{target}]\")              \n",
    "            return                                                                                  # C - TWO KIDS\n",
    "        else:\n",
    "            print(\"this shouldnt print\")\n",
    "    parent_node = current_node\n",
    "    \n",
    "    if target < current_node.data: # go left\n",
    "        if current_node.left:\n",
    "            current_node = current_node.left\n",
    "            return delete_node(current_node, target, parent_node)\n",
    "        else:\n",
    "            print(f\"{current_node.data} has no left-children ⛓️‍💥! [target:{target}]\")\n",
    "    else:\n",
    "        if current_node.right:\n",
    "            current_node = current_node.right\n",
    "            return delete_node(current_node, target, parent_node)\n",
    "        else:\n",
    "            print(f\"{current_node.data} has no right-children 🍀! [target:{target}]\")\n",
    "            "
   ]
  },
  {
   "cell_type": "code",
   "execution_count": null,
   "metadata": {},
   "outputs": [
    {
     "name": "stdout",
     "output_type": "stream",
     "text": [
      "4 has no children! Burn it with fire 🔥! [target:4]\n",
      "parent.left[4] being deleted [c4|t4]\n",
      "\n",
      "t4 vs c50\n",
      "Searching: t4 | c50\n",
      "Searching: t4 | c25\n",
      "Searching: t4 | c10\n",
      "\tTarget Not Found! 10 has no left-child\n",
      "\n",
      "t10 vs c50\n",
      "Searching: t10 | c50\n",
      "Searching: t10 | c25\n",
      "Searching: t10 | c10\n",
      "\tTarget Found!: t10 | c10\n",
      "\n",
      "parent[25], current[10], tgt[10]\n",
      "10 has one right-child[11] 🐪! [target:10]\n",
      "parent[25]sleft10|curr[10|target[10]] replaced with targets_sgl_child_right:[11]]\n",
      "\n",
      "t10 vs c50\n",
      "Searching: t10 | c50\n",
      "Searching: t10 | c25\n",
      "Searching: t10 | c11\n",
      "\tTarget Not Found! 11 has no left-child\n",
      "\n",
      "\n",
      "11 has no left-children ⛓️‍💥! [target:10]\n",
      "\n",
      "\n",
      "11 has no children! Burn it with fire 🔥! [target:11]\n",
      "parent.left[11] being deleted [c11|t11]\n",
      "\n",
      "\n",
      "25 has no left-children ⛓️‍💥! [target:11]\n",
      "\n",
      "\n",
      "parent[50], current[25], tgt[25]\n",
      "25 has one right-child[33] 🐪! [target:25]\n",
      "parent[50]sleft25|curr[25|target[25]] replaced with targets_sgl_child_right:[33]]\n",
      "\n",
      "\n",
      "t33 vs c50\n",
      "Searching: t33 | c50\n",
      "Searching: t33 | c33\n",
      "\tTarget Found!: t33 | c33\n",
      "\n",
      "\n",
      "t30 vs c50\n",
      "Searching: t30 | c50\n",
      "Searching: t30 | c33\n",
      "Searching: t30 | c30\n",
      "\tTarget Found!: t30 | c30\n",
      "\n",
      "\n",
      "t40 vs c50\n",
      "Searching: t40 | c50\n",
      "Searching: t40 | c33\n",
      "Searching: t40 | c40\n",
      "\tTarget Found!: t40 | c40\n"
     ]
    },
    {
     "data": {
      "text/plain": [
       "<__main__.TreeNode at 0x7f5fc2a50d10>"
      ]
     },
     "execution_count": 147,
     "metadata": {},
     "output_type": "execute_result"
    }
   ],
   "source": [
    "# create a basic tree\n",
    "#             50            \n",
    "#      25           75\n",
    "#  10     33     56     89  \n",
    "# 4  11 30  40 52  61 82  95  \n",
    "root = create_custom_binary_tree()\n",
    "delete_node(root,4)\n",
    "print()\n",
    "search_node_recursion(root,4)\n",
    "#             50            \n",
    "#      25           75\n",
    "#   10     33     56     89  \n",
    "# []  11 30  40 52  61 82  95  \n",
    "print()\n",
    "search_node_recursion(root,10)\n",
    "print()\n",
    "delete_node(root,10)\n",
    "print()\n",
    "search_node_recursion(root, 10)\n",
    "# create a basic tree\n",
    "#             50            \n",
    "#      25           75\n",
    "#  [11]     33     56     89  \n",
    "# []  []  30  40 52  61 82  95  \n",
    "\n",
    "print()\n",
    "print()\n",
    "delete_node(root,10)\n",
    "\n",
    "# create a basic tree\n",
    "#             50            \n",
    "#      25           75\n",
    "#   []     33     56     89  \n",
    "# []  []  30  40 52  61 82  95  \n",
    "\n",
    "print()\n",
    "print()\n",
    "delete_node(root,11)\n",
    "\n",
    "\n",
    "# create a basic tree\n",
    "#             50            \n",
    "#      25           75\n",
    "#   []     33     56     89  \n",
    "# []  []  30  40 52  61 82  95  \n",
    "\n",
    "print()\n",
    "print()\n",
    "delete_node(root,11)\n",
    "\n",
    "\n",
    "print()\n",
    "print()\n",
    "delete_node(root,25)\n",
    "\n",
    "# create a basic tree\n",
    "#             50            \n",
    "#      []           75\n",
    "#   []     33     56     89  \n",
    "# []  []  30  40 52  61 82  95  \n",
    "\n",
    "#             50            \n",
    "#      33          75\n",
    "#   30   40     56    89  \n",
    "# []  []  []   52  61 82  95  \n",
    "\n",
    "print()\n",
    "print()\n",
    "search_node_recursion(root,33)\n",
    "\n",
    "print()\n",
    "print()\n",
    "search_node_recursion(root,30)\n",
    "\n",
    "\n",
    "print()\n",
    "print()\n",
    "search_node_recursion(root,40)"
   ]
  },
  {
   "cell_type": "code",
   "execution_count": null,
   "metadata": {},
   "outputs": [],
   "source": [
    "#             50            \n",
    "#      33          75\n",
    "#   30   40     56    89  \n",
    "# []  []  []   52  61 82  95  \n"
   ]
  },
  {
   "cell_type": "code",
   "execution_count": null,
   "metadata": {},
   "outputs": [],
   "source": []
  },
  {
   "cell_type": "code",
   "execution_count": null,
   "metadata": {},
   "outputs": [],
   "source": []
  },
  {
   "cell_type": "code",
   "execution_count": null,
   "metadata": {},
   "outputs": [],
   "source": []
  },
  {
   "cell_type": "code",
   "execution_count": null,
   "metadata": {},
   "outputs": [
    {
     "name": "stdout",
     "output_type": "stream",
     "text": [
      "Node:50 | Target:69\n",
      "Node:75 | Target:69\n",
      "Node:56 | Target:69\n",
      "Node:61 | Target:69\n",
      "\tTarget Not Found! Node:61 > Target:69 but has no right child\n"
     ]
    }
   ],
   "source": [
    "# create a basic tree\n",
    "#             50\n",
    "#      25           75\n",
    "#  10     33     56     89  \n",
    "# 4  11 30  40 52  61 82  95  \n",
    "\n",
    "root = create_custom_binary_tree()\n",
    "search_node_iterative(root, 69)"
   ]
  }
 ],
 "metadata": {
  "kernelspec": {
   "display_name": ".venv",
   "language": "python",
   "name": "python3"
  },
  "language_info": {
   "codemirror_mode": {
    "name": "ipython",
    "version": 3
   },
   "file_extension": ".py",
   "mimetype": "text/x-python",
   "name": "python",
   "nbconvert_exporter": "python",
   "pygments_lexer": "ipython3",
   "version": "3.13.0"
  }
 },
 "nbformat": 4,
 "nbformat_minor": 2
}
