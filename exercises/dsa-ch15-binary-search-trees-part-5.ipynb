{
 "cells": [
  {
   "cell_type": "raw",
   "metadata": {
    "vscode": {
     "languageId": "raw"
    }
   },
   "source": [
    "---\n",
    "title: \"DSA 42: Binary Search Trees - Alternative Approaches [Part 5]\"\n",
    "author: \"Tony Phung\"\n",
    "date: \"2025-02-27\"\n",
    "categories: [data structures, algorithms]\n",
    "image: \"imgs/dsa-ch15-iter-rec.jpg\"\n",
    "toc: true\n",
    "description: \"Learning to Convert between Recursion and Iterative Approaches\" \n",
    "---"
   ]
  },
  {
   "cell_type": "markdown",
   "metadata": {},
   "source": [
    "![](imgs/dsa-ch15-iter-rec.jpg)"
   ]
  },
  {
   "cell_type": "markdown",
   "metadata": {},
   "source": [
    "# 1. Create `TreeNode` class: Setup\n",
    "\n",
    "Previously [introduced](https://tonyjustdevs.github.io/blog/posts/computerscience/datastructuresandalgorithms/dsa-039-binary-search-trees-part-2.html)."
   ]
  },
  {
   "cell_type": "code",
   "execution_count": 42,
   "metadata": {},
   "outputs": [],
   "source": [
    "class TreeNode:\n",
    "    def __init__(self, data, left=None, right=None):\n",
    "        self.data=data\n",
    "        self.left=left\n",
    "        self.right=right"
   ]
  },
  {
   "cell_type": "markdown",
   "metadata": {},
   "source": [
    "# 2. Create `BinaryTree`: Setup\n",
    "By connecting individual `TreeNodes`.\n",
    "\n",
    "Previously [introduced](https://tonyjustdevs.github.io/blog/posts/computerscience/datastructuresandalgorithms/dsa-040-binary-search-trees-part-3.html#create-binary-tree).\n"
   ]
  },
  {
   "cell_type": "code",
   "execution_count": 43,
   "metadata": {},
   "outputs": [],
   "source": [
    "# create a basic tree\n",
    "#             50\n",
    "#      25           75\n",
    "#  10     33     56     89  \n",
    "# 4  11 30  40 52  61 82  95  \n",
    "\n",
    "def create_custom_binary_tree()->TreeNode:\n",
    "    # Level: L4\n",
    "    node04 = TreeNode( 4, left=None, right=None)\n",
    "    node11 = TreeNode(11, left=None, right=None)\n",
    "    node30 = TreeNode(30, left=None, right=None)\n",
    "    node40 = TreeNode(40, left=None, right=None)\n",
    "    # Level: R4\n",
    "    node52 = TreeNode(52, left=None, right=None)\n",
    "    node61 = TreeNode(61, left=None, right=None)\n",
    "    node82 = TreeNode(82, left=None, right=None)\n",
    "    node95 = TreeNode(95, left=None, right=None)\n",
    "\n",
    "    # Level: L3\n",
    "    node10 = TreeNode(10, left=node04, right=node11)\n",
    "    node33 = TreeNode(33, left=node30, right=node40)\n",
    "    # Level: R3\n",
    "    node56 = TreeNode(56, left=node52, right=node61)\n",
    "    node89 = TreeNode(89, left=node82, right=node95)\n",
    "\n",
    "    # Level: L2\n",
    "    node25 = TreeNode(25, left=node10, right=node33)\n",
    "    # Level: R2\n",
    "    node75 = TreeNode(75, left=node56, right=node89)\n",
    "\n",
    "    # Level: L1\n",
    "    root_node = node50 = TreeNode(50, left=node25, right=node75)\n",
    "    return root_node"
   ]
  },
  {
   "cell_type": "markdown",
   "metadata": {},
   "source": [
    "# 3. `search_node`\n",
    "# 3.1 `search_node`: Recursive Approach"
   ]
  },
  {
   "cell_type": "code",
   "execution_count": 44,
   "metadata": {},
   "outputs": [],
   "source": [
    "def search_node_recursive(root_node: TreeNode, target: int):\n",
    "    current_node = root_node\n",
    "    if target == current_node.data:\n",
    "        print(f\"Target Found! tgt{target}|node{current_node.data} \")\n",
    "        return   \n",
    "    if target < current_node.data: # go left\n",
    "        if current_node.left:\n",
    "            current_node=current_node.left\n",
    "            return search_node_recursive(current_node, target)\n",
    "        else:\n",
    "            print(f\"Target Not Found! tgt{target}|node{current_node.data} has no left-child \")\n",
    "            return current_node\n",
    "    else:\n",
    "        if current_node.right:\n",
    "            current_node=current_node.right\n",
    "            return search_node_recursive(current_node, target)\n",
    "        else:\n",
    "            print(f\"Target Not Found! tgt{target}|node{current_node.data} has no right-child \")\n",
    "            return current_node"
   ]
  },
  {
   "cell_type": "markdown",
   "metadata": {},
   "source": [
    "# 3.2 `search_node`: Iterative Approach"
   ]
  },
  {
   "cell_type": "code",
   "execution_count": 45,
   "metadata": {},
   "outputs": [],
   "source": [
    "def search_node_iterative(root_node: TreeNode, target: int):\n",
    "    current_node = root_node\n",
    "    \n",
    "    while current_node:\n",
    "        if target == current_node.data:\n",
    "            print(f\"Target Found! tgt{target}|node{current_node.data} \")\n",
    "            return   \n",
    "        if target < current_node.data: # go left\n",
    "            if current_node.left:\n",
    "                current_node=current_node.left\n",
    "                # return search_node_while(current_node, target)\n",
    "            else:\n",
    "                print(f\"Target Not Found! tgt{target}|node{current_node.data} has no left-child \")\n",
    "                return current_node\n",
    "        else:\n",
    "            if current_node.right:\n",
    "                current_node=current_node.right\n",
    "                # return search_node_while(current_node, target)\n",
    "            else:\n",
    "                print(f\"Target Not Found! tgt{target}|node{current_node.data} has no right-child \")\n",
    "                return current_node"
   ]
  },
  {
   "cell_type": "markdown",
   "metadata": {},
   "source": [
    "# 3.3 `search_node`: Testing Both Approaches"
   ]
  },
  {
   "cell_type": "code",
   "execution_count": 46,
   "metadata": {},
   "outputs": [
    {
     "name": "stdout",
     "output_type": "stream",
     "text": [
      "Target Found! tgt61|node61 \n",
      "Target Found! tgt61|node61 \n",
      "\n",
      "\n",
      "Target Not Found! tgt3|node4 has no left-child \n",
      "Target Not Found! tgt3|node4 has no left-child \n"
     ]
    },
    {
     "data": {
      "text/plain": [
       "<__main__.TreeNode at 0x7fbaf855f9d0>"
      ]
     },
     "execution_count": 46,
     "metadata": {},
     "output_type": "execute_result"
    }
   ],
   "source": [
    "# create a basic tree\n",
    "#             50\n",
    "#      25           75\n",
    "#  10     33     56     89  \n",
    "# 4  11 30  40 52  61 82  95  \n",
    "\n",
    "root = create_custom_binary_tree()\n",
    "\n",
    "search_node_recursive(root, 61)\n",
    "search_node_iterative(root, 61)\n",
    "\n",
    "print()\n",
    "print()\n",
    "search_node_recursive(root, 3)\n",
    "search_node_iterative(root, 3)"
   ]
  },
  {
   "cell_type": "markdown",
   "metadata": {},
   "source": [
    "# 4.  `insert_node`\n",
    "# 4.1 `insert_node`: Recursive Approach"
   ]
  },
  {
   "cell_type": "code",
   "execution_count": 47,
   "metadata": {},
   "outputs": [],
   "source": [
    "def insert_node_recursion(root_node:TreeNode, target: int):\n",
    "    current_node = root_node\n",
    "    if target==current_node.data:\n",
    "        print(f\"Duplicate! Can't insert! value{target}|node{current_node.data}\")\n",
    "        return current_node\n",
    "    # search \n",
    "    if target<current_node.data: # go left\n",
    "        if current_node.left:\n",
    "            current_node=current_node.left\n",
    "            return insert_node_recursion(current_node,target)\n",
    "        else: # insert\n",
    "            current_node.left = TreeNode(target)\n",
    "            print(f\"Inserted target{target} as left-child of node{current_node.data} successfully!\")\n",
    "            return current_node.left\n",
    "    else:\n",
    "        if current_node.right: # go right\n",
    "            current_node=current_node.right\n",
    "            return insert_node_recursion(current_node,target)\n",
    "        else: # insert\n",
    "            current_node.right = TreeNode(target)\n",
    "            print(f\"Inserted target{target} as right-child of node{current_node.data} successfully!\")\n",
    "            return current_node.right"
   ]
  },
  {
   "cell_type": "markdown",
   "metadata": {},
   "source": [
    "# 4.2 `insert_node`: Iterative Approach"
   ]
  },
  {
   "cell_type": "code",
   "execution_count": 48,
   "metadata": {},
   "outputs": [],
   "source": [
    "def insert_node_iterative(root_node: TreeNode, target: int):\n",
    "    current_node = root_node\n",
    "    \n",
    "    while current_node:\n",
    "        if target == current_node.data:\n",
    "            print(f\"Duplicate! Can't insert! value{target}|node{current_node.data}\")\n",
    "            return current_node\n",
    "        if target < current_node.data: # go left\n",
    "            if current_node.left:\n",
    "                current_node=current_node.left\n",
    "                # return insert_node_while(current_node, target)\n",
    "            else: # INSERT LEFT\n",
    "                current_node.left = TreeNode(target)\n",
    "                print(f\"Inserted target{target} as left-child of node{current_node.data} successfully!\")\n",
    "                return current_node.left\n",
    "        else:\n",
    "            if current_node.right:\n",
    "                current_node=current_node.right\n",
    "                # return insert_node_while(current_node, target)\n",
    "            else: # INSERT RIGHT\n",
    "                current_node.right = TreeNode(target)\n",
    "                print(f\"Inserted target{target} as right-child of node{current_node.data} successfully!\")\n",
    "                return current_node.right"
   ]
  },
  {
   "cell_type": "markdown",
   "metadata": {},
   "source": [
    "# 4.3 `insert_node`: Testing Both Approaches\n"
   ]
  },
  {
   "cell_type": "code",
   "execution_count": 49,
   "metadata": {},
   "outputs": [
    {
     "name": "stdout",
     "output_type": "stream",
     "text": [
      "Inserted target12 as right-child of node11 successfully!\n",
      "Duplicate! Can't insert! value12|node12\n",
      "\n",
      "\n",
      "Inserted target12 as right-child of node11 successfully!\n",
      "Duplicate! Can't insert! value12|node12\n"
     ]
    },
    {
     "data": {
      "text/plain": [
       "<__main__.TreeNode at 0x7fbaf8363190>"
      ]
     },
     "execution_count": 49,
     "metadata": {},
     "output_type": "execute_result"
    }
   ],
   "source": [
    "#             50            # create a basic tree\n",
    "#      25           75\n",
    "#  10     33     56     89  \n",
    "# 4  11 30  40 52  61 82  95  \n",
    "root = create_custom_binary_tree()\n",
    "insert_node_recursion(root, 12)\n",
    "insert_node_recursion(root, 12)\n",
    "\n",
    "print()\n",
    "print()\n",
    "root = create_custom_binary_tree()\n",
    "insert_node_iterative(root, 12)\n",
    "insert_node_iterative(root, 12)"
   ]
  }
 ],
 "metadata": {
  "kernelspec": {
   "display_name": "blog-T-2huGx2",
   "language": "python",
   "name": "python3"
  },
  "language_info": {
   "codemirror_mode": {
    "name": "ipython",
    "version": 3
   },
   "file_extension": ".py",
   "mimetype": "text/x-python",
   "name": "python",
   "nbconvert_exporter": "python",
   "pygments_lexer": "ipython3",
   "version": "3.10.12"
  }
 },
 "nbformat": 4,
 "nbformat_minor": 2
}
