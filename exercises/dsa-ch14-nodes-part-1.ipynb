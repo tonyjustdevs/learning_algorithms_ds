{
 "cells": [
  {
   "cell_type": "raw",
   "metadata": {
    "vscode": {
     "languageId": "raw"
    }
   },
   "source": [
    "---\n",
    "title: \"DSA: Nodes & Linked Lists [Part 1]\"\n",
    "author: \"Tony Phung\"\n",
    "date: \"2025-02-15\"\n",
    "categories: [data structures, algorithms]\n",
    "image: \"imgs/dsa-ch14-nodes.png\"\n",
    "toc: true\n",
    "description: \"A brief introduction to node-based data structures\"\n",
    "---"
   ]
  },
  {
   "cell_type": "markdown",
   "metadata": {},
   "source": [
    "![](imgs/dsa-ch14-nodes.png)"
   ]
  },
  {
   "cell_type": "markdown",
   "metadata": {},
   "source": [
    "# 1. `Node`\n",
    "\n",
    "Has *two primary instance* attributes:\n",
    "\n",
    "* `.data`: The data for the node to store (`string` used below)\n",
    "* `next_node`: link to the next node\n",
    "\n",
    "Unlikes `arrays`, nodes (and node data) are not stored **contiguously** in memory, rather each node points to the `next_node`.\n",
    "\n",
    "The **benefit** to:\n",
    "\n",
    "* not being contiguous in memory is nodes, thus\n",
    "* will not have the same issues as `arrays` to find a available slot of memory to store.\n",
    "\n",
    "The **drawback** is nodes take up more memory.\n"
   ]
  },
  {
   "cell_type": "code",
   "execution_count": 24,
   "metadata": {},
   "outputs": [
    {
     "name": "stdout",
     "output_type": "stream",
     "text": [
      "I've\tpaid\n",
      "paid\tmy\n",
      "my\tdues\n",
      "dues\n"
     ]
    }
   ],
   "source": [
    "class Node():\n",
    "    def __init__(self, data):\n",
    "        self.data = data\n",
    "        self.next_node = None\n",
    "        \n",
    "node0 = Node(\"I've\")\n",
    "node1 = Node(\"paid\")\n",
    "node2 = Node(\"my\")\n",
    "node3 = Node(\"dues\")\n",
    "\n",
    "node0.next_node = node1\n",
    "node1.next_node = node2\n",
    "node2.next_node = node3\n",
    "node3.next_node = None\n",
    "\n",
    "print(node0.data, node0.next_node.data,sep=\"\\t\")\n",
    "print(node1.data, node1.next_node.data,sep=\"\\t\")\n",
    "print(node2.data, node2.next_node.data,sep=\"\\t\")\n",
    "print(node3.data)"
   ]
  },
  {
   "cell_type": "markdown",
   "metadata": {},
   "source": [
    "# 2. `LinkedList`\n",
    "\n",
    "The only information required at (this point) to instantiate a `LinkedList` is to supply a single instance attribute argument `firstnode`:\n",
    "\n",
    "* By providing `node0` *node* instance created earlier,  \n",
    "* We can navigate to all subsequence *nodes* (node instances) with `.next_node` attribute of each node &  \n",
    "* Obtain data from each nodes `.data` instance attributes.  "
   ]
  },
  {
   "cell_type": "code",
   "execution_count": 25,
   "metadata": {},
   "outputs": [
    {
     "name": "stdout",
     "output_type": "stream",
     "text": [
      "I've\n",
      "paid\n",
      "my\n",
      "dues\n"
     ]
    }
   ],
   "source": [
    "class LinkedList:\n",
    "    def __init__(self, first_node):\n",
    "        self.first_node = first_node\n",
    "        \n",
    "ll = LinkedList(node0)\n",
    "\n",
    "print(ll.first_node.data)\n",
    "print(ll.first_node.next_node.data)\n",
    "print(ll.first_node.next_node.next_node.data)\n",
    "print(ll.first_node.next_node.next_node.next_node.data)"
   ]
  }
 ],
 "metadata": {
  "kernelspec": {
   "display_name": ".venv",
   "language": "python",
   "name": "python3"
  },
  "language_info": {
   "codemirror_mode": {
    "name": "ipython",
    "version": 3
   },
   "file_extension": ".py",
   "mimetype": "text/x-python",
   "name": "python",
   "nbconvert_exporter": "python",
   "pygments_lexer": "ipython3",
   "version": "3.13.0"
  }
 },
 "nbformat": 4,
 "nbformat_minor": 2
}
