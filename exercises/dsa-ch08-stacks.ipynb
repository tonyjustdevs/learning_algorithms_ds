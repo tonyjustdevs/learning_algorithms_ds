{
 "cells": [
  {
   "cell_type": "raw",
   "metadata": {
    "vscode": {
     "languageId": "raw"
    }
   },
   "source": [
    "---\n",
    "title: \"DSA 13: Stacks\"\n",
    "author: \"Tony Phung\"\n",
    "date: \"2025-01-25\"\n",
    "categories: [data structures, algorithms]\n",
    "image: \"imgs/dsa-ch09-rat.jpg\"\n",
    "toc: true\n",
    "description: \"Sometimes, it's nice to be strucutred & orderly\"\n",
    "---"
   ]
  },
  {
   "cell_type": "markdown",
   "metadata": {
    "vscode": {
     "languageId": "raw"
    }
   },
   "source": [
    "![](imgs/dsa-ch09-rat.jpg)"
   ]
  },
  {
   "cell_type": "markdown",
   "metadata": {
    "vscode": {
     "languageId": "raw"
    }
   },
   "source": [
    "# 1. Stacks & Queues (S & Q's)\n",
    "\n",
    "`stacks` and  `queues` are **arrays** ***with restrictions***."
   ]
  },
  {
   "cell_type": "markdown",
   "metadata": {},
   "source": [
    "## 1.1 Use-Cases\n",
    "S & Q's are great for handling  **temporary data** such as:\n",
    "\n",
    "* operating system architecture\n",
    "* printing jobs\n",
    "* traversing data\n",
    "* a chef receiving menu orders\n",
    "\n",
    "## 1.2 Importance Of Order\n",
    "\n",
    "* Stacks and Queues a special focus on the ***order*** in which the data is \n",
    "handled."
   ]
  },
  {
   "cell_type": "markdown",
   "metadata": {},
   "source": [
    "## 1.3 **Temporary data** - Orders Sent To A Kitchen\n",
    "\n",
    "![](imgs/dsa-ch09-rat.jpg)\n",
    "\n",
    "Temporary data are like the *food orders* sent to *diners kitchen* for a chef to cook:\n",
    "\n",
    "* The food order is important until the meal is made and delivered.\n",
    "    - The chef only requires the food order (the items to be cooked), not a receipt.\n",
    "* After order **fulfilled** (or *processed*), the food order slip is thrown away. \n",
    "    - The food order produces a receipt but that is a separate thing from the food order itself.\n",
    "    - The chef does not cook a dish based on a receipt (generally):\n",
    "        - May include information not required by the Chef such as Prices, Taxes, Fees and other."
   ]
  },
  {
   "cell_type": "markdown",
   "metadata": {},
   "source": [
    "## 1.4 It is **Temporary**...\n",
    "\n",
    "* The data will have **some meaning** before being *processed*.\n",
    "* The data will be *processed*.\n",
    "* After data is *processed*:  \n",
    " \n",
    "    - The data has **no meaning**\n",
    "    - The data is **deleted** (since it has no meaning, why keep it)"
   ]
  },
  {
   "cell_type": "markdown",
   "metadata": {},
   "source": [
    "# 2. Stacks\n",
    "\n",
    "A stack is an array with three restrictions:\n",
    "\n",
    "* **Insertion** or `push()`: \n",
    "\n",
    "    - only *at* the ***end*** of a stack.\n",
    "* **Deletion** or `pop()`: \n",
    "\n",
    "    - only *from* the ***end*** of a stack.\n",
    "* **Read** or `get()`: \n",
    "\n",
    "    - only the ***last*** element of a stack."
   ]
  },
  {
   "cell_type": "markdown",
   "metadata": {
    "vscode": {
     "languageId": "raw"
    }
   },
   "source": [
    "## 2.1 Stacks - Operations Visual\n",
    "\n",
    "![](imgs/dsa-ch09-stack-ops.png)\n"
   ]
  },
  {
   "cell_type": "markdown",
   "metadata": {
    "vscode": {
     "languageId": "raw"
    }
   },
   "source": [
    "## 2.2 Stacks - Array vs Stack\n",
    "\n",
    "Visually a stack is like an array tilted rotate up 90 degrees.\n",
    "\n",
    "* **Start** of the *array* `2` becomes `bottom` of the *stack*\n",
    "* **End** of the *array* `8` becomes `top` of the *stack*"
   ]
  },
  {
   "cell_type": "markdown",
   "metadata": {},
   "source": [
    "![](imgs/dsa-ch09-array-stack.png)"
   ]
  },
  {
   "cell_type": "markdown",
   "metadata": {},
   "source": [
    "#### 2.2.1 My Psuedo\n",
    "* 1a. Create [stack] class\n",
    "\n",
    "* 2a. [instance attribute] [self.data]: []  (type: list)\n",
    "\n",
    "* 3a. [instance method] push(element):\n",
    "* 3b. - add [element] to [self.data]\n",
    "\n",
    "* 4a. [instance method] pop():\n",
    "\n",
    "* 4b. - check len(self.data) > 0\n",
    "\n",
    "* 4c.   - return [self.data.pop()]\n",
    "\n",
    "* 5a. [instance method] read():\n",
    "\n",
    "* 5b. - check len(self.data) > 0\n",
    "\n",
    "* 5c. return self.data[-1]\n"
   ]
  },
  {
   "cell_type": "markdown",
   "metadata": {},
   "source": [
    "## 2.3 `Stack` Class Implementation "
   ]
  },
  {
   "cell_type": "code",
   "execution_count": 26,
   "metadata": {},
   "outputs": [],
   "source": [
    "class TonyIntStack:\n",
    "    def __init__(self):\n",
    "        self.data = []\n",
    "    \n",
    "    def push(self, new_element:int):\n",
    "        \n",
    "        self.data.append(new_element)\n",
    "        print(f\"push({new_element}): {new_element} added to stack: {self.data}\")\n",
    "        \n",
    "        \n",
    "    def pop(self):\n",
    "        if len(self.data)>0:\n",
    "            popped = self.data.pop()\n",
    "            print(f\"pop(): {popped} removed from stack: {self.data}\")\n",
    "        else:\n",
    "            print(f\"pop(): it's empty stack: {self.data}\")\n",
    "        \n",
    "    def read(self):\n",
    "        if len(self.data)>0:\n",
    "            top = self.data[-1]\n",
    "            print(f\"read(): {top} is at the top of the stack: {self.data}\")\n",
    "            return self.data[-1]    \n",
    "        else:\n",
    "            print(f\"read(): it's empty stack! {self.data}\")\n",
    "            \n",
    "        "
   ]
  },
  {
   "cell_type": "markdown",
   "metadata": {},
   "source": [
    "## 2.4 Test the `stack` object\n"
   ]
  },
  {
   "cell_type": "code",
   "execution_count": 29,
   "metadata": {},
   "outputs": [
    {
     "name": "stdout",
     "output_type": "stream",
     "text": [
      "read(): it's empty stack! []\n",
      "push(12): 12 added to stack: [12]\n",
      "push(345): 345 added to stack: [12, 345]\n",
      "pop(): 345 removed from stack: [12]\n",
      "read(): 12 is at the top of the stack: [12]\n",
      "push(666): 666 added to stack: [12, 666]\n",
      "push(789): 789 added to stack: [12, 666, 789]\n",
      "read(): 789 is at the top of the stack: [12, 666, 789]\n",
      "pop(): 789 removed from stack: [12, 666]\n",
      "read(): 666 is at the top of the stack: [12, 666]\n",
      "pop(): 666 removed from stack: [12]\n",
      "pop(): 12 removed from stack: []\n",
      "pop(): it's empty stack: []\n",
      "pop(): it's empty stack: []\n"
     ]
    }
   ],
   "source": [
    "tony_stack = TonyIntStack()\n",
    "tony_stack.read()\n",
    "\n",
    "tony_stack.push(12)\n",
    "tony_stack.push(345)\n",
    "tony_stack.pop()\n",
    "tony_stack.read()\n",
    "tony_stack.push(666)\n",
    "tony_stack.push(789)\n",
    "tony_stack.read()\n",
    "tony_stack.pop()\n",
    "tony_stack.read()\n",
    "tony_stack.pop()\n",
    "tony_stack.pop()\n",
    "tony_stack.pop()\n",
    "tony_stack.pop()\n",
    "\n"
   ]
  }
 ],
 "metadata": {
  "kernelspec": {
   "display_name": ".venv",
   "language": "python",
   "name": "python3"
  },
  "language_info": {
   "codemirror_mode": {
    "name": "ipython",
    "version": 3
   },
   "file_extension": ".py",
   "mimetype": "text/x-python",
   "name": "python",
   "nbconvert_exporter": "python",
   "pygments_lexer": "ipython3",
   "version": "3.13.0"
  }
 },
 "nbformat": 4,
 "nbformat_minor": 2
}
