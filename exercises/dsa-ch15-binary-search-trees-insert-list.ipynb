{
 "cells": [
  {
   "cell_type": "raw",
   "metadata": {
    "vscode": {
     "languageId": "raw"
    }
   },
   "source": [
    "---\n",
    "title: \"DSA : Binary Search Trees - Sir-Insert-A-Lot\"\n",
    "author: \"Tony Phung\"\n",
    "date: \"2025-02-27\"\n",
    "categories: [data structures, algorithms]\n",
    "image: \"imgs/dsa-tba\"\n",
    "toc: true\n",
    "description: \"Insert a List of Integers into a Binary-Tree\" \n",
    "---"
   ]
  },
  {
   "cell_type": "code",
   "execution_count": 1,
   "metadata": {},
   "outputs": [],
   "source": [
    "class TreeNode:\n",
    "    def __init__(self, data, left=None, right=None):\n",
    "        self.data=data\n",
    "        self.left=left\n",
    "        self.right=right"
   ]
  },
  {
   "cell_type": "code",
   "execution_count": 37,
   "metadata": {},
   "outputs": [
    {
     "name": "stdout",
     "output_type": "stream",
     "text": [
      "c[50]|t[50]: \t\t\t\tNo Duplicate Allowed!\n",
      "\n",
      "c[50]|t[1]: c[50] has no left-child: \tinserted t[1]cl[1]\n",
      "\n",
      "c[50]|t[1]: c[50] has left-child: \tgoing left c[1]\n",
      "c[1]|t[1]: \t\t\t\tNo Duplicate Allowed!\n",
      "\n",
      "c[50]|t[51]: c[50] has no right-child: \tinserted t[51]cl[51]\n",
      "\n",
      "c[50]|t[53]: c[50] has right-child: \tgoing right c[51]\n",
      "c[51]|t[53]: c[51] has no right-child: \tinserted t[53]cl[53]\n",
      "\n",
      "c[50]|t[52]: c[50] has right-child: \tgoing right c[51]\n",
      "c[51]|t[52]: c[51] has right-child: \tgoing right c[53]\n",
      "c[53]|t[52]: c[53] has no left-child: \tinserted t[52]cl[52]\n",
      "\n",
      "c[50]|t[52]: c[50] has right-child: \tgoing right c[51]\n",
      "c[51]|t[52]: c[51] has right-child: \tgoing right c[53]\n",
      "c[53]|t[52]: c[53] has left-child: \tgoing left c[52]\n",
      "c[52]|t[52]: \t\t\t\tNo Duplicate Allowed!\n",
      "\n"
     ]
    }
   ],
   "source": [
    "def insert_node(root_node: TreeNode, target: int):\n",
    "    current_node = root_node\n",
    "    if current_node.data==target:\n",
    "        print(f\"c[{current_node.data}]|t[{target}]: \\t\\t\\t\\tNo Duplicate Allowed!\")\n",
    "        return   \n",
    "    \n",
    "    if target<current_node.data: # t<c -> left\n",
    "        if current_node.left: # go left: if exists \n",
    "            #   50\n",
    "            #  1\n",
    "            print(f\"c[{current_node.data}]|t[{target}]: c[{current_node.data}] has left-child: \\tgoing left c[{current_node.left.data}]\")\n",
    "            current_node=current_node.left\n",
    "            return insert_node(current_node, target)\n",
    "        else: # go left: if not exist, insert\n",
    "            current_node.left=TreeNode(target)\n",
    "            print(f\"c[{current_node.data}]|t[{target}]: c[{current_node.data}] has no left-child: \\tinserted t[{target}]cl[{current_node.left.data}]\")\n",
    "            return\n",
    "    else:  #t<c -> go right\n",
    "        if current_node.right: # go right: if exists \n",
    "            #   50\n",
    "            #  1  51\n",
    "            print(f\"c[{current_node.data}]|t[{target}]: c[{current_node.data}] has right-child: \\tgoing right c[{current_node.right.data}]\")\n",
    "            current_node=current_node.right\n",
    "            return insert_node(current_node, target)\n",
    "        else: # go right: if not exist, insert\n",
    "            current_node.right=TreeNode(target)\n",
    "            print(f\"c[{current_node.data}]|t[{target}]: c[{current_node.data}] has no right-child: \\tinserted t[{target}]cl[{current_node.right.data}]\")\n",
    "            return\n",
    "\n",
    "root = TreeNode(50)\n",
    "insert_node(root, 50) \n",
    "print()\n",
    "insert_node(root, 1) \n",
    "print()\n",
    "insert_node(root, 1) \n",
    "print()\n",
    "insert_node(root, 51) \n",
    "print()\n",
    "insert_node(root, 53) \n",
    "print()\n",
    "insert_node(root, 52) \n",
    "print()\n",
    "insert_node(root, 52) \n",
    "print()\n",
    "\n"
   ]
  },
  {
   "cell_type": "code",
   "execution_count": 38,
   "metadata": {},
   "outputs": [
    {
     "name": "stdout",
     "output_type": "stream",
     "text": [
      "c[50]|t[50]: \t\t\t\tNo Duplicate Allowed!\n",
      "\n",
      "c[50]|t[1]: c[50] has no left-child: \tinserted t[1]cl[1]\n",
      "\n",
      "c[50]|t[1]: c[50] has left-child: \tgoing left c[1]\n",
      "c[1]|t[1]: \t\t\t\tNo Duplicate Allowed!\n",
      "\n",
      "c[50]|t[51]: c[50] has no right-child: \tinserted t[51]cl[51]\n",
      "\n",
      "c[50]|t[53]: c[50] has right-child: \tgoing right c[51]\n",
      "c[51]|t[53]: c[51] has no right-child: \tinserted t[53]cl[53]\n",
      "\n",
      "c[50]|t[52]: c[50] has right-child: \tgoing right c[51]\n",
      "c[51]|t[52]: c[51] has right-child: \tgoing right c[53]\n",
      "c[53]|t[52]: c[53] has no left-child: \tinserted t[52]cl[52]\n",
      "\n",
      "c[50]|t[52]: c[50] has right-child: \tgoing right c[51]\n",
      "c[51]|t[52]: c[51] has right-child: \tgoing right c[53]\n",
      "c[53]|t[52]: c[53] has left-child: \tgoing left c[52]\n",
      "c[52]|t[52]: \t\t\t\tNo Duplicate Allowed!\n",
      "\n"
     ]
    }
   ],
   "source": [
    "nodes_to_insert_list = [50,1,1,51,53,52,52]\n",
    "root = TreeNode(50)\n",
    "\n",
    "for node in nodes_to_insert_list:\n",
    "    insert_node(root, node)\n",
    "    print()\n"
   ]
  },
  {
   "cell_type": "code",
   "execution_count": 39,
   "metadata": {},
   "outputs": [
    {
     "name": "stdout",
     "output_type": "stream",
     "text": [
      "c[50]|t[50]: \t\t\t\tNo Duplicate Allowed!\n",
      "\n",
      "c[50]|t[1]: c[50] has no left-child: \tinserted t[1]cl[1]\n",
      "\n",
      "c[50]|t[1]: c[50] has left-child: \tgoing left c[1]\n",
      "c[1]|t[1]: \t\t\t\tNo Duplicate Allowed!\n",
      "\n",
      "c[50]|t[51]: c[50] has no right-child: \tinserted t[51]cl[51]\n",
      "\n",
      "c[50]|t[53]: c[50] has right-child: \tgoing right c[51]\n",
      "c[51]|t[53]: c[51] has no right-child: \tinserted t[53]cl[53]\n",
      "\n",
      "c[50]|t[52]: c[50] has right-child: \tgoing right c[51]\n",
      "c[51]|t[52]: c[51] has right-child: \tgoing right c[53]\n",
      "c[53]|t[52]: c[53] has no left-child: \tinserted t[52]cl[52]\n",
      "\n",
      "c[50]|t[52]: c[50] has right-child: \tgoing right c[51]\n",
      "c[51]|t[52]: c[51] has right-child: \tgoing right c[53]\n",
      "c[53]|t[52]: c[53] has left-child: \tgoing left c[52]\n",
      "c[52]|t[52]: \t\t\t\tNo Duplicate Allowed!\n",
      "\n"
     ]
    }
   ],
   "source": [
    "def insert_nodes_list(nodes_list: list[int]):\n",
    "    for node in nodes_list:\n",
    "        insert_node(root, node)\n",
    "        print()\n",
    "\n",
    "nodes_to_insert_list = [50,1,1,51,53,52,52]\n",
    "root = TreeNode(50)\n",
    "insert_nodes_list(nodes_to_insert_list)"
   ]
  }
 ],
 "metadata": {
  "kernelspec": {
   "display_name": ".venv",
   "language": "python",
   "name": "python3"
  },
  "language_info": {
   "codemirror_mode": {
    "name": "ipython",
    "version": 3
   },
   "file_extension": ".py",
   "mimetype": "text/x-python",
   "name": "python",
   "nbconvert_exporter": "python",
   "pygments_lexer": "ipython3",
   "version": "3.13.0"
  }
 },
 "nbformat": 4,
 "nbformat_minor": 2
}
