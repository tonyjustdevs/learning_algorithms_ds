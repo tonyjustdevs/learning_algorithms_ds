{
 "cells": [
  {
   "cell_type": "raw",
   "metadata": {
    "vscode": {
     "languageId": "raw"
    }
   },
   "source": [
    "---\n",
    "title: \"DSA 43: Binary Search Trees - Sir-Insert-A-Lot [Part 6]\"\n",
    "author: \"Tony Phung\"\n",
    "date: \"2025-02-27\"\n",
    "categories: [data structures, algorithms]\n",
    "image: \"imgs/dsa-ch15-insert-alot.png\"\n",
    "toc: true\n",
    "description: \"Insert a List of Integers into a Binary-Tree\" \n",
    "---"
   ]
  },
  {
   "cell_type": "markdown",
   "metadata": {},
   "source": [
    "![](imgs/dsa-ch15-insert-alot.png)"
   ]
  },
  {
   "cell_type": "markdown",
   "metadata": {},
   "source": [
    "# 1. `TreeNode` Class & `insert_node` Function: Setup\n",
    "\n",
    "Previously [introduced](https://tonyjustdevs.github.io/blog/posts/computerscience/datastructuresandalgorithms/dsa-041-binary-search-trees-part-4.html)."
   ]
  },
  {
   "cell_type": "code",
   "execution_count": 28,
   "metadata": {},
   "outputs": [],
   "source": [
    "class TreeNode:\n",
    "    def __init__(self, data, left=None, right=None):\n",
    "        self.data=data\n",
    "        self.left=left\n",
    "        self.right=right\n",
    "\n",
    "def insert_node(root_node: TreeNode, target: int):\n",
    "    current_node = root_node\n",
    "    if current_node.data==target:\n",
    "        print(f\"c[{current_node.data}]|t[{target}]: \\t\\t\\t\\t\\t\\t\\tNo Duplicate Allowed!\")\n",
    "        return   \n",
    "    \n",
    "    if target<current_node.data: # t<c -> left\n",
    "        if current_node.left: # go left: if exists \n",
    "            #   50\n",
    "            #  1\n",
    "            print(f\"c[{current_node.data}]|t[{target}]: c[{current_node.data}] has 1 left-child: \\tgoing left c[{current_node.left.data}]\")\n",
    "            current_node=current_node.left\n",
    "            return insert_node(current_node, target)\n",
    "        else: # go left: if not exist, insert\n",
    "            current_node.left=TreeNode(target)\n",
    "            print(f\"c[{current_node.data}]|t[{target}]: c[{current_node.data}] has no left-child: \\tinserted t[{target}]cl[{current_node.left.data}]\")\n",
    "            return\n",
    "    else:  #t<c -> go right\n",
    "        if current_node.right: # go right: if exists \n",
    "            #   50\n",
    "            #  1  51\n",
    "            print(f\"c[{current_node.data}]|t[{target}]: c[{current_node.data}] has 1 right-child: \\tgoing right c[{current_node.right.data}]\")\n",
    "            current_node=current_node.right\n",
    "            return insert_node(current_node, target)\n",
    "        else: # go right: if not exist, insert\n",
    "            current_node.right=TreeNode(target)\n",
    "            print(f\"c[{current_node.data}]|t[{target}]: c[{current_node.data}] has no right-child: \\tinserted t[{target}]cl[{current_node.right.data}]\")\n",
    "            return"
   ]
  },
  {
   "cell_type": "markdown",
   "metadata": {},
   "source": [
    "# 2. Insert: **Manual** "
   ]
  },
  {
   "cell_type": "code",
   "execution_count": 29,
   "metadata": {},
   "outputs": [
    {
     "name": "stdout",
     "output_type": "stream",
     "text": [
      "c[50]|t[50]: \t\t\t\t\t\t\tNo Duplicate Allowed!\n",
      "\n",
      "c[50]|t[10]: c[50] has no left-child: \tinserted t[10]cl[10]\n",
      "\n",
      "c[50]|t[10]: c[50] has 1 left-child: \tgoing left c[10]\n",
      "c[10]|t[10]: \t\t\t\t\t\t\tNo Duplicate Allowed!\n",
      "\n",
      "c[50]|t[51]: c[50] has no right-child: \tinserted t[51]cl[51]\n",
      "\n",
      "c[50]|t[53]: c[50] has 1 right-child: \tgoing right c[51]\n",
      "c[51]|t[53]: c[51] has no right-child: \tinserted t[53]cl[53]\n",
      "\n",
      "c[50]|t[52]: c[50] has 1 right-child: \tgoing right c[51]\n",
      "c[51]|t[52]: c[51] has 1 right-child: \tgoing right c[53]\n",
      "c[53]|t[52]: c[53] has no left-child: \tinserted t[52]cl[52]\n",
      "\n",
      "c[50]|t[52]: c[50] has 1 right-child: \tgoing right c[51]\n",
      "c[51]|t[52]: c[51] has 1 right-child: \tgoing right c[53]\n",
      "c[53]|t[52]: c[53] has 1 left-child: \tgoing left c[52]\n",
      "c[52]|t[52]: \t\t\t\t\t\t\tNo Duplicate Allowed!\n",
      "\n"
     ]
    }
   ],
   "source": [
    "root = TreeNode(50)\n",
    "insert_node(root, 50) \n",
    "print()\n",
    "insert_node(root, 10) \n",
    "print()\n",
    "insert_node(root, 10) \n",
    "print()\n",
    "insert_node(root, 51) \n",
    "print()\n",
    "insert_node(root, 53) \n",
    "print()\n",
    "insert_node(root, 52) \n",
    "print()\n",
    "insert_node(root, 52) \n",
    "print()\n",
    "\n"
   ]
  },
  {
   "cell_type": "markdown",
   "metadata": {},
   "source": [
    "# 3. Insert: `for`-loop "
   ]
  },
  {
   "cell_type": "code",
   "execution_count": 30,
   "metadata": {},
   "outputs": [
    {
     "name": "stdout",
     "output_type": "stream",
     "text": [
      "c[50]|t[50]: \t\t\t\t\t\t\tNo Duplicate Allowed!\n",
      "\n",
      "c[50]|t[10]: c[50] has no left-child: \tinserted t[10]cl[10]\n",
      "\n",
      "c[50]|t[10]: c[50] has 1 left-child: \tgoing left c[10]\n",
      "c[10]|t[10]: \t\t\t\t\t\t\tNo Duplicate Allowed!\n",
      "\n",
      "c[50]|t[51]: c[50] has no right-child: \tinserted t[51]cl[51]\n",
      "\n",
      "c[50]|t[53]: c[50] has 1 right-child: \tgoing right c[51]\n",
      "c[51]|t[53]: c[51] has no right-child: \tinserted t[53]cl[53]\n",
      "\n",
      "c[50]|t[52]: c[50] has 1 right-child: \tgoing right c[51]\n",
      "c[51]|t[52]: c[51] has 1 right-child: \tgoing right c[53]\n",
      "c[53]|t[52]: c[53] has no left-child: \tinserted t[52]cl[52]\n",
      "\n",
      "c[50]|t[52]: c[50] has 1 right-child: \tgoing right c[51]\n",
      "c[51]|t[52]: c[51] has 1 right-child: \tgoing right c[53]\n",
      "c[53]|t[52]: c[53] has 1 left-child: \tgoing left c[52]\n",
      "c[52]|t[52]: \t\t\t\t\t\t\tNo Duplicate Allowed!\n",
      "\n"
     ]
    }
   ],
   "source": [
    "nodes_to_insert_list = [50,10,10,51,53,52,52]\n",
    "root = TreeNode(50)\n",
    "\n",
    "for node in nodes_to_insert_list:\n",
    "    insert_node(root, node)\n",
    "    print()\n"
   ]
  },
  {
   "cell_type": "markdown",
   "metadata": {},
   "source": [
    "# 4. Insert: **Function** "
   ]
  },
  {
   "cell_type": "code",
   "execution_count": null,
   "metadata": {},
   "outputs": [
    {
     "name": "stdout",
     "output_type": "stream",
     "text": [
      "c[50]|t[50]: \t\t\t\t\t\t\tNo Duplicate Allowed!\n",
      "\n",
      "c[50]|t[10]: c[50] has no left-child: \tinserted t[10]cl[10]\n",
      "\n",
      "c[50]|t[10]: c[50] has 1 left-child: \tgoing left c[10]\n",
      "c[10]|t[10]: \t\t\t\t\t\t\tNo Duplicate Allowed!\n",
      "\n",
      "c[50]|t[51]: c[50] has no right-child: \tinserted t[51]cl[51]\n",
      "\n",
      "c[50]|t[53]: c[50] has 1 right-child: \tgoing right c[51]\n",
      "c[51]|t[53]: c[51] has no right-child: \tinserted t[53]cl[53]\n",
      "\n",
      "c[50]|t[52]: c[50] has 1 right-child: \tgoing right c[51]\n",
      "c[51]|t[52]: c[51] has 1 right-child: \tgoing right c[53]\n",
      "c[53]|t[52]: c[53] has no left-child: \tinserted t[52]cl[52]\n",
      "\n",
      "c[50]|t[52]: c[50] has 1 right-child: \tgoing right c[51]\n",
      "c[51]|t[52]: c[51] has 1 right-child: \tgoing right c[53]\n",
      "c[53]|t[52]: c[53] has 1 left-child: \tgoing left c[52]\n",
      "c[52]|t[52]: \t\t\t\t\t\t\tNo Duplicate Allowed!\n",
      "\n"
     ]
    }
   ],
   "source": [
    "def insert_nodes_list(nodes_list: list[int]):\n",
    "    for node in nodes_list:\n",
    "        insert_node(root, node)\n",
    "        print()\n",
    "\n",
    "nodes_to_insert_list = [50,10,10,51,53,52,52]\n",
    "root = TreeNode(50)\n",
    "insert_nodes_list(nodes_to_insert_list)"
   ]
  }
 ],
 "metadata": {
  "kernelspec": {
   "display_name": "blog-T-2huGx2",
   "language": "python",
   "name": "python3"
  },
  "language_info": {
   "codemirror_mode": {
    "name": "ipython",
    "version": 3
   },
   "file_extension": ".py",
   "mimetype": "text/x-python",
   "name": "python",
   "nbconvert_exporter": "python",
   "pygments_lexer": "ipython3",
   "version": "3.10.12"
  }
 },
 "nbformat": 4,
 "nbformat_minor": 2
}
