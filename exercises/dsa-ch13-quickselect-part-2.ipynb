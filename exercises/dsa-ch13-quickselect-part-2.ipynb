{
 "cells": [
  {
   "cell_type": "raw",
   "metadata": {
    "vscode": {
     "languageId": "raw"
    }
   },
   "source": [
    "---\n",
    "title: \"DSA 31: Quickselect [Part 2]\"\n",
    "author: \"Tony Phung\"\n",
    "date: \"2025-02-15\"\n",
    "categories: [data structures, algorithms]\n",
    "image: \"imgs/dsa-ch13-quickselect.png\"\n",
    "toc: true\n",
    "description: \"Getting the kth item by adapting the quicksort algorithm\"\n",
    "---"
   ]
  },
  {
   "cell_type": "code",
   "execution_count": null,
   "metadata": {},
   "outputs": [],
   "source": [
    "class SortableArray():\n",
    "    def __init__(self, arr):\n",
    "        self.arr = arr\n",
    "        \n",
    "    def partition(self, l: int, r: int):\n",
    "        p=r\n",
    "        pivot=self.arr[p]\n",
    "        r-=1\n",
    "        while True:\n",
    "            while self.arr[l]<pivot:\n",
    "                l+=1\n",
    "            while self.arr[r]>pivot:\n",
    "                r-=1\n",
    "            if l>=r: \n",
    "                break\n",
    "            else:\n",
    "                self.arr[l],self.arr[r]=self.arr[r],self.arr[l]\n",
    "                l+=1\n",
    "        self.arr[l],self.arr[p]=self.arr[p],self.arr[l]\n",
    "        return l\n",
    "\n",
    "    def quickselect(self, k, l, r):\n",
    "        if r-l<=0:\n",
    "            return self.arr[l]\n",
    "        \n",
    "        p = self.partition(l, r)\n",
    "        \n",
    "        if k<p:\n",
    "            return self.quickselect(k,l,p-1)\n",
    "        elif k>p:\n",
    "            return self.quickselect(k,l+1,r)\n",
    "        else:\n",
    "            return self.arr[p]"
   ]
  },
  {
   "cell_type": "code",
   "execution_count": 42,
   "metadata": {},
   "outputs": [
    {
     "data": {
      "text/plain": [
       "6"
      ]
     },
     "execution_count": 42,
     "metadata": {},
     "output_type": "execute_result"
    }
   ],
   "source": [
    "arr = [int(char) for char in \"052163\"]\n",
    "sortable_arr = SortableArray(arr)\n",
    "sortable_arr.quickselect(5,l=0,r=len(sortable_arr.arr)-1)\n",
    "# 012345 - choosing 5th\n",
    "# 012356 - gets 6\n"
   ]
  },
  {
   "cell_type": "code",
   "execution_count": null,
   "metadata": {},
   "outputs": [],
   "source": [
    "def quickselect(arr, k, l, r):\n",
    "    if r-l<=0:\n",
    "        return\n",
    "    p=quickselect(arr, k, l, r)\n",
    "    if k<p:\n",
    "        return quickselect(arr,k,l,p-1)\n",
    "    elif k>p:\n",
    "        return quickselect(arr,k,l+1,r)\n",
    "    else:\n",
    "        return arr[p]"
   ]
  }
 ],
 "metadata": {
  "kernelspec": {
   "display_name": ".venv",
   "language": "python",
   "name": "python3"
  },
  "language_info": {
   "codemirror_mode": {
    "name": "ipython",
    "version": 3
   },
   "file_extension": ".py",
   "mimetype": "text/x-python",
   "name": "python",
   "nbconvert_exporter": "python",
   "pygments_lexer": "ipython3",
   "version": "3.13.0"
  }
 },
 "nbformat": 4,
 "nbformat_minor": 2
}
