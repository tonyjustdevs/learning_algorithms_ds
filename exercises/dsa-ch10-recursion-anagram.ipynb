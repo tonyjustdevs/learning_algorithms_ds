{
 "cells": [
  {
   "cell_type": "raw",
   "metadata": {
    "vscode": {
     "languageId": "raw"
    }
   },
   "source": [
    "---\n",
    "title: \"DSA: Recursion - Anagram Generation\"\n",
    "author: \"Tony Phung\"\n",
    "date: \"2025-02-10\"\n",
    "categories: [data structures, algorithms]\n",
    "image: \"imgs/dsa-tba.jpg\"\n",
    "toc: true\n",
    "description: \"Anagram Recursive Function From Scratch\"\n",
    "---"
   ]
  },
  {
   "cell_type": "code",
   "execution_count": 30,
   "metadata": {},
   "outputs": [
    {
     "data": {
      "text/plain": [
       "['abc', 'bac', 'bca', 'acb', 'cab', 'cba']"
      ]
     },
     "execution_count": 30,
     "metadata": {},
     "output_type": "execute_result"
    }
   ],
   "source": [
    "def anags(string):\n",
    "    if len(string)==1:\n",
    "        return string[0]\n",
    "    \n",
    "    anags_list = []\n",
    "    substring_anags = anags(string[1:])\n",
    "    \n",
    "    for anag in substring_anags:\n",
    "        for i in range(len(anag)+1):\n",
    "            new_string = anag[:i] + string[0] + anag[i:]\n",
    "            anags_list.append(new_string)\n",
    "    \n",
    "    return anags_list\n",
    "anags(\"abc\")"
   ]
  },
  {
   "cell_type": "code",
   "execution_count": 31,
   "metadata": {},
   "outputs": [
    {
     "data": {
      "text/plain": [
       "['abcd',\n",
       " 'bacd',\n",
       " 'bcad',\n",
       " 'bcda',\n",
       " 'acbd',\n",
       " 'cabd',\n",
       " 'cbad',\n",
       " 'cbda',\n",
       " 'acdb',\n",
       " 'cadb',\n",
       " 'cdab',\n",
       " 'cdba',\n",
       " 'abdc',\n",
       " 'badc',\n",
       " 'bdac',\n",
       " 'bdca',\n",
       " 'adbc',\n",
       " 'dabc',\n",
       " 'dbac',\n",
       " 'dbca',\n",
       " 'adcb',\n",
       " 'dacb',\n",
       " 'dcab',\n",
       " 'dcba']"
      ]
     },
     "execution_count": 31,
     "metadata": {},
     "output_type": "execute_result"
    }
   ],
   "source": [
    "anags(\"abcd\")"
   ]
  },
  {
   "cell_type": "code",
   "execution_count": null,
   "metadata": {},
   "outputs": [],
   "source": []
  },
  {
   "cell_type": "code",
   "execution_count": null,
   "metadata": {},
   "outputs": [],
   "source": []
  },
  {
   "cell_type": "code",
   "execution_count": null,
   "metadata": {},
   "outputs": [],
   "source": []
  },
  {
   "cell_type": "code",
   "execution_count": null,
   "metadata": {},
   "outputs": [],
   "source": []
  },
  {
   "cell_type": "code",
   "execution_count": null,
   "metadata": {},
   "outputs": [],
   "source": []
  },
  {
   "cell_type": "code",
   "execution_count": null,
   "metadata": {},
   "outputs": [],
   "source": []
  },
  {
   "cell_type": "code",
   "execution_count": null,
   "metadata": {},
   "outputs": [],
   "source": []
  },
  {
   "cell_type": "code",
   "execution_count": null,
   "metadata": {},
   "outputs": [],
   "source": []
  }
 ],
 "metadata": {
  "kernelspec": {
   "display_name": ".venv",
   "language": "python",
   "name": "python3"
  },
  "language_info": {
   "codemirror_mode": {
    "name": "ipython",
    "version": 3
   },
   "file_extension": ".py",
   "mimetype": "text/x-python",
   "name": "python",
   "nbconvert_exporter": "python",
   "pygments_lexer": "ipython3",
   "version": "3.13.0"
  }
 },
 "nbformat": 4,
 "nbformat_minor": 2
}
