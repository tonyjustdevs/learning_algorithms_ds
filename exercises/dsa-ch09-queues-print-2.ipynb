{
 "cells": [
  {
   "cell_type": "raw",
   "metadata": {
    "vscode": {
     "languageId": "raw"
    }
   },
   "source": [
    "---\n",
    "title: \"DSA: Queues - Printer 1\"\n",
    "author: \"Tony Phung\"\n",
    "date: \"2025-02-01\"\n",
    "categories: [data structures, algorithms]\n",
    "image: \"imgs/dsa-tba.jpg\"\n",
    "toc: true\n",
    "description: \"Printer 1\"\n",
    "---"
   ]
  },
  {
   "cell_type": "markdown",
   "metadata": {},
   "source": [
    "# 1. `PrintManager` class\n",
    "**Task**: \n",
    "\n",
    "* Programming a simple Python interface for a printer that can accept printing jobs \n",
    "* ensure print each document ***in the order*** in which it was ***received***."
   ]
  },
  {
   "cell_type": "markdown",
   "metadata": {},
   "source": [
    "# 2. Solution: Psuedo-Code\n",
    "**1.** add `Queue` class:\n",
    "\n",
    "* `enqueue(value)`: add `value` to `queue`\n",
    "* `dequeue()`: remove `first` item from `queue`\n",
    "* `read()`: peek at `first` from `queue`\n",
    "\n",
    "**2.** add `Printer` class:\n",
    "* `add_job_to_queue(job)`: add `job` to `queue`\n",
    "* `print(job)`: print `job` \n",
    "* `run()`: \n",
    "    - `dequeue()` each job then \n",
    "    - `print(job)` from front to back\n",
    " "
   ]
  },
  {
   "cell_type": "markdown",
   "metadata": {},
   "source": [
    "# 2. Solution: Python-Code\n",
    "# 2.1 `Queue` class"
   ]
  },
  {
   "cell_type": "code",
   "execution_count": 38,
   "metadata": {},
   "outputs": [],
   "source": [
    "class Queue:\n",
    "    def __init__(self):\n",
    "        self.data = []\n",
    "        \n",
    "    def enqueue(self,value):\n",
    "        self.data.append(value)\n",
    "        \n",
    "    def dequeue(self):\n",
    "        if len(self.data)>0:\n",
    "            return self.data.pop(0)\n",
    "        else:\n",
    "            return None\n",
    "\n",
    "    def read(self):\n",
    "        if len(self.data)>0:\n",
    "            return self.data[0]\n",
    "        else:\n",
    "            return None\n",
    "    \n",
    "    def __repr__(self):\n",
    "        return f\"{self.data!r}\"\n",
    "\n",
    "    # def __str__(self):\n",
    "    #     print(f\"{self.data!r}\")\n",
    "    "
   ]
  },
  {
   "cell_type": "code",
   "execution_count": 39,
   "metadata": {},
   "outputs": [
    {
     "name": "stdout",
     "output_type": "stream",
     "text": [
      "[1]\n",
      "[1, 2]\n",
      "[1, 2, 3]\n",
      "[2, 3]\n",
      "[2, 3, 4]\n",
      "[2, 3, 4, 5]\n",
      "[2, 3, 4, 5, 6]\n",
      "[3, 4, 5, 6]\n",
      "[4, 5, 6]\n",
      "[5, 6]\n",
      "[6]\n",
      "[]\n"
     ]
    }
   ],
   "source": [
    "tp_q = Queue()\n",
    "tp_q.enqueue(1)\n",
    "print(tp_q)\n",
    "\n",
    "tp_q.enqueue(2)\n",
    "print(tp_q)\n",
    "\n",
    "tp_q.enqueue(3)\n",
    "print(tp_q)\n",
    "\n",
    "tp_q.dequeue()\n",
    "print(tp_q)\n",
    "\n",
    "tp_q.enqueue(4)\n",
    "print(tp_q)\n",
    "\n",
    "tp_q.enqueue(5)\n",
    "print(tp_q)\n",
    "tp_q.enqueue(6)\n",
    "print(tp_q)\n",
    "tp_q.dequeue()\n",
    "print(tp_q)\n",
    "tp_q.dequeue()\n",
    "print(tp_q)\n",
    "tp_q.dequeue()\n",
    "print(tp_q)\n",
    "tp_q.dequeue()\n",
    "print(tp_q)\n",
    "tp_q.dequeue()\n",
    "print(tp_q)\n",
    "tp_q.dequeue()\n"
   ]
  },
  {
   "cell_type": "code",
   "execution_count": 40,
   "metadata": {},
   "outputs": [],
   "source": [
    "class PrintManager():\n",
    "    def __init__(self):\n",
    "        self.queue = Queue()\n",
    "    \n",
    "    def add_job(self, job):\n",
    "        self.queue.enqueue(job)\n",
    "        print(f\"{job!r} added: {self.queue}\")\n",
    "    \n",
    "    def run(self):\n",
    "        while self.queue.read():\n",
    "            current_job = self.queue.dequeue()\n",
    "            self.print_job(current_job)\n",
    "    def print_job(self,job):\n",
    "        print(job)\n",
    "    "
   ]
  },
  {
   "cell_type": "code",
   "execution_count": 41,
   "metadata": {},
   "outputs": [
    {
     "name": "stdout",
     "output_type": "stream",
     "text": [
      "'doc1.md' added: ['doc1.md']\n",
      "'doc2.docx' added: ['doc1.md', 'doc2.docx']\n",
      "'doc3.pdf' added: ['doc1.md', 'doc2.docx', 'doc3.pdf']\n",
      "doc1.md\n",
      "doc2.docx\n",
      "doc3.pdf\n"
     ]
    }
   ],
   "source": [
    "printer = PrintManager()\n",
    "printer.add_job(\"doc1.md\")\n",
    "printer.add_job(\"doc2.docx\")\n",
    "printer.add_job(\"doc3.pdf\")\n",
    "printer.run()"
   ]
  }
 ],
 "metadata": {
  "kernelspec": {
   "display_name": ".venv",
   "language": "python",
   "name": "python3"
  },
  "language_info": {
   "codemirror_mode": {
    "name": "ipython",
    "version": 3
   },
   "file_extension": ".py",
   "mimetype": "text/x-python",
   "name": "python",
   "nbconvert_exporter": "python",
   "pygments_lexer": "ipython3",
   "version": "3.13.0"
  }
 },
 "nbformat": 4,
 "nbformat_minor": 2
}
