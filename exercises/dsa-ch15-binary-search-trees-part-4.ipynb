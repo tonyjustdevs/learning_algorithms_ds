{
 "cells": [
  {
   "cell_type": "raw",
   "metadata": {
    "vscode": {
     "languageId": "raw"
    }
   },
   "source": [
    "---\n",
    "title: \"DSA 41: Binary Search Trees - Insertion [Part 4]\"\n",
    "author: \"Tony Phung\"\n",
    "date: \"2025-02-24\"\n",
    "categories: [data structures, algorithms]\n",
    "image: \"imgs/dsa-tba\"\n",
    "toc: true\n",
    "descriptison: \"Insertion\" \n",
    "---"
   ]
  },
  {
   "cell_type": "markdown",
   "metadata": {},
   "source": [
    "# 1. `TreeNode`\n",
    "\n",
    "Introduced [previously](https://tonyjustdevs.github.io/blog/posts/computerscience/datastructuresandalgorithms/dsa-039-binary-search-trees-part-2.html)"
   ]
  },
  {
   "cell_type": "code",
   "execution_count": 27,
   "metadata": {},
   "outputs": [],
   "source": [
    "class TreeNode:\n",
    "    def __init__(self,data,left=None,right=None):\n",
    "        self.data=data\n",
    "        self.left=left\n",
    "        self.right=right"
   ]
  },
  {
   "cell_type": "markdown",
   "metadata": {},
   "source": [
    "# 2. `insert`\n",
    "\n",
    "If on the correct side (target greater or less current node) and the child node does not exist then insert, otherwise go to child node and do the check again."
   ]
  },
  {
   "cell_type": "code",
   "execution_count": 28,
   "metadata": {},
   "outputs": [],
   "source": [
    "def insert(tree_node: TreeNode, value: int):\n",
    "    current_node = tree_node\n",
    "    if not current_node:\n",
    "        print(\"cant insert empty node\")\n",
    "    if value<current_node.data:\n",
    "        if not current_node.left:\n",
    "            current_node.left=TreeNode(value)\n",
    "        else:\n",
    "            insert(current_node.left, value)\n",
    "    else:\n",
    "        if not current_node.right:\n",
    "            current_node.right=TreeNode(value)\n",
    "        else:\n",
    "            insert(current_node.right, value)"
   ]
  },
  {
   "cell_type": "markdown",
   "metadata": {},
   "source": [
    "# 3. Test It"
   ]
  },
  {
   "cell_type": "code",
   "execution_count": 29,
   "metadata": {},
   "outputs": [
    {
     "name": "stdout",
     "output_type": "stream",
     "text": [
      "expected[50]: 50\n",
      "expected[30]: 30\n",
      "expected[70]: 70\n",
      "expected[20]: 20\n",
      "expected[40]: 40\n",
      "expected[60]: 60\n",
      "expected[80]: 60\n"
     ]
    }
   ],
   "source": [
    "root_node = TreeNode(50)\n",
    "insert(root_node,30)\n",
    "insert(root_node,70)\n",
    "insert(root_node,20)\n",
    "insert(root_node,40)\n",
    "insert(root_node,60)\n",
    "insert(root_node,80)\n",
    "print(f\"expected[50]: {root_node.data}\") #50\n",
    "print(f\"expected[30]: {root_node.left.data}\") #30\n",
    "print(f\"expected[70]: {root_node.right.data}\") #70\n",
    "print(f\"expected[20]: {root_node.left.left.data}\") #20\n",
    "print(f\"expected[40]: {root_node.left.right.data}\") #40\n",
    "print(f\"expected[60]: {root_node.right.left.data}\") #60\n",
    "print(f\"expected[80]: {root_node.right.left.data}\") #80"
   ]
  }
 ],
 "metadata": {
  "kernelspec": {
   "display_name": ".venv",
   "language": "python",
   "name": "python3"
  },
  "language_info": {
   "codemirror_mode": {
    "name": "ipython",
    "version": 3
   },
   "file_extension": ".py",
   "mimetype": "text/x-python",
   "name": "python",
   "nbconvert_exporter": "python",
   "pygments_lexer": "ipython3",
   "version": "3.13.0"
  }
 },
 "nbformat": 4,
 "nbformat_minor": 2
}
