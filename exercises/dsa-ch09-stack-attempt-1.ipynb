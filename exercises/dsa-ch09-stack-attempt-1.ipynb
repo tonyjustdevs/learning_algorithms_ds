{
 "cells": [
  {
   "cell_type": "raw",
   "metadata": {
    "vscode": {
     "languageId": "raw"
    }
   },
   "source": [
    "---\n",
    "title: \"DSA: Stack - Attempt 2\"\n",
    "author: \"Tony Phung\"\n",
    "date: \"2025-01-25\"\n",
    "categories: [data structures, algorithms]\n",
    "image: \"imgs/tba.png\"\n",
    "toc: true\n",
    "description: \"from scratch\"\n",
    "---"
   ]
  },
  {
   "cell_type": "markdown",
   "metadata": {},
   "source": [
    "# stack\n",
    "* is an array rotated 90-degrees (anti-clockwise):  \n",
    "    - First element: `arr[0]` becomes `end` (of the stack)\n",
    "    - Last element: `arr[-1]` becomes `top` (of the stack)\n",
    "* is an array with 3 restrictions:  \n",
    "    1. $insert()$ or `push()`: \n",
    "        - ***only*** at  `top` (end of array)\n",
    "    1. $delete()$ or `pop()`: \n",
    "        - ***only*** at  `top` (last element of array)\n",
    "    1. $read()$ or `read()`: \n",
    "        - ***only*** at  `top` (last element of array)\n"
   ]
  },
  {
   "cell_type": "code",
   "execution_count": 15,
   "metadata": {},
   "outputs": [],
   "source": [
    "class TonyStack:\n",
    "    def __init__(self):\n",
    "        self.data = []\n",
    "        \n",
    "    def push(self, value):\n",
    "        self.data.append(value)\n",
    "        print(f\"{value} inserted: {self.data}\")\n",
    "        \n",
    "    def pop(self):\n",
    "        if len(self.data)>0:\n",
    "            popped = self.data.pop()\n",
    "            print(f\"{popped} removed: {self.data}\")\n",
    "        else:\n",
    "            print(f\"stack is empty\")\n",
    "            \n",
    "    def read(self):\n",
    "        if len(self.data) > 0:\n",
    "            top = self.data[-1]\n",
    "            print(f\"{top} is top of stack: {self.data}\")\n",
    "            return self.data[-1]\n",
    "        else:\n",
    "            print(f\"stack is empty\")\n",
    "            return False\n",
    "        \n",
    "    def __str__(self):\n",
    "        print(self.data)"
   ]
  },
  {
   "cell_type": "code",
   "execution_count": 16,
   "metadata": {},
   "outputs": [
    {
     "data": {
      "text/plain": [
       "<__main__.TonyStack at 0x7f4b901578c0>"
      ]
     },
     "execution_count": 16,
     "metadata": {},
     "output_type": "execute_result"
    }
   ],
   "source": [
    "tp_stack = TonyStack()\n",
    "tp_stack"
   ]
  },
  {
   "cell_type": "code",
   "execution_count": 17,
   "metadata": {},
   "outputs": [
    {
     "name": "stdout",
     "output_type": "stream",
     "text": [
      "666 inserted: [666]\n",
      "666 is top of stack: [666]\n",
      "420 inserted: [666, 420]\n",
      "420 is top of stack: [666, 420]\n",
      "420 removed: [666]\n",
      "69 inserted: [666, 69]\n",
      "69 is top of stack: [666, 69]\n",
      "888 inserted: [666, 69, 888]\n",
      "888 is top of stack: [666, 69, 888]\n",
      "888 removed: [666, 69]\n",
      "69 is top of stack: [666, 69]\n",
      "69 removed: [666]\n",
      "666 is top of stack: [666]\n",
      "777 inserted: [666, 777]\n",
      "777 removed: [666]\n",
      "666 is top of stack: [666]\n",
      "666 removed: []\n",
      "stack is empty\n",
      "stack is empty\n"
     ]
    }
   ],
   "source": [
    "tp_stack.push(666)\n",
    "tp_stack.read()\n",
    "tp_stack.push(420)\n",
    "tp_stack.read()\n",
    "tp_stack.pop()\n",
    "tp_stack.push(69)\n",
    "tp_stack.read()\n",
    "tp_stack.push(888)\n",
    "tp_stack.read()\n",
    "tp_stack.pop()\n",
    "tp_stack.read()\n",
    "tp_stack.pop()\n",
    "tp_stack.read()\n",
    "tp_stack.push(777)\n",
    "tp_stack.pop()\n",
    "tp_stack.read()\n",
    "tp_stack.pop()\n",
    "tp_stack.pop()\n",
    "tp_stack.pop()\n"
   ]
  }
 ],
 "metadata": {
  "kernelspec": {
   "display_name": ".venv",
   "language": "python",
   "name": "python3"
  },
  "language_info": {
   "codemirror_mode": {
    "name": "ipython",
    "version": 3
   },
   "file_extension": ".py",
   "mimetype": "text/x-python",
   "name": "python",
   "nbconvert_exporter": "python",
   "pygments_lexer": "ipython3",
   "version": "3.13.0"
  }
 },
 "nbformat": 4,
 "nbformat_minor": 2
}
