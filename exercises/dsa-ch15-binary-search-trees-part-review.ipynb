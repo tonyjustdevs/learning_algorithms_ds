{
 "cells": [
  {
   "cell_type": "raw",
   "metadata": {
    "vscode": {
     "languageId": "raw"
    }
   },
   "source": [
    "---\n",
    "title: \"DSA: Binary Search Trees - Review\"\n",
    "author: \"Tony Phung\"\n",
    "date: \"2025-03-04\"\n",
    "categories: [data structures, algorithms]\n",
    "image: \"imgs/tba.png\"\n",
    "toc: true\n",
    "description: \"Reviewing BST Operations From Scratch\" \n",
    "---"
   ]
  },
  {
   "cell_type": "markdown",
   "metadata": {},
   "source": [
    "# Goals\n",
    "1. `TreeNode` class\n",
    "1. `insert_node()`\n",
    "1. `insert_node_list()`\n",
    "1.  Basic Binary Tree\n",
    "1. `search_node()`\n",
    "1. `traverse()`\n",
    "1. `delete_node()`\n",
    "1. Testing "
   ]
  },
  {
   "cell_type": "markdown",
   "metadata": {},
   "source": [
    "# 1. Create `TreeNode` (ETA: 1 minute)\n"
   ]
  },
  {
   "cell_type": "code",
   "execution_count": 104,
   "metadata": {},
   "outputs": [],
   "source": [
    "class TreeNode:\n",
    "    def __init__(self,data,left=None,right=None):\n",
    "        self.data=data\n",
    "        self.left=left\n",
    "        self.right=right"
   ]
  },
  {
   "cell_type": "markdown",
   "metadata": {},
   "source": [
    "# 2. `insert_node` (ETA: 10 minutes)"
   ]
  },
  {
   "cell_type": "code",
   "execution_count": 105,
   "metadata": {},
   "outputs": [],
   "source": [
    "def insert_node(root_node: TreeNode, target: int):\n",
    "    # search\n",
    "    current_node = root_node\n",
    "    \n",
    "    if target == current_node.data:\n",
    "        print(f\"t\\t{target} already in tree! No further action. \")\n",
    "        return\n",
    "    \n",
    "    if target < current_node.data: # go left\n",
    "        if current_node.left:\n",
    "            print(f\"\\t{current_node.data} has a left-child{current_node.left.data}: going left\")\n",
    "            current_node = current_node.left\n",
    "            return insert_node(current_node, target)\n",
    "        else: # insert\n",
    "            current_node.left = TreeNode(target)\n",
    "            print(f\"\\t{current_node.left.data} inserted left of c{current_node.data}\")\n",
    "            return current_node.left.data\n",
    "    else:\n",
    "        if current_node.right:\n",
    "            print(f\"\\t{current_node.data} has a right-child{current_node.right.data}: going left\")\n",
    "            current_node = current_node.right\n",
    "            return insert_node(current_node, target)\n",
    "        else:\n",
    "            current_node.right = TreeNode(target)\n",
    "            print(f\"\\t{current_node.right.data} inserted right of c{current_node.data}\")\n",
    "            return current_node.right.data"
   ]
  },
  {
   "cell_type": "code",
   "execution_count": 106,
   "metadata": {},
   "outputs": [
    {
     "name": "stdout",
     "output_type": "stream",
     "text": [
      "\t25 inserted left of c50\n",
      "\t75 inserted right of c50\n",
      "\t50 has a left-child25: going left\n",
      "\t10 inserted left of c25\n",
      "\t50 has a left-child25: going left\n",
      "\t33 inserted right of c25\n",
      "\t50 has a left-child25: going left\n",
      "\t25 has a left-child10: going left\n",
      "\t4 inserted left of c10\n",
      "\t50 has a left-child25: going left\n",
      "\t25 has a left-child10: going left\n",
      "\t11 inserted right of c10\n"
     ]
    },
    {
     "data": {
      "text/plain": [
       "11"
      ]
     },
     "execution_count": 106,
     "metadata": {},
     "output_type": "execute_result"
    }
   ],
   "source": [
    "#             50\n",
    "#      25           75\n",
    "#  10     33     56     89  \n",
    "# 4  11 30  40 52  61 82  95  \n",
    "root = TreeNode(50)\n",
    "insert_node(root, 25)\n",
    "insert_node(root, 75)\n",
    "insert_node(root, 10)\n",
    "insert_node(root, 33)\n",
    "insert_node(root, 4)\n",
    "insert_node(root, 11)"
   ]
  },
  {
   "cell_type": "markdown",
   "metadata": {},
   "source": [
    "# 3. `insert_node_list` (ETA: 8 minutes)"
   ]
  },
  {
   "cell_type": "code",
   "execution_count": 107,
   "metadata": {},
   "outputs": [],
   "source": [
    "# def insert_node_list(root_node: TreeNode, target: int):\n",
    "\n",
    "#             50\n",
    "#      25           75\n",
    "#  10     33     56     89  \n",
    "# 4  11 30  40 52  61 82  95  \n",
    "def insert_node_list(root_node: TreeNode, node_list: list):\n",
    "    for tree_node in node_list:\n",
    "        print(f\"Attempting to insert: [{tree_node}]\")\n",
    "        insert_node(root_node, tree_node)\n",
    "        print()\n",
    "    \n"
   ]
  },
  {
   "cell_type": "markdown",
   "metadata": {},
   "source": [
    "# 4. Create Basic Binary Tree"
   ]
  },
  {
   "cell_type": "code",
   "execution_count": 108,
   "metadata": {},
   "outputs": [
    {
     "name": "stdout",
     "output_type": "stream",
     "text": [
      "Attempting to insert: [50]\n",
      "t\t50 already in tree! No further action. \n",
      "\n",
      "Attempting to insert: [25]\n",
      "\t25 inserted left of c50\n",
      "\n",
      "Attempting to insert: [75]\n",
      "\t75 inserted right of c50\n",
      "\n",
      "Attempting to insert: [10]\n",
      "\t50 has a left-child25: going left\n",
      "\t10 inserted left of c25\n",
      "\n",
      "Attempting to insert: [33]\n",
      "\t50 has a left-child25: going left\n",
      "\t33 inserted right of c25\n",
      "\n",
      "Attempting to insert: [56]\n",
      "\t50 has a right-child75: going left\n",
      "\t56 inserted left of c75\n",
      "\n",
      "Attempting to insert: [89]\n",
      "\t50 has a right-child75: going left\n",
      "\t89 inserted right of c75\n",
      "\n",
      "Attempting to insert: [4]\n",
      "\t50 has a left-child25: going left\n",
      "\t25 has a left-child10: going left\n",
      "\t4 inserted left of c10\n",
      "\n",
      "Attempting to insert: [11]\n",
      "\t50 has a left-child25: going left\n",
      "\t25 has a left-child10: going left\n",
      "\t11 inserted right of c10\n",
      "\n",
      "Attempting to insert: [30]\n",
      "\t50 has a left-child25: going left\n",
      "\t25 has a right-child33: going left\n",
      "\t30 inserted left of c33\n",
      "\n",
      "Attempting to insert: [40]\n",
      "\t50 has a left-child25: going left\n",
      "\t25 has a right-child33: going left\n",
      "\t40 inserted right of c33\n",
      "\n",
      "Attempting to insert: [52]\n",
      "\t50 has a right-child75: going left\n",
      "\t75 has a left-child56: going left\n",
      "\t52 inserted left of c56\n",
      "\n",
      "Attempting to insert: [61]\n",
      "\t50 has a right-child75: going left\n",
      "\t75 has a left-child56: going left\n",
      "\t61 inserted right of c56\n",
      "\n",
      "Attempting to insert: [82]\n",
      "\t50 has a right-child75: going left\n",
      "\t75 has a right-child89: going left\n",
      "\t82 inserted left of c89\n",
      "\n",
      "Attempting to insert: [95]\n",
      "\t50 has a right-child75: going left\n",
      "\t75 has a right-child89: going left\n",
      "\t95 inserted right of c89\n",
      "\n"
     ]
    }
   ],
   "source": [
    "node_list = [50,25,75,10,33,56,89,4,11,30,40,52,61,82,95]\n",
    "root = TreeNode(50)\n",
    "insert_node_list(root,node_list)"
   ]
  },
  {
   "cell_type": "markdown",
   "metadata": {},
   "source": [
    "# 5. `search_node` (ETA: 6 minutes)"
   ]
  },
  {
   "cell_type": "code",
   "execution_count": 109,
   "metadata": {},
   "outputs": [
    {
     "name": "stdout",
     "output_type": "stream",
     "text": [
      "\t50c50 found!\n",
      "\n",
      "\t4<c50: going left\n",
      "\t4<c25: going left\n",
      "\t4<c10: going left\n",
      "\t4c4 found!\n",
      "\n",
      "\t82>c50: going right\n",
      "\t82>c75: going right\n",
      "\t82<c89: going left\n",
      "\t82c82 found!\n",
      "\n"
     ]
    }
   ],
   "source": [
    "def search_node(root_node: TreeNode, target: int):\n",
    "    current_node = root_node\n",
    "    \n",
    "    if target == current_node.data:\n",
    "        print(f\"\\t{target}c{current_node.data} found!\")\n",
    "        return current_node.data\n",
    "    \n",
    "    if target < current_node.data: # go left\n",
    "        if current_node.left:\n",
    "            print(f\"\\t{target}<c{current_node.data}: going left\")\n",
    "            current_node = current_node.left\n",
    "            return search_node(current_node, target)\n",
    "        else:\n",
    "            print(f\"t{target}<{current_node.data} not found!\")\n",
    "\n",
    "    else:\n",
    "        if current_node.right:\n",
    "            print(f\"\\t{target}>c{current_node.data}: going right\")\n",
    "            current_node = current_node.right\n",
    "            return search_node(current_node, target)\n",
    "        else:\n",
    "            print(f\"t{target}>c{current_node.data} not found!\")\n",
    "#             50\n",
    "#      25           75\n",
    "#  10     33     56     89  \n",
    "# 4  11 30  40 52  61 82  95  \n",
    "search_node(root,50) \n",
    "print()\n",
    "search_node(root,4)\n",
    "print()\n",
    "search_node(root,82)\n",
    "print()"
   ]
  },
  {
   "cell_type": "markdown",
   "metadata": {},
   "source": [
    "#"
   ]
  },
  {
   "cell_type": "markdown",
   "metadata": {},
   "source": [
    "# 6. `traverse` (ETA: 3 minutes)"
   ]
  },
  {
   "cell_type": "code",
   "execution_count": 110,
   "metadata": {},
   "outputs": [
    {
     "name": "stdout",
     "output_type": "stream",
     "text": [
      "4\n",
      "10\n",
      "11\n",
      "25\n",
      "30\n",
      "33\n",
      "40\n",
      "50\n",
      "52\n",
      "56\n",
      "61\n",
      "75\n",
      "82\n",
      "89\n",
      "95\n"
     ]
    }
   ],
   "source": [
    "def traverse(root_node: TreeNode):\n",
    "    if not root_node:\n",
    "        return\n",
    "    traverse(root_node.left)\n",
    "    print(root_node.data)\n",
    "    traverse(root_node.right)\n",
    "#             50\n",
    "#      25           75\n",
    "#  10     33     56     89  \n",
    "# 4  11 30  40 52  61 82  95  \n",
    "traverse(root) # expected: 4,10,11,25,30,33,40,50,52,56,61,75,82,89,95"
   ]
  },
  {
   "cell_type": "markdown",
   "metadata": {},
   "source": [
    "# 7. `delete_node` (ETA: 120 minutes)\n",
    "\n",
    "* `search` node (ETA: 9 minutes)\n",
    "* `delete` node [`0` or `1` child]:\n",
    "    - `root` node (ETA: 37 minutes)\n",
    "    - `non-root` node (ETA: 23 minutes):  \n",
    "        - one-left-child \n",
    "        - one-right-child \n",
    "* `delete` node [`2` childs] (ETA: 50 minutes)"
   ]
  },
  {
   "cell_type": "code",
   "execution_count": 126,
   "metadata": {},
   "outputs": [],
   "source": [
    "def find_s_node(target_node: TreeNode):\n",
    "    s_node = target_node.right\n",
    "    if not s_node.left:\n",
    "        target_node.right = s_node.right\n",
    "        target_node.data = s_node.data\n",
    "        return\n",
    "    while s_node.left:\n",
    "        p_node = s_node\n",
    "        s_node = s_node.left\n",
    "            \n",
    "        if s_node.right:\n",
    "            p_node.left = s_node.right\n",
    "        else:\n",
    "            p_node.left = None\n",
    "    target_node.data = s_node.data\n",
    "    return s_node"
   ]
  },
  {
   "cell_type": "code",
   "execution_count": 127,
   "metadata": {},
   "outputs": [],
   "source": [
    "def delete_node(root_node: TreeNode, target: int):\n",
    "    current_node = root_node\n",
    "    parent_node = None\n",
    "    target_node = None\n",
    "    # find_node\n",
    "    while current_node:\n",
    "        if target == current_node.data:\n",
    "            target_node = current_node\n",
    "            print(f\"t[{target_node.data}]==c[{current_node.data}] found!\")\n",
    "            break\n",
    "        if target < current_node.data: #go left\n",
    "            print(f\"t[{target}]<-c[{current_node.data}]: go left...\")\n",
    "            parent_node = current_node\n",
    "            current_node = current_node.left\n",
    "        else:\n",
    "            print(f\"t[{target}]->c[{current_node.data}]: go right...\")\n",
    "            parent_node = current_node\n",
    "            current_node = current_node.right\n",
    "    \n",
    "    if not target_node:\n",
    "        print(f\"t[{target}]!=c[{parent_node.data}] NOT found! no more kids!\")\n",
    "    \n",
    "    # find_successor_node\n",
    "    if target_node.left and target_node.right:       # 2 kids\n",
    "        find_s_node(target_node)\n",
    "    else:                                       # 0 or 1 kids\n",
    "        # root_node\n",
    "        targets_child_node = (target_node.left or target_node.right) \n",
    "        if not parent_node: # AND has 1 or 0 kids\n",
    "            print(f\"t[{target_node.data}] to be replaced by its c[{targets_child_node.data}]\")\n",
    "            target_node.data = targets_child_node.data  # either None or Some Int\n",
    "            target_node.left = targets_child_node.left\n",
    "            target_node.right = targets_child_node.right\n",
    "        else: # not root with 0 or 1 child\n",
    "        # PARENT.LEFT\n",
    "            if parent_node.left == current_node:\n",
    "                parent_node.left = targets_child_node              \n",
    "                return\n",
    "        # PARENT.RIGHT\n",
    "            if parent_node.right == current_node:\n",
    "                parent_node.right = targets_child_node              \n",
    "                return\n",
    "    pass"
   ]
  },
  {
   "cell_type": "code",
   "execution_count": 128,
   "metadata": {},
   "outputs": [
    {
     "name": "stdout",
     "output_type": "stream",
     "text": [
      "Attempting to insert: [25]\n",
      "\t25 inserted left of c50\n",
      "\n",
      "Attempting to insert: [10]\n",
      "\t50 has a left-child25: going left\n",
      "\t10 inserted left of c25\n",
      "\n",
      "Attempting to insert: [33]\n",
      "\t50 has a left-child25: going left\n",
      "\t33 inserted right of c25\n",
      "\n",
      "t[50]==c[50] found!\n",
      "t[50] to be replaced by its c[25]\n",
      "10\n",
      "25\n",
      "33\n",
      "None, expected: 10,25,33\n",
      "\n",
      "25, expected: 25\n",
      "10, expected: 10\n",
      "33, expected: 33\n"
     ]
    }
   ],
   "source": [
    "# target has 1 left child\n",
    "# target child has two children\n",
    "root =TreeNode(50)\n",
    "insert_node_list(root, [25,10,33])\n",
    "#         [50]    <-------- root_node <----------------------- target_node\n",
    "#      25      [] <-------- target.left <--------------------- None or Integer\n",
    "#    10   33   [] <-------- target_child.left or right <------ Any\n",
    "delete_node(root,50)\n",
    "#         [25]    <-------- target.left replaces target \n",
    "#      10     33 <-------- \n",
    "print(f\"{traverse(root)}, expected: 10,25,33\")\n",
    "print()\n",
    "\n",
    "print(f\"{root.data}, expected: 25\")\n",
    "print(f\"{root.left.data}, expected: 10\")\n",
    "print(f\"{root.right.data}, expected: 33\")"
   ]
  },
  {
   "cell_type": "code",
   "execution_count": 129,
   "metadata": {},
   "outputs": [
    {
     "name": "stdout",
     "output_type": "stream",
     "text": [
      "Attempting to insert: [75]\n",
      "\t75 inserted right of c50\n",
      "\n",
      "Attempting to insert: [74]\n",
      "\t50 has a right-child75: going left\n",
      "\t74 inserted left of c75\n",
      "\n",
      "Attempting to insert: [76]\n",
      "\t50 has a right-child75: going left\n",
      "\t76 inserted right of c75\n",
      "\n",
      "t[50]==c[50] found!\n",
      "t[50] to be replaced by its c[75]\n",
      "74\n",
      "75\n",
      "76\n",
      "None, expected: 74,75,76\n",
      "\n",
      "75, expected: 75\n",
      "74, expected: 74\n",
      "76, expected: 76\n"
     ]
    }
   ],
   "source": [
    "# target has 1 right child\n",
    "# target child has two children\n",
    "root =TreeNode(50)\n",
    "insert_node_list(root, [75,74,76])\n",
    "#   [50]       <-------- root_node <----------------------- target_node\n",
    "#       [75]   <-------- target.right <--------------------- None or Integer\n",
    "#     74    76 <-------- target_child.left or right <------ Any\n",
    "delete_node(root,50)\n",
    "#     [75]    <-------- target.right replaces target \n",
    "#  74     76  <-------- \n",
    "print(f\"{traverse(root)}, expected: 74,75,76\")\n",
    "print()\n",
    "\n",
    "print(f\"{root.data}, expected: 75\")\n",
    "print(f\"{root.left.data}, expected: 74\")\n",
    "print(f\"{root.right.data}, expected: 76\")"
   ]
  },
  {
   "cell_type": "code",
   "execution_count": 130,
   "metadata": {},
   "outputs": [
    {
     "name": "stdout",
     "output_type": "stream",
     "text": [
      "Attempting to insert: [75]\n",
      "\t75 inserted right of c50\n",
      "\n",
      "Attempting to insert: [74]\n",
      "\t50 has a right-child75: going left\n",
      "\t74 inserted left of c75\n",
      "\n",
      "t[50]==c[50] found!\n",
      "t[50] to be replaced by its c[75]\n",
      "74\n",
      "75\n",
      "None, expected: 74,75\n",
      "\n",
      "75, expected: 75\n",
      "74, expected: 74\n"
     ]
    }
   ],
   "source": [
    "# target has 1 right child\n",
    "# target child has 1 right children\n",
    "root =TreeNode(50)\n",
    "insert_node_list(root, [75,74])\n",
    "#   [50]       <-------- root_node <----------------------- target_node\n",
    "#       [75]   <-------- target.right <--------------------- None or Integer\n",
    "#     74       <-------- target_child.left  <------ Any\n",
    "delete_node(root,50)\n",
    "#     [75]    <-------- target.right replaces target \n",
    "#  74         <-------- \n",
    "print(f\"{traverse(root)}, expected: 74,75\")\n",
    "print()\n",
    "\n",
    "print(f\"{root.data}, expected: 75\")\n",
    "print(f\"{root.left.data}, expected: 74\")"
   ]
  },
  {
   "cell_type": "code",
   "execution_count": 131,
   "metadata": {},
   "outputs": [
    {
     "name": "stdout",
     "output_type": "stream",
     "text": [
      "Attempting to insert: [25]\n",
      "\t25 inserted left of c50\n",
      "\n",
      "Attempting to insert: [10]\n",
      "\t50 has a left-child25: going left\n",
      "\t10 inserted left of c25\n",
      "\n",
      "t[50]==c[50] found!\n",
      "t[50] to be replaced by its c[25]\n",
      "10\n",
      "25\n",
      "None, expected: 10,25\n",
      "\n",
      "25, expected: 25\n",
      "10, expected: 10\n"
     ]
    }
   ],
   "source": [
    "# target has 1 right child\n",
    "# target child has 1 left children\n",
    "root =TreeNode(50)\n",
    "insert_node_list(root, [25,10])\n",
    "#     [50]   <-------- root_node <----------------------- target_node\n",
    "#  [25]      <-------- target.left <--------------------- None or Integer\n",
    "# [10]       <-------- target_child.left  <------ Any\n",
    "delete_node(root,50)\n",
    "#     [25]    <-------- target.left replaces target \n",
    "#  10         <-------- \n",
    "print(f\"{traverse(root)}, expected: 10,25\")\n",
    "print()\n",
    "\n",
    "print(f\"{root.data}, expected: 25\")\n",
    "print(f\"{root.left.data}, expected: 10\")"
   ]
  },
  {
   "cell_type": "code",
   "execution_count": 132,
   "metadata": {},
   "outputs": [
    {
     "name": "stdout",
     "output_type": "stream",
     "text": [
      "Attempting to insert: [25]\n",
      "\t25 inserted left of c50\n",
      "\n",
      "Attempting to insert: [10]\n",
      "\t50 has a left-child25: going left\n",
      "\t10 inserted left of c25\n",
      "\n",
      "t[25]<-c[50]: go left...\n",
      "t[25]==c[25] found!\n",
      "10\n",
      "50\n",
      "None, expected: 10,50\n",
      "\n",
      "50, expected: 50\n",
      "10, expected: 10\n"
     ]
    }
   ],
   "source": [
    "# target has 1 left child\n",
    "# target_child has 0 children\n",
    "root =TreeNode(50)\n",
    "insert_node_list(root, [25,10])\n",
    "#         50 <-------- parent_node \n",
    "#      [25]  <-------- target or parent.left\n",
    "#    10      <-------- targets_child (or target.left) replaces target via parent.left -> target_child <------ 1\n",
    "delete_node(root,25)\n",
    "#         50 <-------- parent_node <--------------\n",
    "#      [10]  <-------- target_child\n",
    "\n",
    "print(f\"{traverse(root)}, expected: 10,50\")\n",
    "print()\n",
    "\n",
    "print(f\"{root.data}, expected: 50\")\n",
    "print(f\"{root.left.data}, expected: 10\")\n"
   ]
  },
  {
   "cell_type": "code",
   "execution_count": 133,
   "metadata": {},
   "outputs": [
    {
     "name": "stdout",
     "output_type": "stream",
     "text": [
      "Attempting to insert: [25]\n",
      "\t25 inserted left of c50\n",
      "\n",
      "Attempting to insert: [10]\n",
      "\t50 has a left-child25: going left\n",
      "\t10 inserted left of c25\n",
      "\n",
      "Attempting to insert: [4]\n",
      "\t50 has a left-child25: going left\n",
      "\t25 has a left-child10: going left\n",
      "\t4 inserted left of c10\n",
      "\n",
      "Attempting to insert: [15]\n",
      "\t50 has a left-child25: going left\n",
      "\t25 has a left-child10: going left\n",
      "\t15 inserted right of c10\n",
      "\n",
      "t[25]<-c[50]: go left...\n",
      "t[25]==c[25] found!\n",
      "4\n",
      "10\n",
      "15\n",
      "50\n",
      "None, expected: 4,10,15,50\n",
      "\n",
      "50, expected: 50\n",
      "10, expected: 10\n",
      "4, expected: 4\n",
      "15, expected: 15\n"
     ]
    }
   ],
   "source": [
    "# target has 1 left child\n",
    "# target_child has 2 children\n",
    "root =TreeNode(50)\n",
    "insert_node_list(root, [25,10,4,15])\n",
    "#         50 <-------- parent_node \n",
    "#      [25]  <-------- target or parent.left\n",
    "#    10      <-------- targets_child (or target.left) replaces target via parent.left -> target_child <------ 1\n",
    "#   4 15      \n",
    "delete_node(root,25)\n",
    "#          50 <-------- parent_node <--------------\n",
    "#    [10]    <-------- target_child\n",
    "#  4    15\n",
    "\n",
    "print(f\"{traverse(root)}, expected: 4,10,15,50\")\n",
    "print()\n",
    "\n",
    "print(f\"{root.data}, expected: 50\")\n",
    "print(f\"{root.left.data}, expected: 10\")\n",
    "print(f\"{root.left.left.data}, expected: 4\")\n",
    "print(f\"{root.left.right.data}, expected: 15\")\n"
   ]
  },
  {
   "cell_type": "code",
   "execution_count": 134,
   "metadata": {},
   "outputs": [
    {
     "name": "stdout",
     "output_type": "stream",
     "text": [
      "Attempting to insert: [55]\n",
      "\t55 inserted right of c50\n",
      "\n",
      "Attempting to insert: [52]\n",
      "\t50 has a right-child55: going left\n",
      "\t52 inserted left of c55\n",
      "\n",
      "Attempting to insert: [51]\n",
      "\t50 has a right-child55: going left\n",
      "\t55 has a left-child52: going left\n",
      "\t51 inserted left of c52\n",
      "\n",
      "Attempting to insert: [53]\n",
      "\t50 has a right-child55: going left\n",
      "\t55 has a left-child52: going left\n",
      "\t53 inserted right of c52\n",
      "\n",
      "t[55]->c[50]: go right...\n",
      "t[55]==c[55] found!\n",
      "50\n",
      "51\n",
      "52\n",
      "53\n",
      "None, expected: 50,51,52,53\n",
      "\n",
      "50, expected: 50\n",
      "52, expected: 52\n",
      "51, expected: 51\n",
      "53, expected: 53\n"
     ]
    }
   ],
   "source": [
    "# target has 1 right child\n",
    "# target_child has 2 children\n",
    "root =TreeNode(50)\n",
    "insert_node_list(root, [55,52,51,53])\n",
    "#   50        <-------- parent_node \n",
    "#       [55]  <-------- target or parent.left\n",
    "#      52     <-------- targets_child (or target.left) replaces target via parent.left -> target_child <------ 1\n",
    "#    51  53      \n",
    "delete_node(root,55)\n",
    "#   50       <-------- parent_node \n",
    "#      [52]  <-------- target_child becomes target\n",
    "#     51  53      \n",
    "\n",
    "print(f\"{traverse(root)}, expected: 50,51,52,53\")\n",
    "print()\n",
    "\n",
    "print(f\"{root.data}, expected: 50\")\n",
    "print(f\"{root.right.data}, expected: 52\")\n",
    "print(f\"{root.right.left.data}, expected: 51\")\n",
    "print(f\"{root.right.right.data}, expected: 53\")\n"
   ]
  },
  {
   "cell_type": "code",
   "execution_count": 135,
   "metadata": {},
   "outputs": [
    {
     "name": "stdout",
     "output_type": "stream",
     "text": [
      "Attempting to insert: [25]\n",
      "\t25 inserted left of c50\n",
      "\n",
      "Attempting to insert: [75]\n",
      "\t75 inserted right of c50\n",
      "\n",
      "t[50]==c[50] found!\n",
      "25\n",
      "75\n",
      "None, expected: 25, 75\n",
      "\n",
      "75, expected: 75\n",
      "25, expected: 25\n"
     ]
    }
   ],
   "source": [
    "root =TreeNode(50)\n",
    "insert_node_list(root, [25,75])\n",
    "#             [50]x\n",
    "#      25           [75]s\n",
    "delete_node(root,50)\n",
    "#             [50]x\n",
    "#      25           \n",
    "print(f\"{traverse(root)}, expected: 25, 75\")\n",
    "print()\n",
    "\n",
    "print(f\"{root.data}, expected: 75\")\n",
    "print(f\"{root.left.data}, expected: 25\")\n"
   ]
  },
  {
   "cell_type": "code",
   "execution_count": 136,
   "metadata": {},
   "outputs": [
    {
     "name": "stdout",
     "output_type": "stream",
     "text": [
      "Attempting to insert: [25]\n",
      "\t25 inserted left of c50\n",
      "\n",
      "Attempting to insert: [75]\n",
      "\t75 inserted right of c50\n",
      "\n",
      "Attempting to insert: [89]\n",
      "\t50 has a right-child75: going left\n",
      "\t89 inserted right of c75\n",
      "\n",
      "t[50]==c[50] found!\n",
      "25\n",
      "75\n",
      "89\n",
      "None, expected: 25, 75, 89\n",
      "\n",
      "75, expected: 75\n",
      "25, expected: 25\n",
      "89, expected: 89\n"
     ]
    }
   ],
   "source": [
    "root =TreeNode(50)\n",
    "insert_node_list(root, [25,75,89])\n",
    "#             [50]x\n",
    "#      25           [75]s\n",
    "#                        [89]c  \n",
    "delete_node(root,50)\n",
    "#             [75]x\n",
    "#      25           [89]s\n",
    "print(f\"{traverse(root)}, expected: 25, 75, 89\")\n",
    "print()\n",
    "print(f\"{root.data}, expected: 75\")\n",
    "print(f\"{root.left.data}, expected: 25\")\n",
    "print(f\"{root.right.data}, expected: 89\")\n"
   ]
  },
  {
   "cell_type": "code",
   "execution_count": 137,
   "metadata": {},
   "outputs": [
    {
     "name": "stdout",
     "output_type": "stream",
     "text": [
      "Attempting to insert: [25]\n",
      "\t25 inserted left of c50\n",
      "\n",
      "Attempting to insert: [75]\n",
      "\t75 inserted right of c50\n",
      "\n",
      "Attempting to insert: [70]\n",
      "\t50 has a right-child75: going left\n",
      "\t70 inserted left of c75\n",
      "\n",
      "Attempting to insert: [89]\n",
      "\t50 has a right-child75: going left\n",
      "\t89 inserted right of c75\n",
      "\n",
      "t[50]==c[50] found!\n",
      "\n",
      "25\n",
      "70\n",
      "75\n",
      "89\n",
      "None, expected: 25, 70, 75, 89\n",
      "\n",
      "70, expected: 70\n",
      "25, expected: 25\n",
      "75, expected: 75\n",
      "89, expected: 89\n"
     ]
    }
   ],
   "source": [
    "root =TreeNode(50)\n",
    "insert_node_list(root, [25,75,70,89])\n",
    "#             [50]x\n",
    "#      25           [75]s\n",
    "#               [70]c  [89]c  \n",
    "delete_node(root,50)\n",
    "#             [70]x\n",
    "#      25           [75]s\n",
    "#                      [89]c  \n",
    "print()\n",
    "print(f\"{traverse(root)}, expected: 25, 70, 75, 89\")\n",
    "\n",
    "\n",
    "print()\n",
    "print(f\"{root.data}, expected: 70\")\n",
    "print(f\"{root.left.data}, expected: 25\")\n",
    "print(f\"{root.right.data}, expected: 75\")\n",
    "print(f\"{root.right.right.data}, expected: 89\")"
   ]
  },
  {
   "cell_type": "code",
   "execution_count": 138,
   "metadata": {},
   "outputs": [
    {
     "name": "stdout",
     "output_type": "stream",
     "text": [
      "Attempting to insert: [25]\n",
      "\t25 inserted left of c50\n",
      "\n",
      "Attempting to insert: [75]\n",
      "\t75 inserted right of c50\n",
      "\n",
      "Attempting to insert: [79]\n",
      "\t50 has a right-child75: going left\n",
      "\t79 inserted right of c75\n",
      "\n",
      "Attempting to insert: [89]\n",
      "\t50 has a right-child75: going left\n",
      "\t75 has a right-child79: going left\n",
      "\t89 inserted right of c79\n",
      "\n",
      "Attempting to insert: [60]\n",
      "\t50 has a right-child75: going left\n",
      "\t60 inserted left of c75\n",
      "\n",
      "t[50]==c[50] found!\n",
      "25\n",
      "60\n",
      "75\n",
      "79\n",
      "89\n",
      "None, expected: 25, 60, 70, 75, 89\n"
     ]
    }
   ],
   "source": [
    "root =TreeNode(50)\n",
    "insert_node_list(root, [25,75,79,89,60])\n",
    "#             [50]x\n",
    "#      25           [75]s\n",
    "#                70c    89c  \n",
    "#             60\n",
    "delete_node(root,50)\n",
    "#             [60]\n",
    "#      25           [75]s\n",
    "#                 70     [89]c  \n",
    "print(f\"{traverse(root)}, expected: 25, 60, 70, 75, 89\")\n"
   ]
  },
  {
   "cell_type": "code",
   "execution_count": 139,
   "metadata": {},
   "outputs": [
    {
     "name": "stdout",
     "output_type": "stream",
     "text": [
      "Attempting to insert: [25]\n",
      "\t25 inserted left of c50\n",
      "\n",
      "Attempting to insert: [75]\n",
      "\t75 inserted right of c50\n",
      "\n",
      "Attempting to insert: [79]\n",
      "\t50 has a right-child75: going left\n",
      "\t79 inserted right of c75\n",
      "\n",
      "Attempting to insert: [89]\n",
      "\t50 has a right-child75: going left\n",
      "\t75 has a right-child79: going left\n",
      "\t89 inserted right of c79\n",
      "\n",
      "Attempting to insert: [60]\n",
      "\t50 has a right-child75: going left\n",
      "\t60 inserted left of c75\n",
      "\n",
      "Attempting to insert: [65]\n",
      "\t50 has a right-child75: going left\n",
      "\t75 has a left-child60: going left\n",
      "\t65 inserted right of c60\n",
      "\n",
      "t[50]==c[50] found!\n",
      "25\n",
      "60\n",
      "65\n",
      "75\n",
      "79\n",
      "89\n",
      "None, expected: 25, 60, 65, 70, 75, 89\n"
     ]
    }
   ],
   "source": [
    "root =TreeNode(50)\n",
    "insert_node_list(root, [25,75,79,89,60,65])\n",
    "#             [50]x\n",
    "#      25           [75]s\n",
    "#                70c    89c  \n",
    "#             60\n",
    "#               65\n",
    "delete_node(root,50)\n",
    "#             [60]\n",
    "#      25           [75]s\n",
    "#                 70     [89]c  \n",
    "#               65\n",
    "print(f\"{traverse(root)}, expected: 25, 60, 65, 70, 75, 89\")\n"
   ]
  }
 ],
 "metadata": {
  "kernelspec": {
   "display_name": "fastapi-k7qESWDg",
   "language": "python",
   "name": "python3"
  },
  "language_info": {
   "codemirror_mode": {
    "name": "ipython",
    "version": 3
   },
   "file_extension": ".py",
   "mimetype": "text/x-python",
   "name": "python",
   "nbconvert_exporter": "python",
   "pygments_lexer": "ipython3",
   "version": "3.10.12"
  }
 },
 "nbformat": 4,
 "nbformat_minor": 2
}
