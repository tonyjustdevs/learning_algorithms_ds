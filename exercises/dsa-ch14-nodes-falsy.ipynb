{
 "cells": [
  {
   "cell_type": "raw",
   "metadata": {
    "vscode": {
     "languageId": "raw"
    }
   },
   "source": [
    "---\n",
    "title: \"DSA 35: Falsy Values\"\n",
    "author: \"Tony Phung\"\n",
    "date: \"2025-02-17\"\n",
    "categories: [data structures, algorithms]\n",
    "image: \"imgs/dsa-tba.png\"\n",
    "toc: true\n",
    "description: \"Learning to Pythonic Programming with Falsy Values\"\n",
    "---"
   ]
  },
  {
   "cell_type": "markdown",
   "metadata": {},
   "source": [
    "# 1. **Falsy** Values in Python\n",
    "* `None`\n",
    "* `False`\n",
    "* `0` (integer)\n",
    "* `0.0` (float)\n",
    "* `\"\"` (empty string)\n",
    "* `[]` (empty list)\n",
    "* `()` (empty tuple)\n",
    "* `{}` (empty dictionary)\n",
    "* `set()` (empty set)"
   ]
  },
  {
   "cell_type": "markdown",
   "metadata": {},
   "source": [
    "# 1.1 Use-case of **falsy** values\n",
    "If some `variable` is `None`, then:\n",
    "\n",
    "* `if not variable:` -> Will evaluate to `None`"
   ]
  },
  {
   "cell_type": "markdown",
   "metadata": {},
   "source": [
    "# 1.2 Empty Node Example"
   ]
  },
  {
   "cell_type": "code",
   "execution_count": 256,
   "metadata": {},
   "outputs": [
    {
     "name": "stdout",
     "output_type": "stream",
     "text": [
      "LinkedList without an allocated initial Node means\n",
      "The [ll.first_node] is: \n",
      "\tNone\n",
      "\n",
      "The expression 'If not ll.first_node:' will evaluate to:\n",
      "\tTrue\n"
     ]
    }
   ],
   "source": [
    "class Node():\n",
    "    def __init__(self, data):\n",
    "        self.data=data\n",
    "        self.next_node=None\n",
    "\n",
    "class LinkedList():\n",
    "    def __init__(self, first_node:Node|None=None):\n",
    "        self.first_node: Node|None = first_node\n",
    "\n",
    "from typing import Optional\n",
    "\n",
    "class LinkedList_v2():\n",
    "    def __init__(self, first_node: Optional[str|Node]=None):\n",
    "        if isinstance(first_node,str):\n",
    "            self.first_node = Node(first_node)\n",
    "        elif isinstance(first_node,Node):\n",
    "            self.first_node = first_node\n",
    "        else:\n",
    "            self.first_node = None\n",
    "            \n",
    "ll =  LinkedList()\n",
    "print(f\"LinkedList without an allocated initial Node means\")\n",
    "print(f\"The [ll.first_node] is: \\n\\t{ll.first_node}\") # Empty Node\n",
    "print()\n",
    "\n",
    "if not ll.first_node:\n",
    "    print(f\"The expression 'If not ll.first_node:' will evaluate to:\")\n",
    "    print(f\"\\t{not ll.first_node}\")"
   ]
  }
 ],
 "metadata": {
  "kernelspec": {
   "display_name": ".venv",
   "language": "python",
   "name": "python3"
  },
  "language_info": {
   "codemirror_mode": {
    "name": "ipython",
    "version": 3
   },
   "file_extension": ".py",
   "mimetype": "text/x-python",
   "name": "python",
   "nbconvert_exporter": "python",
   "pygments_lexer": "ipython3",
   "version": "3.13.0"
  }
 },
 "nbformat": 4,
 "nbformat_minor": 2
}
