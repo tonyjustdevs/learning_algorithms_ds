{
 "cells": [
  {
   "cell_type": "raw",
   "metadata": {
    "vscode": {
     "languageId": "raw"
    }
   },
   "source": [
    "---\n",
    "title: \"DSA: Array-Based Heaps [Part 1]\"\n",
    "author: \"Tony Phung\"\n",
    "date: \"2025-03-11\"\n",
    "categories: [data structures, algorithms]\n",
    "image: \"imgs/tba.png\"\n",
    "toc: true\n",
    "description: \"Heaps Cool 😎 101\" \n",
    "---"
   ]
  },
  {
   "cell_type": "markdown",
   "metadata": {},
   "source": [
    "# 1. Array-Based Heap"
   ]
  },
  {
   "cell_type": "code",
   "execution_count": 1,
   "metadata": {},
   "outputs": [],
   "source": [
    "class Heaps:\n",
    "    def __init__(self):\n",
    "        self.data = []\n",
    "    \n",
    "    def root_node(self):\n",
    "        return self.data[0]\n",
    "\n",
    "    def last_node(self):\n",
    "        return self.data[-1]"
   ]
  },
  {
   "cell_type": "markdown",
   "metadata": {
    "vscode": {
     "languageId": "raw"
    }
   },
   "source": [
    "# 2. Traversing an Array-Based Heap"
   ]
  },
  {
   "cell_type": "markdown",
   "metadata": {},
   "source": [
    "# 2.1 Child of Any Node\n",
    "\n",
    "To find the child of any node in an array-based heap, the following formula is always `True`:\n",
    "\n",
    "* **left_child**: `(index*2)+1`\n",
    "* **right_child**: `(index*2)+2`\n"
   ]
  },
  {
   "cell_type": "markdown",
   "metadata": {},
   "source": [
    "# 2.2 Child of Any Node: Code"
   ]
  },
  {
   "cell_type": "code",
   "execution_count": 2,
   "metadata": {},
   "outputs": [],
   "source": [
    "def left_child_index(self, index):\n",
    "    return (index*2)+1\n",
    "\n",
    "def right_child_index(self, index):\n",
    "    return (index*2)+2"
   ]
  },
  {
   "cell_type": "markdown",
   "metadata": {},
   "source": [
    "# 2.3 Parent of Any Node\n",
    "\n",
    "Any **node's parent**: \n",
    "\n",
    "* `(index-1)//2`\n",
    "    - Note `//` is floor division."
   ]
  },
  {
   "cell_type": "code",
   "execution_count": 4,
   "metadata": {},
   "outputs": [],
   "source": [
    "def parent_index(self, index):\n",
    "    return (index-1)//2"
   ]
  },
  {
   "cell_type": "markdown",
   "metadata": {},
   "source": [
    "# 3. Insertion"
   ]
  },
  {
   "cell_type": "code",
   "execution_count": 5,
   "metadata": {},
   "outputs": [],
   "source": [
    "def insert(self, value):\n",
    "    self.data.append(value)\n",
    "    new_node_index = len(self.data)-1\n",
    "    \n",
    "    while(new_node_index>0 and \n",
    "          (self.data[new_node_index] > self.data[self.parent_index(new_node_index)])):\n",
    "        parent_index = self.parent_index(new_node_index)\n",
    "        self.data[parent_index], self.data[new_node_index] = self.data[new_node_index], self.data[parent_index]\n",
    "        \n",
    "        new_node_index=parent_index\n",
    "        "
   ]
  },
  {
   "cell_type": "code",
   "execution_count": null,
   "metadata": {},
   "outputs": [],
   "source": []
  },
  {
   "cell_type": "code",
   "execution_count": null,
   "metadata": {},
   "outputs": [],
   "source": []
  },
  {
   "cell_type": "code",
   "execution_count": null,
   "metadata": {},
   "outputs": [],
   "source": []
  },
  {
   "cell_type": "code",
   "execution_count": null,
   "metadata": {},
   "outputs": [],
   "source": []
  },
  {
   "cell_type": "code",
   "execution_count": null,
   "metadata": {},
   "outputs": [],
   "source": []
  },
  {
   "cell_type": "code",
   "execution_count": null,
   "metadata": {},
   "outputs": [],
   "source": []
  },
  {
   "cell_type": "code",
   "execution_count": null,
   "metadata": {},
   "outputs": [],
   "source": []
  }
 ],
 "metadata": {
  "kernelspec": {
   "display_name": ".venv",
   "language": "python",
   "name": "python3"
  },
  "language_info": {
   "codemirror_mode": {
    "name": "ipython",
    "version": 3
   },
   "file_extension": ".py",
   "mimetype": "text/x-python",
   "name": "python",
   "nbconvert_exporter": "python",
   "pygments_lexer": "ipython3",
   "version": "3.13.0"
  }
 },
 "nbformat": 4,
 "nbformat_minor": 2
}
