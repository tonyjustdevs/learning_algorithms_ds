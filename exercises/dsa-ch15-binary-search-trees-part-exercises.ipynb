{
 "cells": [
  {
   "cell_type": "raw",
   "metadata": {
    "vscode": {
     "languageId": "raw"
    }
   },
   "source": [
    "---\n",
    "title: \"DSA: Binary Search Trees - Exercises\"\n",
    "author: \"Tony Phung\"\n",
    "date: \"2025-03-04\"\n",
    "categories: [data structures, algorithms]\n",
    "image: \"imgs/tba.png\"\n",
    "toc: true\n",
    "description: \"Ch.15 Exercises\" \n",
    "---"
   ]
  },
  {
   "cell_type": "markdown",
   "metadata": {},
   "source": [
    "# 1. Draw a BST\n",
    "\n",
    "Insert into a empty BST the folloowing in this order: \n",
    "\n",
    "* `[1, 5, 9, 2, 4, 10, 6, 3, 8]`.\n",
    "\n",
    "Draw a diagram showing what the BST"
   ]
  },
  {
   "cell_type": "markdown",
   "metadata": {},
   "source": [
    "# 1.1 Draw a BST: Tony's Solution\n",
    "    1\n",
    "      \\ \n",
    "        5\n",
    "       /  \\\n",
    "      2     9\n",
    "       \\   / \\\n",
    "        4 6   10\n",
    "       /   \\\n",
    "      3     8"
   ]
  },
  {
   "cell_type": "markdown",
   "metadata": {},
   "source": [
    "# 2. `Search`: BST\n",
    "Find **maximum number of steps** to search value in Balanced BST with 1,000 values.\n",
    "\n"
   ]
  },
  {
   "cell_type": "markdown",
   "metadata": {},
   "source": [
    "# 2.1 `Search`: BST - Tony's Solution\n",
    "\n",
    "`Searching()` value in BST is $\\log_2(n)$:  \n",
    "$$steps = \\log_2(n)=\\log_2(1000)$$  \n"
   ]
  },
  {
   "cell_type": "markdown",
   "metadata": {},
   "source": [
    "Apply [change of base formula](https://tonyjustdevs.github.io/blog/posts/mathematics/calculus/calc-001-inverse-properties-ax-logax.html):\n",
    "\n",
    "$$\\log_2(1000) = \\frac{\\log_{10}1000}{\\log_{10}2}$$  \n",
    "\n",
    "$$log_{10}1000 = 3$$ \n",
    "$$log_{10}2=0.301$$\n",
    "\n",
    "$$\\log_2(1000) = \\frac{3}{0.301}$$  \n",
    "$$\\approx 9.97$$ \n",
    "$$or\\ 10\\ steps$$  \n",
    "\n"
   ]
  },
  {
   "cell_type": "markdown",
   "metadata": {},
   "source": [
    "# 3. `max()` Value in BST - Tony's Solution\n",
    "Write the algorithm to find node with greatest value in BST."
   ]
  },
  {
   "cell_type": "markdown",
   "metadata": {
    "vscode": {
     "languageId": "raw"
    }
   },
   "source": [
    "# 3.1. `TreeNode` & `insert_node`: Setup\n",
    "\n",
    "Introduced [previously](https://tonyjustdevs.github.io/blog/posts/computerscience/datastructuresandalgorithms/dsa-043-binary-search-trees-part-6.html)."
   ]
  },
  {
   "cell_type": "code",
   "execution_count": 43,
   "metadata": {},
   "outputs": [],
   "source": [
    "class TreeNode: #4 mins\n",
    "    def __init__(self,data,left=None,right=None):\n",
    "        self.data=data\n",
    "        self.left=left\n",
    "        self.right=right\n",
    "        \n",
    "def insert_node(root_node: TreeNode, target: int):\n",
    "    current_node = root_node\n",
    "    \n",
    "    if current_node.data == target:\n",
    "        print(f\"t{target}==c{current_node.data}: cant insert duplicates\")\n",
    "        return current_node.data\n",
    "    elif target < current_node.data:\n",
    "        print(f\"t{target}<-c{current_node.data}: go left\")\n",
    "        if current_node.left:\n",
    "            current_node = current_node.left\n",
    "            return insert_node(current_node, target)\n",
    "        else:  \n",
    "            print(f\"t{target}<-c{current_node.data}: no left_child insert left of c[{current_node.data}]\")\n",
    "            current_node.left = TreeNode(target)\n",
    "            return current_node.left\n",
    "    else:\n",
    "        print(f\"t{target}->c{current_node.data}: go right\")\n",
    "        if current_node.right:\n",
    "            current_node = current_node.right\n",
    "            return insert_node(current_node, target)\n",
    "        else:  \n",
    "            print(f\"t{target}->c{current_node.data}: no right_child insert right of c[{current_node.data}]\")\n",
    "            current_node.right = TreeNode(target)\n",
    "            return current_node.right\n",
    "\n",
    "def insert_node_clean(root_node: TreeNode, target: int):\n",
    "    current_node = root_node\n",
    "    \n",
    "    if current_node.data == target:\n",
    "        # print(f\"t{target}==c{current_node.data}: cant insert duplicates\")\n",
    "        return current_node.data\n",
    "    elif target < current_node.data:\n",
    "        # print(f\"t{target}<-c{current_node.data}: go left\")\n",
    "        if current_node.left:\n",
    "            current_node = current_node.left\n",
    "            return insert_node_clean(current_node, target)\n",
    "        else:  \n",
    "            # print(f\"t{target}<-c{current_node.data}: no left_child insert left of c[{current_node.data}]\")\n",
    "            current_node.left = TreeNode(target)\n",
    "            return current_node.left\n",
    "    else:\n",
    "        # print(f\"t{target}->c{current_node.data}: go right\")\n",
    "        if current_node.right:\n",
    "            current_node = current_node.right\n",
    "            return insert_node_clean(current_node, target)\n",
    "        else:  \n",
    "            # print(f\"t{target}->c{current_node.data}: no right_child insert right of c[{current_node.data}]\")\n",
    "            current_node.right = TreeNode(target)\n",
    "            return current_node.right\n",
    "        \n",
    "        \n",
    "        \n",
    "def insert_from_list(root, node_list: list[int], show_results:bool = False):\n",
    "    for node in node_list:\n",
    "        if show_results:\n",
    "            insert_node(root, node)\n",
    "            print()\n",
    "        else:\n",
    "            insert_node_clean(root, node)\n",
    "    "
   ]
  },
  {
   "cell_type": "markdown",
   "metadata": {},
   "source": [
    "# 3.2 `traverse()`"
   ]
  },
  {
   "cell_type": "code",
   "execution_count": 44,
   "metadata": {},
   "outputs": [
    {
     "name": "stdout",
     "output_type": "stream",
     "text": [
      "10\n",
      "25\n",
      "35\n",
      "50\n",
      "75\n"
     ]
    }
   ],
   "source": [
    "def traverse(root_node: TreeNode):\n",
    "    if not root_node:\n",
    "        return\n",
    "    traverse(root_node.left)\n",
    "    print(root_node.data)\n",
    "    traverse(root_node.right)\n",
    "    \n",
    "root = TreeNode(50)\n",
    "insert_from_list(root, [25,75,10,35,25])\n",
    "traverse(root)\n",
    "\n"
   ]
  },
  {
   "cell_type": "markdown",
   "metadata": {},
   "source": [
    "# 3.3 `find_max()` Value in BST - Tony's Solution"
   ]
  },
  {
   "cell_type": "code",
   "execution_count": 49,
   "metadata": {},
   "outputs": [
    {
     "data": {
      "text/plain": [
       "75"
      ]
     },
     "execution_count": 49,
     "metadata": {},
     "output_type": "execute_result"
    }
   ],
   "source": [
    "def find_max(root_node: TreeNode):\n",
    "    if not root_node:\n",
    "        return\n",
    "    while root_node.right:\n",
    "        return find_max(root_node.right)\n",
    "    return root_node.data\n",
    "\n",
    "\n",
    "root = TreeNode(50)\n",
    "insert_from_list(root, [25,75])\n",
    "find_max(root)\n",
    "\n",
    "# PSUEDO\n",
    "\n",
    "#  50 \n",
    "# 25  75\n",
    "\n",
    "# [ENTERED]find_max{ [root_node==TreeNode(50)]}:\n",
    "# - [enter] while-loop: [c.r][75] exists: ---> recurse find_max{[c.r][75]}:\n",
    "#   - [ENTERED]find_max{ root_node.right=TreeNode(75) }:  \n",
    "#     - [enter] while-loop: [c.r][N] DOES NOT exists\n",
    "#     - [return] c.data=75\n",
    "#   - [RETURND]{find_max{ ret[75] }\n",
    "# - [exitd] while-loop: ret[75] <--- from find_max{ TreeNode(75) }\n",
    "# [return] ret[75]\n",
    "\n"
   ]
  },
  {
   "cell_type": "markdown",
   "metadata": {},
   "source": [
    "# 3.4 `find_max()` Version 2 - Tony's Solution"
   ]
  },
  {
   "cell_type": "code",
   "execution_count": 50,
   "metadata": {},
   "outputs": [
    {
     "data": {
      "text/plain": [
       "80"
      ]
     },
     "execution_count": 50,
     "metadata": {},
     "output_type": "execute_result"
    }
   ],
   "source": [
    "def GET_MAX(root_node: TreeNode):\n",
    "    if not root_node:\n",
    "        return\n",
    "    while root_node.right:\n",
    "        return GET_MAX(root_node.right) # this is hit at every level down and up\n",
    "    return root_node.data # this is only hit once\n",
    "\n",
    "root = TreeNode(50)\n",
    "insert_from_list(root, [25,75,80])\n",
    "GET_MAX(root)\n",
    "\n",
    "\n",
    "#  50 \n",
    "# 25  75\n",
    "#       80\n",
    "\n",
    "# PSUEDO CODE\n",
    "# [ENTERED]GET_MAX{ [rn=TreeNode(50)]}:\n",
    "# - (50)[enter] while-loop: [c.r][50.75] YES exists: \n",
    "# - (50)[enter] GET_MAX{[c.r][50.75]}:\n",
    "#   - (75)[ENTERED] {GET_MAX{  rn==TN(75) }:  \n",
    "#   - (75)[enter] while-loop: [c.r][50.75.80] YES exists: \n",
    "#   - (75)[enter] GET_MAX{[c.r][50.75.80]}:\n",
    "#       - (80)[ENTERED] {GET_MAX{ rn=TN(80) }:  \n",
    "#       - (80)[skipped] while-loop: [c.r][50.75.80.N] NO xists:\n",
    "#       - (80)[return] c.data=80 (~ return root_node.data)\n",
    "#       - (80)[EXITTED] {GET_MAX{ rn=TN(80) }               ---> return 80\n",
    "#   - (75)[exitted] GET_MAX{[c.r][50.75.80]}:               ---> return 80\n",
    "# - (50)[exitted] GET_MAX{[c.r][50.75]}:                    ---> return 80\n",
    "# [RETURND] 80                                              ---> return 80\n",
    "\n",
    "# - [exitd] while-loop: ret[75] <--- from GET_MAX{ TreeNode(75) }\n",
    "# [return] ret[75]\n",
    "\n"
   ]
  },
  {
   "cell_type": "markdown",
   "metadata": {},
   "source": [
    "# 4. **PRE**-order Traversal\n",
    "Given binary serach tree:  \n",
    "\n",
    "              50\n",
    "            /   \\ \n",
    "           25     75\n",
    "          /  \\   /  \\\n",
    "        10   30 60   80\n",
    "\n",
    "What will `pre_order_traversal()` print?"
   ]
  },
  {
   "cell_type": "code",
   "execution_count": 51,
   "metadata": {},
   "outputs": [],
   "source": [
    "def pre_order_traversal(root_node: TreeNode):\n",
    "    if not root_node:\n",
    "        return\n",
    "    print(root_node.data) \n",
    "    pre_order_traversal(root_node.left)\n",
    "    pre_order_traversal(root_node.right)\n",
    "    "
   ]
  },
  {
   "cell_type": "markdown",
   "metadata": {},
   "source": [
    "# 4.1 **PRE**-order Traversal: Tony's Guess without Python\n",
    "- 50\n",
    "- 25\n",
    "- 10\n",
    "- 30\n",
    "- 75\n",
    "- 60\n",
    "- 80"
   ]
  },
  {
   "cell_type": "markdown",
   "metadata": {},
   "source": [
    "          50\n",
    "        /   \\ \n",
    "       25     75\n",
    "      /  \\   /  \\\n",
    "    10   30 60   80"
   ]
  },
  {
   "cell_type": "markdown",
   "metadata": {},
   "source": [
    "# 4.2 **PRE**-order Traversal: Tony's Solution with Python"
   ]
  },
  {
   "cell_type": "code",
   "execution_count": 52,
   "metadata": {},
   "outputs": [
    {
     "name": "stdout",
     "output_type": "stream",
     "text": [
      "inorder traverse\n",
      "10\n",
      "25\n",
      "30\n",
      "50\n",
      "60\n",
      "75\n",
      "80\n",
      "\n",
      "preorder traversal\n",
      "50\n",
      "25\n",
      "10\n",
      "30\n",
      "75\n",
      "60\n",
      "80\n",
      "\n",
      "tony expected preorder traversal\n",
      "50\n",
      "25\n",
      "10\n",
      "30\n",
      "75\n",
      "60\n",
      "80\n"
     ]
    },
    {
     "data": {
      "text/plain": [
       "[None, None, None, None, None, None, None]"
      ]
     },
     "execution_count": 52,
     "metadata": {},
     "output_type": "execute_result"
    }
   ],
   "source": [
    "def pre_order_traversal(root_node: TreeNode):\n",
    "    if not root_node:\n",
    "        return\n",
    "    print(root_node.data) \n",
    "    pre_order_traversal(root_node.left)\n",
    "    pre_order_traversal(root_node.right)\n",
    "\n",
    "root = TreeNode(50)\n",
    "node_list = [50,25,75,10,30,60,80]\n",
    "insert_from_list(root, node_list, show_results=False)\n",
    "print(\"inorder traverse\")\n",
    "traverse(root)    \n",
    "\n",
    "print()\n",
    "print(\"preorder traversal\")\n",
    "pre_order_traversal(root)    \n",
    "\n",
    "print()\n",
    "print(\"tony expected preorder traversal\")\n",
    "tony_expected = [50,25,10,30,75,60,80]\n",
    "[print(item) for item in tony_expected]"
   ]
  },
  {
   "cell_type": "markdown",
   "metadata": {},
   "source": [
    "          50\n",
    "        /   \\ \n",
    "       25     75\n",
    "      /  \\   /  \\\n",
    "    10   30 60   80"
   ]
  },
  {
   "cell_type": "markdown",
   "metadata": {},
   "source": [
    "# 5. **POST**-order Traversal\n",
    "Given binary serach tree:  \n",
    "\n",
    "              50\n",
    "            /   \\ \n",
    "           25     75\n",
    "          /  \\   /  \\\n",
    "        10   30 60   80\n",
    "\n",
    "What will `post_order_traversal()` print?"
   ]
  },
  {
   "cell_type": "markdown",
   "metadata": {},
   "source": [
    "# 5.1 **POST**-order Traversal: Tony's Guess without Python\n",
    "- 10\n",
    "- 30\n",
    "- 25\n",
    "- 60\n",
    "- 80\n",
    "- 75\n",
    "- 50"
   ]
  },
  {
   "cell_type": "markdown",
   "metadata": {},
   "source": [
    "# 5.2 **POST**-order Traversal: Tony's Solution with Python"
   ]
  },
  {
   "cell_type": "code",
   "execution_count": 53,
   "metadata": {},
   "outputs": [
    {
     "name": "stdout",
     "output_type": "stream",
     "text": [
      "inorder traverse\n",
      "10\n",
      "25\n",
      "30\n",
      "50\n",
      "60\n",
      "75\n",
      "80\n",
      "\n",
      "post_order traversal\n",
      "10\n",
      "30\n",
      "25\n",
      "60\n",
      "80\n",
      "75\n",
      "50\n",
      "\n",
      "tony expected post_order traversal\n",
      "10\n",
      "30\n",
      "25\n",
      "60\n",
      "80\n",
      "75\n",
      "50\n"
     ]
    }
   ],
   "source": [
    "def post_order_traversal(root_node: TreeNode):\n",
    "    if not root_node:\n",
    "        return\n",
    "    post_order_traversal(root_node.left)\n",
    "    post_order_traversal(root_node.right)\n",
    "    print(root_node.data) \n",
    "\n",
    "root = TreeNode(50)\n",
    "node_list = [50,25,75,10,30,60,80]\n",
    "insert_from_list(root, node_list, show_results=False)\n",
    "print(\"inorder traverse\")\n",
    "traverse(root)    \n",
    "\n",
    "print()\n",
    "print(\"post_order traversal\")\n",
    "post_order_traversal(root)    \n",
    "\n",
    "print()\n",
    "print(\"tony expected post_order traversal\")\n",
    "tony_expected = [10,30,25,60,80,75,50]\n",
    "for value in tony_expected:\n",
    "    print(value) "
   ]
  }
 ],
 "metadata": {
  "kernelspec": {
   "display_name": ".venv",
   "language": "python",
   "name": "python3"
  },
  "language_info": {
   "codemirror_mode": {
    "name": "ipython",
    "version": 3
   },
   "file_extension": ".py",
   "mimetype": "text/x-python",
   "name": "python",
   "nbconvert_exporter": "python",
   "pygments_lexer": "ipython3",
   "version": "3.13.0"
  }
 },
 "nbformat": 4,
 "nbformat_minor": 2
}
