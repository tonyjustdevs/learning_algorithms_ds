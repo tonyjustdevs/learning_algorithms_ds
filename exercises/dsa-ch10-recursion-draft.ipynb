{
 "cells": [
  {
   "cell_type": "raw",
   "metadata": {
    "vscode": {
     "languageId": "raw"
    }
   },
   "source": [
    "---\n",
    "title: \"DSA: Recursion - Exercises\"\n",
    "author: \"Tony Phung\"\n",
    "date: \"2025-02-04\"\n",
    "categories: [data structures, algorithms]\n",
    "image: \"imgs/dsa-tba.jpg\"\n",
    "toc: true\n",
    "description: \"Quick-fire question attempts\"\n",
    "---"
   ]
  },
  {
   "cell_type": "code",
   "execution_count": 1,
   "metadata": {},
   "outputs": [
    {
     "name": "stdout",
     "output_type": "stream",
     "text": [
      "1\n",
      "\n",
      "1\n",
      "\n",
      "1\n",
      "3\n",
      "\n",
      "1\n",
      "3\n",
      "\n",
      "1\n",
      "3\n",
      "5\n",
      "\n"
     ]
    }
   ],
   "source": [
    "# 1. print every other number:from `low` to `high`\n",
    "\n",
    "def print_every_other(low: int, high: int): \n",
    "    if low>high:\n",
    "        print()\n",
    "        return\n",
    "    print(low)\n",
    "    print_every_other(low+2, high)\n",
    "\n",
    "print_every_other(1,1)\n",
    "print_every_other(1,2)\n",
    "print_every_other(1,3)\n",
    "print_every_other(1,4)\n",
    "print_every_other(1,5)\n"
   ]
  },
  {
   "cell_type": "code",
   "execution_count": 2,
   "metadata": {},
   "outputs": [
    {
     "name": "stdout",
     "output_type": "stream",
     "text": [
      "1\n",
      "3\n",
      "5\n"
     ]
    }
   ],
   "source": [
    "def print_every_other2(low: int, high: int): \n",
    "    for i in range(low, high+1,2):\n",
    "        print(i)\n",
    "print_every_other2(1,5)"
   ]
  },
  {
   "cell_type": "code",
   "execution_count": 3,
   "metadata": {},
   "outputs": [
    {
     "name": "stdout",
     "output_type": "stream",
     "text": [
      "2\n",
      "4\n",
      "6\n",
      "8\n",
      "10\n"
     ]
    }
   ],
   "source": [
    "def print_every_other3(low: int, high: int): \n",
    "    while low<=high:\n",
    "        print(low)\n",
    "        low+=2\n",
    "print_every_other3(2,10)\n",
    "        "
   ]
  },
  {
   "cell_type": "code",
   "execution_count": 4,
   "metadata": {},
   "outputs": [
    {
     "name": "stdout",
     "output_type": "stream",
     "text": [
      "1\n",
      "\n",
      "1\n",
      "3\n",
      "\n",
      "1\n",
      "3\n",
      "\n",
      "1\n",
      "3\n",
      "5\n",
      "\n",
      "1\n",
      "3\n",
      "5\n",
      "7\n",
      "9\n",
      "11\n",
      "\n"
     ]
    }
   ],
   "source": [
    "def print_every_other4(low: int, high: int): \n",
    "    if low>high:\n",
    "        print()\n",
    "        return\n",
    "    print(low)\n",
    "    print_every_other4(low+2,high)    \n",
    "print_every_other4(1,1)\n",
    "print_every_other4(1,3)\n",
    "print_every_other4(1,4)\n",
    "print_every_other4(1,5)\n",
    "print_every_other4(1,11)"
   ]
  },
  {
   "cell_type": "code",
   "execution_count": 5,
   "metadata": {},
   "outputs": [
    {
     "name": "stdout",
     "output_type": "stream",
     "text": [
      "5\n",
      "3\n",
      "1\n"
     ]
    }
   ],
   "source": [
    "# 1b. print every other:    high to low\n",
    "def prnt_evy_othr1(high: int, low:int):\n",
    "    for i in range(high, low-1, -2):\n",
    "        print(i)\n",
    "\n",
    "prnt_evy_othr1(5,1)"
   ]
  },
  {
   "cell_type": "code",
   "execution_count": 10,
   "metadata": {},
   "outputs": [
    {
     "name": "stdout",
     "output_type": "stream",
     "text": [
      "15\n",
      "12\n",
      "9\n",
      "6\n",
      "3\n",
      "0\n"
     ]
    }
   ],
   "source": [
    "# 1c. crement by n\n",
    "def prnt_evy_othr1(high: int, low:int, increment:int):\n",
    "    for i in range(high, low-1, increment):\n",
    "        print(i)\n",
    "\n",
    "# prnt_evy_othr1(5,1,-2)\n",
    "prnt_evy_othr1(15,0,-3)\n"
   ]
  },
  {
   "cell_type": "code",
   "execution_count": 7,
   "metadata": {},
   "outputs": [
    {
     "name": "stdout",
     "output_type": "stream",
     "text": [
      "15\n",
      "11\n",
      "7\n",
      "3\n"
     ]
    }
   ],
   "source": [
    "def prnt_evy_othr2_htol(high: int, low:int, increment:int=1):\n",
    "    if increment == 0:\n",
    "        raise ValueError(\"must be non-zero\")\n",
    "    \n",
    "    while high>=low:\n",
    "        print(high)\n",
    "        high-=increment\n",
    "\n",
    "# prnt_evy_othr2_htol(15,0,1)\n",
    "# prnt_evy_othr2_htol(15,1,2)\n",
    "prnt_evy_othr2_htol(15,0,4)"
   ]
  },
  {
   "cell_type": "code",
   "execution_count": 20,
   "metadata": {},
   "outputs": [
    {
     "name": "stdout",
     "output_type": "stream",
     "text": [
      "15\n",
      "10\n",
      "5\n",
      "15\n",
      "12\n",
      "9\n",
      "6\n",
      "3\n"
     ]
    }
   ],
   "source": [
    "def prnt_evy_othr3_htol(high: int, low:int, increment:int=1):\n",
    "    if high<=low:\n",
    "        return\n",
    "    print(high)\n",
    "    prnt_evy_othr3_htol(high-increment, low,increment=increment)\n",
    "\n",
    "prnt_evy_othr3_htol(15,1,5)\n",
    "# prnt_evy_othr3_htol(15,1,3)\n",
    "\n"
   ]
  },
  {
   "cell_type": "code",
   "execution_count": 27,
   "metadata": {},
   "outputs": [
    {
     "name": "stdout",
     "output_type": "stream",
     "text": [
      "1\n",
      "2\n",
      "3\n",
      "4\n",
      "5\n",
      "6\n",
      "7\n",
      "8\n",
      "9\n",
      "10\n"
     ]
    },
    {
     "data": {
      "text/plain": [
       "55"
      ]
     },
     "execution_count": 27,
     "metadata": {},
     "output_type": "execute_result"
    }
   ],
   "source": [
    "# 2a. sum every number: from `low` to `high`\n",
    "def sum_ltoh_1(low, high):\n",
    "    csum = 0\n",
    "    for i in range(low, high+1):\n",
    "        print(i)\n",
    "        csum+=i\n",
    "    return csum\n",
    "sum_ltoh_1(1,10)"
   ]
  },
  {
   "cell_type": "code",
   "execution_count": 36,
   "metadata": {},
   "outputs": [
    {
     "name": "stdout",
     "output_type": "stream",
     "text": [
      "0\n",
      "2\n",
      "4\n",
      "6\n",
      "8\n",
      "10\n"
     ]
    },
    {
     "data": {
      "text/plain": [
       "30"
      ]
     },
     "execution_count": 36,
     "metadata": {},
     "output_type": "execute_result"
    }
   ],
   "source": [
    "# 2a. sum every number: from `low` to `high`\n",
    "def sum_ltoh_while_fn(low = 1, high=10, inc= 1):\n",
    "    csum = 0\n",
    "    while low<=high:\n",
    "        print(low)\n",
    "        csum+=low\n",
    "        low+=inc\n",
    "    return csum\n",
    "sum_ltoh_while_fn(0,10,2)"
   ]
  },
  {
   "cell_type": "code",
   "execution_count": 54,
   "metadata": {},
   "outputs": [
    {
     "name": "stdout",
     "output_type": "stream",
     "text": [
      "0 0\n",
      "5 5\n",
      "10 15\n",
      "15 30\n",
      "20 50\n",
      "50\n"
     ]
    }
   ],
   "source": [
    "def sum_ltoh_recn_fn(low = 1, high=10, inc= 1,csum=0):\n",
    "    # csum = 0\n",
    "    if low > high:\n",
    "        print(csum)\n",
    "        return csum\n",
    "    csum+=low\n",
    "    print(low,csum)\n",
    "    sum_ltoh_recn_fn(low+inc,high,inc,csum=csum)\n",
    "    \n",
    "# sum_ltoh_recn_fn(1,10,1)\n",
    "sum_ltoh_recn_fn(0,20,5,0)\n"
   ]
  },
  {
   "cell_type": "code",
   "execution_count": null,
   "metadata": {},
   "outputs": [],
   "source": [
    "# 2. sum every number: from `low` to `high`\n",
    "# 3. sum every other number: from `high` to `low`\n",
    "# 4. print only numbers in a heavily nested array\n",
    "# 5. print sub_diretories names\n",
    "# 6. print all files_names in current_dir and all sub_directories\n",
    "# 6. print files\n",
    "\n",
    "\n"
   ]
  },
  {
   "cell_type": "code",
   "execution_count": 7,
   "metadata": {},
   "outputs": [
    {
     "name": "stdout",
     "output_type": "stream",
     "text": [
      "10\n",
      "9\n",
      "8\n",
      "7\n",
      "6\n",
      "5\n",
      "4\n",
      "3\n",
      "2\n",
      "1\n",
      "0\n",
      "55\n"
     ]
    }
   ],
   "source": [
    "# 3. sum every other number: from `high` to `low`\n",
    "high = 10\n",
    "low = 0\n",
    "csum = 0\n",
    "for i in range(high, low-1, -1):\n",
    "    print(i)\n",
    "    csum += i\n",
    "\n",
    "print(csum)"
   ]
  },
  {
   "cell_type": "code",
   "execution_count": 10,
   "metadata": {},
   "outputs": [
    {
     "name": "stdout",
     "output_type": "stream",
     "text": [
      "10\n",
      "9\n",
      "8\n",
      "7\n",
      "6\n",
      "5\n",
      "4\n",
      "3\n",
      "2\n",
      "1\n",
      "0\n"
     ]
    },
    {
     "data": {
      "text/plain": [
       "55"
      ]
     },
     "execution_count": 10,
     "metadata": {},
     "output_type": "execute_result"
    }
   ],
   "source": [
    "# 3b. while - sum every other number: from `high` to `low`\n",
    "high = 10\n",
    "low = 0\n",
    "csum = 0\n",
    "\n",
    "while high >= low:\n",
    "    print(high)\n",
    "    csum += high\n",
    "    high -= 1\n",
    "csum"
   ]
  },
  {
   "cell_type": "code",
   "execution_count": 17,
   "metadata": {},
   "outputs": [
    {
     "name": "stdout",
     "output_type": "stream",
     "text": [
      "10\n",
      "9\n",
      "8\n",
      "7\n",
      "6\n",
      "5\n",
      "4\n",
      "3\n",
      "2\n",
      "1\n",
      "0\n"
     ]
    }
   ],
   "source": [
    "# 3c. recursion - sum every other number: from `high` to `low`\n",
    "high = 10\n",
    "low = 0\n",
    "csum = 0\n",
    "\n",
    "def sum_down(high, low, decrement, cumsum=0):\n",
    "    if high<low:\n",
    "        return\n",
    "    print(high)\n",
    "    # sum_down(high-decrement, low=low, decrement=decrement)\n",
    "    sum_down(high-decrement, low, decrement)\n",
    "\n",
    "sum_down(10,0,1)"
   ]
  },
  {
   "cell_type": "code",
   "execution_count": 28,
   "metadata": {},
   "outputs": [],
   "source": [
    "# 4. print only numbers in a heavily nested array\n",
    "arr= [1,\n",
    "      [2,3,[4,5,6]],\n",
    "      7,\n",
    "      [8,9],\n",
    "      [[10,11],12],\n",
    "      [13,14],\n",
    "      [15]\n",
    "      ]\n"
   ]
  },
  {
   "cell_type": "code",
   "execution_count": 38,
   "metadata": {},
   "outputs": [
    {
     "name": "stdout",
     "output_type": "stream",
     "text": [
      "1\n",
      "2\n",
      "3\n",
      "4\n",
      "5\n",
      "6\n",
      "7\n",
      "8\n",
      "9\n",
      "10\n",
      "11\n",
      "12\n",
      "13\n",
      "14\n",
      "15\n"
     ]
    }
   ],
   "source": [
    "# 4. print only numbers in a heavily nested array\n",
    "arr= [1,\n",
    "      [2,3,[4,5,6]],\n",
    "      7,\n",
    "      [8,9],\n",
    "      [[10,11],12],\n",
    "      [13,14],\n",
    "      [15]\n",
    "      ]\n",
    "\n",
    "def flatten_array(arr):\n",
    "    for ar in arr:\n",
    "        if isinstance(ar,int):\n",
    "            print(ar)\n",
    "        else:\n",
    "            flatten_array(ar)\n",
    "flatten_array(arr)\n",
    "\n",
    "    "
   ]
  },
  {
   "cell_type": "code",
   "execution_count": 46,
   "metadata": {},
   "outputs": [
    {
     "name": "stdout",
     "output_type": "stream",
     "text": [
      "./fakefld2\n",
      "./fakefld2/fakefld2a\n",
      "./fakefld2/fakefld2b\n",
      "./fakefld2/fakefld2b/fakefld2c\n",
      "./imgs\n",
      "./fakefld1\n",
      "./fakefld1/fakefld1b\n",
      "./fakefld1/fakefld1b/fakefld1b1\n",
      "./fakefld1/fakefld1a\n",
      "./fakefld1/fakefld1a/fakefld1a1\n"
     ]
    }
   ],
   "source": [
    "# 5. print sub_diretories names\n",
    "\n",
    "import os\n",
    "dirname=\".\"\n",
    "def print_subdirs(dirname=\".\"):\n",
    "    for filename in os.listdir(dirname):\n",
    "        path = os.path.join(dirname,filename) # create paths\n",
    "        # print(path)\n",
    "        if os.path.isdir(path): #test paths\n",
    "            print(path)\n",
    "            print_subdirs(path)\n",
    "\n",
    "print_subdirs()\n"
   ]
  },
  {
   "cell_type": "code",
   "execution_count": null,
   "metadata": {},
   "outputs": [],
   "source": []
  },
  {
   "cell_type": "code",
   "execution_count": null,
   "metadata": {},
   "outputs": [],
   "source": []
  },
  {
   "cell_type": "code",
   "execution_count": null,
   "metadata": {},
   "outputs": [],
   "source": []
  },
  {
   "cell_type": "code",
   "execution_count": null,
   "metadata": {},
   "outputs": [],
   "source": [
    "# 5. print sub_diretories names\n",
    "# 6. print all files_names in current_dir and all sub_directories\n",
    "# 6. print files"
   ]
  }
 ],
 "metadata": {
  "kernelspec": {
   "display_name": ".venv",
   "language": "python",
   "name": "python3"
  },
  "language_info": {
   "codemirror_mode": {
    "name": "ipython",
    "version": 3
   },
   "file_extension": ".py",
   "mimetype": "text/x-python",
   "name": "python",
   "nbconvert_exporter": "python",
   "pygments_lexer": "ipython3",
   "version": "3.13.1"
  }
 },
 "nbformat": 4,
 "nbformat_minor": 2
}
