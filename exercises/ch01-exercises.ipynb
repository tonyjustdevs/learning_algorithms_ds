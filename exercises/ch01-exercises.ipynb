{
 "cells": [
  {
   "cell_type": "raw",
   "metadata": {
    "vscode": {
     "languageId": "raw"
    }
   },
   "source": [
    "---\n",
    "title: \"DSA: Array and Sets Exercises\"\n",
    "author: \"Tony Phung\"\n",
    "date: \"2025-01-05\"\n",
    "categories: [data structures, algorithms]\n",
    "image: \"imgs/dsa_ch01array.png\"\n",
    "toc: true\n",
    "description: \"Chapter 1 Exercises, J.Wengrow Vol 2\"\n",
    "---"
   ]
  },
  {
   "cell_type": "markdown",
   "metadata": {},
   "source": [
    "![](imgs/dsa_ch01array.png)"
   ]
  },
  {
   "cell_type": "markdown",
   "metadata": {},
   "source": [
    "\n",
    "# 1. ***Array*** Operations: *Exercises*\n",
    "For an ***array*** ***$Arr[n_1,..n_{100}]$*** containing **$100$** elements. \n",
    "\n",
    "Provide the `number_of_steps` for the operation:\n",
    "* $Reading()$\n",
    "* $Searching()$ `target` **not in** the `array`\n",
    "* $Insertion()$ **at** $[beginning]$\n",
    "* $Insertion()$ **at** $[end]$\n",
    "* $Deletion()$ **at** $[beginning]$\n",
    "* $Deletion()$ **at** $[end]$\n",
    "\n",
    "\n",
    "of the `array`."
   ]
  },
  {
   "cell_type": "markdown",
   "metadata": {
    "vscode": {
     "languageId": "raw"
    }
   },
   "source": [
    "# 1.1 ***Array*** Operations: *Tony's Solutions*\n",
    "|Operation on `array` $\\{a_i\\}^{100}_{i=1}$     | Big $O(n)$| `number_of_steps` | Comments  |\n",
    "|-----------------------------------------------|-----------|-------------------|-----------|\n",
    "|$Reading()$ **any** position in the `array`    | $O(1)$    | $O(1)=1$ steps        | - Reading an array is like having a numpad and pressing/accessing the number required at the time needed.<br>- No requirement count up to a particular number, we can see all numbers at once. |\n",
    "|$Searching()$ `target` **not in** the `array`  | $O(n)$    | $O(100)=100$ steps      | - Search (or iterate) through whole array<br>- i.e. every single item is read once and checked against a target<br>- It could be argued that $Comparison()$ is an operation though but here we do not consider it as one. |\n",
    "|$Insertion()$ **at** $[beginning]$             | $O(n+1)$    | $O(101+1)=101$ steps      | - $Move()$ each item right by one<br>- $Move()$ last item $Arr[n] \\to Arr[n+1]$<br> - $Move()$ $2nd\\_last$ item to last $Arr[n+1] \\to Arr[n],\\ ...etc$<br>- After $MovingAll()$ items $\\to$ $n$ operations<br> - $Insert()$ value into array in $1\\ step$ <br> - $Total=100+1=101\\ steps$|\n",
    "|$Insertion()$ **at** $[end]$                   | $O(1)$    | $O(1)=1$ steps      | - Go to end of array and $Insert()$ value in $1\\ step$   |\n",
    "|$Deletion()$ **at** $[beginning]$              | $O(n)$    | $O(99+1)=100$ steps      | - $Delete()$ $[first]$ item in $1\\ step<br> - This leaves $(n-1)$ items left in the array<br> - Move each item right by 1<br> - Thus, $Arr[1] \\to Arr[0],\\ Arr[2] \\to Arr[1]...etc...(n-1)\\ times$<br> - $Total=1+99=100\\ steps$|\n",
    "|$Deletion()$ **at** $[end]$                    | $O(1)$    | $O(1)=1$ steps      | - $Delete()$ $[last]$ item in $1\\ step$ |"
   ]
  },
  {
   "cell_type": "markdown",
   "metadata": {},
   "source": [
    "# 2. ***Array-Based Set*** Operations\n",
    "For an ***array-based set*** ***$Set\\{n_1,..n_{100}\\}$*** containing **$100$** elements. \n",
    "\n",
    "Provide the `number_of_steps` for the operation:\n",
    "* $Reading()$\n",
    "* $Searching()$ `target` *not in* `set`\n",
    "* $Insertion()$ `new_value` *at* $[beginning]$\n",
    "* $Insertion()$ `new_value` *at* $[end]$\n",
    "* $Deletion()$ *at* $[beginning]$\n",
    "* $Deletion()$ *at* $[end]$\n",
    "\n",
    "of the `set`.\n"
   ]
  },
  {
   "cell_type": "markdown",
   "metadata": {},
   "source": [
    "# 2.1 ***set-Based Set*** Operations: *Tony's Solutions*\n",
    "|Operation on `set` $\\{a_i\\}^{100}_{i=1}$   | Big $O(n)$| `number_of_steps` | Comments  |\n",
    "|-------------------------------------------|-----------|-------------------|-----------|\n",
    "|$Reading()$ **any** position in the `set`  | $O(1)$   | $O(1)$              | - Same as `array` |\n",
    "|$Searching()$ `target` **not in** the `set`| $O(n)$   | $O(100)$            | - Same as `array` |\n",
    "|$Insertion()$ **at** $[beginning]$         | $O(n+1)$ | $O(2*100+1)=O(201)$ | - Search whole `array`: $100\\ steps$<br> - $Move()\\ or\\ Shift()\\ items\\ right\\ from\\ Set{0} \\to Set{1}, Set{1} \\to Set{2}...$ (Same as `array`): $100\\ steps$<br> - $Insert()$: $1\\ step$<br> - $Search(100)+Move(100)+Insert(1) = 201\\ steps$        |\n",
    "|$Insertion()$ **at** $[end]$               | $O(n+1)$| $O(100+1)=O(101)$    | - $Search(100)$ then $Insert(1)$ =$101\\ steps$|\n",
    "|$Deletion()$ **at** $[beginning]$          | $O(n)$   | $O(n)$              | - $Delete(1)$ then $ShiftLeft(99)$=$100\\ steps$|\n",
    "|$Deletion()$ **at** $[end]$                | $O(1)$   | $O(1)$              | - $Delete(1)$=$1\\ steps$|"
   ]
  },
  {
   "cell_type": "markdown",
   "metadata": {},
   "source": [
    "# 3. $Search()$ vs $Count()$ In Arrays\n",
    "Search()$: Finds the $first\\ instance$ of a $given\\_value$ in an ***array***.   \n",
    "\n",
    "**$Count()$**: How many **steps** to find all the **target_value** ($every\\ instance$ of a $given\\_value$).  Give your answer **$N$**.\n"
   ]
  },
  {
   "cell_type": "markdown",
   "metadata": {},
   "source": [
    "# 3.1 $Search()$ vs $Count()$ In Arrays: *Tony' Solutions*\n",
    "|Operation on `array` $\\{a_i\\}^{n}_{i=1}$ | Big $O(n)$| `number_of_steps` | Comments  |\n",
    "|-----------------------------------------|-----------|-------------------|-----------|\n",
    "|$Count()$ `target_value` in `array`      | $O(n)$    | $O(1)=1$ steps    | - $Search(n)$ whole array<br> - Increase $Counter()$ by 1 each time an occurence of `target_value` is seen |"
   ]
  }
 ],
 "metadata": {
  "kernelspec": {
   "display_name": ".venv",
   "language": "python",
   "name": "python3"
  },
  "language_info": {
   "codemirror_mode": {
    "name": "ipython",
    "version": 3
   },
   "file_extension": ".py",
   "mimetype": "text/x-python",
   "name": "python",
   "nbconvert_exporter": "python",
   "pygments_lexer": "ipython3",
   "version": "3.13.0"
  }
 },
 "nbformat": 4,
 "nbformat_minor": 2
}
