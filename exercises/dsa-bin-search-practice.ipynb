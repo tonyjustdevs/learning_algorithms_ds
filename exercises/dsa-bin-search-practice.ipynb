{
 "cells": [
  {
   "cell_type": "raw",
   "metadata": {
    "vscode": {
     "languageId": "raw"
    }
   },
   "source": [
    "---\n",
    "title: \"DSA: Binary Search Practice\"\n",
    "author: \"Tony Phung\"\n",
    "date: \"2025-01-09\"\n",
    "categories: [data structures, algorithms]\n",
    "image: \"imgs/dsa-bin.jpg\"\n",
    "toc: true\n",
    "description: \"Writing binary search from scratch and testing array sizes\"\n",
    "---"
   ]
  },
  {
   "cell_type": "markdown",
   "metadata": {},
   "source": [
    "# 1. ***Odd*** Array-Size `[11,22,33,44,55,66,77]`"
   ]
  },
  {
   "cell_type": "code",
   "execution_count": null,
   "metadata": {},
   "outputs": [],
   "source": [
    "arr = [11,22,33,44,55,66,77]\n",
    "# [1 ]: l  .  t  m  .  .  r\n",
    "# [2 ]: l  m  tr x  x  x  x\n",
    "# [3 ]: x  x  ltr x  x  x  x\n",
    "target = 33\n",
    "l, r = 0, len(arr)-1  # r=6\n",
    "ctr=0\n",
    "found=False\n",
    "while l<=r:\n",
    "    ctr+=1\n",
    "    print(f\"[step {ctr}]: {arr[l:r+1]}\")\n",
    "    m=(l+r)//2\n",
    "    if target == arr[m]:\n",
    "        found=True\n",
    "        print(f\"Target:[{target}] found, index:[{m}] in {ctr} steps!\")\n",
    "        break\n",
    "    elif target>arr[m]:\n",
    "        l=m+1\n",
    "    elif target<arr[m]:\n",
    "        r=m-1\n",
    "if not found:\n",
    "    print(f\"Target:[{target}] not found in {ctr} steps!\")\n",
    "    \n"
   ]
  },
  {
   "cell_type": "markdown",
   "metadata": {},
   "source": [
    "# 2. ***Even*** Array-Size `[11,22,33,44,55,66,77,88]`"
   ]
  },
  {
   "cell_type": "code",
   "execution_count": 21,
   "metadata": {},
   "outputs": [
    {
     "name": "stdout",
     "output_type": "stream",
     "text": [
      "[1] Searching array: [11, 22, 33, 44, 55, 66, 77, 88], steps:[1]\n",
      "44 found: index[3] in 1 steps\n",
      "[2] Searching array: [55, 66, 77, 88], steps:[2]\n",
      "[3] Searching array: [55], steps:[3]\n"
     ]
    }
   ],
   "source": [
    "arr = [11,22,33,44,55,66,77,88]\n",
    "target = 44\n",
    "l,r = 0, len(arr)-1\n",
    "\n",
    "# [0 ]  l  .  t   .  .  .  .  r\n",
    "# [1a]  l  .  t   m  .  .  .  r\n",
    "# [1b]  l  .  trm x  x  x  x  x\n",
    "# [2a]  l  m  tr  x  x  x  x  x\n",
    "# [2b]  l  m  ltr x  x  x  x  x\n",
    "# [3 ]  x  x  ltr x  x  x  x  x\n",
    "found=False\n",
    "ctr = 0\n",
    "while l<=r:\n",
    "    ctr+=1\n",
    "    print(f\"[{ctr}] Searching array: {arr[l:r+1]}, steps:[{ctr}]\")\n",
    "    m=(l+r)//2\n",
    "    if target == arr[m]:\n",
    "        found=True\n",
    "        print(f\"{target} found: index[{m}] in {ctr} steps\")\n",
    "        l=m+1\n",
    "    elif target < arr[m]:\n",
    "        r=m-1\n",
    "    elif target > arr[m]:\n",
    "        l=m+1\n",
    "if not target:\n",
    "    print(f\"{target} not found: index[{m}] in {ctr} steps\")\n"
   ]
  },
  {
   "cell_type": "markdown",
   "metadata": {},
   "source": [
    "# 3. Binary Search Function"
   ]
  },
  {
   "cell_type": "code",
   "execution_count": 32,
   "metadata": {},
   "outputs": [],
   "source": [
    "from typing import List\n",
    "def binary_search_01(arr: List[int], target: int):\n",
    "    ctr = 0\n",
    "    l,r = 0, len(arr)-1\n",
    "    \n",
    "    while l <= r:\n",
    "        print(f\"Searching array: {arr[l:r+1]}\")\n",
    "        m = (l + r) // 2\n",
    "        ctr+=1\n",
    "        if target == arr[m]:\n",
    "            print(f\"{target} found on index [{m}] in {ctr} steps\")\n",
    "            return True\n",
    "        elif target > arr[m]:\n",
    "            l=m+1\n",
    "        elif target < arr[m]:\n",
    "            r=m-1\n",
    "\n",
    "    print(f\"{target} not found in {ctr} steps\")\n",
    "    return False\n",
    "\n"
   ]
  },
  {
   "cell_type": "code",
   "execution_count": 33,
   "metadata": {},
   "outputs": [
    {
     "name": "stdout",
     "output_type": "stream",
     "text": [
      "Searching array: [11, 22, 33, 44, 55, 66, 77, 88]\n",
      "Searching array: [55, 66, 77, 88]\n",
      "Searching array: [77, 88]\n",
      "77 found on index [6] in 3 steps\n"
     ]
    },
    {
     "data": {
      "text/plain": [
       "True"
      ]
     },
     "execution_count": 33,
     "metadata": {},
     "output_type": "execute_result"
    }
   ],
   "source": [
    "# arr = [11,22,33,44,55,66,77,88]\n",
    "# [1 ]: m44 l55  66  77  r88\n",
    "# [2a]:     l55 m66  77  r88\n",
    "# [2b]:         m66 l77  r88\n",
    "# [3a]:             l77m r88\n",
    "\n",
    "binary_search_01([11,22,33,44,55,66,77,88],77)"
   ]
  },
  {
   "cell_type": "code",
   "execution_count": null,
   "metadata": {},
   "outputs": [],
   "source": []
  }
 ],
 "metadata": {
  "kernelspec": {
   "display_name": ".venv",
   "language": "python",
   "name": "python3"
  },
  "language_info": {
   "codemirror_mode": {
    "name": "ipython",
    "version": 3
   },
   "file_extension": ".py",
   "mimetype": "text/x-python",
   "name": "python",
   "nbconvert_exporter": "python",
   "pygments_lexer": "ipython3",
   "version": "3.13.0"
  }
 },
 "nbformat": 4,
 "nbformat_minor": 2
}
