{
 "cells": [
  {
   "cell_type": "raw",
   "metadata": {
    "vscode": {
     "languageId": "raw"
    }
   },
   "source": [
    "---\n",
    "title: \"DSA 35: Exercises\"\n",
    "author: \"Tony Phung\"\n",
    "date: \"2025-02-17\"\n",
    "categories: [data structures, algorithms]\n",
    "image: \"imgs/dsa-tba.png\"\n",
    "toc: true\n",
    "description: \"Chapter 14 Exercises\"\n",
    "---"
   ]
  },
  {
   "cell_type": "markdown",
   "metadata": {
    "vscode": {
     "languageId": "raw"
    }
   },
   "source": [
    "# 0. Setup `Node`, `LinkedList` & `DoublyLinkedList` Class"
   ]
  },
  {
   "cell_type": "code",
   "execution_count": 15,
   "metadata": {},
   "outputs": [],
   "source": [
    "from typing import Any\n",
    "\n",
    "class NodeLL():\n",
    "    def __init__(self,data: Any|None=None):\n",
    "        self.data:          Any|None = data\n",
    "        self.next_node:     NodeLL|None = None\n",
    "\n",
    "class NodeDLL():\n",
    "    def __init__(self,data: Any|None=None):\n",
    "        self.data:          Any|None = data\n",
    "        self.prev_node:     NodeDLL|None = None\n",
    "        self.prev_node:     NodeDLL|None = None\n",
    "\n",
    "class LinkedList():\n",
    "    def __init__(self, first_node: NodeLL|None=None):\n",
    "        self.first_node:    NodeLL|None = first_node\n",
    "        \n",
    "class DoublyLinkedList():\n",
    "    def __init__(self, first_node: NodeDLL|None=None,last_node: NodeDLL|None=None):\n",
    "        self.first_node:    NodeDLL|None = first_node\n",
    "        self.last_node:     NodeDLL|None = last_node"
   ]
  },
  {
   "cell_type": "code",
   "execution_count": 16,
   "metadata": {},
   "outputs": [],
   "source": [
    "# classic nodes setup\n",
    "node0_ll=NodeLL(\"time\")\n",
    "node1_ll=NodeLL(\"of\")\n",
    "node2_ll=NodeLL(\"your\")\n",
    "node3_ll=NodeLL(\"life\")\n",
    "node0_ll.next_node=node1_ll\n",
    "node1_ll.next_node=node2_ll\n",
    "node2_ll.next_node=node3_ll"
   ]
  },
  {
   "cell_type": "code",
   "execution_count": 37,
   "metadata": {},
   "outputs": [],
   "source": [
    "# doubly nodes setup\n",
    "node0_dll=NodeDLL(\"TIME\")\n",
    "node1_dll=NodeDLL(\"OF\")\n",
    "node2_dll=NodeDLL(\"YOUR\")\n",
    "node3_dll=NodeDLL(\"LIFE\")\n",
    "\n",
    "node0_dll.next_node=node1_dll\n",
    "node1_dll.next_node=node2_dll\n",
    "node2_dll.next_node=node3_dll\n",
    "\n",
    "node1_dll.prev_node=node0_dll\n",
    "node2_dll.prev_node=node1_dll\n",
    "node3_dll.prev_node=node2_dll"
   ]
  },
  {
   "cell_type": "markdown",
   "metadata": {},
   "source": [
    "\n",
    "# 1. Add method: `print_all` to Classic `LinkedList` Class "
   ]
  },
  {
   "cell_type": "code",
   "execution_count": 38,
   "metadata": {},
   "outputs": [
    {
     "name": "stdout",
     "output_type": "stream",
     "text": [
      "Empty LinkedList!\n",
      "\n",
      "single lonely node\n",
      "\n",
      "time\n",
      "of\n",
      "your\n",
      "life\n",
      "\n"
     ]
    }
   ],
   "source": [
    "def print_rev_all_ll(linked_list: LinkedList)-> None:\n",
    "    current_node = linked_list.first_node\n",
    "\n",
    "    # case 1: empty list: print empty list\n",
    "    if not current_node:\n",
    "        print(\"Empty LinkedList!\")\n",
    "        return None\n",
    "\n",
    "    # case 2: len(ll)==1: print ll[0] # captured in case 3\n",
    "    # if not current_node.next_node:\n",
    "    #     print(current_node.data)\n",
    "    #     return None\n",
    "\n",
    "    # case 3: n items \n",
    "    while current_node:\n",
    "        print(current_node.data)        # print node.data\n",
    "        current_node = current_node.next_node # go next node\n",
    "    return None\n",
    "print_rev_all_ll(LinkedList()) # empty list\n",
    "print()\n",
    "print_rev_all_ll(LinkedList(NodeLL(\"single lonely node\"))) # empty list\n",
    "print()\n",
    "print_rev_all_ll(LinkedList(node0_ll))\n",
    "\n",
    "print()"
   ]
  },
  {
   "cell_type": "markdown",
   "metadata": {},
   "source": [
    "# 2a. Add method: `print_all_reverse` to `ClassicLinkedList` Class "
   ]
  },
  {
   "cell_type": "code",
   "execution_count": 39,
   "metadata": {},
   "outputs": [
    {
     "name": "stdout",
     "output_type": "stream",
     "text": [
      "Empty LinkedList!\n",
      "\n",
      "single lonely node\n",
      "\n",
      "life\n",
      "your\n",
      "of\n",
      "time\n",
      "\n"
     ]
    }
   ],
   "source": [
    "\n",
    "def print_rev_all_ll(linked_list: LinkedList)-> None:\n",
    "    current_node = linked_list.first_node\n",
    "    node_list = []\n",
    "    # case 1: empty list: print empty list\n",
    "    if not current_node:\n",
    "        print(\"Empty LinkedList!\")\n",
    "        return None\n",
    "    \n",
    "    # case n: n items \n",
    "    while current_node:\n",
    "        # print(current_node.data)        # print node.data\n",
    "        node_list.append(current_node.data)\n",
    "        current_node = current_node.next_node # go next node\n",
    "    \n",
    "    [print(node_list[i]) for i in range(len(node_list)-1,-1,-1)]\n",
    "    \n",
    "    return None\n",
    "\n",
    "# LL - REVERSE\n",
    "print_rev_all_ll(LinkedList()) # empty list\n",
    "print()\n",
    "print_rev_all_ll(LinkedList(NodeLL(\"single lonely node\"))) # empty list\n",
    "print()\n",
    "print_rev_all_ll(LinkedList(node0_ll))\n",
    "print()\n",
    "\n",
    "# eta: 9 mins\n",
    "# Comments: used [1.soln], create [node_list] and append each [node.data] then [reverse print]"
   ]
  },
  {
   "cell_type": "markdown",
   "metadata": {},
   "source": [
    "# 2b. Add method: `print_all_reverse` to `DoublyLinkedList` Class "
   ]
  },
  {
   "cell_type": "code",
   "execution_count": 43,
   "metadata": {},
   "outputs": [
    {
     "name": "stdout",
     "output_type": "stream",
     "text": [
      "Empty LinkedList!\n",
      "\n",
      "single lonely node\n",
      "\n",
      "LIFE\n",
      "YOUR\n",
      "OF\n",
      "TIME\n",
      "\n"
     ]
    }
   ],
   "source": [
    "def print_rev_all_dll(dbly_linked_list: DoublyLinkedList)-> None:\n",
    "    current_node = dbly_linked_list.last_node\n",
    "\n",
    "    # case 1: empty list: print empty list\n",
    "    if not current_node:\n",
    "        print(\"Empty LinkedList!\")\n",
    "        return None\n",
    "\n",
    "    # case 3: n items \n",
    "    while current_node:\n",
    "        print(current_node.data)        # \"last\"\n",
    "        current_node = current_node.prev_node # go prev node\n",
    "    return None\n",
    "# DLL REVERSE\n",
    "print_rev_all_dll(DoublyLinkedList()) # empty list\n",
    "print()\n",
    "print_rev_all_dll(DoublyLinkedList( # SINGLE NODE - DLL \n",
    "    first_node=NodeDLL(\"single lonely node\"),   # node is first_node\n",
    "    last_node=NodeDLL(\"single lonely node\")))    # and last_node\n",
    "\n",
    "print()\n",
    "print_rev_all_dll(DoublyLinkedList(\n",
    "    first_node=node0_dll, last_node=node3_dll))\n",
    "print()\n",
    "\n",
    "# eta: 15 min \n",
    "# comments: \n",
    "# - found & fixed bug prev_node assignments, \n",
    "# - [2] update assn  current_node -> prev_node and \n",
    "# - [12] while loop to update to current_node to prev_node"
   ]
  },
  {
   "cell_type": "markdown",
   "metadata": {},
   "source": [
    "# 3a. Add method: `return_last_item` to Classic `LinkedList` Class \n",
    "* Number of Elements: Unknown"
   ]
  },
  {
   "cell_type": "code",
   "execution_count": 52,
   "metadata": {},
   "outputs": [
    {
     "name": "stdout",
     "output_type": "stream",
     "text": [
      "Empty LinkedList!\n",
      "\n",
      "single lonely node\n",
      "\n",
      "life\n",
      "\n"
     ]
    }
   ],
   "source": [
    "\n",
    "def return_last_item_ll(linked_list: LinkedList)-> None:\n",
    "    current_node = linked_list.first_node\n",
    "    # node_list = []\n",
    "    # case 1: empty list: print empty list\n",
    "    if not current_node:\n",
    "        print(\"Empty LinkedList!\")\n",
    "        return None\n",
    "    \n",
    "    # case n: n items \n",
    "    while current_node.next_node:\n",
    "        # print(current_node.data)        # print node.data\n",
    "        # node_list.append(current_node.data)\n",
    "        current_node = current_node.next_node # go next node\n",
    "    \n",
    "    # [print(node_list[i]) for i in range(len(node_list)-1,-1,-1)]\n",
    "    print(current_node.data)\n",
    "    # return current_node.data\n",
    "\n",
    "# LL - last item\n",
    "return_last_item_ll(LinkedList()) # empty list\n",
    "print()\n",
    "return_last_item_ll(LinkedList(NodeLL(\"single lonely node\"))) # empty list\n",
    "print()\n",
    "return_last_item_ll(LinkedList(node0_ll))\n",
    "print()\n",
    "\n",
    "# eta: 3 mins\n",
    "# Comments: used [1.soln] [11] while current_next.next_node exist then not last and go next \n",
    "# [11/14] if c_node.next_node is falsy, its last node, leave while-loop."
   ]
  },
  {
   "cell_type": "markdown",
   "metadata": {},
   "source": [
    "# 3b. Add recursive method: `return_last_item` to Classic `LinkedList` Class "
   ]
  },
  {
   "cell_type": "code",
   "execution_count": null,
   "metadata": {},
   "outputs": [
    {
     "name": "stdout",
     "output_type": "stream",
     "text": [
      "Empty LinkedList!\n",
      "\n",
      "single lonely node\n",
      "\n",
      "life\n",
      "\n"
     ]
    }
   ],
   "source": [
    "# recursive attempt - 1\n",
    "def return_last_item_ll_recursivefn(linked_list: LinkedList)-> None:\n",
    "    current_node = linked_list.first_node\n",
    "    if not current_node:\n",
    "        print(\"Empty LinkedList!\")\n",
    "        return None\n",
    "    \n",
    "    if current_node.next_node:\n",
    "        current_node = current_node.next_node\n",
    "        current_linked_list = LinkedList(current_node) # start from next node\n",
    "        return return_last_item_ll_recursivefn(current_linked_list)\n",
    "    else:\n",
    "        print(current_node.data)\n",
    "        return current_node.data\n",
    "\n",
    "# 'time','of','your','life'\n",
    "return_last_item_ll_recursivefn(LinkedList()) # empty list\n",
    "print()\n",
    "return_last_item_ll_recursivefn(LinkedList(NodeLL(\"single lonely node\")))\n",
    "print()\n",
    "return_last_item_ll_recursivefn(LinkedList(node0_ll))\n",
    "print()\n",
    "\n",
    "# eta: 20 mins\n",
    "# comments: had to remind myself how recursive functions work\n",
    "# [10] then thought of creating a new list each time current_node updates\n",
    "# bad but worked"
   ]
  },
  {
   "cell_type": "markdown",
   "metadata": {},
   "source": [
    "# 3c. Add recursive method: `return_last_item` with `Nodes`"
   ]
  },
  {
   "cell_type": "code",
   "execution_count": 76,
   "metadata": {},
   "outputs": [
    {
     "name": "stdout",
     "output_type": "stream",
     "text": [
      "Empty Node!\n",
      "\n",
      "single lonely node\n",
      "\n",
      "life\n",
      "\n"
     ]
    }
   ],
   "source": [
    "# recursive attempt - 2\n",
    "def return_last_item_nodes_recursivefn(current_node: NodeLL)-> None:\n",
    "    # current_node = linked_list.first_node\n",
    "    if not current_node.data:\n",
    "        print(\"Empty Node!\")\n",
    "        return None\n",
    "    \n",
    "    if current_node.next_node:\n",
    "        current_node = current_node.next_node\n",
    "        # current_linked_list = LinkedList(current_node) # start from next node\n",
    "        return return_last_item_nodes_recursivefn(current_node)\n",
    "    else:\n",
    "        print(current_node.data)\n",
    "        return current_node.data\n",
    "\n",
    "# 'time','of','your','life'\n",
    "return_last_item_nodes_recursivefn(NodeLL()) # empty list\n",
    "print()\n",
    "return_last_item_nodes_recursivefn((NodeLL(\"single lonely node\")))\n",
    "print()\n",
    "return_last_item_nodes_recursivefn(node0_ll)\n",
    "print()\n",
    "\n",
    "# eta: 2mins\n",
    "# comments: adapt first attempt and remove the creation of lists."
   ]
  },
  {
   "cell_type": "markdown",
   "metadata": {},
   "source": [
    "#### 3d. [ignore] Re-wrote to help me attempt 3b and 3c "
   ]
  },
  {
   "cell_type": "code",
   "execution_count": 56,
   "metadata": {},
   "outputs": [
    {
     "data": {
      "text/plain": [
       "9"
      ]
     },
     "execution_count": 56,
     "metadata": {},
     "output_type": "execute_result"
    }
   ],
   "source": [
    "def max_val(arr):\n",
    "    if len(arr)==1:\n",
    "        return arr[0]\n",
    "    \n",
    "    if arr[0]>max_val(arr[1:]):\n",
    "        return arr[0]\n",
    "    else:    \n",
    "        return max_val(arr[1:])\n",
    "    \n",
    "arr=[1,7,3,5,9,4,8,3]    \n",
    "max_val(arr)"
   ]
  },
  {
   "cell_type": "markdown",
   "metadata": {},
   "source": [
    "# 4. Add method: `reverse`\n",
    "* original list: A -> B -> C   \n",
    "* reversed list: C -> B -> A.\n",
    "\n"
   ]
  },
  {
   "cell_type": "code",
   "execution_count": null,
   "metadata": {},
   "outputs": [],
   "source": []
  },
  {
   "cell_type": "markdown",
   "metadata": {},
   "source": [
    "# 5. Delete Node Puzzle\n",
    "\n",
    "List-Type: \n",
    "\n",
    "* `LinkedList` Class\n",
    "\n",
    "Scenario:\n",
    "\n",
    "* You have ***access to a node*** from somewhere in the middle of a classic linked list but ***not to the linked list*** itself; \n",
    "\n",
    "* You have a ***variable that points to an instance of Node***, but you don’t have access to the LinkedList instance. \n",
    "- If you follow this node’s link\n",
    "    - you ***can find all the values from this middle node until the end***, \n",
    "    - but you have ***no way to find the nodes that precede*** this node in the list.\n",
    "\n",
    "Write code that will effectively delete this node from the list. The entire remaining list should remain complete, with only this node removed."
   ]
  }
 ],
 "metadata": {
  "kernelspec": {
   "display_name": ".venv",
   "language": "python",
   "name": "python3"
  },
  "language_info": {
   "codemirror_mode": {
    "name": "ipython",
    "version": 3
   },
   "file_extension": ".py",
   "mimetype": "text/x-python",
   "name": "python",
   "nbconvert_exporter": "python",
   "pygments_lexer": "ipython3",
   "version": "3.13.0"
  }
 },
 "nbformat": 4,
 "nbformat_minor": 2
}
