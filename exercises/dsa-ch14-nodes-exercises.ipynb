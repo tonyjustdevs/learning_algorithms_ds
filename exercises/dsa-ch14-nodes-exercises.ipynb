{
 "cells": [
  {
   "cell_type": "raw",
   "metadata": {
    "vscode": {
     "languageId": "raw"
    }
   },
   "source": [
    "---\n",
    "title: \"DSA 35: Exercises\"\n",
    "author: \"Tony Phung\"\n",
    "date: \"2025-02-17\"\n",
    "categories: [data structures, algorithms]\n",
    "image: \"imgs/dsa-tba.png\"\n",
    "toc: true\n",
    "description: \"Chapter 14 Exercises\"\n",
    "---"
   ]
  },
  {
   "cell_type": "markdown",
   "metadata": {
    "vscode": {
     "languageId": "raw"
    }
   },
   "source": [
    "# 0. Setup `Node`, `LinkedList` & `DoublyLinkedList` Class"
   ]
  },
  {
   "cell_type": "code",
   "execution_count": 25,
   "metadata": {},
   "outputs": [],
   "source": [
    "from typing import Any\n",
    "\n",
    "class NodeLL():\n",
    "    def __init__(self,data: Any|None=None):\n",
    "        self.data:          Any|None = data\n",
    "        self.next_node:     NodeLL|None = None\n",
    "\n",
    "class NodeDLL():\n",
    "    def __init__(self,data: Any|None=None):\n",
    "        self.data:          Any|None = data\n",
    "        self.next_node:     NodeDLL|None = None\n",
    "        self.prev_node:     NodeDLL|None = None\n",
    "\n",
    "class LinkedList():\n",
    "    def __init__(self, first_node: NodeLL|None=None):\n",
    "        self.first_node:    NodeLL|None = first_node\n",
    "        \n",
    "class DoublyLinkedList():\n",
    "    def __init__(self, first_node: NodeDLL|None=None,last_node: NodeDLL|None=None):\n",
    "        self.first_node:    NodeDLL|None = first_node\n",
    "        self.last_node:     NodeDLL|None = last_node"
   ]
  },
  {
   "cell_type": "code",
   "execution_count": null,
   "metadata": {},
   "outputs": [],
   "source": [
    "# classic nodes setup\n",
    "node0_ll=NodeLL(\"time\")\n",
    "node1_ll=NodeLL(\"of\")\n",
    "node2_ll=NodeLL(\"your\")\n",
    "node3_ll=NodeLL(\"life\")\n",
    "node0_ll.next_node=node1_ll\n",
    "node1_ll.next_node=node2_ll\n",
    "node2_ll.next_node=node3_ll"
   ]
  },
  {
   "cell_type": "code",
   "execution_count": 38,
   "metadata": {},
   "outputs": [],
   "source": [
    "# doubly nodes setup\n",
    "node0_dll=NodeDLL(\"just\")\n",
    "node1_dll=NodeDLL(\"the\")\n",
    "node2_dll=NodeDLL(\"way\")\n",
    "node3_dll=NodeDLL(\"you\")\n",
    "\n",
    "node0_dll.next_node=node1_dll\n",
    "node1_dll.next_node=node2_dll\n",
    "node2_dll.next_node=node3_dll\n",
    "\n",
    "node1_dll.prev_node=node0_dll\n",
    "node2_dll.prev_node=node1_dll\n",
    "node3_dll.prev_node=node2_dll"
   ]
  },
  {
   "cell_type": "markdown",
   "metadata": {},
   "source": [
    "\n",
    "# 1. Add method: `print_all` to Classic `LinkedList` Class "
   ]
  },
  {
   "cell_type": "code",
   "execution_count": null,
   "metadata": {},
   "outputs": [
    {
     "name": "stdout",
     "output_type": "stream",
     "text": [
      "Empty LinkedList!\n",
      "\n",
      "single lonely node\n",
      "\n",
      "time\n",
      "of\n",
      "your\n",
      "life\n",
      "\n"
     ]
    }
   ],
   "source": [
    "def print_all(linked_list: LinkedList)-> None:\n",
    "    current_node = linked_list.first_node\n",
    "\n",
    "    # case 1: empty list: print empty list\n",
    "    if not current_node:\n",
    "        print(\"Empty LinkedList!\")\n",
    "        return None\n",
    "\n",
    "    # case 2: len(ll)==1: print ll[0] # captured in case 3\n",
    "    # if not current_node.next_node:\n",
    "    #     print(current_node.data)\n",
    "    #     return None\n",
    "\n",
    "    # case 3: n items \n",
    "    while current_node:\n",
    "        print(current_node.data)        # print node.data\n",
    "        current_node = current_node.next_node # go next node\n",
    "    return None\n",
    "print_all(LinkedList()) # empty list\n",
    "print()\n",
    "print_all(LinkedList(NodeLL(\"single lonely node\"))) # empty list\n",
    "print()\n",
    "print_all(LinkedList(node0_ll))\n",
    "print()"
   ]
  },
  {
   "cell_type": "markdown",
   "metadata": {},
   "source": [
    "# 2. Add method: `print_all_reverse` to `ClassicLinkedList` Class "
   ]
  },
  {
   "cell_type": "markdown",
   "metadata": {},
   "source": [
    "# 3. Add method: `return_last_item` to Classic `LinkedList` Class \n",
    "* Number of Elements: Unknown\n"
   ]
  },
  {
   "cell_type": "markdown",
   "metadata": {},
   "source": [
    "# 4. Add method: `reverse`\n",
    "* original list: A -> B -> C   \n",
    "* reversed list: C -> B -> A.\n",
    "\n"
   ]
  },
  {
   "cell_type": "markdown",
   "metadata": {},
   "source": [
    "# 5. Delete Node Puzzle\n",
    "\n",
    "List-Type: \n",
    "\n",
    "* `LinkedList` Class\n",
    "\n",
    "Scenario:\n",
    "\n",
    "* You have ***access to a node*** from somewhere in the middle of a classic linked list but ***not to the linked list*** itself; \n",
    "\n",
    "* You have a ***variable that points to an instance of Node***, but you don’t have access to the LinkedList instance. \n",
    "- If you follow this node’s link\n",
    "    - you ***can find all the values from this middle node until the end***, \n",
    "    - but you have ***no way to find the nodes that precede*** this node in the list.\n",
    "\n",
    "Write code that will effectively delete this node from the list. The entire remaining list should remain complete, with only this node removed."
   ]
  }
 ],
 "metadata": {
  "kernelspec": {
   "display_name": ".venv",
   "language": "python",
   "name": "python3"
  },
  "language_info": {
   "codemirror_mode": {
    "name": "ipython",
    "version": 3
   },
   "file_extension": ".py",
   "mimetype": "text/x-python",
   "name": "python",
   "nbconvert_exporter": "python",
   "pygments_lexer": "ipython3",
   "version": "3.13.0"
  }
 },
 "nbformat": 4,
 "nbformat_minor": 2
}
