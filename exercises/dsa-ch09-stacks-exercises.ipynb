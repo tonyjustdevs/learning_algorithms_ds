{
 "cells": [
  {
   "cell_type": "raw",
   "metadata": {
    "vscode": {
     "languageId": "raw"
    }
   },
   "source": [
    "---\n",
    "title: \"DSA: Stacks - Exercises\"\n",
    "author: \"Tony Phung\"\n",
    "date: \"2025-01-30\"\n",
    "categories: [data structures, algorithms]\n",
    "image: \"imgs/dsa-tba.jpg\"\n",
    "toc: true\n",
    "description: \"Chapter 9, J.Wengrow Vol 2\"\n",
    "---"
   ]
  },
  {
   "cell_type": "markdown",
   "metadata": {},
   "source": [
    "1. If you were writing software for a call center that places callers on hold and then assigns them to “the next available representative,” would you use a stack or a queue?\n",
    "\n",
    "Queue"
   ]
  },
  {
   "cell_type": "markdown",
   "metadata": {},
   "source": [
    "2. If you pushed numbers onto a stack in the following order: 1, 2, 3, 4, 5, 6, and then popped two items, which number would you be able to read from the stack?\n",
    "\n",
    "5 and 6"
   ]
  },
  {
   "cell_type": "markdown",
   "metadata": {},
   "source": [
    "3. If you inserted numbers into a queue in the following order: 1, 2, 3, 4, 5, 6, and then dequeued two items, which number would you be able to read from the queue?\n",
    "\n",
    "1 and 2"
   ]
  },
  {
   "cell_type": "markdown",
   "metadata": {},
   "source": [
    "4. Write a function that uses a stack to reverse a string. (For example, \"abcde\" would become \"edcba\".) You can work with our earlier implementation of the Stack class.\n",
    "\n"
   ]
  },
  {
   "cell_type": "code",
   "execution_count": 9,
   "metadata": {},
   "outputs": [],
   "source": [
    "class Stack():\n",
    "    def __init__(self):\n",
    "        self.data=[]\n",
    "    def add(self,value:str):\n",
    "        self.data.append(value)\n",
    "    def pop(self):\n",
    "        if len(self.data)>0:\n",
    "            return self.data.pop()\n",
    "        else:\n",
    "            return None\n",
    "    def read(self):\n",
    "        if len(self.data)>0:\n",
    "            return self.data[-1]\n",
    "        else:\n",
    "            return None\n"
   ]
  },
  {
   "cell_type": "markdown",
   "metadata": {},
   "source": [
    "# 4.1 Psuedo-Code Solution \n",
    "\n",
    "* `for`-loop a-to-e: add \"abcde\" to stack via `add()`.\n",
    "\n",
    "* output = `while` `read()` is `True`, `pop()` and `append()` to output list i.e. e-to-a.\n"
   ]
  },
  {
   "cell_type": "markdown",
   "metadata": {},
   "source": [
    "# 4.2 Python Solution"
   ]
  },
  {
   "cell_type": "code",
   "execution_count": 15,
   "metadata": {},
   "outputs": [
    {
     "name": "stdout",
     "output_type": "stream",
     "text": [
      "a added: ['a']\n",
      "b added: ['a', 'b']\n",
      "c added: ['a', 'b', 'c']\n",
      "d added: ['a', 'b', 'c', 'd']\n",
      "e added: ['a', 'b', 'c', 'd', 'e']\n",
      "e\n",
      "ed\n",
      "edc\n",
      "edcb\n",
      "edcba\n"
     ]
    }
   ],
   "source": [
    "tony_stack = Stack()\n",
    "input_string = \"abcde\"\n",
    "listify = lambda string: [char for char in string]\n",
    "\n",
    "# add string into stack\n",
    "# for char in listify(input_string): \n",
    "# just realised I dont need to convert string\n",
    "# to list because its an iterable... oops.\n",
    "for char in input_string:\n",
    "    tony_stack.add(char)\n",
    "    print(f\"{char} added: {tony_stack.data!r}\")\n",
    "\n",
    "# pop string out of stack\n",
    "reversed_string = ''\n",
    "while tony_stack.read():\n",
    "    reversed_string+= tony_stack.pop()\n",
    "    print(reversed_string)"
   ]
  }
 ],
 "metadata": {
  "kernelspec": {
   "display_name": ".venv",
   "language": "python",
   "name": "python3"
  },
  "language_info": {
   "codemirror_mode": {
    "name": "ipython",
    "version": 3
   },
   "file_extension": ".py",
   "mimetype": "text/x-python",
   "name": "python",
   "nbconvert_exporter": "python",
   "pygments_lexer": "ipython3",
   "version": "3.13.1"
  }
 },
 "nbformat": 4,
 "nbformat_minor": 2
}
