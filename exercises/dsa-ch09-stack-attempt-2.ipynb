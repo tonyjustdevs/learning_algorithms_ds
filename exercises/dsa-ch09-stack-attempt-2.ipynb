{
 "cells": [
  {
   "cell_type": "raw",
   "metadata": {
    "vscode": {
     "languageId": "raw"
    }
   },
   "source": [
    "---\n",
    "title: \"DSA: Stack - Linter 2 [Part 3]\"\n",
    "author: \"Tony Phung\"\n",
    "date: \"2025-01-30\"\n",
    "categories: [data structures, algorithms]\n",
    "image: \"imgs/tba.png\"\n",
    "toc: true\n",
    "description: \"Code Updates: reduced unnecessary iterations & improve readability\"\n",
    "---"
   ]
  },
  {
   "cell_type": "markdown",
   "metadata": {},
   "source": [
    "# 1. Changes (& Possibly Improvements) Made\n",
    "* Replaced stack clearance with `while` that will `pop()` if `read()` is `True`, rather than running `__init__` each time `lint` is run:  \n",
    "    - This potentially will save operations since it **only runs** when an stack is not empty. \n",
    "    - Previously a new `empty []` list is always created each time `lint` is run.\n",
    "\n",
    "* Consolidating the closing brace logic: Only checks the lenght of stack via `read()` when closing brace is `char`:  \n",
    "    - Previously code checks `len(self.stack.data)` and closing brace is valid every time an opening brace wasnt present.\n",
    "    - To repeat, now it only checks the length via `read()` when a closing brace is present (not everytime a non-opening brace is present)\n",
    "\n",
    "* Remove `continue` since all cases are accounted for, cleaner loop.\n"
   ]
  },
  {
   "cell_type": "markdown",
   "metadata": {},
   "source": [
    "# 2. `Stack()` class"
   ]
  },
  {
   "cell_type": "code",
   "execution_count": 101,
   "metadata": {},
   "outputs": [],
   "source": [
    "class Stack():\n",
    "    def __init__(self):\n",
    "        self.data = []\n",
    "        print(\"empty stack created\")\n",
    "        \n",
    "    def add(self, value):\n",
    "        self.data.append(value)\n",
    "        print(f\"{value!r} added to end. {self.data!r}\")\n",
    "    def pop(self):\n",
    "        if len(self.data)>0:\n",
    "            value = self.data.pop()\n",
    "            print(f\"{value!r} popped from top. {self.data!r}\")\n",
    "            return value\n",
    "        else:\n",
    "            return None\n",
    "        \n",
    "    def read(self):\n",
    "        if len(self.data)>0:\n",
    "            value = self.data[-1]\n",
    "            print(f\"{value!r} read from top. {self.data!r}\")\n",
    "            return self.data[-1]\n",
    "        else:\n",
    "            return None\n",
    "        "
   ]
  },
  {
   "cell_type": "code",
   "execution_count": 102,
   "metadata": {},
   "outputs": [
    {
     "name": "stdout",
     "output_type": "stream",
     "text": [
      "empty stack created\n"
     ]
    }
   ],
   "source": [
    "tony_stack = Stack()"
   ]
  },
  {
   "cell_type": "markdown",
   "metadata": {},
   "source": [
    "# 3. `Linter2()` classs"
   ]
  },
  {
   "cell_type": "code",
   "execution_count": 103,
   "metadata": {},
   "outputs": [],
   "source": [
    "class Linter2():\n",
    "    def __init__(self):\n",
    "        print(\"linter instance created\")\n",
    "        self.stack = Stack()\n",
    "\n",
    "    def lint(self, input_string: str):\n",
    "        while self.stack.read():                # clear stack\n",
    "            self.stack.pop()\n",
    "\n",
    "        braces_dict = {'(':')','[':']','{':'}'}\n",
    "        \n",
    "        for char in input_string:\n",
    "            if char in braces_dict.keys():\n",
    "                self.stack.add(char)            # is an opening brace\n",
    "            elif char in braces_dict.values():  # is a closing brace\n",
    "                top = self.stack.read()\n",
    "                if not top:            # if cant read (its empty): error 1\n",
    "                    return f\"error 2 - a closing brace {char} without an opening brace!\"\n",
    "                else:                           # not empty, then check correct opening brace\n",
    "                    # check [tops value] (open): (top braces_dict[top] = close) equals [char] (close)\n",
    "                    if char == braces_dict[top]:\n",
    "                        print(f\"okay: closing brace {char!r} matched with opening brace {braces_dict[top]!r}\")\n",
    "                        self.stack.pop()\n",
    "                    else:\n",
    "                        return f\"error 3 - closing brace {char!r} with incorrect opening brace {braces_dict[top]!r}!\"\n",
    "        if self.stack.read():\n",
    "            return f\"error 1 - opening brace {char!r} without a closing brace!\"                    \n",
    "        \n",
    "        return f\"OKAY\""
   ]
  },
  {
   "cell_type": "code",
   "execution_count": 104,
   "metadata": {},
   "outputs": [
    {
     "name": "stdout",
     "output_type": "stream",
     "text": [
      "linter instance created\n",
      "empty stack created\n"
     ]
    }
   ],
   "source": [
    "tony_linter = linter()"
   ]
  },
  {
   "cell_type": "code",
   "execution_count": 105,
   "metadata": {},
   "outputs": [
    {
     "name": "stdout",
     "output_type": "stream",
     "text": [
      "'(' added to end. ['(']\n",
      "'(' read from top. ['(']\n"
     ]
    },
    {
     "data": {
      "text/plain": [
       "\"error 1 - opening brace '(' without a closing brace!\""
      ]
     },
     "execution_count": 105,
     "metadata": {},
     "output_type": "execute_result"
    }
   ],
   "source": [
    "tony_linter.lint(\"(\")"
   ]
  },
  {
   "cell_type": "code",
   "execution_count": 106,
   "metadata": {},
   "outputs": [
    {
     "name": "stdout",
     "output_type": "stream",
     "text": [
      "'(' read from top. ['(']\n",
      "'(' popped from top. []\n"
     ]
    },
    {
     "data": {
      "text/plain": [
       "'error 2 - a closing brace ] without an opening brace!'"
      ]
     },
     "execution_count": 106,
     "metadata": {},
     "output_type": "execute_result"
    }
   ],
   "source": [
    "tony_linter.lint(\"]\")\n"
   ]
  },
  {
   "cell_type": "code",
   "execution_count": 107,
   "metadata": {},
   "outputs": [
    {
     "name": "stdout",
     "output_type": "stream",
     "text": [
      "'[' added to end. ['[']\n",
      "'[' read from top. ['[']\n"
     ]
    },
    {
     "data": {
      "text/plain": [
       "\"error 3 - closing brace '}' with incorrect opening brace ']'!\""
      ]
     },
     "execution_count": 107,
     "metadata": {},
     "output_type": "execute_result"
    }
   ],
   "source": [
    "tony_linter.lint(\"[}\")\n"
   ]
  },
  {
   "cell_type": "code",
   "execution_count": 108,
   "metadata": {},
   "outputs": [
    {
     "name": "stdout",
     "output_type": "stream",
     "text": [
      "'[' read from top. ['[']\n",
      "'[' popped from top. []\n",
      "'{' added to end. ['{']\n",
      "'(' added to end. ['{', '(']\n",
      "'[' added to end. ['{', '(', '[']\n",
      "'{' added to end. ['{', '(', '[', '{']\n",
      "'(' added to end. ['{', '(', '[', '{', '(']\n",
      "'[' added to end. ['{', '(', '[', '{', '(', '[']\n",
      "'{' added to end. ['{', '(', '[', '{', '(', '[', '{']\n",
      "'[' added to end. ['{', '(', '[', '{', '(', '[', '{', '[']\n",
      "'(' added to end. ['{', '(', '[', '{', '(', '[', '{', '[', '(']\n",
      "'{' added to end. ['{', '(', '[', '{', '(', '[', '{', '[', '(', '{']\n",
      "'{' added to end. ['{', '(', '[', '{', '(', '[', '{', '[', '(', '{', '{']\n",
      "'(' added to end. ['{', '(', '[', '{', '(', '[', '{', '[', '(', '{', '{', '(']\n",
      "'(' read from top. ['{', '(', '[', '{', '(', '[', '{', '[', '(', '{', '{', '(']\n",
      "okay: closing brace ')' matched with opening brace ')'\n",
      "'(' popped from top. ['{', '(', '[', '{', '(', '[', '{', '[', '(', '{', '{']\n",
      "'{' read from top. ['{', '(', '[', '{', '(', '[', '{', '[', '(', '{', '{']\n",
      "okay: closing brace '}' matched with opening brace '}'\n",
      "'{' popped from top. ['{', '(', '[', '{', '(', '[', '{', '[', '(', '{']\n",
      "'{' read from top. ['{', '(', '[', '{', '(', '[', '{', '[', '(', '{']\n",
      "okay: closing brace '}' matched with opening brace '}'\n",
      "'{' popped from top. ['{', '(', '[', '{', '(', '[', '{', '[', '(']\n",
      "'(' read from top. ['{', '(', '[', '{', '(', '[', '{', '[', '(']\n",
      "okay: closing brace ')' matched with opening brace ')'\n",
      "'(' popped from top. ['{', '(', '[', '{', '(', '[', '{', '[']\n",
      "'[' read from top. ['{', '(', '[', '{', '(', '[', '{', '[']\n",
      "okay: closing brace ']' matched with opening brace ']'\n",
      "'[' popped from top. ['{', '(', '[', '{', '(', '[', '{']\n",
      "'{' read from top. ['{', '(', '[', '{', '(', '[', '{']\n",
      "okay: closing brace '}' matched with opening brace '}'\n",
      "'{' popped from top. ['{', '(', '[', '{', '(', '[']\n",
      "'[' read from top. ['{', '(', '[', '{', '(', '[']\n",
      "okay: closing brace ']' matched with opening brace ']'\n",
      "'[' popped from top. ['{', '(', '[', '{', '(']\n",
      "'(' read from top. ['{', '(', '[', '{', '(']\n",
      "okay: closing brace ')' matched with opening brace ')'\n",
      "'(' popped from top. ['{', '(', '[', '{']\n",
      "'{' read from top. ['{', '(', '[', '{']\n",
      "okay: closing brace '}' matched with opening brace '}'\n",
      "'{' popped from top. ['{', '(', '[']\n",
      "'[' read from top. ['{', '(', '[']\n",
      "okay: closing brace ']' matched with opening brace ']'\n",
      "'[' popped from top. ['{', '(']\n",
      "'(' read from top. ['{', '(']\n",
      "okay: closing brace ')' matched with opening brace ')'\n",
      "'(' popped from top. ['{']\n",
      "'{' read from top. ['{']\n",
      "okay: closing brace '}' matched with opening brace '}'\n",
      "'{' popped from top. []\n"
     ]
    },
    {
     "data": {
      "text/plain": [
       "'OKAY'"
      ]
     },
     "execution_count": 108,
     "metadata": {},
     "output_type": "execute_result"
    }
   ],
   "source": [
    "tony_linter.lint(\"{i(t[s{w(h[o{w[e(a{r{e(m)a}t}e)🦘]🐨}🐍]🐊)🏖️}🏉]🏏)⛏️}\")\n"
   ]
  }
 ],
 "metadata": {
  "kernelspec": {
   "display_name": ".venv",
   "language": "python",
   "name": "python3"
  },
  "language_info": {
   "codemirror_mode": {
    "name": "ipython",
    "version": 3
   },
   "file_extension": ".py",
   "mimetype": "text/x-python",
   "name": "python",
   "nbconvert_exporter": "python",
   "pygments_lexer": "ipython3",
   "version": "3.13.0"
  }
 },
 "nbformat": 4,
 "nbformat_minor": 2
}
