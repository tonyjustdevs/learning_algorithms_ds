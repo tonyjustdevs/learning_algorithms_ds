{
 "cells": [
  {
   "cell_type": "raw",
   "metadata": {
    "vscode": {
     "languageId": "raw"
    }
   },
   "source": [
    "---\n",
    "title: \"DSA: Insertion Sort\n",
    "author: \"Tony Phung\"\n",
    "date: \"2025-01-12\"\n",
    "categories: [data structures, algorithms]\n",
    "image: \"imgs/dsa-ch06-tba.jpg\"\n",
    "toc: true\n",
    "description: \"Chapter 6, J.Wengrow Vol 2\"\n",
    "---"
   ]
  },
  {
   "cell_type": "markdown",
   "metadata": {},
   "source": [
    "# 1. $InsertionSort()$: Attempt 1 \n",
    "Blind Attempt 👨‍🦯‍➡️"
   ]
  },
  {
   "cell_type": "code",
   "execution_count": null,
   "metadata": {},
   "outputs": [],
   "source": []
  },
  {
   "cell_type": "code",
   "execution_count": 4,
   "metadata": {},
   "outputs": [
    {
     "name": "stdout",
     "output_type": "stream",
     "text": [
      "--- Comparing from [2] (or index: 1)---\n",
      "[4, 2, 7, 1, 3]:   4 vs 2\n",
      "[2, 4, 7, 1, 3]:   swapped 2 & 4\n",
      "--- Comparing from [7] (or index: 2)---\n",
      "[2, 4, 7, 1, 3]:   4 vs 7\n",
      "--- Comparing from [1] (or index: 3)---\n",
      "[2, 4, 7, 1, 3]:   7 vs 1\n",
      "[2, 4, 1, 7, 3]:   swapped 1 & 7\n",
      "[2, 4, 1, 7, 3]:   4 vs 1\n",
      "[2, 1, 4, 7, 3]:   swapped 1 & 4\n",
      "[2, 1, 4, 7, 3]:   2 vs 1\n",
      "[1, 2, 4, 7, 3]:   swapped 1 & 2\n",
      "--- Comparing from [3] (or index: 4)---\n",
      "[1, 2, 4, 7, 3]:   7 vs 3\n",
      "[1, 2, 4, 3, 7]:   swapped 3 & 7\n",
      "[1, 2, 4, 3, 7]:   4 vs 3\n",
      "[1, 2, 3, 4, 7]:   swapped 3 & 4\n",
      "[1, 2, 3, 4, 7]:   2 vs 3\n",
      "[1, 2, 3, 4, 7]\n"
     ]
    }
   ],
   "source": [
    "vals = 42713\n",
    "arr = [int(char) for char in str(vals)]\n",
    "end_idx = len(arr)\n",
    "for r in range(1,end_idx):\n",
    "    print(f\"--- Comparing from [{arr[r]}] (or index: {r})---\")\n",
    "    for l in range(r,0,-1):\n",
    "        print(f\"{arr}:   {arr[l-1]} vs {arr[l]}\")\n",
    "        if arr[l]>=arr[l-1]:\n",
    "                break\n",
    "        arr[l-1],arr[l]=arr[l],arr[l-1]\n",
    "        print(f\"{arr}:   swapped {arr[l-1]} & {arr[l]}\")\n",
    "print(arr)"
   ]
  },
  {
   "cell_type": "code",
   "execution_count": 6,
   "metadata": {},
   "outputs": [
    {
     "name": "stdout",
     "output_type": "stream",
     "text": [
      "1 [4, 2, 7, 1, 3]\n",
      "2 [2, 4, 7, 1, 3]\n",
      "3 [2, 4, 7, 1, 3]\n",
      "4 [2, 4, 1, 7, 3]\n",
      "5 [2, 1, 4, 7, 3]\n",
      "6 [1, 2, 4, 7, 3]\n",
      "7 [1, 2, 4, 3, 7]\n",
      "8 [1, 2, 3, 4, 7]\n"
     ]
    }
   ],
   "source": [
    "vals = 42713\n",
    "arr = [int(char) for char in str(vals)]\n",
    "end_idx = len(arr)\n",
    "ctr=0\n",
    "for r in range(1,end_idx):\n",
    "    for l in range(r,0,-1):\n",
    "        ctr+=1\n",
    "        print(ctr,arr)\n",
    "        if arr[l]>=arr[l-1]:\n",
    "                break\n",
    "        arr[l-1],arr[l]=arr[l],arr[l-1]"
   ]
  },
  {
   "cell_type": "code",
   "execution_count": null,
   "metadata": {},
   "outputs": [],
   "source": []
  },
  {
   "cell_type": "code",
   "execution_count": null,
   "metadata": {},
   "outputs": [],
   "source": []
  },
  {
   "cell_type": "code",
   "execution_count": null,
   "metadata": {},
   "outputs": [],
   "source": []
  },
  {
   "cell_type": "code",
   "execution_count": null,
   "metadata": {},
   "outputs": [],
   "source": []
  },
  {
   "cell_type": "code",
   "execution_count": null,
   "metadata": {},
   "outputs": [],
   "source": []
  },
  {
   "cell_type": "code",
   "execution_count": null,
   "metadata": {},
   "outputs": [],
   "source": []
  }
 ],
 "metadata": {
  "kernelspec": {
   "display_name": ".venv",
   "language": "python",
   "name": "python3"
  },
  "language_info": {
   "codemirror_mode": {
    "name": "ipython",
    "version": 3
   },
   "file_extension": ".py",
   "mimetype": "text/x-python",
   "name": "python",
   "nbconvert_exporter": "python",
   "pygments_lexer": "ipython3",
   "version": "3.13.0"
  }
 },
 "nbformat": 4,
 "nbformat_minor": 2
}
