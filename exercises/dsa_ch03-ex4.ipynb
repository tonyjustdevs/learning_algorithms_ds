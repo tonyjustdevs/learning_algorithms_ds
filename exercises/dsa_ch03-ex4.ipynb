{
 "cells": [
  {
   "cell_type": "raw",
   "metadata": {
    "vscode": {
     "languageId": "raw"
    }
   },
   "source": [
    "---\n",
    "title: \"DSA: Big O - String Selection Function\"\n",
    "author: \"Tony Phung\"\n",
    "date: \"2025-01-09\"\n",
    "categories: [data structures, algorithms]\n",
    "image: \"imgs/dsa_ch04string.jpg\"\n",
    "toc: true\n",
    "description: \"Chapter 3 Selected Exercise 4, J.Wengrow Vol 2\"\n",
    "---"
   ]
  },
  {
   "cell_type": "markdown",
   "metadata": {},
   "source": [
    "# 4. Describe $time\\ complexity$ of `string_a` function using $Big\\ O$ notation"
   ]
  },
  {
   "cell_type": "code",
   "execution_count": 9,
   "metadata": {},
   "outputs": [
    {
     "data": {
      "text/plain": [
       "['aa', 'ab', 'a1']"
      ]
     },
     "execution_count": 9,
     "metadata": {},
     "output_type": "execute_result"
    }
   ],
   "source": [
    "def select_a(array):\n",
    "    \n",
    "    new_array = []\n",
    "    \n",
    "    for string_str in array:\n",
    "        if string_str[0] == \"a\":\n",
    "            new_array.append(string_str)\n",
    "            \n",
    "    return new_array\n",
    "\n",
    "\n",
    "input_arr = [\"aa\",\"ba\",\"cd\",\"ab\",\"32\",\"a1\"]\n",
    "\n",
    "select_a(input_arr)"
   ]
  },
  {
   "cell_type": "markdown",
   "metadata": {},
   "source": [
    "# 4.1 My Written Solution\n",
    "\n",
    "1. $Search()$ whole list of arrays $N$:\n",
    "\n",
    "    * $Search()_{all-cases}$: `N` steps \n",
    "    * or $O(N)$\n",
    "\n",
    "2. $Compare()$: If `string[0]` equals `a`, then $Insert()$ into `new_array`:  \n",
    "\n",
    "    * $Insert()_{best-case}$: `0` steps (e.g. zero insertions)\n",
    "    * $Insert()_{worse-case}$: `N` steps (e.g. insert every string in array)\n",
    "        - Note $Big\\ O$ alwyas takes the worse-case\n",
    "        - Thus $O(N)$\n",
    "\n",
    "3. $Big\\ O$ (Total Steps of Worse-Case) is:\n",
    "\n",
    "    $O(Search) + O(Insert)$  \n",
    "    $ = O(N) + O(N)$  \n",
    "    $ = O(2N)$  \n",
    "    $ = O(N)$   \n"
   ]
  }
 ],
 "metadata": {
  "kernelspec": {
   "display_name": ".venv",
   "language": "python",
   "name": "python3"
  },
  "language_info": {
   "codemirror_mode": {
    "name": "ipython",
    "version": 3
   },
   "file_extension": ".py",
   "mimetype": "text/x-python",
   "name": "python",
   "nbconvert_exporter": "python",
   "pygments_lexer": "ipython3",
   "version": "3.13.0"
  }
 },
 "nbformat": 4,
 "nbformat_minor": 2
}
