{
 "cells": [
  {
   "cell_type": "raw",
   "metadata": {
    "vscode": {
     "languageId": "raw"
    }
   },
   "source": [
    "---\n",
    "title: \"DSA: Insertion Sort - With Test Scenarios\"\n",
    "author: \"Tony Phung\"\n",
    "date: \"2025-01-18\"\n",
    "categories: [data structures, algorithms]\n",
    "image: \"imgs/dsa-ch06-insertion.jpg\"\n",
    "toc: true\n",
    "description: \"Equivalent implementations using for & while-loops\"\n",
    "---"
   ]
  },
  {
   "cell_type": "markdown",
   "metadata": {},
   "source": [
    "# 1. Code: `for` and `while`-loop Version\n",
    "* Used `>=` rather than `>` for debugging (and printing) purposes to capture already sorted iterations"
   ]
  },
  {
   "cell_type": "markdown",
   "metadata": {},
   "source": [
    "# 1.1 `for`-loop"
   ]
  },
  {
   "cell_type": "code",
   "execution_count": 1,
   "metadata": {},
   "outputs": [],
   "source": [
    "def insertion_sort_for(arr: list[int]):\n",
    "    for r in range(1,len(arr)):\n",
    "        print(f\"\\tidx: {[r]}\")\n",
    "        for l in range(r,0,-1):\n",
    "            if arr[l]>=arr[l-1]:\n",
    "                print(f\"SKIP:\\t\\t{(l-1,l)},{arr} \")\n",
    "                break\n",
    "            arr[l-1],arr[l]=arr[l],arr[l-1]\n",
    "            print(f\"UPDATED:\\t{(l-1,l)},{arr} \")\n",
    "    # print(arr)\n",
    "    return arr"
   ]
  },
  {
   "cell_type": "markdown",
   "metadata": {},
   "source": [
    "# 1.2 `while`-loop"
   ]
  },
  {
   "cell_type": "code",
   "execution_count": 2,
   "metadata": {},
   "outputs": [],
   "source": [
    "def insertion_sort_while(arr: list[int]):\n",
    "    for r in range(1,len(arr)):\n",
    "        print(f\"\\tidx: {[r]}\")\n",
    "        l=r\n",
    "        # for l in range(r,0,-1):\n",
    "        while l>0 and arr[l]<arr[l-1]:\n",
    "            arr[l-1],arr[l]=arr[l],arr[l-1]\n",
    "            print(f\"UPDATED:\\t{(l-1,l)},{arr} \")\n",
    "            l-=1\n",
    "        if l>0 and arr[l]>=arr[l-1]:\n",
    "            print(f\"SKIP:\\t\\t{(l-1,l)},{arr} \")\n",
    "    # print(arr)\n",
    "    return arr"
   ]
  },
  {
   "cell_type": "markdown",
   "metadata": {},
   "source": [
    "### 1.3 Helper function\n",
    "Because I am too lazy to make the lists manually each time"
   ]
  },
  {
   "cell_type": "code",
   "execution_count": 3,
   "metadata": {},
   "outputs": [],
   "source": [
    "def vals_to_list(vals:int): \n",
    "    return [int(val) for val in str(vals)]    "
   ]
  },
  {
   "cell_type": "markdown",
   "metadata": {},
   "source": [
    "# 2. Test Scenarios: \n",
    "I'll run both versions for 5 test-scenarios:\n",
    "\n",
    "1. Sorted & Unsorted Parts\n",
    "2. Mostly Sorted\n",
    "3. Unsorted (Descending)\n",
    "4. Duplicates\n",
    "5. Already Sorted\n"
   ]
  },
  {
   "cell_type": "markdown",
   "metadata": {},
   "source": [
    "## 2.1.1 Sorted & Unsorted Parts: `for`-loop\n"
   ]
  },
  {
   "cell_type": "code",
   "execution_count": 4,
   "metadata": {},
   "outputs": [
    {
     "name": "stdout",
     "output_type": "stream",
     "text": [
      "\tidx: [1]\n",
      "UPDATED:\t(0, 1),[2, 4, 7, 1, 3] \n",
      "\tidx: [2]\n",
      "SKIP:\t\t(1, 2),[2, 4, 7, 1, 3] \n",
      "\tidx: [3]\n",
      "UPDATED:\t(2, 3),[2, 4, 1, 7, 3] \n",
      "UPDATED:\t(1, 2),[2, 1, 4, 7, 3] \n",
      "UPDATED:\t(0, 1),[1, 2, 4, 7, 3] \n",
      "\tidx: [4]\n",
      "UPDATED:\t(3, 4),[1, 2, 4, 3, 7] \n",
      "UPDATED:\t(2, 3),[1, 2, 3, 4, 7] \n",
      "SKIP:\t\t(1, 2),[1, 2, 3, 4, 7] \n"
     ]
    },
    {
     "data": {
      "text/plain": [
       "[1, 2, 3, 4, 7]"
      ]
     },
     "execution_count": 4,
     "metadata": {},
     "output_type": "execute_result"
    }
   ],
   "source": [
    "arr = vals_to_list(42713)\n",
    "insertion_sort_for(arr)\n"
   ]
  },
  {
   "cell_type": "markdown",
   "metadata": {},
   "source": [
    "## 2.1.2 Sorted & Unsorted Parts: `while`-loop"
   ]
  },
  {
   "cell_type": "code",
   "execution_count": 5,
   "metadata": {},
   "outputs": [
    {
     "name": "stdout",
     "output_type": "stream",
     "text": [
      "\tidx: [1]\n",
      "UPDATED:\t(0, 1),[2, 4, 7, 1, 3] \n",
      "\tidx: [2]\n",
      "SKIP:\t\t(1, 2),[2, 4, 7, 1, 3] \n",
      "\tidx: [3]\n",
      "UPDATED:\t(2, 3),[2, 4, 1, 7, 3] \n",
      "UPDATED:\t(1, 2),[2, 1, 4, 7, 3] \n",
      "UPDATED:\t(0, 1),[1, 2, 4, 7, 3] \n",
      "\tidx: [4]\n",
      "UPDATED:\t(3, 4),[1, 2, 4, 3, 7] \n",
      "UPDATED:\t(2, 3),[1, 2, 3, 4, 7] \n",
      "SKIP:\t\t(1, 2),[1, 2, 3, 4, 7] \n"
     ]
    },
    {
     "data": {
      "text/plain": [
       "[1, 2, 3, 4, 7]"
      ]
     },
     "execution_count": 5,
     "metadata": {},
     "output_type": "execute_result"
    }
   ],
   "source": [
    "arr = vals_to_list(42713)\n",
    "insertion_sort_while(arr)\n"
   ]
  },
  {
   "cell_type": "markdown",
   "metadata": {},
   "source": [
    "## 2.2.1 Mostly Sorted: `for`-loop\n"
   ]
  },
  {
   "cell_type": "code",
   "execution_count": 6,
   "metadata": {},
   "outputs": [
    {
     "name": "stdout",
     "output_type": "stream",
     "text": [
      "\tidx: [1]\n",
      "SKIP:\t\t(0, 1),[1, 2, 3, 5, 4] \n",
      "\tidx: [2]\n",
      "SKIP:\t\t(1, 2),[1, 2, 3, 5, 4] \n",
      "\tidx: [3]\n",
      "SKIP:\t\t(2, 3),[1, 2, 3, 5, 4] \n",
      "\tidx: [4]\n",
      "UPDATED:\t(3, 4),[1, 2, 3, 4, 5] \n",
      "SKIP:\t\t(2, 3),[1, 2, 3, 4, 5] \n"
     ]
    },
    {
     "data": {
      "text/plain": [
       "[1, 2, 3, 4, 5]"
      ]
     },
     "execution_count": 6,
     "metadata": {},
     "output_type": "execute_result"
    }
   ],
   "source": [
    "arr = vals_to_list(12354)\n",
    "insertion_sort_for(arr)"
   ]
  },
  {
   "cell_type": "markdown",
   "metadata": {},
   "source": [
    "## 2.2.2 Mostly Sorted: `while`-loop\n",
    "\n"
   ]
  },
  {
   "cell_type": "code",
   "execution_count": 7,
   "metadata": {},
   "outputs": [
    {
     "name": "stdout",
     "output_type": "stream",
     "text": [
      "\tidx: [1]\n",
      "SKIP:\t\t(0, 1),[1, 2, 3, 5, 4] \n",
      "\tidx: [2]\n",
      "SKIP:\t\t(1, 2),[1, 2, 3, 5, 4] \n",
      "\tidx: [3]\n",
      "SKIP:\t\t(2, 3),[1, 2, 3, 5, 4] \n",
      "\tidx: [4]\n",
      "UPDATED:\t(3, 4),[1, 2, 3, 4, 5] \n",
      "SKIP:\t\t(2, 3),[1, 2, 3, 4, 5] \n"
     ]
    },
    {
     "data": {
      "text/plain": [
       "[1, 2, 3, 4, 5]"
      ]
     },
     "execution_count": 7,
     "metadata": {},
     "output_type": "execute_result"
    }
   ],
   "source": [
    "arr = vals_to_list(12354)\n",
    "insertion_sort_while(arr)"
   ]
  },
  {
   "cell_type": "markdown",
   "metadata": {},
   "source": [
    "## 2.3.1 Unsorted (Descending): `for`-loop\n"
   ]
  },
  {
   "cell_type": "code",
   "execution_count": 8,
   "metadata": {},
   "outputs": [
    {
     "name": "stdout",
     "output_type": "stream",
     "text": [
      "\tidx: [1]\n",
      "UPDATED:\t(0, 1),[4, 5, 3, 2, 1] \n",
      "\tidx: [2]\n",
      "UPDATED:\t(1, 2),[4, 3, 5, 2, 1] \n",
      "UPDATED:\t(0, 1),[3, 4, 5, 2, 1] \n",
      "\tidx: [3]\n",
      "UPDATED:\t(2, 3),[3, 4, 2, 5, 1] \n",
      "UPDATED:\t(1, 2),[3, 2, 4, 5, 1] \n",
      "UPDATED:\t(0, 1),[2, 3, 4, 5, 1] \n",
      "\tidx: [4]\n",
      "UPDATED:\t(3, 4),[2, 3, 4, 1, 5] \n",
      "UPDATED:\t(2, 3),[2, 3, 1, 4, 5] \n",
      "UPDATED:\t(1, 2),[2, 1, 3, 4, 5] \n",
      "UPDATED:\t(0, 1),[1, 2, 3, 4, 5] \n"
     ]
    },
    {
     "data": {
      "text/plain": [
       "[1, 2, 3, 4, 5]"
      ]
     },
     "execution_count": 8,
     "metadata": {},
     "output_type": "execute_result"
    }
   ],
   "source": [
    "arr = vals_to_list(54321)\n",
    "insertion_sort_for(arr)"
   ]
  },
  {
   "cell_type": "markdown",
   "metadata": {},
   "source": [
    "## 2.3.2 Unsorted (Descending): `while`-loop\n"
   ]
  },
  {
   "cell_type": "code",
   "execution_count": 9,
   "metadata": {},
   "outputs": [
    {
     "name": "stdout",
     "output_type": "stream",
     "text": [
      "\tidx: [1]\n",
      "UPDATED:\t(0, 1),[4, 5, 3, 2, 1] \n",
      "\tidx: [2]\n",
      "UPDATED:\t(1, 2),[4, 3, 5, 2, 1] \n",
      "UPDATED:\t(0, 1),[3, 4, 5, 2, 1] \n",
      "\tidx: [3]\n",
      "UPDATED:\t(2, 3),[3, 4, 2, 5, 1] \n",
      "UPDATED:\t(1, 2),[3, 2, 4, 5, 1] \n",
      "UPDATED:\t(0, 1),[2, 3, 4, 5, 1] \n",
      "\tidx: [4]\n",
      "UPDATED:\t(3, 4),[2, 3, 4, 1, 5] \n",
      "UPDATED:\t(2, 3),[2, 3, 1, 4, 5] \n",
      "UPDATED:\t(1, 2),[2, 1, 3, 4, 5] \n",
      "UPDATED:\t(0, 1),[1, 2, 3, 4, 5] \n"
     ]
    },
    {
     "data": {
      "text/plain": [
       "[1, 2, 3, 4, 5]"
      ]
     },
     "execution_count": 9,
     "metadata": {},
     "output_type": "execute_result"
    }
   ],
   "source": [
    "arr = vals_to_list(54321)\n",
    "insertion_sort_while(arr)"
   ]
  },
  {
   "cell_type": "markdown",
   "metadata": {},
   "source": [
    "## 2.4.1 Duplicates: `for`-loop\n"
   ]
  },
  {
   "cell_type": "code",
   "execution_count": 10,
   "metadata": {},
   "outputs": [
    {
     "name": "stdout",
     "output_type": "stream",
     "text": [
      "\tidx: [1]\n",
      "SKIP:\t\t(0, 1),[1, 1, 1, 1, 1] \n",
      "\tidx: [2]\n",
      "SKIP:\t\t(1, 2),[1, 1, 1, 1, 1] \n",
      "\tidx: [3]\n",
      "SKIP:\t\t(2, 3),[1, 1, 1, 1, 1] \n",
      "\tidx: [4]\n",
      "SKIP:\t\t(3, 4),[1, 1, 1, 1, 1] \n"
     ]
    },
    {
     "data": {
      "text/plain": [
       "[1, 1, 1, 1, 1]"
      ]
     },
     "execution_count": 10,
     "metadata": {},
     "output_type": "execute_result"
    }
   ],
   "source": [
    "arr = vals_to_list(11111)\n",
    "insertion_sort_for(arr)"
   ]
  },
  {
   "cell_type": "markdown",
   "metadata": {},
   "source": [
    "## 2.4.2 Duplicates: `while`-loop\n",
    "\n"
   ]
  },
  {
   "cell_type": "code",
   "execution_count": 11,
   "metadata": {},
   "outputs": [
    {
     "name": "stdout",
     "output_type": "stream",
     "text": [
      "\tidx: [1]\n",
      "SKIP:\t\t(0, 1),[8, 8, 8, 8, 8] \n",
      "\tidx: [2]\n",
      "SKIP:\t\t(1, 2),[8, 8, 8, 8, 8] \n",
      "\tidx: [3]\n",
      "SKIP:\t\t(2, 3),[8, 8, 8, 8, 8] \n",
      "\tidx: [4]\n",
      "SKIP:\t\t(3, 4),[8, 8, 8, 8, 8] \n"
     ]
    },
    {
     "data": {
      "text/plain": [
       "[8, 8, 8, 8, 8]"
      ]
     },
     "execution_count": 11,
     "metadata": {},
     "output_type": "execute_result"
    }
   ],
   "source": [
    "arr = vals_to_list(88888)\n",
    "insertion_sort_while(arr)"
   ]
  },
  {
   "cell_type": "markdown",
   "metadata": {},
   "source": [
    "## 2.5.1 Already Sorted: `for`-loop\n"
   ]
  },
  {
   "cell_type": "code",
   "execution_count": 12,
   "metadata": {},
   "outputs": [
    {
     "name": "stdout",
     "output_type": "stream",
     "text": [
      "\tidx: [1]\n",
      "SKIP:\t\t(0, 1),[1, 2, 3, 4, 5] \n",
      "\tidx: [2]\n",
      "SKIP:\t\t(1, 2),[1, 2, 3, 4, 5] \n",
      "\tidx: [3]\n",
      "SKIP:\t\t(2, 3),[1, 2, 3, 4, 5] \n",
      "\tidx: [4]\n",
      "SKIP:\t\t(3, 4),[1, 2, 3, 4, 5] \n"
     ]
    },
    {
     "data": {
      "text/plain": [
       "[1, 2, 3, 4, 5]"
      ]
     },
     "execution_count": 12,
     "metadata": {},
     "output_type": "execute_result"
    }
   ],
   "source": [
    "arr = vals_to_list(12345)\n",
    "insertion_sort_for(arr)"
   ]
  },
  {
   "cell_type": "markdown",
   "metadata": {},
   "source": [
    "## 2.5.2 Already Sorted: `while`-loop\n"
   ]
  },
  {
   "cell_type": "code",
   "execution_count": 13,
   "metadata": {},
   "outputs": [
    {
     "name": "stdout",
     "output_type": "stream",
     "text": [
      "\tidx: [1]\n",
      "SKIP:\t\t(0, 1),[1, 2, 3, 4, 5] \n",
      "\tidx: [2]\n",
      "SKIP:\t\t(1, 2),[1, 2, 3, 4, 5] \n",
      "\tidx: [3]\n",
      "SKIP:\t\t(2, 3),[1, 2, 3, 4, 5] \n",
      "\tidx: [4]\n",
      "SKIP:\t\t(3, 4),[1, 2, 3, 4, 5] \n"
     ]
    },
    {
     "data": {
      "text/plain": [
       "[1, 2, 3, 4, 5]"
      ]
     },
     "execution_count": 13,
     "metadata": {},
     "output_type": "execute_result"
    }
   ],
   "source": [
    "arr = vals_to_list(12345)\n",
    "insertion_sort_while(arr)"
   ]
  },
  {
   "cell_type": "code",
   "execution_count": 14,
   "metadata": {},
   "outputs": [
    {
     "name": "stdout",
     "output_type": "stream",
     "text": [
      "\tidx: [1]\n",
      "SKIP:\t\t(0, 1),[8, 8, 8, 8, 8] \n",
      "\tidx: [2]\n",
      "SKIP:\t\t(1, 2),[8, 8, 8, 8, 8] \n",
      "\tidx: [3]\n",
      "SKIP:\t\t(2, 3),[8, 8, 8, 8, 8] \n",
      "\tidx: [4]\n",
      "SKIP:\t\t(3, 4),[8, 8, 8, 8, 8] \n"
     ]
    },
    {
     "data": {
      "text/plain": [
       "[8, 8, 8, 8, 8]"
      ]
     },
     "execution_count": 14,
     "metadata": {},
     "output_type": "execute_result"
    }
   ],
   "source": [
    "arr = vals_to_list(88888)\n",
    "insertion_sort_while(arr)"
   ]
  },
  {
   "cell_type": "markdown",
   "metadata": {},
   "source": [
    "# 3. Ending Comments\n",
    "Results are the same which is a good sign.\n",
    "\n",
    "This **algorithm** took me a while to get my head around:  \n",
    "\n",
    "* **Easier**: I have rarely used `while`-loops in my career, and thus lacking in confidence using them, but the `while` implementation seems to be:  \n",
    "    - easier to *read* \n",
    "    - easier to *debug* \n",
    "    - easier to *write* (perhaps, I'll need to practice a bit more)\n",
    "\n",
    "* **Looping both ways**: Conceptually new to me is:  \n",
    "    - An outer loop or `r` to count *forward* and an \n",
    "    - Inner-loop or `l` and to *backward* . \n",
    "    - I've always counted forwards when using nested-loops.\n",
    "\n",
    "* **Other Learnings**: This algorithm has helped me to:\n",
    "    - Better understand and \n",
    "    - Implement the conversion between `for` to `while` loops."
   ]
  }
 ],
 "metadata": {
  "kernelspec": {
   "display_name": ".venv",
   "language": "python",
   "name": "python3"
  },
  "language_info": {
   "codemirror_mode": {
    "name": "ipython",
    "version": 3
   },
   "file_extension": ".py",
   "mimetype": "text/x-python",
   "name": "python",
   "nbconvert_exporter": "python",
   "pygments_lexer": "ipython3",
   "version": "3.13.0"
  }
 },
 "nbformat": 4,
 "nbformat_minor": 2
}
