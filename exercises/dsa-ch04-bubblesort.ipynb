{
 "cells": [
  {
   "cell_type": "raw",
   "metadata": {
    "vscode": {
     "languageId": "raw"
    }
   },
   "source": [
    "---\n",
    "title: \"DSA: Bubble Sort\"\n",
    "author: \"Tony Phung\"\n",
    "date: \"2025-01-09\"\n",
    "categories: [data structures, algorithms]\n",
    "image: \"imgs/dsa-ch04-tba.jpg\"\n",
    "toc: true\n",
    "description: \"Chapter 4, J.Wengrow Vol 2\"\n",
    "---"
   ]
  }
 ],
 "metadata": {
  "kernelspec": {
   "display_name": ".venv",
   "language": "python",
   "name": "python3"
  },
  "language_info": {
   "codemirror_mode": {
    "name": "ipython",
    "version": 3
   },
   "file_extension": ".py",
   "mimetype": "text/x-python",
   "name": "python",
   "nbconvert_exporter": "python",
   "pygments_lexer": "ipython3",
   "version": "3.13.0"
  }
 },
 "nbformat": 4,
 "nbformat_minor": 2
}
