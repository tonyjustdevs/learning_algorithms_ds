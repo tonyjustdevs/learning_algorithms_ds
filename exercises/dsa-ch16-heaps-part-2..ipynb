{
 "cells": [
  {
   "cell_type": "raw",
   "metadata": {
    "vscode": {
     "languageId": "raw"
    }
   },
   "source": [
    "---\n",
    "title: \"DSA: Array-Based Heaps - Exercises [Part 2]\"\n",
    "author: \"Tony Phung\"\n",
    "date: \"2025-03-11\"\n",
    "categories: [data structures, algorithms]\n",
    "image: \"imgs/tba.png\"\n",
    "toc: true\n",
    "description: \"Heaps Cool 😎 exxy\" \n",
    "---"
   ]
  },
  {
   "cell_type": "markdown",
   "metadata": {},
   "source": [
    "# 1. Insert Value(`11`) \n",
    "Into the `heap` below:\n",
    "\n",
    "            10\n",
    "        /       \\\n",
    "        9         8\n",
    "      /  \\       /   \\\n",
    "     6     5    7     4\n",
    "    / \\   /\n",
    "    2  1 3\n",
    "\n"
   ]
  },
  {
   "cell_type": "markdown",
   "metadata": {},
   "source": [
    "# 1.1 Insert Value(`11`): Tony's Solution\n",
    "\n",
    "            10\n",
    "        /       \\\n",
    "        9         8\n",
    "      /  \\       /   \\\n",
    "     6     5    7     4\n",
    "    / \\   / \\\n",
    "    2  1 3  [11]\n",
    "\n",
    "            10\n",
    "        /       \\\n",
    "        9         8\n",
    "      /  \\       /   \\\n",
    "     6    [11]    7     4\n",
    "    / \\   / \\\n",
    "    2  1 3   (5)\n",
    "\n",
    "            10\n",
    "        /       \\\n",
    "      [11]         8\n",
    "      /  \\       /   \\\n",
    "     6    (9)    7     4\n",
    "    / \\   / \\\n",
    "    2  1 3   (5)\n",
    "\n",
    "           [11]\n",
    "        /       \\\n",
    "      (10)         8\n",
    "      /  \\       /   \\\n",
    "     6    (9)    7     4\n",
    "    / \\   / \\\n",
    "    2  1 3   (5)\n"
   ]
  },
  {
   "cell_type": "markdown",
   "metadata": {},
   "source": [
    "# 2. Delete Root(`10`) \n",
    "from the `heap` below:\n",
    "\n",
    "           {10}\n",
    "        /       \\\n",
    "        9         8\n",
    "      /  \\       /   \\\n",
    "     6     5    7     4\n",
    "    / \\   /\n",
    "    2  1 3"
   ]
  },
  {
   "cell_type": "markdown",
   "metadata": {},
   "source": [
    "# 2.1 Delete Root(`10`): Tony' Solution\n",
    "          {10}\n",
    "        /     \\\n",
    "        9       8\n",
    "      /  \\     /   \\\n",
    "     6     5  7     4\n",
    "    / \\   /\n",
    "    2  1 3\n",
    "\n",
    "          [3]\n",
    "        /     \\\n",
    "       (9)       8\n",
    "      /  \\     /   \\\n",
    "     6     5  7     4\n",
    "    / \\   /\n",
    "    2  1 ()\n",
    "\n",
    "          (9)\n",
    "        /     \\\n",
    "       [3]       8\n",
    "      /  \\     /   \\\n",
    "     6     5  7     4\n",
    "    / \\   /\n",
    "    2  1 ()\n",
    "\n",
    "          (9)\n",
    "        /     \\\n",
    "       (6)       8\n",
    "      /  \\     /   \\\n",
    "    [3]    5  7     4\n",
    "    / \\   /\n",
    "    2  1 ()\n",
    "\n",
    "or more accurately...\n",
    "\n",
    "          (9)\n",
    "        /     \\\n",
    "       (6)       8\n",
    "      /  \\     /   \\\n",
    "    [3]    5  7     4\n",
    "    / \\   \n",
    "    2  1 \n"
   ]
  },
  {
   "cell_type": "markdown",
   "metadata": {},
   "source": [
    "# 3. `Pop()` Heap & `Insert()` Array\n",
    "A ***new heap*** is created inserting array from index 0 onwards `[55, 22, 34, 10, 2, 99, 68]`, then the following happens:  \n",
    "\n",
    "* `pop()` operation from heap (one at a time) and \n",
    "* `insert()` ***new array***, \n",
    "\n",
    "Question: What order are the values compared to original array?"
   ]
  },
  {
   "cell_type": "markdown",
   "metadata": {},
   "source": [
    "# 4. `Pop()` Heap & `Insert()` Array: Tony's Solution\n",
    "\n",
    "Assuming ***max-heap*** as question does not specify."
   ]
  },
  {
   "cell_type": "markdown",
   "metadata": {},
   "source": [
    "# 4.1 Create `max_heap` via `insert()` from `origin_array`\n",
    "`original_array` = `[55, 22, 34, 10, 2, 99, 68]`  "
   ]
  },
  {
   "cell_type": "markdown",
   "metadata": {},
   "source": [
    "## 4.1.1 `insert(55, 22, 34, 10, 22)`\n",
    "\n",
    "`insert(55, 22, 34, 10, 22)` keeping the tree **complete**\n",
    "\n",
    "            55  \n",
    "        22      34\n",
    "    10      2   \n",
    "\n",
    "Recall, a **Complete Tree**: \n",
    "\n",
    "* is a **tree** that is:\n",
    "* completely *filled* with nodes \n",
    "* no nodes are *missing*. \n"
   ]
  },
  {
   "cell_type": "markdown",
   "metadata": {},
   "source": [
    "## 4.1.2 `insert(99)`    \n",
    "            55  \n",
    "        22       (34)  \n",
    "    10      2 [99]  \n",
    "    \n",
    "            55\n",
    "        22       [99]  \n",
    "    10      2 (34)  \n",
    "\n",
    "           [99]  \n",
    "        22       (55)  \n",
    "    10      2 (34)  "
   ]
  },
  {
   "cell_type": "markdown",
   "metadata": {},
   "source": [
    "## 4.1.3 `insert(68)`  \n",
    "            99  \n",
    "        22       (55)  \n",
    "    10      2 34    [68]  \n",
    "    \n",
    "            99  \n",
    "        22       [68]  \n",
    "    10      2 34    (55)"
   ]
  },
  {
   "cell_type": "markdown",
   "metadata": {},
   "source": [
    "# 4.2 Create `new_array` via `pop()` of `max_heap`\n",
    "\n",
    "\n",
    "            99  \n",
    "        22      68\n",
    "    10      2 34   [55]\n",
    "\n",
    "**Psuedo-code `delete_node`**:\n",
    "\n",
    "1. `pop()` from `root_node` (e.g. `55`)\n",
    "1. ***replace*** `last_node` to `root_node`\n",
    "1. ***trickle*** `root_node` to keep the tree **complete**\n",
    "\n",
    "# 4.3 Expected Result: *Descending* Order of `original_array`\n",
    "\n",
    "The question didn't specifiy the working-out, thus by properties of `max_heap` or `priority_queue`, values `removed` or `popped` are:\n",
    "\n",
    "* From *Highest* priority to *lowest* priority or value\n",
    "\n",
    "Thus, `new_array` is expected to be the: \n",
    "\n",
    "* `original_array` \n",
    "* ***sorted*** in **descending order**\n"
   ]
  },
  {
   "cell_type": "markdown",
   "metadata": {},
   "source": [
    "# 5. `HeapSort()`\n",
    "\n",
    "`Heapsort()` is a sorting algorithm that: \n",
    "\n",
    "* `insert()` all the values \n",
    "* into a `heap` and then \n",
    "* `pop()` each one. \n",
    "\n",
    "The exact scenario in Question 4.\n",
    "\n",
    "# 5.1 `Heapsort()` is $O(NlogN)$\n",
    "Like `Quicksort()`: \n",
    "\n",
    "* `insert()` $N$ values \n",
    "* into the `heap`: each insertion takes $log N$ steps."
   ]
  }
 ],
 "metadata": {
  "kernelspec": {
   "display_name": ".venv",
   "language": "python",
   "name": "python3"
  },
  "language_info": {
   "codemirror_mode": {
    "name": "ipython",
    "version": 3
   },
   "file_extension": ".py",
   "mimetype": "text/x-python",
   "name": "python",
   "nbconvert_exporter": "python",
   "pygments_lexer": "ipython3",
   "version": "3.13.0"
  }
 },
 "nbformat": 4,
 "nbformat_minor": 2
}
