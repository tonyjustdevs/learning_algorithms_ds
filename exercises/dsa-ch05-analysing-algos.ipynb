{
 "cells": [
  {
   "cell_type": "raw",
   "metadata": {
    "vscode": {
     "languageId": "raw"
    }
   },
   "source": [
    "---\n",
    "title: \"DSA: Big O - Analysing Algorithms\"\n",
    "author: \"Tony Phung\"\n",
    "date: \"2025-01-13\"\n",
    "categories: [data structures, algorithms]\n",
    "image: \"imgs/dsa-ch05-analysing-algos.png\"\n",
    "toc: true\n",
    "description: \"Chapter 5 Exercises, J.Wengrow Vol 2\"\n",
    "---"
   ]
  },
  {
   "cell_type": "markdown",
   "metadata": {},
   "source": [
    "![](imgs/dsa-ch05-analysing-algos.png)"
   ]
  },
  {
   "cell_type": "markdown",
   "metadata": {},
   "source": [
    "# 1. An Algorithm takes $4N + 16$ steps. Describe with Big O notation.\n",
    "\n",
    "### 1.1 Solution: $O(N)$"
   ]
  },
  {
   "cell_type": "markdown",
   "metadata": {},
   "source": [
    "# 2. An algorithm takes $2N^2$ steps. Describe with Big O notation.\n",
    "\n",
    "### 2.1 Solution: $O(N^2)$"
   ]
  },
  {
   "cell_type": "markdown",
   "metadata": {},
   "source": [
    "# 3. Describe function with Big O Notation\n",
    "    ​def​ ​double_then_sum​(array):\n",
    "        doubled_array = []\n",
    "        ​for​ number ​in​ array:\n",
    "            doubled_array.append(number * 2)\n",
    "        sum = 0\n",
    "        ​for​ number ​in​ doubled_array:\n",
    "            sum += number\n",
    "        ​return​ sum"
   ]
  },
  {
   "cell_type": "markdown",
   "metadata": {
    "vscode": {
     "languageId": "raw"
    }
   },
   "source": [
    "### 3.1 Solution: $O(N)$\n",
    "* Loop through `array`: $N$ steps  \n",
    "* Loop through `doubled_array`: $N$ steps  \n",
    "* Total steps: $2N$  \n",
    "* Big O: $O(2N)=O(N)$  "
   ]
  },
  {
   "cell_type": "markdown",
   "metadata": {},
   "source": [
    "# 4. Describe function with Big O Notation\n",
    "    ​def​ ​multiple_cases​(array):\n",
    "        ​for​ string ​in​ array:\n",
    "            ​print​(string.upper())\n",
    "            ​print​(string.lower())\n",
    "            ​print​(string.capitalize())\n"
   ]
  },
  {
   "cell_type": "markdown",
   "metadata": {
    "vscode": {
     "languageId": "raw"
    }
   },
   "source": [
    "### 4.1 Solution: $O(N)$\n",
    "* $3$ operations or steps per `string` or $N$  \n",
    "* Total Steps: $3N$ steps\n",
    "* Big O: $O(3N)=O(N)$"
   ]
  },
  {
   "cell_type": "markdown",
   "metadata": {},
   "source": [
    "# 5. Describe function with Big O Notation\n",
    "\t​def​ ​every_other​(array):\n",
    "\t    ​for​ index, number ​in​ enumerate(array):\n",
    "\t        ​if​ index % 2 == 0:\n",
    "\t            ​for​ other_number ​in​ array:\n",
    "\t                ​print​(number + other_number)"
   ]
  },
  {
   "cell_type": "markdown",
   "metadata": {},
   "source": [
    "### 5.1 Solution: $O(N)$\n",
    "* $N$ operations to iterate through `array`\n",
    "* $N/2$ operations applies in the `if` statement\n",
    "* Total Steps: $N*N/2=N^2/2$ steps\n",
    "* Big O: $O(N^2/2)=O(N^2)$"
   ]
  },
  {
   "cell_type": "code",
   "execution_count": null,
   "metadata": {},
   "outputs": [],
   "source": []
  },
  {
   "cell_type": "code",
   "execution_count": null,
   "metadata": {},
   "outputs": [],
   "source": []
  }
 ],
 "metadata": {
  "kernelspec": {
   "display_name": ".venv",
   "language": "python",
   "name": "python3"
  },
  "language_info": {
   "codemirror_mode": {
    "name": "ipython",
    "version": 3
   },
   "file_extension": ".py",
   "mimetype": "text/x-python",
   "name": "python",
   "nbconvert_exporter": "python",
   "pygments_lexer": "ipython3",
   "version": "3.13.0"
  }
 },
 "nbformat": 4,
 "nbformat_minor": 2
}
