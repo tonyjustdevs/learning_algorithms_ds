{
 "cells": [
  {
   "cell_type": "raw",
   "metadata": {
    "vscode": {
     "languageId": "raw"
    }
   },
   "source": [
    "---\n",
    "title: \"DSA 11: Hash Tables - Part 1\"\n",
    "author: \"Tony Phung\"\n",
    "date: \"2025-01-21\"\n",
    "categories: [data structures, algorithms]\n",
    "image: \"imgs/dsa-011-hashtable-1.png\"\n",
    "toc: true\n",
    "description: \"Create hash tables, hash functions and replicate how the data is in memory\"\n",
    "---"
   ]
  },
  {
   "cell_type": "markdown",
   "metadata": {
    "vscode": {
     "languageId": "raw"
    }
   },
   "source": [
    "![](imgs/dsa-011-hashtable-1.png)"
   ]
  },
  {
   "cell_type": "markdown",
   "metadata": {},
   "source": [
    "# 1. Exampe with Arrays\n",
    "\n",
    "Imagine I opened a cafe called **Tonys Cafe** to sell my favourite foods. \n",
    "\n",
    "Using my existing DSA knowledge (i.e. arrays), the menu may looking like something below. \n",
    "\n",
    "That is, an array with sub-arrays representing the food item and prices. To find a specific food item:\n",
    "\n",
    "* If menu/array is ***unordered***, it will take $O(N)$ steps via $LinearSearch()$\n",
    "* If menu/array is ***ordered***, it will take $O(log_{2}N)$ steps via $BinarySearch()$\n",
    "\n",
    "However I used a ***special data structure*** called `hash table`, to find our item:\n",
    "\n",
    "* It only takes $O(1)$ steps!\n"
   ]
  },
  {
   "cell_type": "markdown",
   "metadata": {},
   "source": [
    "## 1.1 Create Array with Sub-Arrays "
   ]
  },
  {
   "cell_type": "code",
   "execution_count": 1,
   "metadata": {},
   "outputs": [
    {
     "name": "stdout",
     "output_type": "stream",
     "text": [
      "Tony's Cafe Menu          Price ($A)\n",
      "------------------------------------\n",
      "Deep-Fried Chicken Wings        4.99\n",
      "Malaysian Laksa                 4.99\n",
      "Tony Pepperoni Pizza            4.99\n",
      "Cheesey Carbonara               4.99\n"
     ]
    }
   ],
   "source": [
    "menu_arr = [\n",
    "    [\"Deep-Fried Chicken Wings\", 4.99],\n",
    "    [\"Malaysian Laksa\", 4.99],\n",
    "    [\"Tony Pepperoni Pizza\", 4.99],\n",
    "    [\"Cheesey Carbonara\", 4.99],\n",
    "]\n",
    "\n",
    "menu_title = \"Tony's Cafe Menu\"\n",
    "menu_price = \"Price ($A)\"\n",
    "print(f\"{menu_title:25} {menu_price:>10}\")\n",
    "print(f\"{'-'*36}\")\n",
    "\n",
    "for menu_item in menu_arr:\n",
    "    # menu_item_str = menu_item[0]+\":\"\n",
    "    print(f\"{menu_item[0]:25} {menu_item[1]:>10}\")\n"
   ]
  },
  {
   "cell_type": "markdown",
   "metadata": {},
   "source": [
    "# 2. Example with Hash Table\n",
    "## 2.1 Create Hash Table (aka Python Dictionary) example"
   ]
  },
  {
   "cell_type": "code",
   "execution_count": 2,
   "metadata": {},
   "outputs": [
    {
     "name": "stdout",
     "output_type": "stream",
     "text": [
      "{'Deep-Fried Chicken Wings': 4.99, 'Malaysian Laksa': 4.99, 'Tony Pepperoni Pizza': 4.99, 'Cheesey Carbonara': 4.99}\n",
      "<class 'dict'>\n",
      "4.99\n",
      "\n",
      "Tony's Cafe Menu          Price ($A)\n",
      "------------------------------------\n",
      "Deep-Fried Chicken Wings        4.99\n",
      "Malaysian Laksa                 4.99\n",
      "Tony Pepperoni Pizza            4.99\n",
      "Cheesey Carbonara               4.99\n"
     ]
    }
   ],
   "source": [
    "menu_dct = {\n",
    "    \"Deep-Fried Chicken Wings\": 4.99,\n",
    "    \"Malaysian Laksa\": 4.99,\n",
    "    \"Tony Pepperoni Pizza\": 4.99,\n",
    "    \"Cheesey Carbonara\": 4.99\n",
    "}\n",
    "print(menu_dct) # print whole dct\n",
    "print(type(menu_dct)) # get type\n",
    "print(menu_dct.get(\"Tony Pepperoni Pizza\")) # get food item price\n",
    "print()\n",
    "print(f\"{menu_title:25} {menu_price:>10}\") # print menu\n",
    "print(f\"{'-'*36}\")\n",
    "for k,v in menu_dct.items():\n",
    "    print(f\"{k:25} {v:>10}\")"
   ]
  },
  {
   "cell_type": "markdown",
   "metadata": {},
   "source": [
    "# 3. Hashing with Hash Functions (HF)\n",
    "\n",
    "**Hashing** is the *process* of taking characters and converting them to number.   \n",
    "**Hashing** the *integer value* (usually integer) created from hashing. Used as the *index* for the hash table\n",
    "**Hash function** is the *code* used to conduct hashing.  \n",
    "* **Valid** means the function converts the same string to the same number every single time."
   ]
  },
  {
   "cell_type": "markdown",
   "metadata": {},
   "source": [
    "## 3.1 HF: Addition Example 1\n",
    "\n",
    "* Assume `A=1, B=2, C=3, D=4`, etc...  \n",
    "* Input is `BAD`  \n",
    "* HF(BAD) will return: 1 + 2 + 4 = 7"
   ]
  },
  {
   "cell_type": "markdown",
   "metadata": {},
   "source": [
    "## 3.2 HF: Multiplication Example 1\n",
    "\n",
    "* Assume `A=1, B=2, C=3, D=4`, etc...   \n",
    "* Input is `BAD`  \n",
    "* HF(`BAD`) will return: `1 * 2 * 4 = 8`  "
   ]
  },
  {
   "cell_type": "markdown",
   "metadata": {},
   "source": [
    "## 3.3 HF: Multiplication Example 2\n",
    "\n",
    "* Assume `A=1, B=2, C=3, D=4`, etc...    \n",
    "* Input is `DAB`    \n",
    "* HF(`DAB`) will return: `4 * 1 * 2 = 8`  \n",
    "\n",
    "**Note**: `BAD` and `DAB` returned the same index value of `8`. This issue needs and will be address later."
   ]
  },
  {
   "cell_type": "markdown",
   "metadata": {},
   "source": [
    "# 4. Thesaurus App - Part 1\n",
    "Imagine creating a `thesaurus_app` when given a `input_word` (or *key*) it return a single `synonym` (or value)\n",
    "\n",
    "* Create `hash_values` (or indices to our array):\n",
    "    - by ***hashing*** our  `input_word`  via\n",
    "    - our `hash_function` \n",
    "* Create a `letter_dict` dictionary from some input (representing real world data): \n",
    "    - **key** (at index): `hash_value`\n",
    "    - **value**: `synonym`\n",
    "\n",
    "* Retrieve `synonym` by:\n",
    "    - by ***hashing*** our  `input_word`  via  our `hash_function` \n",
    "    - using dict[`hash_value`] \n",
    "    "
   ]
  },
  {
   "cell_type": "markdown",
   "metadata": {},
   "source": [
    "## 4.1 Create `letters_dict`\n",
    "Each dict `key` is the letter and each dict `value` is the letter's place in the alphabet"
   ]
  },
  {
   "cell_type": "code",
   "execution_count": 3,
   "metadata": {},
   "outputs": [
    {
     "name": "stdout",
     "output_type": "stream",
     "text": [
      "{'a': 1, 'b': 2, 'c': 3, 'd': 4, 'e': 5, 'f': 6, 'g': 7, 'h': 8, 'i': 9, 'j': 10, 'k': 11, 'l': 12, 'm': 13, 'n': 14, 'o': 15, 'p': 16, 'q': 17, 'r': 18, 's': 19, 't': 20, 'u': 21, 'v': 22, 'w': 23, 'x': 24, 'y': 25, 'z': 26}\n"
     ]
    }
   ],
   "source": [
    "thesaurus_arr = [None]*16 # create empty thesaurus\n",
    "letters_dict = {chr(i): i - 96 for i in range(97, 97 + 26)}\n",
    "print(letters_dict)"
   ]
  },
  {
   "cell_type": "markdown",
   "metadata": {},
   "source": [
    "## 4.2 Test `letters_dict`"
   ]
  },
  {
   "cell_type": "code",
   "execution_count": 4,
   "metadata": {},
   "outputs": [
    {
     "data": {
      "text/plain": [
       "4"
      ]
     },
     "execution_count": 4,
     "metadata": {},
     "output_type": "execute_result"
    }
   ],
   "source": [
    "letters_dict[\"d\"]"
   ]
  },
  {
   "cell_type": "markdown",
   "metadata": {},
   "source": [
    "## 4.3 Create `hash_function`\n",
    "\n",
    "Converts a **string** into a `hash_value`.\n",
    "\n",
    "This `hash_value` will be the index in our `thesaurus_dict`."
   ]
  },
  {
   "cell_type": "code",
   "execution_count": 5,
   "metadata": {},
   "outputs": [],
   "source": [
    "def alphabet_multiplicative_hash_fn(input_word: str):\n",
    "    # convert some string into hash_value by multiplying all letters value\n",
    "    hash_value = 1\n",
    "    for character in input_word:\n",
    "    # dict_val = dict[char]\n",
    "        letter_val = letters_dict[character]\n",
    "        hash_value *= letter_val # cumulative product: char1 * char2 ...\n",
    "    return hash_value\n"
   ]
  },
  {
   "cell_type": "markdown",
   "metadata": {},
   "source": [
    "## 4.4 Test `hash_function`"
   ]
  },
  {
   "cell_type": "code",
   "execution_count": 8,
   "metadata": {},
   "outputs": [
    {
     "name": "stdout",
     "output_type": "stream",
     "text": [
      "8\n",
      "6\n"
     ]
    }
   ],
   "source": [
    "print(alphabet_multiplicative_hash_fn(\"bad\")) # 2*1*4 = 8\n",
    "print(alphabet_multiplicative_hash_fn(\"cab\")) # 3*1*2 = 6"
   ]
  },
  {
   "cell_type": "markdown",
   "metadata": {},
   "source": [
    "## 4.5 Add entries into App (mock-up data)\n",
    "\n",
    "Pretend the computer memorys storing our dictionary is represented by an array of 16 contiguous values like a list.\n",
    "\n",
    "Add 3 entries:  \n",
    "\n",
    "* thesaurus[​\"bad\"​] = ​\"evil\"​\n",
    "* thesaurus[​\"cab\"​] = ​\"taxi\"​\n",
    "* thesaurus[​\"ace\"​] = ​\"star\"​"
   ]
  },
  {
   "cell_type": "code",
   "execution_count": 9,
   "metadata": {},
   "outputs": [
    {
     "data": {
      "text/plain": [
       "[None,\n",
       " None,\n",
       " None,\n",
       " None,\n",
       " None,\n",
       " None,\n",
       " None,\n",
       " None,\n",
       " None,\n",
       " None,\n",
       " None,\n",
       " None,\n",
       " None,\n",
       " None,\n",
       " None,\n",
       " None]"
      ]
     },
     "execution_count": 9,
     "metadata": {},
     "output_type": "execute_result"
    }
   ],
   "source": [
    "PretendDictMemoryList = [None]*16\n",
    "PretendDictMemoryList\n"
   ]
  },
  {
   "cell_type": "markdown",
   "metadata": {},
   "source": [
    "## 4.6 Add Entry to Memory -  Psuedo-Code\n",
    "* Get each pair (string,synonym) entry\n",
    "* Create `hash_value` for each pairs **string** \n",
    "* Add to memory at `hash_value` index: memory[hash_value]=synonym"
   ]
  },
  {
   "cell_type": "markdown",
   "metadata": {},
   "source": [
    "## 4.7 Add Entry to Memory - Python"
   ]
  },
  {
   "cell_type": "code",
   "execution_count": 10,
   "metadata": {},
   "outputs": [],
   "source": [
    "entry_pairs_list = [(\"bad\",\"evil\"),(\"cab\",\"taxi\"),(\"aaa\",\"best\")]\n",
    "entry_pairs_list\n",
    "\n",
    "for pair in entry_pairs_list:\n",
    "    hash_value = alphabet_multiplicative_hash_fn(pair[0])\n",
    "    PretendDictMemoryList[hash_value-1]=pair[1]\n",
    "    # print(hash_value, PretendDictMemoryList)\n",
    "    \n",
    "thesaurus_app = PretendDictMemoryList"
   ]
  },
  {
   "cell_type": "markdown",
   "metadata": {},
   "source": [
    "# 5. Next Up\n",
    "\n",
    "I'll add the feature to get our a `synonym` given a `input_word` and explore it's time-complexity.\n",
    "\n",
    "Also, how to deal with **collisions**. This is when are *multiple entries* at the same index of our dictionary. That is, the same hash value calculated for different words."
   ]
  }
 ],
 "metadata": {
  "kernelspec": {
   "display_name": "blog-T-2huGx2",
   "language": "python",
   "name": "python3"
  },
  "language_info": {
   "codemirror_mode": {
    "name": "ipython",
    "version": 3
   },
   "file_extension": ".py",
   "mimetype": "text/x-python",
   "name": "python",
   "nbconvert_exporter": "python",
   "pygments_lexer": "ipython3",
   "version": "3.10.12"
  }
 },
 "nbformat": 4,
 "nbformat_minor": 2
}
