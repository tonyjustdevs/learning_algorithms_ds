{
 "cells": [
  {
   "cell_type": "raw",
   "metadata": {
    "vscode": {
     "languageId": "raw"
    }
   },
   "source": [
    "---\n",
    "title: \"DSA: Queues - Part 1\"\n",
    "author: \"Tony Phung\"\n",
    "date: \"2025-01-31\"\n",
    "categories: [data structures, algorithms]\n",
    "image: \"imgs/dsa-maccas.jpg\"\n",
    "toc: true\n",
    "description: \"Queues are like a Macca's Drive-Thru\"\n",
    "---"
   ]
  },
  {
   "cell_type": "markdown",
   "metadata": {
    "vscode": {
     "languageId": "raw"
    }
   },
   "source": [
    "![](imgs/dsa-maccas.jpg)"
   ]
  },
  {
   "cell_type": "markdown",
   "metadata": {},
   "source": [
    "# 1. Definition\n",
    "A `queue` is another data structure, designed to *process temporary data*, similar to a `stack`, however processing data in a different **order**.\n",
    "* `array` with ***restrictions***\n",
    "    - an *abstract data class*\n",
    "    - visually like a single-lane drive-through at your favourite fast-food restaurant\n",
    "    - or first-in, first-out (*FIFO*)\n",
    "* `front` or **beginning**: First item of the queue\n",
    "* `back` or **end**: Last item of the queue"
   ]
  },
  {
   "cell_type": "markdown",
   "metadata": {},
   "source": [
    "# 2. ***Restrictions***: Operational\n",
    "## 2.1 `add()` or **insert**:   \n",
    "* ***back only***  \n",
    "* e.g. a customer joins the queue at the back, they can't make an order (be processed) yet.   \n",
    "## 2/2 `pop()` or **delete**:   \n",
    "* ***front only***:   \n",
    "* e.g. a customer at the front of queue can make & receive their order (processing) and leave the queue (order is complete, processed).  \n",
    "## 2.3 `read()`:   \n",
    "* ***front only***: Customer service rep can only see (& process) the first customer at the front of the queue.  "
   ]
  },
  {
   "cell_type": "markdown",
   "metadata": {
    "vscode": {
     "languageId": "raw"
    }
   },
   "source": [
    "# 3. `Queue` Class Implementation: Python"
   ]
  },
  {
   "cell_type": "code",
   "execution_count": 30,
   "metadata": {},
   "outputs": [],
   "source": [
    "class Queue:\n",
    "    def __init__(self):\n",
    "        print(f\"queue created\")\n",
    "        self.data = []\n",
    "\n",
    "    def add(self,value):\n",
    "        self.data.append(value)\n",
    "        print(f\"{value!r} added: {self.data!r}\")\n",
    "\n",
    "    def remove(self):\n",
    "        if len(self.data)>0:\n",
    "            value = self.data.pop(0) # just realised can index 0\n",
    "            # value = self.data.pop(-len(self.data))\n",
    "            #   pop(-1) - is default last item\n",
    "            #   pop(-2) - is second last item\n",
    "            #   pop(-arrlen) - first item\n",
    "            print(f\"{value!r} removed: {self.data!r}\")\n",
    "            return value\n",
    "        else:\n",
    "            print(f\"empty queue\")\n",
    "            return None\n",
    "    \n",
    "    def read(self):\n",
    "        if len(self.data)>0:\n",
    "            value = self.data[0]\n",
    "            print(f\"{value!r} read: {self.data!r}\")\n",
    "            return value\n",
    "        else:\n",
    "            print(f\"empty queue\")\n",
    "            return None"
   ]
  },
  {
   "cell_type": "markdown",
   "metadata": {},
   "source": [
    "# 4. Testing"
   ]
  },
  {
   "cell_type": "code",
   "execution_count": 31,
   "metadata": {},
   "outputs": [
    {
     "name": "stdout",
     "output_type": "stream",
     "text": [
      "queue created\n",
      "1 added: [1]\n",
      "2 added: [1, 2]\n",
      "3 added: [1, 2, 3]\n",
      "1 read: [1, 2, 3]\n",
      "1 removed: [2, 3]\n",
      "2 read: [2, 3]\n",
      "2 removed: [3]\n",
      "3 removed: []\n",
      "empty queue\n"
     ]
    }
   ],
   "source": [
    "tony_q = Queue()\n",
    "tony_q.add(1)\n",
    "tony_q.add(2)\n",
    "tony_q.add(3)\n",
    "tony_q.read()\n",
    "tony_q.remove()\n",
    "tony_q.read()\n",
    "tony_q.remove()\n",
    "tony_q.remove()\n",
    "tony_q.remove()"
   ]
  }
 ],
 "metadata": {
  "kernelspec": {
   "display_name": ".venv",
   "language": "python",
   "name": "python3"
  },
  "language_info": {
   "codemirror_mode": {
    "name": "ipython",
    "version": 3
   },
   "file_extension": ".py",
   "mimetype": "text/x-python",
   "name": "python",
   "nbconvert_exporter": "python",
   "pygments_lexer": "ipython3",
   "version": "3.13.1"
  }
 },
 "nbformat": 4,
 "nbformat_minor": 2
}
