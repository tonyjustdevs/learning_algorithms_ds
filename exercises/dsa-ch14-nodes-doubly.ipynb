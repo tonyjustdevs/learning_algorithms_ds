{
 "cells": [
  {
   "cell_type": "raw",
   "metadata": {
    "vscode": {
     "languageId": "raw"
    }
   },
   "source": [
    "---\n",
    "title: \"DSA 36: Doubly Linked List [Part 4]\"\n",
    "author: \"Tony Phung\"\n",
    "date: \"2025-02-18\"\n",
    "categories: [data structures, algorithms]\n",
    "image: \"imgs/dsa-tba.png\"\n",
    "toc: true\n",
    "description: \"tba\"\n",
    "---"
   ]
  },
  {
   "cell_type": "markdown",
   "metadata": {},
   "source": [
    "# 1. `DoublyLinkedList` (DLL)\n",
    "\n",
    "DLL *always keeps track* of:\n",
    "\n",
    "* both the `head` and \n",
    "* `tail` **nodes**, \n",
    "* instead of just the head."
   ]
  },
  {
   "cell_type": "code",
   "execution_count": 55,
   "metadata": {},
   "outputs": [],
   "source": [
    "class Node():\n",
    "    def __init__(self, data):\n",
    "        self.data = data\n",
    "        self.next_node = None\n",
    "        self.prev_node = None\n",
    "        \n",
    "class DoublyLinkedList():\n",
    "    def __init__(self, first_node: Node, last_node: Node):\n",
    "        self.first_node = first_node\n",
    "        self.last_node = last_node"
   ]
  },
  {
   "cell_type": "markdown",
   "metadata": {},
   "source": [
    "# 2. `Nodes` & `DoublyLinkedList`: Setup"
   ]
  },
  {
   "cell_type": "markdown",
   "metadata": {},
   "source": [
    "# 2.1 `nodes` Instances: Setup"
   ]
  },
  {
   "cell_type": "code",
   "execution_count": 56,
   "metadata": {},
   "outputs": [],
   "source": [
    "node0 = Node(\"Once\")\n",
    "node1 = Node(\"Upon\")\n",
    "node2 = Node(\"A\")\n",
    "node3 = Node(\"Time\")\n",
    "\n",
    "node0.next_node=node1\n",
    "node1.next_node=node2\n",
    "node2.next_node=node3\n",
    "node3.next_node=node0\n",
    "\n",
    "node0.prev_node=node3\n",
    "node1.prev_node=node0\n",
    "node2.prev_node=node1\n",
    "node3.prev_node=node2\n"
   ]
  },
  {
   "cell_type": "markdown",
   "metadata": {},
   "source": [
    "# 2.2 `double_linked_list` Instance: Setup"
   ]
  },
  {
   "cell_type": "code",
   "execution_count": 67,
   "metadata": {},
   "outputs": [],
   "source": [
    "dll = DoublyLinkedList(node0, node3)"
   ]
  },
  {
   "cell_type": "markdown",
   "metadata": {},
   "source": [
    "# 3. `append`: DLL Instance Method"
   ]
  },
  {
   "cell_type": "code",
   "execution_count": null,
   "metadata": {},
   "outputs": [],
   "source": [
    "# TURSN OUT I WAS TRYING TO DO A CIRCULAR DLL BEFORE THE STANDARD ONE\n",
    "# def append_to_end_dll(doubly_linkedlist: DoublyLinkedList, new_node: Node)->None:\n",
    "    \n",
    "    \n",
    "#     # [\"once\",\"upon\",\"a\",\"time\"] -> [\"once\",\"upon\",\"a\",\"time\",\"mate\"]\n",
    "#     ### A. Configure [new_node] to be [last_node]:\n",
    "#     # [1] [new_node] -next-> [first_node]     # [2] [new_node] -prev-> [last_node] (current last node)\n",
    "    \n",
    "#     ### B. Configure [previous_last_node]: [next_node] to point to [new_node]\n",
    "#     # previous_last_node.next_node -> new_node\n",
    "    \n",
    "#     ### C. Configure [first_node]: [prev_node] to point to [new_node]\n",
    "#     # first_node.prev_node -> new_node\n",
    "    \n",
    "    \n",
    "#     # NODE-POINTER STUFF\n",
    "#     new_node.next_node = doubly_linkedlist.first_node       # [A1] # CIRCULAR VERSION ONLY\n",
    "#     new_node.prev_node = doubly_linkedlist.last_node        # [A2]\n",
    "    \n",
    "#     doubly_linkedlist.last_node.next_node = new_node        # [B]\n",
    "#     doubly_linkedlist.first_node.prev_node = new_node       # [C] # CIRCULAR VERSION ONLY\n",
    "    \n",
    "#     # DLL-POSITION STUFF\n",
    "#     doubly_linkedlist.last_node=new_node\n",
    "    \n",
    "    \n",
    "#     return None"
   ]
  },
  {
   "cell_type": "code",
   "execution_count": null,
   "metadata": {},
   "outputs": [],
   "source": [
    "def append_to_end_dll(doubly_linkedlist: DoublyLinkedList, new_node: Node)->None:\n",
    "    \n",
    "    # [1] EMPTY DLL\n",
    "    if not doubly_linkedlist.first_node: # ie first_node is None or falsy -> True\n",
    "        doubly_linkedlist.first_node=new_node\n",
    "        doubly_linkedlist.last_node=new_node\n",
    "    \n",
    "    # [2] NODE-POINTER STUFF\n",
    "    # new_node.next_node = doubly_linkedlist.first_node       # [A1] CIRCULAR-ONLY\n",
    "    new_node.prev_node = doubly_linkedlist.last_node        # [A2]\n",
    "    \n",
    "    doubly_linkedlist.last_node.next_node = new_node        # [B]\n",
    "    # doubly_linkedlist.first_node.prev_node = new_node       # [C] CIRCULAR-ONLY\n",
    "    \n",
    "    # [3] DLL-NODE-POSITION STUFF\n",
    "    doubly_linkedlist.last_node=new_node\n",
    "    \n",
    "    return None"
   ]
  },
  {
   "cell_type": "code",
   "execution_count": 83,
   "metadata": {},
   "outputs": [
    {
     "name": "stdout",
     "output_type": "stream",
     "text": [
      "Time\n",
      "mate\n",
      "lads\n"
     ]
    }
   ],
   "source": [
    "dll = DoublyLinkedList(node0, node3)\n",
    "print(dll.last_node.data)\n",
    "append_to_end_dll(dll, Node(\"mate\"))\n",
    "print(dll.last_node.data)\n",
    "append_to_end_dll(dll, Node(\"lads\"))\n",
    "print(dll.last_node.data)\n"
   ]
  },
  {
   "cell_type": "code",
   "execution_count": null,
   "metadata": {},
   "outputs": [],
   "source": []
  },
  {
   "cell_type": "code",
   "execution_count": null,
   "metadata": {},
   "outputs": [],
   "source": []
  },
  {
   "cell_type": "code",
   "execution_count": null,
   "metadata": {},
   "outputs": [],
   "source": []
  },
  {
   "cell_type": "code",
   "execution_count": null,
   "metadata": {},
   "outputs": [],
   "source": []
  },
  {
   "cell_type": "code",
   "execution_count": null,
   "metadata": {},
   "outputs": [],
   "source": []
  }
 ],
 "metadata": {
  "kernelspec": {
   "display_name": ".venv",
   "language": "python",
   "name": "python3"
  },
  "language_info": {
   "codemirror_mode": {
    "name": "ipython",
    "version": 3
   },
   "file_extension": ".py",
   "mimetype": "text/x-python",
   "name": "python",
   "nbconvert_exporter": "python",
   "pygments_lexer": "ipython3",
   "version": "3.13.0"
  }
 },
 "nbformat": 4,
 "nbformat_minor": 2
}
