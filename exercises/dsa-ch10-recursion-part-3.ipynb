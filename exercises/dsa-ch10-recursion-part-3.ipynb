{
 "cells": [
  {
   "cell_type": "raw",
   "metadata": {
    "vscode": {
     "languageId": "raw"
    }
   },
   "source": [
    "---\n",
    "title: \"DSA: Recursion - Factorial [Part 3]\"\n",
    "author: \"Tony Phung\"\n",
    "date: \"2025-02-03\"\n",
    "categories: [data structures, algorithms]\n",
    "image: \"imgs/dsa-tba.jpg\"\n",
    "toc: true\n",
    "description: \"Base-Case\"\n",
    "---"
   ]
  },
  {
   "cell_type": "code",
   "execution_count": 22,
   "metadata": {},
   "outputs": [],
   "source": [
    "def factorial(nbr: int):\n",
    "    if nbr == 1:    # base-case\n",
    "        return 1    # factorial(1) \n",
    "    else:           # recursive-case\n",
    "        return nbr * factorial(nbr-1)"
   ]
  },
  {
   "cell_type": "code",
   "execution_count": 24,
   "metadata": {},
   "outputs": [
    {
     "name": "stdout",
     "output_type": "stream",
     "text": [
      "tony_vs_mathlib: [1] vs [1]\n",
      "tony_vs_mathlib: [2] vs [2]\n",
      "tony_vs_mathlib: [6] vs [6]\n",
      "tony_vs_mathlib: [24] vs [24]\n",
      "tony_vs_mathlib: [120] vs [120]\n",
      "tony_vs_mathlib: [720] vs [720]\n",
      "tony_vs_mathlib: [5040] vs [5040]\n",
      "tony_vs_mathlib: [40320] vs [40320]\n",
      "tony_vs_mathlib: [362880] vs [362880]\n"
     ]
    }
   ],
   "source": [
    "import math\n",
    "for i in range(1,10):\n",
    "    print(f\"tony_vs_mathlib: [{factorial(i)}] vs [{math.factorial(i)}]\")"
   ]
  }
 ],
 "metadata": {
  "kernelspec": {
   "display_name": ".venv",
   "language": "python",
   "name": "python3"
  },
  "language_info": {
   "codemirror_mode": {
    "name": "ipython",
    "version": 3
   },
   "file_extension": ".py",
   "mimetype": "text/x-python",
   "name": "python",
   "nbconvert_exporter": "python",
   "pygments_lexer": "ipython3",
   "version": "3.13.0"
  }
 },
 "nbformat": 4,
 "nbformat_minor": 2
}
