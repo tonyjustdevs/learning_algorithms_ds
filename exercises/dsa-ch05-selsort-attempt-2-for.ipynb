{
 "cells": [
  {
   "cell_type": "raw",
   "metadata": {
    "vscode": {
     "languageId": "raw"
    }
   },
   "source": [
    "---\n",
    "title: \"DSA: Selection Sort - Attempt 1 - `for` loop\"\n",
    "author: \"Tony Phung\"\n",
    "date: \"2025-01-12\"\n",
    "categories: [data structures, algorithms]\n",
    "image: \"imgs/dsa-ch05-tba.jpg\"\n",
    "toc: true\n",
    "description: \"Chapter 5, J.Wengrow Vol 2\"\n",
    "---"
   ]
  },
  {
   "cell_type": "markdown",
   "metadata": {},
   "source": [
    "# 1. $SelectionSort()$: Attempt 1 - `for`loop\n",
    "Without looking at an example"
   ]
  },
  {
   "cell_type": "code",
   "execution_count": 1,
   "metadata": {},
   "outputs": [
    {
     "name": "stdout",
     "output_type": "stream",
     "text": [
      "4v2\n",
      "4v7\n",
      "4v1\n",
      "4v3\n",
      "2v7\n",
      "2v4\n",
      "2v3\n",
      "7v4\n",
      "7v3\n",
      "4v7\n",
      "[1, 2, 3, 4, 7]\n",
      "itrs: 4\n",
      "swaps: 2\n",
      "ctr: 6\n"
     ]
    }
   ],
   "source": [
    "values = 42713\n",
    "arr = [int(val) for val in str(values)]\n",
    "# choose limits\n",
    "curr_min_val = arr[0]\n",
    "arr_size = len(arr)\n",
    "ctr,itr,swap=0,0,0\n",
    "for i in range(arr_size-1):\n",
    "    ctr+=1\n",
    "    itr+=1\n",
    "    # a[i] min, compare to end of array\n",
    "    min_idx = i\n",
    "    min_val=arr[i]\n",
    "    for j in range(i+1,arr_size):\n",
    "        print(f\"{arr[i]}v{arr[j]}\")\n",
    "        if arr[j]<min_val:\n",
    "            min_idx=j\n",
    "            min_val=arr[j]\n",
    "    if i!=min_idx:\n",
    "        ctr+=1\n",
    "        swap+=1\n",
    "        arr[i],arr[min_idx]=arr[min_idx],arr[i]\n",
    "print(arr)\n",
    "\n",
    "print(f\"itrs: {itr}\")\n",
    "print(f\"swaps: {swap}\")\n",
    "print(f\"ctr: {ctr}\")\n",
    "\n"
   ]
  },
  {
   "cell_type": "code",
   "execution_count": 2,
   "metadata": {
    "vscode": {
     "languageId": "perl"
    }
   },
   "outputs": [
    {
     "name": "stdout",
     "output_type": "stream",
     "text": [
      "1v0\n",
      "1v2\n",
      "1v3\n",
      "1v4\n",
      "1v9\n",
      "1v5\n",
      "1v8\n",
      "1v6\n",
      "1v7\n",
      "1v2\n",
      "1v3\n",
      "1v4\n",
      "1v9\n",
      "1v5\n",
      "1v8\n",
      "1v6\n",
      "1v7\n",
      "2v3\n",
      "2v4\n",
      "2v9\n",
      "2v5\n",
      "2v8\n",
      "2v6\n",
      "2v7\n",
      "3v4\n",
      "3v9\n",
      "3v5\n",
      "3v8\n",
      "3v6\n",
      "3v7\n",
      "4v9\n",
      "4v5\n",
      "4v8\n",
      "4v6\n",
      "4v7\n",
      "9v5\n",
      "9v8\n",
      "9v6\n",
      "9v7\n",
      "9v8\n",
      "9v6\n",
      "9v7\n",
      "8v9\n",
      "8v7\n",
      "9v8\n",
      "[0, 1, 2, 3, 4, 5, 6, 7, 8, 9]\n",
      "itrs: 9\n",
      "swaps: 5\n",
      "ctr: 14\n"
     ]
    }
   ],
   "source": [
    "values = 1023495867\n",
    "arr = [int(val) for val in str(values)]\n",
    "# choose limits\n",
    "curr_min_val = arr[0]\n",
    "arr_size = len(arr)\n",
    "ctr,itr,swap=0,0,0\n",
    "for i in range(arr_size-1):\n",
    "    ctr+=1\n",
    "    itr+=1\n",
    "    # a[i] min, compare to end of array\n",
    "    min_idx = i\n",
    "    min_val=arr[i]\n",
    "    for j in range(i+1,arr_size):\n",
    "        print(f\"{arr[i]}v{arr[j]}\")\n",
    "        if arr[j]<min_val:\n",
    "            min_idx=j\n",
    "            min_val=arr[j]\n",
    "    if i!=min_idx:\n",
    "        ctr+=1\n",
    "        swap+=1\n",
    "        arr[i],arr[min_idx]=arr[min_idx],arr[i]\n",
    "print(arr)\n",
    "\n",
    "print(f\"itrs: {itr}\")\n",
    "print(f\"swaps: {swap}\")\n",
    "print(f\"ctr: {ctr}\")\n",
    "\n"
   ]
  },
  {
   "cell_type": "code",
   "execution_count": null,
   "metadata": {
    "vscode": {
     "languageId": "perl"
    }
   },
   "outputs": [],
   "source": []
  },
  {
   "cell_type": "code",
   "execution_count": null,
   "metadata": {
    "vscode": {
     "languageId": "perl"
    }
   },
   "outputs": [],
   "source": []
  },
  {
   "cell_type": "code",
   "execution_count": null,
   "metadata": {
    "vscode": {
     "languageId": "perl"
    }
   },
   "outputs": [],
   "source": []
  },
  {
   "cell_type": "code",
   "execution_count": null,
   "metadata": {
    "vscode": {
     "languageId": "perl"
    }
   },
   "outputs": [],
   "source": []
  },
  {
   "cell_type": "code",
   "execution_count": null,
   "metadata": {
    "vscode": {
     "languageId": "perl"
    }
   },
   "outputs": [],
   "source": []
  }
 ],
 "metadata": {
  "kernelspec": {
   "display_name": ".venv",
   "language": "python",
   "name": "python3"
  },
  "language_info": {
   "codemirror_mode": {
    "name": "ipython",
    "version": 3
   },
   "file_extension": ".py",
   "mimetype": "text/x-python",
   "name": "python",
   "nbconvert_exporter": "python",
   "pygments_lexer": "ipython3",
   "version": "3.13.0"
  }
 },
 "nbformat": 4,
 "nbformat_minor": 2
}
