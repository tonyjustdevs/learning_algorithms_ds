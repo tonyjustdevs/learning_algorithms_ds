{
 "cells": [
  {
   "cell_type": "raw",
   "metadata": {
    "vscode": {
     "languageId": "raw"
    }
   },
   "source": [
    "---\n",
    "title: \"DSA: Big-O Exercises\"\n",
    "author: \"Tony Phung\"\n",
    "date: \"2025-01-09\"\n",
    "categories: [data structures, algorithms]\n",
    "image: \"imgs/dsa_ch03chess.jpg\"\n",
    "toc: true\n",
    "description: \"Chapter 3 Selected Exercises, J.Wengrow Vol 2\"\n",
    "---"
   ]
  },
  {
   "cell_type": "markdown",
   "metadata": {},
   "source": [
    "![](imgs/dsa_ch03chess.jpg)"
   ]
  },
  {
   "cell_type": "markdown",
   "metadata": {
    "vscode": {
     "languageId": "raw"
    }
   },
   "source": [
    "# Question 3. Chessboard & Grains Algorithm\n",
    "\n",
    "Imagine you have a chessboard ♟️, and:\n",
    "* One `one` square put a **single** grain of rice \n",
    "* On the `second` square, you put **two** grains of rice, since that is double the amount of rice on the previous square. \n",
    "* On the `third` square, you put **four** grains. \n",
    "* On the `fourth` square, you put **eight** grains, and \n",
    "* On the `fifth` square, you put **sixteen** grains, and so on.\n",
    "\n",
    "#### Q. Use $Big\\_O$ notation to describe the $Time\\ Complexity$:\n",
    "#### Q. Write a function to calculate ***which square you’ll need to place a certain number of rice grains***. \n",
    "\n",
    "For example, for **sixteen grains**: \n",
    "* the function will return `5`, since you will \n",
    "* place the `sixteen` grains on the **fifth** square.\n",
    "\n",
    "\n",
    "Reference: [Wheat and chessboard problem (wiki)](https://en.wikipedia.org/wiki/Wheat_and_chessboard_problem)"
   ]
  },
  {
   "cell_type": "markdown",
   "metadata": {},
   "source": [
    "## 3.1 Written Solution"
   ]
  },
  {
   "cell_type": "markdown",
   "metadata": {},
   "source": [
    "We can define:  \n",
    "* For each `step` (chessboard square), it is incremented by one,\n",
    "    - `placed_grains` is the number grains placed down on the square\n",
    "        - This number ***doubles*** at each step.\n",
    "    - `placed_grains` is calculated by an algorithm of $log\\ time$ or $O(\\log{N})$\n",
    "        - *Increases ***one step*** each time the data* ***doubles***, \n",
    "        - and so equivalently,\n",
    "        - *Move to next chessboard square, double placed grains*\n",
    "\n",
    "In other words: \n",
    "* $O(\\log{N})$ means that for N data elements, the algorithm would take $\\log_{2}{N}$ steps. "
   ]
  },
  {
   "cell_type": "markdown",
   "metadata": {},
   "source": [
    "## 3.2 Expected Results: Placed Grains Table\n",
    "To find out:   \n",
    "\n",
    "\n",
    "* *Which* **chessboard square** (`step`) \n",
    "* *Contains* **16** grains on the square (`n_grains=16`)\n",
    "* *Double* the number of grains placed (`placed_grain`) at each step until we reached the desired amount of grains (`placed_grain==n_grains`): \n",
    "    - chessboard square: **5** (`step=5`)\n",
    "    \n",
    "|`step`|`placed_grain`|`n_grains`|\n",
    "|------|--------------|----------|\n",
    "|   1  |            1 |       16 |\n",
    "|   2  |            2 |       16 |\n",
    "|   3  |            4 |       16 |\n",
    "|   4  |            8 |       16 |\n",
    "|   5  |           16 |       16 |"
   ]
  },
  {
   "cell_type": "markdown",
   "metadata": {},
   "source": [
    "## 3.3 Python `for-loop` explainer\n",
    "`for-loops` are useful when:  \n",
    "\n",
    "* Scenario: The ***range*** of iteration is **known**:\n",
    "\n",
    "    - or `min` and `max` of our iteration\n",
    "    - or `start` (arg 1) and `stop` (arg 2) indexes are known in advance\n",
    "    - `boolean` rule not required. \n",
    "        - The loop will ***stop automatically*** when the limit is reached\n",
    "\n",
    "* The chessboard has $64$ squares: the `range` would be:\n",
    "\n",
    "\n",
    "    - from  `1` to `64` \n",
    "    - Note: The loop counts up to but does not include the `stop` value\n",
    "        - `range(1,64)`: counts `1,2,..63`, thus use\n",
    "        - `range(1,65)`: counts `1,2,..64`"
   ]
  },
  {
   "cell_type": "markdown",
   "metadata": {},
   "source": [
    "## 3.4 Python `while-loop` explainer\n",
    "`while-loops` are useful when:  \n",
    "\n",
    "* Scenario: The ***range*** of iteration is **unknown**:\n",
    "\n",
    "    - a `min` or `start` argument required\n",
    "        - manual `iteration` required\n",
    "    - `boolean` rule is **required**. \n",
    "        - The loop will ***exit*** when rule is `not True` or `False` anymore (i.e. goal has been reached)\n",
    "        - The loop will continue forever unless the goal is reached\n",
    "            - Note: careful consideration to ensure the **boolean test is reachable**\n",
    "* The loop does not care how many squares the chessboard has (unless manually placed as a requirement)"
   ]
  },
  {
   "cell_type": "markdown",
   "metadata": {},
   "source": [
    "## 3.5 `for-loop` Solution"
   ]
  },
  {
   "cell_type": "code",
   "execution_count": 23,
   "metadata": {},
   "outputs": [
    {
     "name": "stdout",
     "output_type": "stream",
     "text": [
      "5\n"
     ]
    }
   ],
   "source": [
    "### Answer 1: for-loop ###\n",
    "idx=1\n",
    "max_squares = 64\n",
    "placed_grains = 1\n",
    "target_grains = 16\n",
    "for i in range(1,max_squares+1):\n",
    "    if placed_grains == target_grains:\n",
    "        print(idx)\n",
    "        break\n",
    "        # return idx\n",
    "    idx+=1\n",
    "    placed_grains=placed_grains*2\n",
    "# [1,2,3,4, 5, 6, 7]\n",
    "# [1,2,4,8,16,32,64]"
   ]
  },
  {
   "cell_type": "markdown",
   "metadata": {},
   "source": [
    "## 3.6 `while-loop` Solution"
   ]
  },
  {
   "cell_type": "code",
   "execution_count": 24,
   "metadata": {},
   "outputs": [
    {
     "name": "stdout",
     "output_type": "stream",
     "text": [
      "5\n"
     ]
    }
   ],
   "source": [
    "### Answer 2: while-loop ###\n",
    "idx = 1\n",
    "placed_grains = 1\n",
    "target_grains = 16\n",
    "\n",
    "while placed_grains<target_grains:\n",
    "    idx+=1\n",
    "    placed_grains*=2\n",
    "\n",
    "print(idx)"
   ]
  }
 ],
 "metadata": {
  "kernelspec": {
   "display_name": ".venv",
   "language": "python",
   "name": "python3"
  },
  "language_info": {
   "codemirror_mode": {
    "name": "ipython",
    "version": 3
   },
   "file_extension": ".py",
   "mimetype": "text/x-python",
   "name": "python",
   "nbconvert_exporter": "python",
   "pygments_lexer": "ipython3",
   "version": "3.13.0"
  }
 },
 "nbformat": 4,
 "nbformat_minor": 2
}
