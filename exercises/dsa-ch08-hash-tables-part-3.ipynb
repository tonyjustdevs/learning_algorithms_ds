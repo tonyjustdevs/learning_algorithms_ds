{
 "cells": [
  {
   "cell_type": "raw",
   "metadata": {
    "vscode": {
     "languageId": "raw"
    }
   },
   "source": [
    "---\n",
    "title: \"DSA 14: Hash Table - Speed Comparisons [Part 3]\"\n",
    "author: \"Tony Phung\"\n",
    "date: \"2025-01-26\"\n",
    "categories: [data structures, algorithms]\n",
    "image: \"imgs/dsa-ch08-hashtable-bigo.png\"\n",
    "toc: true\n",
    "description: \"Improving time-complexity of an algorithm with a hash table\"\n",
    "---"
   ]
  },
  {
   "cell_type": "markdown",
   "metadata": {},
   "source": [
    "![](imgs/dsa-ch08-hashtable-bigo.png)"
   ]
  },
  {
   "cell_type": "markdown",
   "metadata": {},
   "source": [
    "# 1. Is an array a **subset** of another array?\n",
    "\n",
    "* Shorter array: `arr_s`\n",
    "* Longer array: `arr_l`\n"
   ]
  },
  {
   "cell_type": "markdown",
   "metadata": {},
   "source": [
    "# 2. Array Solution: Nested-Loops - $O(N*M)$"
   ]
  },
  {
   "cell_type": "code",
   "execution_count": 82,
   "metadata": {},
   "outputs": [
    {
     "name": "stdout",
     "output_type": "stream",
     "text": [
      "Subset: False. Character not found: z\n"
     ]
    }
   ],
   "source": [
    "# arr_s = [char for char in \"bdf\"]\n",
    "arr_s = [char for char in \"bdfz\"]\n",
    "arr_l = [char for char in \"abcdef\"]\n",
    "\n",
    "for chr_s in arr_s: # O(N)\n",
    "    match_found = False\n",
    "    for chr_l in arr_l: #O(M)\n",
    "        # print(chr_s,chr_l)\n",
    "        if chr_s==chr_l: \n",
    "            match_found = True   \n",
    "            break\n",
    "    chr_s_not_found = chr_s # Total O(N*M)\n",
    "    \n",
    "if match_found:\n",
    "    print(f\"Subset: {match_found}\")\n",
    "else:\n",
    "    print(f\"Subset: {match_found}. Character not found: {chr_s_not_found}\")"
   ]
  },
  {
   "cell_type": "markdown",
   "metadata": {},
   "source": [
    "# 3. Improve Time-Complexity with a Hash Table: $O(N)$\n",
    "\n",
    "By implementing a **hash-table** (python `dict`), the *time-complexity* of our algorithm: \n",
    "\n",
    "* **Reduced** from $O(N*M)\\ \\to\\ O(N)$"
   ]
  },
  {
   "cell_type": "code",
   "execution_count": 84,
   "metadata": {},
   "outputs": [
    {
     "name": "stdout",
     "output_type": "stream",
     "text": [
      "Subset: False, Character not found: z\n"
     ]
    }
   ],
   "source": [
    "# arr_s = [char for char in \"bdf\"]\n",
    "arr_s = [char for char in \"bdfz\"]\n",
    "arr_l = [char for char in \"abcdef\"]\n",
    "\n",
    "# create dict_l -> dctkeys= char_l of arr_l, dctvals = True\n",
    "dict_l = {}\n",
    "for char_l in arr_l: # O(N)\n",
    "    dict_l[char_l]=True\n",
    "    \n",
    "# print(dict_l)\n",
    "\n",
    "# check char_s in dict_l\n",
    "for char_s in arr_s: # O(N)\n",
    "    match_found = False\n",
    "    if char_s in dict_l: # O(1) \n",
    "        match_found = True\n",
    "    char_s_not_in_dict_l = char_s # Total O(N+N+1) = O(2N+1) = O(N)\n",
    "\n",
    "if match_found:\n",
    "    print(f\"Subset: {match_found}\")\n",
    "else:\n",
    "    print(f\"Subset: {match_found}, Character not found: {char_s_not_in_dict_l}\")\n",
    "    "
   ]
  }
 ],
 "metadata": {
  "kernelspec": {
   "display_name": ".venv",
   "language": "python",
   "name": "python3"
  },
  "language_info": {
   "codemirror_mode": {
    "name": "ipython",
    "version": 3
   },
   "file_extension": ".py",
   "mimetype": "text/x-python",
   "name": "python",
   "nbconvert_exporter": "python",
   "pygments_lexer": "ipython3",
   "version": "3.13.0"
  }
 },
 "nbformat": 4,
 "nbformat_minor": 2
}
