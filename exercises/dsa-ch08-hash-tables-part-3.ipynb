{
 "cells": [
  {
   "cell_type": "raw",
   "metadata": {
    "vscode": {
     "languageId": "raw"
    }
   },
   "source": [
    "---\n",
    "title: \"DSA 13: Hash Tables Part 3 - Efficiency\"\n",
    "author: \"Tony Phung\"\n",
    "date: \"2025-01-22\"\n",
    "categories: [data structures, algorithms]\n",
    "image: \"imgs/dsa-ch08-tba.png\"\n",
    "toc: true\n",
    "description: \"Efficiency\"\n",
    "---"
   ]
  },
  {
   "cell_type": "markdown",
   "metadata": {},
   "source": [
    "# 1. Building Efficient Hash Tables\n",
    "- [ ] 3 Main Factors For Efficient Hash Tables\n",
    "    - [ ] Data\n",
    "    - [ ] Cells\n",
    "    - [ ] Hash Function\n",
    "- [ ] Hash function Importance\n",
    "    - [ ] Example 1: A Bad Function\n",
    "    - [ ] Balance: Avoiding Collisions vs Less Memory Consumption\n",
    "- [ ] Load Factor \n",
    "- [ ] Hash Table in the Real World - Paired Data\n",
    "    - [ ] Example 2: HTTP Status Code - Conditional Logic vs Dictionary\n",
    "    - [ ] Misc Real World Examples\n",
    "\n"
   ]
  }
 ],
 "metadata": {
  "kernelspec": {
   "display_name": ".venv",
   "language": "python",
   "name": "python3"
  },
  "language_info": {
   "codemirror_mode": {
    "name": "ipython",
    "version": 3
   },
   "file_extension": ".py",
   "mimetype": "text/x-python",
   "name": "python",
   "nbconvert_exporter": "python",
   "pygments_lexer": "ipython3",
   "version": "3.13.0"
  }
 },
 "nbformat": 4,
 "nbformat_minor": 2
}
