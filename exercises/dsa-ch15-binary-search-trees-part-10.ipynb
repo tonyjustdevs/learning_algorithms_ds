{
 "cells": [
  {
   "cell_type": "raw",
   "metadata": {
    "vscode": {
     "languageId": "raw"
    }
   },
   "source": [
    "---\n",
    "title: \"DSA: Binary Search Trees - Traverse [Part 10]\"\n",
    "author: \"Tony Phung\"\n",
    "date: \"2025-03-03\"\n",
    "categories: [data structures, algorithms]\n",
    "image: \"imgs/tba.png\"\n",
    "toc: true\n",
    "description: \"tba\" \n",
    "---"
   ]
  },
  {
   "cell_type": "markdown",
   "metadata": {},
   "source": [
    "# 1. `TreeNode`, `Binary Tree` & `insert_node`: Setup\n",
    "\n",
    "Introduced [previously](https://tonyjustdevs.github.io/blog/posts/computerscience/datastructuresandalgorithms/dsa-043-binary-search-trees-part-6.html)."
   ]
  },
  {
   "cell_type": "code",
   "execution_count": 1,
   "metadata": {},
   "outputs": [],
   "source": [
    "class TreeNode:\n",
    "    def __init__(self, data, left=None, right=None):\n",
    "        self.data = data\n",
    "        self.left = left\n",
    "        self.right = right\n",
    "\n",
    "\n",
    "def insert_node(root_node: TreeNode, target: int):\n",
    "    current_node = root_node\n",
    "    if target == current_node.data:\n",
    "        print(f\"t[{target}]|c[{current_node.data}]: \\t\\tCannot insert duplicates\")\n",
    "        return  \n",
    "    if target < current_node.data: # left\n",
    "        if current_node.left: # go left-child: if exists\n",
    "            print(f\"t[{target}]|c[{current_node.data}]: \\t\\tCurrent[{current_node.data}] has ONE left-child : GO LEFT[{current_node.left.data}]\")\n",
    "            current_node=current_node.left\n",
    "            return insert_node(current_node, target)\n",
    "        else: # insert left-child: if not exist\n",
    "            current_node.left = TreeNode(target)\n",
    "            print(f\"t[{target}]|c[{current_node.data}]: \\t\\tCurrent[{current_node.data}] has NO left-child: INSERTED LEFT CurrentLeft[{current_node.left.data}]\")\n",
    "            return current_node.left\n",
    "    else:\n",
    "        if current_node.right: # go right-child: if exists\n",
    "            print(f\"t[{target}]|c[{current_node.data}]: \\t\\tCurrent[{current_node.data}] has ONE right-child : GO right[{current_node.right.data}]\")\n",
    "            current_node=current_node.right\n",
    "            return insert_node(current_node, target)\n",
    "        else: # insert right-child: if not exist\n",
    "            current_node.right = TreeNode(target)\n",
    "            print(f\"t[{target}]|c[{current_node.data}]: \\t\\tCurrent[{current_node.data}] has NO right-child: INSERTED right Currentright[{current_node.right.data}]\")\n",
    "    pass\n",
    "\n",
    "def insert_node_clean(root_node: TreeNode, target: int):\n",
    "    current_node = root_node\n",
    "    if target == current_node.data:\n",
    "        return  \n",
    "    if target < current_node.data: # left\n",
    "        if current_node.left: # go left-child: if exists\n",
    "            current_node=current_node.left\n",
    "            return insert_node_clean(current_node, target)\n",
    "        else: # insert left-child: if not exist\n",
    "            current_node.left = TreeNode(target)\n",
    "            return current_node.left\n",
    "    else:\n",
    "        if current_node.right: # go right-child: if exists\n",
    "            current_node=current_node.right\n",
    "            return insert_node_clean(current_node, target)\n",
    "        else: # insert right-child: if not exist\n",
    "            current_node.right = TreeNode(target)\n",
    "    pass\n",
    "\n",
    "# create a basic tree\n",
    "#             50\n",
    "#      25           75\n",
    "#  10     33     56     89  \n",
    "# 4  11 30  40 52  61 82  95  \n",
    "def insert_node_list(root_node:TreeNode, node_list: list[int], show_outputs:bool=True):\n",
    "    for node in node_list: \n",
    "        if show_outputs:\n",
    "            insert_node(root_node, node) \n",
    "        else:\n",
    "            insert_node_clean(root_node, node) \n",
    "\n",
    "def create_tree_from_root_node(root_node = TreeNode(50),node_list=[25,75,10,33,56,89,4,11,30,40,52,61,82,95]):\n",
    "    insert_node_list(root_node, node_list,show_outputs=False)\n",
    "    "
   ]
  },
  {
   "cell_type": "markdown",
   "metadata": {},
   "source": [
    "# 3. `traverse`\n",
    "**Steps**:  \n",
    "\n",
    "* Call(`traverse`) on **node’s left child** until ***no left child***, then `print` node.\n",
    "* Call(`traverse`) on **node’s left child** until ***no right child***, then `print` node.\n",
    "\n",
    "**Base-Case**: \n",
    "\n",
    "* (child) node *does not exist*, return nothing"
   ]
  },
  {
   "cell_type": "code",
   "execution_count": 2,
   "metadata": {},
   "outputs": [
    {
     "name": "stdout",
     "output_type": "stream",
     "text": [
      "10\n",
      "25\n",
      "33\n",
      "50\n",
      "56\n",
      "75\n",
      "89\n"
     ]
    }
   ],
   "source": [
    "def traverse_rec(root_node: TreeNode):\n",
    "    # go [left_most_child]\n",
    "    current_node= root_node\n",
    "    if not current_node:\n",
    "        return\n",
    "    traverse_rec(current_node.left)\n",
    "    print(current_node.data)\n",
    "    traverse_rec(current_node.right)\n",
    "#              50\n",
    "#       25           75\n",
    "#    10     33     56     89  \n",
    "root = TreeNode(50)\n",
    "create_tree_from_root_node(root,node_list=[50,25,75,10,33,56,89])\n",
    "traverse_rec(root) # expected 10,,25,33,50,56,75,89"
   ]
  },
  {
   "cell_type": "code",
   "execution_count": 3,
   "metadata": {},
   "outputs": [
    {
     "name": "stdout",
     "output_type": "stream",
     "text": [
      "4\n",
      "10\n",
      "11\n",
      "25\n",
      "30\n",
      "33\n",
      "40\n",
      "50\n",
      "52\n",
      "56\n",
      "61\n",
      "75\n",
      "82\n",
      "89\n",
      "95\n"
     ]
    }
   ],
   "source": [
    "#             50\n",
    "#      25           75\n",
    "#  10     33     56     89  \n",
    "# 4  11 30  40 52  61 82  95  \n",
    "root = TreeNode(50)\n",
    "create_tree_from_root_node(root)\n",
    "traverse_rec(root) # expected 4,10,11,25,30,33,40,50,52,56,61,75,82,89,95"
   ]
  },
  {
   "cell_type": "code",
   "execution_count": 14,
   "metadata": {},
   "outputs": [],
   "source": [
    "# binary search tree goals:\n",
    "# 1. search_node\n",
    "# 2. insert_node\n",
    "# 3. insert_node_list\n",
    "# 4. delete_node\n",
    "# 5. traverse"
   ]
  }
 ],
 "metadata": {
  "kernelspec": {
   "display_name": "fastapi-k7qESWDg",
   "language": "python",
   "name": "python3"
  },
  "language_info": {
   "codemirror_mode": {
    "name": "ipython",
    "version": 3
   },
   "file_extension": ".py",
   "mimetype": "text/x-python",
   "name": "python",
   "nbconvert_exporter": "python",
   "pygments_lexer": "ipython3",
   "version": "3.10.12"
  }
 },
 "nbformat": 4,
 "nbformat_minor": 2
}
