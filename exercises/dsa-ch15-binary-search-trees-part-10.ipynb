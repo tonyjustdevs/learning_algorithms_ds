{
 "cells": [
  {
   "cell_type": "raw",
   "metadata": {
    "vscode": {
     "languageId": "raw"
    }
   },
   "source": [
    "---\n",
    "title: \"DSA: Binary Search Trees - Delete [Part 10]\"\n",
    "author: \"Tony Phung\"\n",
    "date: \"2025-03-03\"\n",
    "categories: [data structures, algorithms]\n",
    "image: \"imgs/dsa-ch15-delete.gif\"\n",
    "toc: true\n",
    "description: \"Cleaner Version\" \n",
    "---"
   ]
  },
  {
   "cell_type": "markdown",
   "metadata": {},
   "source": [
    "# 1. `TreeNode`, `Binary Tree` & `insert_node`: Setup\n",
    "\n",
    "Introduced [previously](https://tonyjustdevs.github.io/blog/posts/computerscience/datastructuresandalgorithms/dsa-043-binary-search-trees-part-6.html)."
   ]
  },
  {
   "cell_type": "code",
   "execution_count": 98,
   "metadata": {},
   "outputs": [],
   "source": [
    "class TreeNode:\n",
    "    def __init__(self, data, left=None, right=None):\n",
    "        self.data = data\n",
    "        self.left = left\n",
    "        self.right = right\n",
    "\n",
    "\n",
    "def insert_node(root_node: TreeNode, target: int):\n",
    "    current_node = root_node\n",
    "    if target == current_node.data:\n",
    "        print(f\"t[{target}]|c[{current_node.data}]: \\t\\tCannot insert duplicates\")\n",
    "        return  \n",
    "    if target < current_node.data: # left\n",
    "        if current_node.left: # go left-child: if exists\n",
    "            print(f\"t[{target}]|c[{current_node.data}]: \\t\\tCurrent[{current_node.data}] has ONE left-child : GO LEFT[{current_node.left.data}]\")\n",
    "            current_node=current_node.left\n",
    "            return insert_node(current_node, target)\n",
    "        else: # insert left-child: if not exist\n",
    "            current_node.left = TreeNode(target)\n",
    "            print(f\"t[{target}]|c[{current_node.data}]: \\t\\tCurrent[{current_node.data}] has NO left-child: INSERTED LEFT CurrentLeft[{current_node.left.data}]\")\n",
    "            return current_node.left\n",
    "    else:\n",
    "        if current_node.right: # go right-child: if exists\n",
    "            print(f\"t[{target}]|c[{current_node.data}]: \\t\\tCurrent[{current_node.data}] has ONE right-child : GO right[{current_node.right.data}]\")\n",
    "            current_node=current_node.right\n",
    "            return insert_node(current_node, target)\n",
    "        else: # insert right-child: if not exist\n",
    "            current_node.right = TreeNode(target)\n",
    "            print(f\"t[{target}]|c[{current_node.data}]: \\t\\tCurrent[{current_node.data}] has NO right-child: INSERTED right Currentright[{current_node.right.data}]\")\n",
    "    pass\n",
    "\n",
    "def insert_node_clean(root_node: TreeNode, target: int):\n",
    "    current_node = root_node\n",
    "    if target == current_node.data:\n",
    "        return  \n",
    "    if target < current_node.data: # left\n",
    "        if current_node.left: # go left-child: if exists\n",
    "            current_node=current_node.left\n",
    "            return insert_node_clean(current_node, target)\n",
    "        else: # insert left-child: if not exist\n",
    "            current_node.left = TreeNode(target)\n",
    "            return current_node.left\n",
    "    else:\n",
    "        if current_node.right: # go right-child: if exists\n",
    "            current_node=current_node.right\n",
    "            return insert_node_clean(current_node, target)\n",
    "        else: # insert right-child: if not exist\n",
    "            current_node.right = TreeNode(target)\n",
    "    pass\n",
    "\n",
    "# create a basic tree\n",
    "#             50\n",
    "#      25           75\n",
    "#  10     33     56     89  \n",
    "# 4  11 30  40 52  61 82  95  \n",
    "def insert_node_list(root_node:TreeNode, node_list: list[int], show_outputs:bool=True):\n",
    "    for node in node_list: \n",
    "        if show_outputs:\n",
    "            insert_node(root_node, node) \n",
    "        else:\n",
    "            insert_node_clean(root_node, node) \n",
    "\n",
    "def create_tree_from_root_node(root_node = TreeNode(50),node_list=[25,75,10,33,56,89,4,11,30,40,52,61,82,95]):\n",
    "    insert_node_list(root_node, node_list,show_outputs=False)\n",
    "    "
   ]
  },
  {
   "cell_type": "markdown",
   "metadata": {},
   "source": [
    "# 2. Confirm Tree"
   ]
  },
  {
   "cell_type": "code",
   "execution_count": 99,
   "metadata": {},
   "outputs": [
    {
     "name": "stdout",
     "output_type": "stream",
     "text": [
      "[L1] root.data: \t\t\t[50] (expected: 50)\n",
      "\n",
      "[L2] root.left.data: \t\t\t[25] (expected: 25)\n",
      "[L2] root.right.data: \t\t\t[75] (expected: 75)\n",
      "\n",
      "[L3] root.left.left.data:      \t\t[10] (expected: 10)\n",
      "[L3] root.left.right.data:     \t\t[33] (expected: 33)\n",
      "[L3] root.right.left.data:     \t\t[56] (expected: 56)\n",
      "[L3] root.right.right.data:    \t\t[89] (expected: 89)\n",
      "\n",
      "[L4] root.left.left.left.data: \t\t[4]  (expected:  4)\n",
      "[L4] root.left.left.right.data:  \t[11] (expected: 11)\n",
      "[L4] root.left.right.left.data:  \t[30] (expected: 30)\n",
      "[L4] root.left.right.right.data: \t[40] (expected: 40)\n",
      "\n",
      "[L4] root.right.left.left.data:  \t[52] (expected: 52)\n",
      "[L4] root.right.left.right.data: \t[61] (expected: 61)\n",
      "[L4] root.right.right.left.data: \t[82] (expected: 82)\n",
      "[L4] root.right.right.right.data:\t[95] (expected: 95)\n"
     ]
    }
   ],
   "source": [
    "#             50\n",
    "#      25           75\n",
    "#  10     33     56     89  \n",
    "# 4  11 30  40 52  61 82  95\n",
    "root = TreeNode(50)\n",
    "create_tree_from_root_node(root)\n",
    "print(f\"[L1] root.data: \\t\\t\\t[{root.data}] (expected: 50)\")\n",
    "print()\n",
    "print(f\"[L2] root.left.data: \\t\\t\\t[{root.left.data}] (expected: 25)\")\n",
    "print(f\"[L2] root.right.data: \\t\\t\\t[{root.right.data}] (expected: 75)\")\n",
    "print()\n",
    "print(f\"[L3] root.left.left.data:      \\t\\t[{root.left.left.data}] (expected: 10)\")\n",
    "print(f\"[L3] root.left.right.data:     \\t\\t[{root.left.right.data}] (expected: 33)\")\n",
    "print(f\"[L3] root.right.left.data:     \\t\\t[{root.right.left.data}] (expected: 56)\")\n",
    "print(f\"[L3] root.right.right.data:    \\t\\t[{root.right.right.data}] (expected: 89)\")\n",
    "print()\n",
    "print(f\"[L4] root.left.left.left.data: \\t\\t[{root.left.left.left.data}]  (expected:  4)\")\n",
    "print(f\"[L4] root.left.left.right.data:  \\t[{root.left.left.right.data}] (expected: 11)\")\n",
    "print(f\"[L4] root.left.right.left.data:  \\t[{root.left.right.left.data}] (expected: 30)\")\n",
    "print(f\"[L4] root.left.right.right.data: \\t[{root.left.right.right.data}] (expected: 40)\")\n",
    "print()\n",
    "print(f\"[L4] root.right.left.left.data:  \\t[{root.right.left.left.data}] (expected: 52)\")\n",
    "print(f\"[L4] root.right.left.right.data: \\t[{root.right.left.right.data}] (expected: 61)\")\n",
    "print(f\"[L4] root.right.right.left.data: \\t[{root.right.right.left.data}] (expected: 82)\")\n",
    "print(f\"[L4] root.right.right.right.data:\\t[{root.right.right.right.data}] (expected: 95)\")\n"
   ]
  },
  {
   "cell_type": "markdown",
   "metadata": {},
   "source": [
    "# 3. `delete_node`\n"
   ]
  },
  {
   "cell_type": "code",
   "execution_count": 100,
   "metadata": {},
   "outputs": [],
   "source": [
    "def find_successor_node(target_node: TreeNode):\n",
    "    successor_node  = target_node.right # go right    \n",
    "    print(f\"t{target_node.data}.tr[{successor_node.data}]: go right...{successor_node.data}\")        \n",
    "    \n",
    "    if not successor_node.left:\n",
    "        # [75] to succeed [50]\n",
    "        if successor_node.right:\n",
    "            print(f\"s{successor_node.data} has no left kids: s will t[{target_node.data}], t.right -> s.right[{successor_node.right.data}]\")        \n",
    "            target_node.data = successor_node.data # no need to update targets parents because only replacing data not nodes\n",
    "            target_node.right = successor_node.right\n",
    "        else:\n",
    "            target_node.data = successor_node.data\n",
    "            print(f\"s{successor_node.data} has no left kids: s will succeed t[{target_node.data}], t.right -> s.right[{None}]\")        \n",
    "        pass\n",
    "\n",
    "    while successor_node.left:\n",
    "        print(f\"s{successor_node.data}.l[{successor_node.left.data}]: s has a left_child, go left...\")        \n",
    "        \n",
    "        parent_node = successor_node\n",
    "        successor_node = successor_node.left\n",
    "    \n",
    "    print(f\"s{successor_node.data}: s no further left_childs, check is s has a right_child...\")        \n",
    "    \n",
    "    # successor_node is not left_most child\n",
    "    # 1.  has no_right_child: no further action\n",
    "    #   i.    parent_left = None instead of parent_left = s_node (removing s_node to replace target_node)\n",
    "    #   ii    target.data = s_node.data\n",
    "    \n",
    "    if not successor_node.right:\n",
    "        print(f\"s{successor_node.data}: s has 0 right_child...p[{parent_node.data}] from p.left[{parent_node.left.data}] -> p.left[{None}]\")        \n",
    "        parent_node.left = None\n",
    "        \n",
    "    if successor_node.right:\n",
    "        print(f\"s{successor_node.data}: s has 1 right_child...p[{parent_node.data}] from p.left[{parent_node.left.data}] -> s[{successor_node.data}].right[{successor_node.right.data}]\")        \n",
    "        # print(f\"s{successor_node.data}: succesor has 1 right_child...parent.left -> successors.right[{successor_node.right.data}]\")        \n",
    "        parent_node.left = successor_node.right\n",
    "        \n",
    "    # 2. has snode has_right_child\n",
    "    #   i.  parent_left = snode_right_child\n",
    "    #   ii  target.data = s_node.data\n",
    "    \n",
    "    print(f\"s{successor_node.data} to succeed t[{target_node.data}]\")\n",
    "    target_node.data = successor_node.data\n",
    "    return successor_node\n",
    "\n",
    "\n",
    "# NO RIGHT CHILD\n",
    "#           [t50]\n",
    "#      25         [s75]\n",
    "\n",
    "# NO RIGHT CHILD\n",
    "#           [s75]\n",
    "#      25         []\n",
    "\n",
    "# RIGHT CHILD\n",
    "#           [t50]\n",
    "#      25         [s75]\n",
    "#                       [sc80]\n",
    "\n",
    "# RIGHT CHILD\n",
    "#           [s75]\n",
    "#      25         [sc80]\n",
    "#                        [scc81]"
   ]
  },
  {
   "cell_type": "code",
   "execution_count": 103,
   "metadata": {},
   "outputs": [
    {
     "name": "stdout",
     "output_type": "stream",
     "text": [
      "t50==c50: target found! [Determine Children Count]...\n",
      "t50.lr[25,75]: target has two kids! [Find Successor Node]...\n",
      "t50.tr[75]: go right...75\n",
      "s75.l[56]: s has a left_child, go left...\n",
      "s56.l[52]: s has a left_child, go left...\n",
      "s52: s no further left_childs, check is s has a right_child...\n",
      "s52: s has 0 right_child...p[56] from p.left[52] -> p.left[None]\n",
      "s52 to succeed t[50]\n"
     ]
    }
   ],
   "source": [
    "def delete_node(root_node: TreeNode, target: int):\n",
    "    current_node = root_node\n",
    "    parent_node = None\n",
    "    target_node = None\n",
    "    while current_node:\n",
    "        if target == current_node.data:\n",
    "            target_node = current_node\n",
    "            print(f\"t{target}==c{current_node.data}: target found! [Determine Children Count]...\")        \n",
    "            break\n",
    "        elif target < current_node.data: # go left\n",
    "            print(f\"t{target}<-c{current_node.data}: go left...\")        \n",
    "            parent_node = current_node\n",
    "            current_node = current_node.left\n",
    "        else: # go right\n",
    "            print(f\"t{target}->c{current_node.data}: go right...\")        \n",
    "            parent_node = current_node\n",
    "            current_node = current_node.right\n",
    "    if not target_node:\n",
    "        print(f\"t{target}!=p{parent_node.data}: target not found because node has no more children!\")        \n",
    "        return\n",
    "    \n",
    "    if target_node.left and target_node.right:\n",
    "        print(f\"t{target}.lr[{target_node.left.data},{target_node.right.data}]: target has two kids! [Find Successor Node]...\")        \n",
    "        s_node = find_successor_node(target_node)\n",
    "        return\n",
    "    else: # 0 or 1 kid\n",
    "        targets_child = (target_node.left or target_node.right)\n",
    "        print(f\"t[{target}]: target has 0 or 1 children! [Find Successor Node]...\")        \n",
    "        \n",
    "        if not parent_node: # root node has no parents: replace parent (and its kids) with child (and its kids)\n",
    "            print(f\"t{target}.tc[{targets_child.data}]:tc[{targets_child.data}] succeeds t[{target}], no parents ptrs to update\")        \n",
    "            target_node.data = targets_child.data\n",
    "            target_node.left = targets_child.left\n",
    "            target_node.right = targets_child.right\n",
    "        elif parent_node.left == target_node:\n",
    "            if targets_child:\n",
    "                print(f\"t{target}.tc[{targets_child.data}]:tc[{targets_child.data}] succeeds t[{target}], p[{parent_node.data}]l[{parent_node.left.data}] updated to point to tc[{targets_child.data}]\")        \n",
    "                parent_node.left = targets_child\n",
    "                print(f\"t{target}.tc[{targets_child.data}]:final result p[{parent_node.data}]l[{parent_node.left.data}]\")        \n",
    "            else: \n",
    "                print(f\"t{target} has no kids: {target} deleted, parent_node.left pointing to [None]\")        \n",
    "                parent_node.left = targets_child\n",
    "            return \n",
    "\n",
    "        elif parent_node.right == target_node:\n",
    "            if targets_child:\n",
    "                print(f\"t{target}.tc[{targets_child.data}]:tc[{targets_child.data}] succeeds t[{target}], p[{parent_node.data}]r[{parent_node.right.data}] updated to point to tc[{targets_child.data}]\")        \n",
    "                parent_node.right = targets_child\n",
    "                print(f\"t{target}.tc[{targets_child.data}]:final result p[{parent_node.data}]r[{parent_node.right.data}]\")        \n",
    "            else: \n",
    "                print(f\"t{target} has no kids: {target} deleted, parent_node.right pointing to [None]\")        \n",
    "                parent_node.right = targets_child\n",
    "                \n",
    "            return \n",
    "        \n",
    "    return \n",
    "#             50\n",
    "#      25           75\n",
    "#  10     33     56     89  \n",
    "# 4  11 30  40 52  61 82  95 \n",
    "root = None\n",
    "root = TreeNode(50)\n",
    "create_tree_from_root_node(root)\n",
    "delete_node(root, 50)\n",
    "# delete_node(root, 10)"
   ]
  },
  {
   "cell_type": "code",
   "execution_count": 104,
   "metadata": {},
   "outputs": [
    {
     "name": "stdout",
     "output_type": "stream",
     "text": [
      "t50==c50: target found! [Determine Children Count]...\n",
      "t[50]: target has 0 or 1 children! [Find Successor Node]...\n",
      "t50.tc[25]:tc[25] succeeds t[50], no parents ptrs to update\n"
     ]
    },
    {
     "data": {
      "text/plain": [
       "25"
      ]
     },
     "execution_count": 104,
     "metadata": {},
     "output_type": "execute_result"
    }
   ],
   "source": [
    "root = None\n",
    "root = TreeNode(50)\n",
    "create_tree_from_root_node(root, node_list=[25])\n",
    "delete_node(root,50)\n",
    "\n",
    "\n",
    "root.data"
   ]
  },
  {
   "cell_type": "code",
   "execution_count": 105,
   "metadata": {},
   "outputs": [
    {
     "name": "stdout",
     "output_type": "stream",
     "text": [
      "t25<-c50: go left...\n",
      "t25==c25: target found! [Determine Children Count]...\n",
      "t[25]: target has 0 or 1 children! [Find Successor Node]...\n",
      "t25.tc[10]:tc[10] succeeds t[25], p[50]l[25] updated to point to tc[10]\n",
      "t25.tc[10]:final result p[50]l[10]\n"
     ]
    }
   ],
   "source": [
    "root = None\n",
    "root = TreeNode(50)\n",
    "create_tree_from_root_node(root, node_list=[25,10])\n",
    "delete_node(root,25)\n"
   ]
  },
  {
   "cell_type": "code",
   "execution_count": 106,
   "metadata": {},
   "outputs": [
    {
     "name": "stdout",
     "output_type": "stream",
     "text": [
      "t51->c50: go right...\n",
      "t51==c51: target found! [Determine Children Count]...\n",
      "t[51]: target has 0 or 1 children! [Find Successor Node]...\n",
      "t51.tc[52]:tc[52] succeeds t[51], p[50]r[51] updated to point to tc[52]\n",
      "t51.tc[52]:final result p[50]r[52]\n"
     ]
    }
   ],
   "source": [
    "root = None\n",
    "root = TreeNode(50)\n",
    "create_tree_from_root_node(root, node_list=[51,52])\n",
    "delete_node(root,51)\n"
   ]
  },
  {
   "cell_type": "code",
   "execution_count": 107,
   "metadata": {},
   "outputs": [
    {
     "name": "stdout",
     "output_type": "stream",
     "text": [
      "t4<-c50: go left...\n",
      "t4<-c25: go left...\n",
      "t4<-c10: go left...\n",
      "t4==c4: target found! [Determine Children Count]...\n",
      "t[4]: target has 0 or 1 children! [Find Successor Node]...\n",
      "t4 has no kids: 4 deleted, parent_node.left pointing to [None]\n"
     ]
    }
   ],
   "source": [
    "root = None\n",
    "root = TreeNode(50)\n",
    "create_tree_from_root_node(root)\n",
    "delete_node(root, 4)"
   ]
  },
  {
   "cell_type": "code",
   "execution_count": 108,
   "metadata": {},
   "outputs": [
    {
     "name": "stdout",
     "output_type": "stream",
     "text": [
      "t75->c50: go right...\n",
      "t75==c75: target found! [Determine Children Count]...\n",
      "t[75]: target has 0 or 1 children! [Find Successor Node]...\n",
      "t75 has no kids: 75 deleted, parent_node.right pointing to [None]\n"
     ]
    }
   ],
   "source": [
    "root = None\n",
    "root = TreeNode(50)\n",
    "create_tree_from_root_node(root, node_list=[25,75])\n",
    "delete_node(root,75)\n",
    "\n",
    "\n",
    "# NO RIGHT CHILD\n",
    "#           [t50]\n",
    "#      25         [s75]\n",
    "\n",
    "# NO RIGHT CHILD\n",
    "#           [s75]\n",
    "#      25         []\n"
   ]
  },
  {
   "cell_type": "code",
   "execution_count": 109,
   "metadata": {},
   "outputs": [],
   "source": [
    "\n",
    "# RIGHT CHILD\n",
    "#           [t50]\n",
    "#      25         [s75]\n",
    "#                       [sc80]\n",
    "\n",
    "# RIGHT CHILD\n",
    "#           [s75]\n",
    "#      25         [sc80]\n",
    "#                        [scc81]"
   ]
  },
  {
   "cell_type": "code",
   "execution_count": 113,
   "metadata": {},
   "outputs": [
    {
     "name": "stdout",
     "output_type": "stream",
     "text": [
      "t50==c50: target found! [Determine Children Count]...\n",
      "t50.lr[25,75]: target has two kids! [Find Successor Node]...\n",
      "t50.tr[75]: go right...75\n",
      "s75.l[56]: s has a left_child, go left...\n",
      "s56.l[52]: s has a left_child, go left...\n",
      "s52: s no further left_childs, check is s has a right_child...\n",
      "s52: s has 0 right_child...p[56] from p.left[52] -> p.left[None]\n",
      "s52 to succeed t[50]\n",
      "52\n",
      "56\n"
     ]
    },
    {
     "ename": "AttributeError",
     "evalue": "'NoneType' object has no attribute 'data'",
     "output_type": "error",
     "traceback": [
      "\u001b[0;31m---------------------------------------------------------------------------\u001b[0m",
      "\u001b[0;31mAttributeError\u001b[0m                            Traceback (most recent call last)",
      "Cell \u001b[0;32mIn[113], line 18\u001b[0m\n\u001b[1;32m     16\u001b[0m \u001b[38;5;28mprint\u001b[39m(root\u001b[38;5;241m.\u001b[39mdata) \u001b[38;5;66;03m# expected 52\u001b[39;00m\n\u001b[1;32m     17\u001b[0m \u001b[38;5;28mprint\u001b[39m(root\u001b[38;5;241m.\u001b[39mright\u001b[38;5;241m.\u001b[39mleft\u001b[38;5;241m.\u001b[39mdata) \u001b[38;5;66;03m# expected 56\u001b[39;00m\n\u001b[0;32m---> 18\u001b[0m \u001b[38;5;28mprint\u001b[39m(\u001b[43mroot\u001b[49m\u001b[38;5;241;43m.\u001b[39;49m\u001b[43mright\u001b[49m\u001b[38;5;241;43m.\u001b[39;49m\u001b[43mleft\u001b[49m\u001b[38;5;241;43m.\u001b[39;49m\u001b[43mleft\u001b[49m\u001b[38;5;241;43m.\u001b[39;49m\u001b[43mdata\u001b[49m) \u001b[38;5;66;03m# expected error\u001b[39;00m\n",
      "\u001b[0;31mAttributeError\u001b[0m: 'NoneType' object has no attribute 'data'"
     ]
    }
   ],
   "source": [
    "#             [50]X\n",
    "#      25            [75]\n",
    "#  10     33      [56]     89  \n",
    "# 4  11 30  40 [52]  61 82  95 \n",
    "root = None\n",
    "root = TreeNode(50)\n",
    "create_tree_from_root_node(root)\n",
    "delete_node(root, 50)\n",
    "\n",
    "\n",
    "#             [52]\n",
    "#      25            [75]\n",
    "#  10     33      [56]     89  \n",
    "# 4  11 30  40 []  61 82  95 \n",
    "\n",
    "print(root.data) # expected 52\n",
    "print(root.right.left.data) # expected 56\n",
    "print(root.right.left.left.data) # expected error\n"
   ]
  },
  {
   "cell_type": "code",
   "execution_count": null,
   "metadata": {},
   "outputs": [
    {
     "name": "stdout",
     "output_type": "stream",
     "text": [
      "t[55]|c[50]: \t\tCurrent[50] has ONE right-child : GO right[75]\n",
      "t[55]|c[75]: \t\tCurrent[75] has ONE left-child : GO LEFT[56]\n",
      "t[55]|c[56]: \t\tCurrent[56] has ONE left-child : GO LEFT[52]\n",
      "t[55]|c[52]: \t\tCurrent[52] has NO right-child: INSERTED right Currentright[55]\n",
      "t50==c50: target found! [Determine Children Count]...\n",
      "t50.lr[25,75]: target has two kids! [Find Successor Node]...\n",
      "t50.tr[75]: go right...75\n",
      "s75.l[56]: s has a left_child, go left...\n",
      "s56.l[52]: s has a left_child, go left...\n",
      "s52: s no further left_childs, check is s has a right_child...\n",
      "s52: s has 1 right_child...p[56] from p.left[52] -> s[52].right[55]\n",
      "s52 to succeed t[50]\n"
     ]
    },
    {
     "data": {
      "text/plain": [
       "55"
      ]
     },
     "execution_count": 111,
     "metadata": {},
     "output_type": "execute_result"
    }
   ],
   "source": [
    "#             [50]X\n",
    "#      25            [75]\n",
    "#  10     33      [56]     89  \n",
    "# 4  11 30  40 [52]  61 82  95 \n",
    "#                [55]\n",
    "root = None\n",
    "root = TreeNode(50)\n",
    "create_tree_from_root_node(root)\n",
    "insert_node(root, 55)\n",
    "delete_node(root, 50)\n",
    "\n",
    "root.right.left.left.data # expected 55\n",
    "\n",
    "\n",
    "#             [52]\n",
    "#      25            [75]\n",
    "#  10     33      [56]     89  \n",
    "# 4  11 30  40 [55]  61 82  95 \n",
    "#                  []\n"
   ]
  },
  {
   "cell_type": "code",
   "execution_count": null,
   "metadata": {},
   "outputs": [],
   "source": []
  },
  {
   "cell_type": "code",
   "execution_count": null,
   "metadata": {},
   "outputs": [],
   "source": []
  }
 ],
 "metadata": {
  "kernelspec": {
   "display_name": "fastapi-k7qESWDg",
   "language": "python",
   "name": "python3"
  },
  "language_info": {
   "codemirror_mode": {
    "name": "ipython",
    "version": 3
   },
   "file_extension": ".py",
   "mimetype": "text/x-python",
   "name": "python",
   "nbconvert_exporter": "python",
   "pygments_lexer": "ipython3",
   "version": "3.10.12"
  }
 },
 "nbformat": 4,
 "nbformat_minor": 2
}
