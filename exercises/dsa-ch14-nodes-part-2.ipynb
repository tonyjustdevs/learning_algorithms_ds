{
 "cells": [
  {
   "cell_type": "raw",
   "metadata": {
    "vscode": {
     "languageId": "raw"
    }
   },
   "source": [
    "---\n",
    "title: \"DSA: LinkedList - Read & Search [Part 2]\"\n",
    "author: \"Tony Phung\"\n",
    "date: \"2025-02-16\"\n",
    "categories: [data structures, algorithms]\n",
    "image: \"imgs/dsa-tba.png\"\n",
    "toc: true\n",
    "description: \"Two important operations as functions\"\n",
    "---"
   ]
  },
  {
   "cell_type": "code",
   "execution_count": 91,
   "metadata": {},
   "outputs": [],
   "source": [
    "class Node():\n",
    "    def __init__(self, data):\n",
    "        self.data=data\n",
    "        self.next_node=None\n",
    "        \n",
    "node0=Node(\"I\")\n",
    "node1=Node(\"heard\")\n",
    "node2=Node(\"there\")\n",
    "node3=Node(\"was\")\n",
    "\n",
    "node0.next_node=node1\n",
    "node1.next_node=node2\n",
    "node2.next_node=node3\n",
    "\n",
    "class LinkedList():\n",
    "    def __init__(self, first_node: Node):\n",
    "        self.first_node=first_node"
   ]
  },
  {
   "cell_type": "code",
   "execution_count": 92,
   "metadata": {},
   "outputs": [],
   "source": [
    "ll = LinkedList(first_node=node0)"
   ]
  },
  {
   "cell_type": "code",
   "execution_count": 93,
   "metadata": {},
   "outputs": [
    {
     "name": "stdout",
     "output_type": "stream",
     "text": [
      "I\n",
      "heard\n",
      "there\n",
      "was\n",
      "None\n"
     ]
    }
   ],
   "source": [
    "def read_ll_tp1(linked_list: LinkedList, idx: int) -> str | None:\n",
    "    current_node = linked_list.first_node\n",
    "    for i in range(idx):\n",
    "        # print(i)\n",
    "        current_node = current_node.next_node\n",
    "        if not current_node:\n",
    "            # raise IndexError(\"LinkedList exhausted!\")\n",
    "            return None\n",
    "    return current_node.data\n",
    "\n",
    "print(read_ll_tp1(ll,0))\n",
    "print(read_ll_tp1(ll,1))\n",
    "print(read_ll_tp1(ll,2))\n",
    "print(read_ll_tp1(ll,3))\n",
    "print(read_ll_tp1(ll,4))"
   ]
  },
  {
   "cell_type": "code",
   "execution_count": 94,
   "metadata": {},
   "outputs": [
    {
     "name": "stdout",
     "output_type": "stream",
     "text": [
      "0\n",
      "1\n",
      "2\n",
      "3\n",
      "None\n"
     ]
    }
   ],
   "source": [
    "def search_ll_tp1(linked_list: LinkedList, value: str) -> int | None:\n",
    "    current_node = linked_list.first_node\n",
    "    i=0\n",
    "    while current_node:\n",
    "        if current_node.data == value:\n",
    "            return i\n",
    "        current_node = current_node.next_node\n",
    "        # if not current_node: <- redundant since inside while current_node\n",
    "        #     return None \n",
    "        i+=1\n",
    "    return None # <- if current_node is false return None\n",
    "\n",
    "print(search_ll_tp1(ll,\"I\"))\n",
    "print(search_ll_tp1(ll,\"heard\"))\n",
    "print(search_ll_tp1(ll,\"there\"))\n",
    "print(search_ll_tp1(ll,\"was\"))\n",
    "print(search_ll_tp1(ll,\"a\"))\n"
   ]
  }
 ],
 "metadata": {
  "kernelspec": {
   "display_name": ".venv",
   "language": "python",
   "name": "python3"
  },
  "language_info": {
   "codemirror_mode": {
    "name": "ipython",
    "version": 3
   },
   "file_extension": ".py",
   "mimetype": "text/x-python",
   "name": "python",
   "nbconvert_exporter": "python",
   "pygments_lexer": "ipython3",
   "version": "3.13.0"
  }
 },
 "nbformat": 4,
 "nbformat_minor": 2
}
