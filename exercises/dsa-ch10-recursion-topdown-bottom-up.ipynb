{
 "cells": [
  {
   "cell_type": "raw",
   "metadata": {
    "vscode": {
     "languageId": "raw"
    }
   },
   "source": [
    "---\n",
    "title: \"DSA: Recursion - Bottom-up vs Top-down\"\n",
    "author: \"Tony Phung\"\n",
    "date: \"2025-02-06\"\n",
    "categories: [data structures, algorithms]\n",
    "image: \"imgs/dsa-tba.jpg\"\n",
    "toc: true\n",
    "description: \"Two potential approaches to building a solution\"\n",
    "---"
   ]
  },
  {
   "cell_type": "markdown",
   "metadata": {},
   "source": [
    "#### 1. Factorial: **bottom-up** approach - `for` loop"
   ]
  },
  {
   "cell_type": "code",
   "execution_count": 18,
   "metadata": {},
   "outputs": [
    {
     "data": {
      "text/plain": [
       "720"
      ]
     },
     "execution_count": 18,
     "metadata": {},
     "output_type": "execute_result"
    }
   ],
   "source": [
    "def factorial_bottom_up(n):\n",
    "    ans=1\n",
    "    for i in range(1,n+1):\n",
    "        ans *= i\n",
    "    return ans\n",
    "factorial_bottom_up(6)"
   ]
  },
  {
   "cell_type": "markdown",
   "metadata": {},
   "source": [
    "#### 2. Factorial: **top-down** recursion approach\n",
    "Also known was as **sub-problem** approach"
   ]
  },
  {
   "cell_type": "code",
   "execution_count": 20,
   "metadata": {},
   "outputs": [
    {
     "data": {
      "text/plain": [
       "720"
      ]
     },
     "execution_count": 20,
     "metadata": {},
     "output_type": "execute_result"
    }
   ],
   "source": [
    "def factorial_top_down(n):\n",
    "    if n==1:\n",
    "        return 1\n",
    "    else:\n",
    "        return n * factorial_top_down(n-1)\n",
    "    \n",
    "factorial_top_down(6)"
   ]
  },
  {
   "cell_type": "markdown",
   "metadata": {},
   "source": [
    "#### 2. Factorial: **classic loop** converted into **recursion** approach"
   ]
  },
  {
   "cell_type": "code",
   "execution_count": 25,
   "metadata": {},
   "outputs": [
    {
     "data": {
      "text/plain": [
       "720"
      ]
     },
     "execution_count": 25,
     "metadata": {},
     "output_type": "execute_result"
    }
   ],
   "source": [
    "def factorial_bup(n):\n",
    "    prod = 1\n",
    "\n",
    "    for i in range(1,n+1):\n",
    "        prod*=i\n",
    "\n",
    "    return prod\n",
    "factorial_bup(6)"
   ]
  },
  {
   "cell_type": "code",
   "execution_count": 33,
   "metadata": {},
   "outputs": [
    {
     "data": {
      "text/plain": [
       "720"
      ]
     },
     "execution_count": 33,
     "metadata": {},
     "output_type": "execute_result"
    }
   ],
   "source": [
    "def factorial_bup2(n,i=1,prod=1):\n",
    "    if i==n+1:  # for i in range(1,n+1):\n",
    "        return prod\n",
    "    prod*=i\n",
    "    return factorial_bup2(n,i+1,prod=prod)\n",
    "    # return factorial_bup2(n,i+1,prod) # not working\n",
    "factorial_bup2(6)"
   ]
  },
  {
   "cell_type": "code",
   "execution_count": null,
   "metadata": {},
   "outputs": [],
   "source": [
    "def factorial_bup2(n,i=1,prod=1):\n",
    "    if i==n+1:  # for i in range(1,n+1):\n",
    "        return prod\n",
    "    \n",
    "    return factorial_bup2(n,i+1,prod=prod*i)\n",
    "    # return factorial_bup2(n,i+1,prod) # not working\n",
    "factorial_bup2(6)"
   ]
  }
 ],
 "metadata": {
  "kernelspec": {
   "display_name": ".venv",
   "language": "python",
   "name": "python3"
  },
  "language_info": {
   "codemirror_mode": {
    "name": "ipython",
    "version": 3
   },
   "file_extension": ".py",
   "mimetype": "text/x-python",
   "name": "python",
   "nbconvert_exporter": "python",
   "pygments_lexer": "ipython3",
   "version": "3.13.1"
  }
 },
 "nbformat": 4,
 "nbformat_minor": 2
}
