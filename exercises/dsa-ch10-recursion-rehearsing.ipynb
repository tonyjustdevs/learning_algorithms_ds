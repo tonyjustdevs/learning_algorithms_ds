{
 "cells": [
  {
   "cell_type": "raw",
   "metadata": {
    "vscode": {
     "languageId": "raw"
    }
   },
   "source": [
    "---\n",
    "title: \"DSA: Recursion - rehearsing\"\n",
    "author: \"Tony Phung\"\n",
    "date: \"2025-02-08\"\n",
    "categories: [data structures, algorithms]\n",
    "image: \"imgs/tba.jpg\"\n",
    "toc: true\n",
    "description: \"rehearsing & reviewing from memory before next section\"\n",
    "---"
   ]
  },
  {
   "cell_type": "markdown",
   "metadata": {},
   "source": [
    "factorial_bup took 30 minutes, others took 3-4 minutes"
   ]
  },
  {
   "cell_type": "markdown",
   "metadata": {},
   "source": [
    "![](imgs/dsa-ch10-rehearse.png)"
   ]
  },
  {
   "cell_type": "code",
   "execution_count": 29,
   "metadata": {},
   "outputs": [
    {
     "name": "stdout",
     "output_type": "stream",
     "text": [
      "5\n",
      "4\n",
      "3\n",
      "2\n",
      "1\n",
      "0\n",
      "...Launch 🚀!\n"
     ]
    }
   ],
   "source": [
    "def countdown_fn(number:int):\n",
    "    if number < 0:\n",
    "        print(\"...Launch 🚀!\")\n",
    "        return \n",
    "        \n",
    "    print(number)\n",
    "    countdown_fn(number-1)\n",
    "\n",
    "countdown_fn(5)"
   ]
  },
  {
   "cell_type": "code",
   "execution_count": 30,
   "metadata": {},
   "outputs": [
    {
     "name": "stdout",
     "output_type": "stream",
     "text": [
      "[2, 4, 6, 8, 10] None\n"
     ]
    }
   ],
   "source": [
    "def dbl_arr_itr(arr):\n",
    "    for i in range(len(arr)):\n",
    "        arr[i]*=2\n",
    "    \n",
    "arr1 = [1,2,3,4,5]    \n",
    "arr11 = dbl_arr_itr(arr1)\n",
    "print(arr1,arr11)"
   ]
  },
  {
   "cell_type": "code",
   "execution_count": 31,
   "metadata": {},
   "outputs": [
    {
     "name": "stdout",
     "output_type": "stream",
     "text": [
      "[2, 4, 6, 8, 10] None\n"
     ]
    }
   ],
   "source": [
    "def dbl_arr_recn(arr,i=0):\n",
    "    if i == len(arr):\n",
    "        return\n",
    "    arr[i]*=2\n",
    "    dbl_arr_recn(arr,i+1)\n",
    "arr2 = [1,2,3,4,5]    \n",
    "arr22 = dbl_arr_recn(arr2)\n",
    "print(arr2,arr22)\n",
    "\n"
   ]
  },
  {
   "cell_type": "code",
   "execution_count": 32,
   "metadata": {},
   "outputs": [
    {
     "data": {
      "text/plain": [
       "720"
      ]
     },
     "execution_count": 32,
     "metadata": {},
     "output_type": "execute_result"
    }
   ],
   "source": [
    "def factorial(number):\n",
    "    if number==1:\n",
    "        return 1\n",
    "    return number * factorial(number-1)    \n",
    "\n",
    "factorial(6)"
   ]
  },
  {
   "cell_type": "code",
   "execution_count": 33,
   "metadata": {},
   "outputs": [
    {
     "data": {
      "text/plain": [
       "720"
      ]
     },
     "execution_count": 33,
     "metadata": {},
     "output_type": "execute_result"
    }
   ],
   "source": [
    "def factorial_bup(number,i=1,prod=1):\n",
    "    if i>number:\n",
    "        return prod\n",
    "    return factorial_bup(number,i+1,prod*i)\n",
    "# f(1) <- [1],2,1*1\n",
    "\n",
    "# f(2) <- [2],2,[1*1]->[2],3,[1*1*2]\n",
    "\n",
    "# f(3) <- [n3],i1,[p1]\n",
    "#         [n3],i2,[p1*1]\n",
    "#         [n3],i3,[p1*1*2]\n",
    "#         [n3],i4,[p1*1*2*3]\n",
    "\n",
    "factorial_bup(6)"
   ]
  },
  {
   "cell_type": "code",
   "execution_count": 34,
   "metadata": {},
   "outputs": [
    {
     "data": {
      "text/plain": [
       "15"
      ]
     },
     "execution_count": 34,
     "metadata": {},
     "output_type": "execute_result"
    }
   ],
   "source": [
    "def sum_rcn(arr):\n",
    "    if not arr:\n",
    "        return 0\n",
    "    return arr[0]+sum_rcn(arr[1:])\n",
    "arr=[1,2,3,4,5]\n",
    "sum_rcn(arr)"
   ]
  },
  {
   "cell_type": "code",
   "execution_count": 35,
   "metadata": {},
   "outputs": [
    {
     "data": {
      "text/plain": [
       "'edcba'"
      ]
     },
     "execution_count": 35,
     "metadata": {},
     "output_type": "execute_result"
    }
   ],
   "source": [
    "def rev_string(string):\n",
    "    if not string:\n",
    "        return \"\"\n",
    "    return rev_string(string[1:]) + string[0]\n",
    "\n",
    "rev_string(\"abcde\")"
   ]
  },
  {
   "cell_type": "code",
   "execution_count": 36,
   "metadata": {},
   "outputs": [
    {
     "data": {
      "text/plain": [
       "4"
      ]
     },
     "execution_count": 36,
     "metadata": {},
     "output_type": "execute_result"
    }
   ],
   "source": [
    "def count_x(string):\n",
    "    if not string:\n",
    "        return 0\n",
    "    if string[0]==\"x\":\n",
    "        return 1 + count_x(string[1:])\n",
    "    else:\n",
    "        return count_x(string[1:])\n",
    "    \n",
    "count_x(\"axbxcxdx\")"
   ]
  }
 ],
 "metadata": {
  "kernelspec": {
   "display_name": ".venv",
   "language": "python",
   "name": "python3"
  },
  "language_info": {
   "codemirror_mode": {
    "name": "ipython",
    "version": 3
   },
   "file_extension": ".py",
   "mimetype": "text/x-python",
   "name": "python",
   "nbconvert_exporter": "python",
   "pygments_lexer": "ipython3",
   "version": "3.13.0"
  }
 },
 "nbformat": 4,
 "nbformat_minor": 2
}
