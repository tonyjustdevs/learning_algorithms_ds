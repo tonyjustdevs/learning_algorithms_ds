{
 "cells": [
  {
   "cell_type": "raw",
   "metadata": {
    "vscode": {
     "languageId": "raw"
    }
   },
   "source": [
    "---\n",
    "title: \"Big-O for Arrays\"\n",
    "author: \"Tony Phung\"\n",
    "date: \"2025-01-01\"\n",
    "categories: [python]\n",
    "image: \"imgs/01bigo.jpg\"\n",
    "toc: true\n",
    "description: \"Big-O for Array Operations\"\n",
    "---"
   ]
  },
  {
   "cell_type": "markdown",
   "metadata": {
    "vscode": {
     "languageId": "raw"
    }
   },
   "source": [
    "![](01bigo.jpg)"
   ]
  },
  {
   "cell_type": "markdown",
   "metadata": {},
   "source": [
    "# 1. Arrays"
   ]
  },
  {
   "cell_type": "markdown",
   "metadata": {},
   "source": [
    "## 1.1 Array Operation - Summary\n",
    "- **Read $(1)$**  \n",
    "- **Search $(n)$**   \n",
    "- **Insert $(n+1)$**   \n",
    "- **Delete $(n)$**  "
   ]
  },
  {
   "cell_type": "markdown",
   "metadata": {},
   "source": [
    "## 1.2 Array Operation - Details"
   ]
  },
  {
   "cell_type": "markdown",
   "metadata": {},
   "source": [
    "### 1.2.1 **Read $(1)$**:    \n",
    "- $1$ (*worse*)\n",
    "- $1$ (*best*)"
   ]
  },
  {
   "cell_type": "markdown",
   "metadata": {},
   "source": [
    "### 1.2.2 **Search $(n)$**:  \n",
    "- $n$ (*worse*: target is last value found)   \n",
    "- $1$ (*best*: target is first value found)"
   ]
  },
  {
   "cell_type": "markdown",
   "metadata": {},
   "source": [
    "### 1.2.3 **Insert $(n+1)$**: \n",
    "- $n + 1$ (*worse*, **insert** at $front$ or $arr[0]$):\n",
    "    - {$n$}: whole existing array of length {$n$} needs to move right by {$1$}:\n",
    "        - starts at {$n$}, moves it right to {$n+1$},\n",
    "        - then {$n-1$} moves to {$n$}... {$n\\_times$} or {$n\\_steps$}\n",
    "        - index $[0]$ becomes empty\n",
    "        - index $[0]$ retains same memory address (might change for diff languages)\n",
    "    - {$1$}: insert the finally vacant spot at index 0, same memory address.\n",
    "- $1$ (*best*, insert at *end*):\n",
    "    - Computer may have to allocate additional cells toward this array (language specific)"
   ]
  },
  {
   "cell_type": "markdown",
   "metadata": {},
   "source": [
    "### 1.2.4. **Delete $(n)$**: \n",
    "- $n$ = {$1$} $+$ {$n-1$} (*worse*, **delete** $first$ item $arr[0]$):\n",
    "    - {$1$}: **delete** item at $arr[0]$\n",
    "    - {$n-1$}: shift whole array, left one item at a time:\n",
    "        - $arr[1] \\to arr[0]$ ($index\\_1 \\to index\\_0$)\n",
    "        - $arr[2] \\to arr[1]$ ($index\\_2 \\to index\\_1$)\n",
    "        - $...$\n",
    "        - $arr[n] \\to arr[n-1]$ ($index\\_[n] \\to index\\_[n-1]$)\n",
    "- $1$ (*best*, **delete** $last$ item $arr[0]$)"
   ]
  },
  {
   "cell_type": "markdown",
   "metadata": {},
   "source": [
    "# 2. Sets\n",
    "\n",
    "A data stucture that *does not allow* ***duplicates*** values within it.\n",
    "\n",
    "Useful: data without duplicates (e.g.online phonebook)\n"
   ]
  },
  {
   "cell_type": "markdown",
   "metadata": {
    "vscode": {
     "languageId": "plaintext"
    }
   },
   "source": [
    "## 2.1 Classic Arrays vs Array-Based Sets - Differences\n",
    "**An array-based set**: \n",
    "\n",
    "- is an **array** \n",
    "- with *one additional constraint* \n",
    "- of ***barring duplicates***\n"
   ]
  },
  {
   "cell_type": "markdown",
   "metadata": {},
   "source": [
    "## 2.2 Classic Arrays vs Array-Based Sets - Operations Comparison Table\n",
    "|Operation |Array |Array-Based Set   | Difference      | Change              |\n",
    "|----------|------|------------------|-----------------|---------------------|\n",
    "|**Read**  |$O(1,1)$  |$O(1,1)$      | Same            |None                 | \n",
    "|**Search**|$O(1,n)$  |$O(1,n)$      | Same            |None                 |\n",
    "|**Delete**|$O(1,n)$  |$O(1,n)$      | Same            |None                 |\n",
    "|**Insert**|$O(1,n+1)$|$O(n+1,n*n+1)$<br>or<br>$O(n+1,2n+1)$|$O(worse,worse)$|$O_{best}(1 \\to n+1)$ <br> and <br> $O_{worse}(n+1 \\to 2n+1)$|"
   ]
  },
  {
   "cell_type": "markdown",
   "metadata": {
    "vscode": {
     "languageId": "plaintext"
    }
   },
   "source": [
    "## 2.3 Array-Based Set Operation - Detailed"
   ]
  },
  {
   "cell_type": "markdown",
   "metadata": {},
   "source": [
    "### 2.3.1 **Read $(1)$**, **Search $(n)$**, **Delete $(n)$**\n",
    "- **Read $(1,1)$**  \n",
    "- **Search $(1,n)$**   \n",
    "- **Delete $(1,n)$**  \n",
    "- **Insert $(n+1,2n+1)$**  "
   ]
  },
  {
   "cell_type": "markdown",
   "metadata": {},
   "source": [
    "### 2.3.2 **Insert $(2n+1)$**: Different to Classic Arrays\n",
    "- {$n*n+1$} (worse, insert at the $front$)\n",
    "    - {$n$}: **search** whole array {$n\\_times$}\n",
    "    - {$n$}: **shift**  whole array, right (one-item-at-a-time) i.e. {$n\\_times$}:\n",
    "        - $arr[n] \\to arr[n+1]$ ($index\\_[n] \\to index\\_[n+1]$)\n",
    "        - $arr[n-1] \\to arr[n]$ ($index\\_[n-1] \\to index\\_[n]$)\n",
    "        - $...$\n",
    "        - $arr[0] \\to arr[1]$ ($index\\_[0] \\to index\\_[1]$)\n",
    "    - {$1$}: insert at index 0, same memory address.\n",
    "- {$n+1$} (best, insert at the $end$)): \n",
    "    - Search array (for dupes) + insert (at end)\n",
    "- {$m*n+1$} (medium, insert at the $arr[j]$ or $index\\_[j]$)\n",
    "    - {$n$}: **search** whole array {$n\\_times$}\n",
    "    - {$m$}: **shift**  whole array {$n\\_times$} where {$m$} $=$ {$n-j$}:\n",
    "        - if want to insert at $index\\_[j]$: all items after $index\\_[j]$ by one\n",
    "        - thus we shift right {$m$} $=$ {$n-j$} items\n",
    "        - $arr[n] \\to arr[n+1]$ ($index\\_[n] \\to index\\_[n+1]$)\n",
    "        - $...$\n",
    "        - $arr[j] \\to arr[j+1]$ ($index\\_[j] \\to index\\_[j+1]$)\n",
    "        - or\n",
    "        - $arr[n-m] \\to arr[n-m+1]$ ($index\\_[n-m] \\to index\\_[n-m+1]$)        \n",
    "    - {$1$}: insert at $arr[j]$ or $arr[n-m]$"
   ]
  },
  {
   "cell_type": "markdown",
   "metadata": {},
   "source": [
    "#### 2.3.3 Inserting at $arr[j]$ hand-drawn"
   ]
  },
  {
   "cell_type": "markdown",
   "metadata": {},
   "source": [
    "![](01insertset.jpg)"
   ]
  }
 ],
 "metadata": {
  "kernelspec": {
   "display_name": ".venv",
   "language": "python",
   "name": "python3"
  },
  "language_info": {
   "codemirror_mode": {
    "name": "ipython",
    "version": 3
   },
   "file_extension": ".py",
   "mimetype": "text/x-python",
   "name": "python",
   "nbconvert_exporter": "python",
   "pygments_lexer": "ipython3",
   "version": "3.13.0"
  }
 },
 "nbformat": 4,
 "nbformat_minor": 2
}
